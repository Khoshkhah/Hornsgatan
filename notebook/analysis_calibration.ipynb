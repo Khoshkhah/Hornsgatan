{
 "cells": [
  {
   "cell_type": "code",
   "execution_count": null,
   "id": "0271af05",
   "metadata": {},
   "outputs": [],
   "source": [
    "import pandas as pd\n",
    "import os\n",
    "print(\"Current directory:\", os.getcwd())\n",
    "\n",
    "os.chdir(\"/home/kaveh/Hornsgatan/\")"
   ]
  },
  {
   "cell_type": "code",
   "execution_count": null,
   "id": "7daf802a",
   "metadata": {},
   "outputs": [],
   "source": []
  }
 ],
 "metadata": {
  "kernelspec": {
   "display_name": "calib_venv",
   "language": "python",
   "name": "python3"
  },
  "language_info": {
   "codemirror_mode": {
    "name": "ipython",
    "version": 3
   },
   "file_extension": ".py",
   "mimetype": "text/x-python",
   "name": "python",
   "nbconvert_exporter": "python",
   "pygments_lexer": "ipython3",
   "version": "3.10.12"
  }
 },
 "nbformat": 4,
 "nbformat_minor": 5
}
