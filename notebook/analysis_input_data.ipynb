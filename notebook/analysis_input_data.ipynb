{
 "cells": [
  {
   "cell_type": "code",
   "execution_count": 1,
   "id": "f706bdeb",
   "metadata": {},
   "outputs": [
    {
     "name": "stdout",
     "output_type": "stream",
     "text": [
      "Current directory: /home/kaveh/projects/Hornsgatan\n"
     ]
    }
   ],
   "source": [
    "import os\n",
    "import pandas as pd\n",
    "\n",
    "HORNSGATAN_HOME = os.environ[\"HORNSGATAN_HOME\"]\n",
    "os.chdir(HORNSGATAN_HOME)\n",
    "print(\"Current directory:\", os.getcwd())\n",
    "\n",
    "from src.tools import mytools\n",
    "\n",
    "\n",
    "date = \"2020-01-02\"\n",
    "detector = \"e2w_in\"\n",
    "path  = \"data/daily_splitted_data/\"\n"
   ]
  },
  {
   "cell_type": "code",
   "execution_count": null,
   "id": "0ba4b5e4",
   "metadata": {},
   "outputs": [
    {
     "data": {
      "text/html": [
       "<div>\n",
       "<style scoped>\n",
       "    .dataframe tbody tr th:only-of-type {\n",
       "        vertical-align: middle;\n",
       "    }\n",
       "\n",
       "    .dataframe tbody tr th {\n",
       "        vertical-align: top;\n",
       "    }\n",
       "\n",
       "    .dataframe thead th {\n",
       "        text-align: right;\n",
       "    }\n",
       "</style>\n",
       "<table border=\"1\" class=\"dataframe\">\n",
       "  <thead>\n",
       "    <tr style=\"text-align: right;\">\n",
       "      <th></th>\n",
       "      <th>detector_id</th>\n",
       "      <th>time_detector_real</th>\n",
       "      <th>speed_detector_real</th>\n",
       "      <th>day</th>\n",
       "      <th>date</th>\n",
       "    </tr>\n",
       "  </thead>\n",
       "  <tbody>\n",
       "    <tr>\n",
       "      <th>0</th>\n",
       "      <td>e2w_in</td>\n",
       "      <td>1577923226</td>\n",
       "      <td>48</td>\n",
       "      <td>Thursday</td>\n",
       "      <td>2020-01-02</td>\n",
       "    </tr>\n",
       "    <tr>\n",
       "      <th>1</th>\n",
       "      <td>e2w_in</td>\n",
       "      <td>1577923230</td>\n",
       "      <td>43</td>\n",
       "      <td>Thursday</td>\n",
       "      <td>2020-01-02</td>\n",
       "    </tr>\n",
       "    <tr>\n",
       "      <th>2</th>\n",
       "      <td>w2e_in</td>\n",
       "      <td>1577923232</td>\n",
       "      <td>31</td>\n",
       "      <td>Thursday</td>\n",
       "      <td>2020-01-02</td>\n",
       "    </tr>\n",
       "    <tr>\n",
       "      <th>3</th>\n",
       "      <td>e2w_in</td>\n",
       "      <td>1577923233</td>\n",
       "      <td>32</td>\n",
       "      <td>Thursday</td>\n",
       "      <td>2020-01-02</td>\n",
       "    </tr>\n",
       "    <tr>\n",
       "      <th>4</th>\n",
       "      <td>e2w_in</td>\n",
       "      <td>1577923235</td>\n",
       "      <td>32</td>\n",
       "      <td>Thursday</td>\n",
       "      <td>2020-01-02</td>\n",
       "    </tr>\n",
       "  </tbody>\n",
       "</table>\n",
       "</div>"
      ],
      "text/plain": [
       "  detector_id  time_detector_real  speed_detector_real       day        date\n",
       "0      e2w_in          1577923226                   48  Thursday  2020-01-02\n",
       "1      e2w_in          1577923230                   43  Thursday  2020-01-02\n",
       "2      w2e_in          1577923232                   31  Thursday  2020-01-02\n",
       "3      e2w_in          1577923233                   32  Thursday  2020-01-02\n",
       "4      e2w_in          1577923235                   32  Thursday  2020-01-02"
      ]
     },
     "execution_count": 2,
     "metadata": {},
     "output_type": "execute_result"
    }
   ],
   "source": [
    "data = pd.read_csv(f\"{path}data_{date}.csv\")\n",
    "data.head()"
   ]
  },
  {
   "cell_type": "code",
   "execution_count": 3,
   "id": "900ccbcc",
   "metadata": {},
   "outputs": [
    {
     "data": {
      "text/html": [
       "<div>\n",
       "<style scoped>\n",
       "    .dataframe tbody tr th:only-of-type {\n",
       "        vertical-align: middle;\n",
       "    }\n",
       "\n",
       "    .dataframe tbody tr th {\n",
       "        vertical-align: top;\n",
       "    }\n",
       "\n",
       "    .dataframe thead th {\n",
       "        text-align: right;\n",
       "    }\n",
       "</style>\n",
       "<table border=\"1\" class=\"dataframe\">\n",
       "  <thead>\n",
       "    <tr style=\"text-align: right;\">\n",
       "      <th></th>\n",
       "      <th>detector_id</th>\n",
       "      <th>time_detector_real</th>\n",
       "      <th>speed_detector_real</th>\n",
       "      <th>day</th>\n",
       "      <th>date</th>\n",
       "    </tr>\n",
       "  </thead>\n",
       "  <tbody>\n",
       "    <tr>\n",
       "      <th>0</th>\n",
       "      <td>e2w_in</td>\n",
       "      <td>1577923226</td>\n",
       "      <td>48</td>\n",
       "      <td>Thursday</td>\n",
       "      <td>2020-01-02</td>\n",
       "    </tr>\n",
       "    <tr>\n",
       "      <th>1</th>\n",
       "      <td>e2w_in</td>\n",
       "      <td>1577923230</td>\n",
       "      <td>43</td>\n",
       "      <td>Thursday</td>\n",
       "      <td>2020-01-02</td>\n",
       "    </tr>\n",
       "    <tr>\n",
       "      <th>3</th>\n",
       "      <td>e2w_in</td>\n",
       "      <td>1577923233</td>\n",
       "      <td>32</td>\n",
       "      <td>Thursday</td>\n",
       "      <td>2020-01-02</td>\n",
       "    </tr>\n",
       "    <tr>\n",
       "      <th>4</th>\n",
       "      <td>e2w_in</td>\n",
       "      <td>1577923235</td>\n",
       "      <td>32</td>\n",
       "      <td>Thursday</td>\n",
       "      <td>2020-01-02</td>\n",
       "    </tr>\n",
       "    <tr>\n",
       "      <th>5</th>\n",
       "      <td>e2w_in</td>\n",
       "      <td>1577923237</td>\n",
       "      <td>31</td>\n",
       "      <td>Thursday</td>\n",
       "      <td>2020-01-02</td>\n",
       "    </tr>\n",
       "  </tbody>\n",
       "</table>\n",
       "</div>"
      ],
      "text/plain": [
       "  detector_id  time_detector_real  speed_detector_real       day        date\n",
       "0      e2w_in          1577923226                   48  Thursday  2020-01-02\n",
       "1      e2w_in          1577923230                   43  Thursday  2020-01-02\n",
       "3      e2w_in          1577923233                   32  Thursday  2020-01-02\n",
       "4      e2w_in          1577923235                   32  Thursday  2020-01-02\n",
       "5      e2w_in          1577923237                   31  Thursday  2020-01-02"
      ]
     },
     "execution_count": 3,
     "metadata": {},
     "output_type": "execute_result"
    }
   ],
   "source": [
    "data = data[data[\"detector_id\"]==detector]\n",
    "data.head()"
   ]
  },
  {
   "cell_type": "code",
   "execution_count": 4,
   "id": "76df9aef",
   "metadata": {},
   "outputs": [
    {
     "data": {
      "text/plain": [
       "9481"
      ]
     },
     "execution_count": 4,
     "metadata": {},
     "output_type": "execute_result"
    }
   ],
   "source": [
    "len(data)"
   ]
  },
  {
   "cell_type": "code",
   "execution_count": 5,
   "id": "faac75af",
   "metadata": {},
   "outputs": [],
   "source": [
    "from src.tools import mytools\n"
   ]
  },
  {
   "cell_type": "code",
   "execution_count": 6,
   "id": "9b94bee8",
   "metadata": {},
   "outputs": [],
   "source": [
    "#mytools.delete_all_except_list(f\"data/sim_intermediate_data/\", [\".gitkeep\"])"
   ]
  }
 ],
 "metadata": {
  "kernelspec": {
   "display_name": ".venv",
   "language": "python",
   "name": "python3"
  },
  "language_info": {
   "codemirror_mode": {
    "name": "ipython",
    "version": 3
   },
   "file_extension": ".py",
   "mimetype": "text/x-python",
   "name": "python",
   "nbconvert_exporter": "python",
   "pygments_lexer": "ipython3",
   "version": "3.12.3"
  }
 },
 "nbformat": 4,
 "nbformat_minor": 5
}
