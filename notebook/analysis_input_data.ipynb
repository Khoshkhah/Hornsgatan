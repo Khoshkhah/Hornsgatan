{
 "cells": [
  {
   "cell_type": "code",
   "execution_count": null,
   "id": "f706bdeb",
   "metadata": {},
   "outputs": [
    {
     "name": "stdout",
     "output_type": "stream",
     "text": [
      "Current directory: /home/kaveh/projects/Hornsgatan\n"
     ]
    }
   ],
   "source": [
    "import os\n",
    "import pandas as pd\n",
    "\n",
    "HORNSGATAN_HOME = os.environ[\"HORNSGATAN_HOME\"]\n",
    "os.chdir(HORNSGATAN_HOME)\n",
    "print(\"Current directory:\", os.getcwd())\n",
    "\n",
    "from src.tools import mytools\n",
    "\n",
    "\n",
    "date = \"2020-01-01\"\n",
    "detector = \"e2w_in\"\n",
    "path  = \"data/daily_splitted_data/\"\n"
   ]
  },
  {
   "cell_type": "code",
   "execution_count": 4,
   "id": "0ba4b5e4",
   "metadata": {},
   "outputs": [
    {
     "data": {
      "application/vnd.microsoft.datawrangler.viewer.v0+json": {
       "columns": [
        {
         "name": "index",
         "rawType": "int64",
         "type": "integer"
        },
        {
         "name": "detector_id",
         "rawType": "object",
         "type": "string"
        },
        {
         "name": "time_detector_real",
         "rawType": "int64",
         "type": "integer"
        },
        {
         "name": "speed_detector_real",
         "rawType": "int64",
         "type": "integer"
        },
        {
         "name": "day",
         "rawType": "object",
         "type": "string"
        },
        {
         "name": "date",
         "rawType": "object",
         "type": "string"
        }
       ],
       "conversionMethod": "pd.DataFrame",
       "ref": "279542c6-c4e2-4cff-be1a-28f5a4cf7d20",
       "rows": [
        [
         "0",
         "w2e_in",
         "1577836811",
         "33",
         "Wednesday",
         "2020-01-01"
        ],
        [
         "1",
         "w2e_in",
         "1577836814",
         "27",
         "Wednesday",
         "2020-01-01"
        ],
        [
         "2",
         "w2e_in",
         "1577836815",
         "32",
         "Wednesday",
         "2020-01-01"
        ],
        [
         "3",
         "e2w_in",
         "1577836818",
         "32",
         "Wednesday",
         "2020-01-01"
        ],
        [
         "4",
         "e2w_in",
         "1577836820",
         "27",
         "Wednesday",
         "2020-01-01"
        ]
       ],
       "shape": {
        "columns": 5,
        "rows": 5
       }
      },
      "text/html": [
       "<div>\n",
       "<style scoped>\n",
       "    .dataframe tbody tr th:only-of-type {\n",
       "        vertical-align: middle;\n",
       "    }\n",
       "\n",
       "    .dataframe tbody tr th {\n",
       "        vertical-align: top;\n",
       "    }\n",
       "\n",
       "    .dataframe thead th {\n",
       "        text-align: right;\n",
       "    }\n",
       "</style>\n",
       "<table border=\"1\" class=\"dataframe\">\n",
       "  <thead>\n",
       "    <tr style=\"text-align: right;\">\n",
       "      <th></th>\n",
       "      <th>detector_id</th>\n",
       "      <th>time_detector_real</th>\n",
       "      <th>speed_detector_real</th>\n",
       "      <th>day</th>\n",
       "      <th>date</th>\n",
       "    </tr>\n",
       "  </thead>\n",
       "  <tbody>\n",
       "    <tr>\n",
       "      <th>0</th>\n",
       "      <td>w2e_in</td>\n",
       "      <td>1577836811</td>\n",
       "      <td>33</td>\n",
       "      <td>Wednesday</td>\n",
       "      <td>2020-01-01</td>\n",
       "    </tr>\n",
       "    <tr>\n",
       "      <th>1</th>\n",
       "      <td>w2e_in</td>\n",
       "      <td>1577836814</td>\n",
       "      <td>27</td>\n",
       "      <td>Wednesday</td>\n",
       "      <td>2020-01-01</td>\n",
       "    </tr>\n",
       "    <tr>\n",
       "      <th>2</th>\n",
       "      <td>w2e_in</td>\n",
       "      <td>1577836815</td>\n",
       "      <td>32</td>\n",
       "      <td>Wednesday</td>\n",
       "      <td>2020-01-01</td>\n",
       "    </tr>\n",
       "    <tr>\n",
       "      <th>3</th>\n",
       "      <td>e2w_in</td>\n",
       "      <td>1577836818</td>\n",
       "      <td>32</td>\n",
       "      <td>Wednesday</td>\n",
       "      <td>2020-01-01</td>\n",
       "    </tr>\n",
       "    <tr>\n",
       "      <th>4</th>\n",
       "      <td>e2w_in</td>\n",
       "      <td>1577836820</td>\n",
       "      <td>27</td>\n",
       "      <td>Wednesday</td>\n",
       "      <td>2020-01-01</td>\n",
       "    </tr>\n",
       "  </tbody>\n",
       "</table>\n",
       "</div>"
      ],
      "text/plain": [
       "  detector_id  time_detector_real  speed_detector_real        day        date\n",
       "0      w2e_in          1577836811                   33  Wednesday  2020-01-01\n",
       "1      w2e_in          1577836814                   27  Wednesday  2020-01-01\n",
       "2      w2e_in          1577836815                   32  Wednesday  2020-01-01\n",
       "3      e2w_in          1577836818                   32  Wednesday  2020-01-01\n",
       "4      e2w_in          1577836820                   27  Wednesday  2020-01-01"
      ]
     },
     "execution_count": 4,
     "metadata": {},
     "output_type": "execute_result"
    }
   ],
   "source": [
    "data = pd.read_csv(f\"{path}data_{date}.csv\")\n",
    "data.head()"
   ]
  },
  {
   "cell_type": "code",
   "execution_count": 6,
   "id": "900ccbcc",
   "metadata": {},
   "outputs": [
    {
     "data": {
      "application/vnd.microsoft.datawrangler.viewer.v0+json": {
       "columns": [
        {
         "name": "index",
         "rawType": "int64",
         "type": "integer"
        },
        {
         "name": "detector_id",
         "rawType": "object",
         "type": "string"
        },
        {
         "name": "time_detector_real",
         "rawType": "int64",
         "type": "integer"
        },
        {
         "name": "speed_detector_real",
         "rawType": "int64",
         "type": "integer"
        },
        {
         "name": "day",
         "rawType": "object",
         "type": "string"
        },
        {
         "name": "date",
         "rawType": "object",
         "type": "string"
        }
       ],
       "conversionMethod": "pd.DataFrame",
       "ref": "42db0cbf-c019-44f6-a1eb-4f9b64f4a0ab",
       "rows": [
        [
         "8",
         "w2e_out",
         "1577836839",
         "21",
         "Wednesday",
         "2020-01-01"
        ],
        [
         "61",
         "w2e_out",
         "1577837023",
         "36",
         "Wednesday",
         "2020-01-01"
        ],
        [
         "64",
         "w2e_out",
         "1577837025",
         "41",
         "Wednesday",
         "2020-01-01"
        ],
        [
         "102",
         "w2e_out",
         "1577837157",
         "26",
         "Wednesday",
         "2020-01-01"
        ],
        [
         "141",
         "w2e_out",
         "1577837295",
         "39",
         "Wednesday",
         "2020-01-01"
        ]
       ],
       "shape": {
        "columns": 5,
        "rows": 5
       }
      },
      "text/html": [
       "<div>\n",
       "<style scoped>\n",
       "    .dataframe tbody tr th:only-of-type {\n",
       "        vertical-align: middle;\n",
       "    }\n",
       "\n",
       "    .dataframe tbody tr th {\n",
       "        vertical-align: top;\n",
       "    }\n",
       "\n",
       "    .dataframe thead th {\n",
       "        text-align: right;\n",
       "    }\n",
       "</style>\n",
       "<table border=\"1\" class=\"dataframe\">\n",
       "  <thead>\n",
       "    <tr style=\"text-align: right;\">\n",
       "      <th></th>\n",
       "      <th>detector_id</th>\n",
       "      <th>time_detector_real</th>\n",
       "      <th>speed_detector_real</th>\n",
       "      <th>day</th>\n",
       "      <th>date</th>\n",
       "    </tr>\n",
       "  </thead>\n",
       "  <tbody>\n",
       "    <tr>\n",
       "      <th>8</th>\n",
       "      <td>w2e_out</td>\n",
       "      <td>1577836839</td>\n",
       "      <td>21</td>\n",
       "      <td>Wednesday</td>\n",
       "      <td>2020-01-01</td>\n",
       "    </tr>\n",
       "    <tr>\n",
       "      <th>61</th>\n",
       "      <td>w2e_out</td>\n",
       "      <td>1577837023</td>\n",
       "      <td>36</td>\n",
       "      <td>Wednesday</td>\n",
       "      <td>2020-01-01</td>\n",
       "    </tr>\n",
       "    <tr>\n",
       "      <th>64</th>\n",
       "      <td>w2e_out</td>\n",
       "      <td>1577837025</td>\n",
       "      <td>41</td>\n",
       "      <td>Wednesday</td>\n",
       "      <td>2020-01-01</td>\n",
       "    </tr>\n",
       "    <tr>\n",
       "      <th>102</th>\n",
       "      <td>w2e_out</td>\n",
       "      <td>1577837157</td>\n",
       "      <td>26</td>\n",
       "      <td>Wednesday</td>\n",
       "      <td>2020-01-01</td>\n",
       "    </tr>\n",
       "    <tr>\n",
       "      <th>141</th>\n",
       "      <td>w2e_out</td>\n",
       "      <td>1577837295</td>\n",
       "      <td>39</td>\n",
       "      <td>Wednesday</td>\n",
       "      <td>2020-01-01</td>\n",
       "    </tr>\n",
       "  </tbody>\n",
       "</table>\n",
       "</div>"
      ],
      "text/plain": [
       "    detector_id  time_detector_real  speed_detector_real        day  \\\n",
       "8       w2e_out          1577836839                   21  Wednesday   \n",
       "61      w2e_out          1577837023                   36  Wednesday   \n",
       "64      w2e_out          1577837025                   41  Wednesday   \n",
       "102     w2e_out          1577837157                   26  Wednesday   \n",
       "141     w2e_out          1577837295                   39  Wednesday   \n",
       "\n",
       "           date  \n",
       "8    2020-01-01  \n",
       "61   2020-01-01  \n",
       "64   2020-01-01  \n",
       "102  2020-01-01  \n",
       "141  2020-01-01  "
      ]
     },
     "execution_count": 6,
     "metadata": {},
     "output_type": "execute_result"
    }
   ],
   "source": [
    "data = data[data[\"detector_id\"]==detector]\n",
    "data.head()"
   ]
  },
  {
   "cell_type": "code",
   "execution_count": 7,
   "id": "76df9aef",
   "metadata": {},
   "outputs": [
    {
     "data": {
      "text/plain": [
       "1358"
      ]
     },
     "execution_count": 7,
     "metadata": {},
     "output_type": "execute_result"
    }
   ],
   "source": [
    "len(data)"
   ]
  },
  {
   "cell_type": "code",
   "execution_count": 2,
   "id": "faac75af",
   "metadata": {},
   "outputs": [],
   "source": [
    "from src.tools import mytools\n"
   ]
  },
  {
   "cell_type": "code",
   "execution_count": null,
   "id": "9b94bee8",
   "metadata": {},
   "outputs": [
    {
     "name": "stdout",
     "output_type": "stream",
     "text": [
      "Deleted: data/sim_intermediate_data/lanechange_output.xml\n"
     ]
    }
   ],
   "source": [
    "#mytools.delete_all_except_list(f\"data/sim_intermediate_data/\", [\".gitkeep\"])"
   ]
  }
 ],
 "metadata": {
  "kernelspec": {
   "display_name": ".venv",
   "language": "python",
   "name": "python3"
  },
  "language_info": {
   "codemirror_mode": {
    "name": "ipython",
    "version": 3
   },
   "file_extension": ".py",
   "mimetype": "text/x-python",
   "name": "python",
   "nbconvert_exporter": "python",
   "pygments_lexer": "ipython3",
   "version": "3.12.3"
  }
 },
 "nbformat": 4,
 "nbformat_minor": 5
}
