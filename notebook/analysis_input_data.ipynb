{
 "cells": [
  {
   "cell_type": "code",
   "execution_count": 1,
   "id": "f706bdeb",
   "metadata": {},
   "outputs": [
    {
     "name": "stdout",
     "output_type": "stream",
     "text": [
      "Current directory: /home/kaveh/projects/Hornsgatan\n"
     ]
    }
   ],
   "source": [
    "import os\n",
    "import pandas as pd\n",
    "\n",
    "HORNSGATAN_HOME = os.environ[\"HORNSGATAN_HOME\"]\n",
    "os.chdir(HORNSGATAN_HOME)\n",
    "print(\"Current directory:\", os.getcwd())\n",
    "\n",
    "from src.tools import mytools\n",
    "\n",
    "\n",
    "date = \"2020-01-01\"\n",
    "detector = \"e2w_out\"\n",
    "path  = \"data/daily_splitted_data/\"\n"
   ]
  },
  {
   "cell_type": "code",
   "execution_count": 2,
   "id": "0ba4b5e4",
   "metadata": {},
   "outputs": [
    {
     "data": {
      "application/vnd.microsoft.datawrangler.viewer.v0+json": {
       "columns": [
        {
         "name": "index",
         "rawType": "int64",
         "type": "integer"
        },
        {
         "name": "detector_id",
         "rawType": "object",
         "type": "string"
        },
        {
         "name": "time_detector_real",
         "rawType": "int64",
         "type": "integer"
        },
        {
         "name": "speed_detector_real",
         "rawType": "int64",
         "type": "integer"
        },
        {
         "name": "day",
         "rawType": "object",
         "type": "string"
        },
        {
         "name": "date",
         "rawType": "object",
         "type": "string"
        }
       ],
       "conversionMethod": "pd.DataFrame",
       "ref": "229a9940-2c68-4759-805c-987a136b9bfe",
       "rows": [
        [
         "0",
         "w2e_in",
         "1577836811",
         "33",
         "Wednesday",
         "2020-01-01"
        ],
        [
         "1",
         "w2e_in",
         "1577836814",
         "27",
         "Wednesday",
         "2020-01-01"
        ],
        [
         "2",
         "w2e_in",
         "1577836815",
         "32",
         "Wednesday",
         "2020-01-01"
        ],
        [
         "3",
         "e2w_in",
         "1577836818",
         "32",
         "Wednesday",
         "2020-01-01"
        ],
        [
         "4",
         "e2w_in",
         "1577836820",
         "27",
         "Wednesday",
         "2020-01-01"
        ]
       ],
       "shape": {
        "columns": 5,
        "rows": 5
       }
      },
      "text/html": [
       "<div>\n",
       "<style scoped>\n",
       "    .dataframe tbody tr th:only-of-type {\n",
       "        vertical-align: middle;\n",
       "    }\n",
       "\n",
       "    .dataframe tbody tr th {\n",
       "        vertical-align: top;\n",
       "    }\n",
       "\n",
       "    .dataframe thead th {\n",
       "        text-align: right;\n",
       "    }\n",
       "</style>\n",
       "<table border=\"1\" class=\"dataframe\">\n",
       "  <thead>\n",
       "    <tr style=\"text-align: right;\">\n",
       "      <th></th>\n",
       "      <th>detector_id</th>\n",
       "      <th>time_detector_real</th>\n",
       "      <th>speed_detector_real</th>\n",
       "      <th>day</th>\n",
       "      <th>date</th>\n",
       "    </tr>\n",
       "  </thead>\n",
       "  <tbody>\n",
       "    <tr>\n",
       "      <th>0</th>\n",
       "      <td>w2e_in</td>\n",
       "      <td>1577836811</td>\n",
       "      <td>33</td>\n",
       "      <td>Wednesday</td>\n",
       "      <td>2020-01-01</td>\n",
       "    </tr>\n",
       "    <tr>\n",
       "      <th>1</th>\n",
       "      <td>w2e_in</td>\n",
       "      <td>1577836814</td>\n",
       "      <td>27</td>\n",
       "      <td>Wednesday</td>\n",
       "      <td>2020-01-01</td>\n",
       "    </tr>\n",
       "    <tr>\n",
       "      <th>2</th>\n",
       "      <td>w2e_in</td>\n",
       "      <td>1577836815</td>\n",
       "      <td>32</td>\n",
       "      <td>Wednesday</td>\n",
       "      <td>2020-01-01</td>\n",
       "    </tr>\n",
       "    <tr>\n",
       "      <th>3</th>\n",
       "      <td>e2w_in</td>\n",
       "      <td>1577836818</td>\n",
       "      <td>32</td>\n",
       "      <td>Wednesday</td>\n",
       "      <td>2020-01-01</td>\n",
       "    </tr>\n",
       "    <tr>\n",
       "      <th>4</th>\n",
       "      <td>e2w_in</td>\n",
       "      <td>1577836820</td>\n",
       "      <td>27</td>\n",
       "      <td>Wednesday</td>\n",
       "      <td>2020-01-01</td>\n",
       "    </tr>\n",
       "  </tbody>\n",
       "</table>\n",
       "</div>"
      ],
      "text/plain": [
       "  detector_id  time_detector_real  speed_detector_real        day        date\n",
       "0      w2e_in          1577836811                   33  Wednesday  2020-01-01\n",
       "1      w2e_in          1577836814                   27  Wednesday  2020-01-01\n",
       "2      w2e_in          1577836815                   32  Wednesday  2020-01-01\n",
       "3      e2w_in          1577836818                   32  Wednesday  2020-01-01\n",
       "4      e2w_in          1577836820                   27  Wednesday  2020-01-01"
      ]
     },
     "execution_count": 2,
     "metadata": {},
     "output_type": "execute_result"
    }
   ],
   "source": [
    "data = pd.read_csv(f\"{path}data_{date}.csv\")\n",
    "data.head()"
   ]
  },
  {
   "cell_type": "code",
   "execution_count": 3,
   "id": "900ccbcc",
   "metadata": {},
   "outputs": [
    {
     "data": {
      "application/vnd.microsoft.datawrangler.viewer.v0+json": {
       "columns": [
        {
         "name": "index",
         "rawType": "int64",
         "type": "integer"
        },
        {
         "name": "detector_id",
         "rawType": "object",
         "type": "string"
        },
        {
         "name": "time_detector_real",
         "rawType": "int64",
         "type": "integer"
        },
        {
         "name": "speed_detector_real",
         "rawType": "int64",
         "type": "integer"
        },
        {
         "name": "day",
         "rawType": "object",
         "type": "string"
        },
        {
         "name": "date",
         "rawType": "object",
         "type": "string"
        }
       ],
       "conversionMethod": "pd.DataFrame",
       "ref": "4da07d3c-c498-4c67-81df-a875e34b26f9",
       "rows": [
        [
         "12",
         "e2w_out",
         "1577836850",
         "28",
         "Wednesday",
         "2020-01-01"
        ],
        [
         "17",
         "e2w_out",
         "1577836881",
         "40",
         "Wednesday",
         "2020-01-01"
        ],
        [
         "29",
         "e2w_out",
         "1577836917",
         "13",
         "Wednesday",
         "2020-01-01"
        ],
        [
         "41",
         "e2w_out",
         "1577836953",
         "33",
         "Wednesday",
         "2020-01-01"
        ],
        [
         "45",
         "e2w_out",
         "1577836960",
         "35",
         "Wednesday",
         "2020-01-01"
        ]
       ],
       "shape": {
        "columns": 5,
        "rows": 5
       }
      },
      "text/html": [
       "<div>\n",
       "<style scoped>\n",
       "    .dataframe tbody tr th:only-of-type {\n",
       "        vertical-align: middle;\n",
       "    }\n",
       "\n",
       "    .dataframe tbody tr th {\n",
       "        vertical-align: top;\n",
       "    }\n",
       "\n",
       "    .dataframe thead th {\n",
       "        text-align: right;\n",
       "    }\n",
       "</style>\n",
       "<table border=\"1\" class=\"dataframe\">\n",
       "  <thead>\n",
       "    <tr style=\"text-align: right;\">\n",
       "      <th></th>\n",
       "      <th>detector_id</th>\n",
       "      <th>time_detector_real</th>\n",
       "      <th>speed_detector_real</th>\n",
       "      <th>day</th>\n",
       "      <th>date</th>\n",
       "    </tr>\n",
       "  </thead>\n",
       "  <tbody>\n",
       "    <tr>\n",
       "      <th>12</th>\n",
       "      <td>e2w_out</td>\n",
       "      <td>1577836850</td>\n",
       "      <td>28</td>\n",
       "      <td>Wednesday</td>\n",
       "      <td>2020-01-01</td>\n",
       "    </tr>\n",
       "    <tr>\n",
       "      <th>17</th>\n",
       "      <td>e2w_out</td>\n",
       "      <td>1577836881</td>\n",
       "      <td>40</td>\n",
       "      <td>Wednesday</td>\n",
       "      <td>2020-01-01</td>\n",
       "    </tr>\n",
       "    <tr>\n",
       "      <th>29</th>\n",
       "      <td>e2w_out</td>\n",
       "      <td>1577836917</td>\n",
       "      <td>13</td>\n",
       "      <td>Wednesday</td>\n",
       "      <td>2020-01-01</td>\n",
       "    </tr>\n",
       "    <tr>\n",
       "      <th>41</th>\n",
       "      <td>e2w_out</td>\n",
       "      <td>1577836953</td>\n",
       "      <td>33</td>\n",
       "      <td>Wednesday</td>\n",
       "      <td>2020-01-01</td>\n",
       "    </tr>\n",
       "    <tr>\n",
       "      <th>45</th>\n",
       "      <td>e2w_out</td>\n",
       "      <td>1577836960</td>\n",
       "      <td>35</td>\n",
       "      <td>Wednesday</td>\n",
       "      <td>2020-01-01</td>\n",
       "    </tr>\n",
       "  </tbody>\n",
       "</table>\n",
       "</div>"
      ],
      "text/plain": [
       "   detector_id  time_detector_real  speed_detector_real        day        date\n",
       "12     e2w_out          1577836850                   28  Wednesday  2020-01-01\n",
       "17     e2w_out          1577836881                   40  Wednesday  2020-01-01\n",
       "29     e2w_out          1577836917                   13  Wednesday  2020-01-01\n",
       "41     e2w_out          1577836953                   33  Wednesday  2020-01-01\n",
       "45     e2w_out          1577836960                   35  Wednesday  2020-01-01"
      ]
     },
     "execution_count": 3,
     "metadata": {},
     "output_type": "execute_result"
    }
   ],
   "source": [
    "data = data[data[\"detector_id\"]==detector]\n",
    "data.head()"
   ]
  },
  {
   "cell_type": "code",
   "execution_count": 4,
   "id": "76df9aef",
   "metadata": {},
   "outputs": [
    {
     "data": {
      "text/plain": [
       "921"
      ]
     },
     "execution_count": 4,
     "metadata": {},
     "output_type": "execute_result"
    }
   ],
   "source": [
    "len(data)"
   ]
  },
  {
   "cell_type": "code",
   "execution_count": 5,
   "id": "faac75af",
   "metadata": {},
   "outputs": [],
   "source": [
    "from src.tools import mytools\n"
   ]
  },
  {
   "cell_type": "code",
   "execution_count": 6,
   "id": "9b94bee8",
   "metadata": {},
   "outputs": [],
   "source": [
    "#mytools.delete_all_except_list(f\"data/sim_intermediate_data/\", [\".gitkeep\"])"
   ]
  }
 ],
 "metadata": {
  "kernelspec": {
   "display_name": ".venv",
   "language": "python",
   "name": "python3"
  },
  "language_info": {
   "codemirror_mode": {
    "name": "ipython",
    "version": 3
   },
   "file_extension": ".py",
   "mimetype": "text/x-python",
   "name": "python",
   "nbconvert_exporter": "python",
   "pygments_lexer": "ipython3",
   "version": "3.12.3"
  }
 },
 "nbformat": 4,
 "nbformat_minor": 5
}
