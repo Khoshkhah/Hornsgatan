{
 "cells": [
  {
   "cell_type": "markdown",
   "id": "bca770e1",
   "metadata": {},
   "source": [
    "compare calibration result and simulation result in the instant loop detector"
   ]
  },
  {
   "cell_type": "code",
   "execution_count": 1,
   "id": "3c464bd4",
   "metadata": {},
   "outputs": [
    {
     "name": "stdout",
     "output_type": "stream",
     "text": [
      "Current directory: /home/kaveh/projects/Hornsgatan/notebook\n",
      "Current directory: /home/kaveh/projects/Hornsgatan\n"
     ]
    }
   ],
   "source": [
    "import os\n",
    "print(\"Current directory:\", os.getcwd())\n",
    "HORNSGATAN_HOME = os.environ[\"HORNSGATAN_HOME\"]\n",
    "os.chdir(HORNSGATAN_HOME)\n",
    "print(\"Current directory:\", os.getcwd())\n",
    "\n",
    "#number = len(data)\n",
    "import pandas as pd\n",
    "date = '2020-01-02'\n",
    "detector = 'e2w_out'\n",
    "number = 0\n",
    "path  = \"data/sim_data/\"\n",
    "if number<1:\n",
    "    postfix = f\"{detector}_{date}\"\n",
    "else:\n",
    "    postfix = f\"{detector}_{date}_{number}\"\n",
    "\n",
    "instantInductionLoop_filename_xml = f\"{path}instantInductionLoop_{postfix}.xml\"\n"
   ]
  },
  {
   "cell_type": "code",
   "execution_count": 2,
   "id": "b2afbafc",
   "metadata": {},
   "outputs": [],
   "source": [
    "import xml.etree.ElementTree as ET\n",
    "\n",
    "# Parse the XML content of output_detectors.xml\n",
    "tree_output = ET.parse(instantInductionLoop_filename_xml)\n",
    "root_output = tree_output.getroot()\n",
    "\n",
    "# Extract data from the XML\n",
    "instant_out_data = []\n",
    "for instant_out in root_output.findall('instantOut'):\n",
    "    instant_out_data.append({\n",
    "        'id': instant_out.get('id'),\n",
    "        'time': float(instant_out.get('time')),\n",
    "        'state': instant_out.get('state'),\n",
    "        'vehID': instant_out.get('vehID'),\n",
    "        'speed': float(instant_out.get('speed')),  # Convert speed to km/h\n",
    "        'length': instant_out.get('length'),\n",
    "        'type': instant_out.get('type'),\n",
    "        'gap': instant_out.get('gap')\n",
    "    })\n",
    "\n",
    "# Convert to a DataFrame\n",
    "df_instant_out = pd.DataFrame(instant_out_data)\n",
    "df_instant_out = df_instant_out[df_instant_out[\"state\"]=='enter']\n",
    "# Save to CSV\n",
    "#output_csv_file_instant_out = 'output_instant_out.csv'\n",
    "#df_instant_out.to_csv(output_csv_file_instant_out, index=False)\n",
    "#print(f\"Data from 'output_detectors.xml' successfully converted to CSV and saved as '{output_csv_file_instant_out}'.\")\n"
   ]
  },
  {
   "cell_type": "code",
   "execution_count": 3,
   "id": "0cb30bef",
   "metadata": {},
   "outputs": [
    {
     "data": {
      "text/html": [
       "<div>\n",
       "<style scoped>\n",
       "    .dataframe tbody tr th:only-of-type {\n",
       "        vertical-align: middle;\n",
       "    }\n",
       "\n",
       "    .dataframe tbody tr th {\n",
       "        vertical-align: top;\n",
       "    }\n",
       "\n",
       "    .dataframe thead th {\n",
       "        text-align: right;\n",
       "    }\n",
       "</style>\n",
       "<table border=\"1\" class=\"dataframe\">\n",
       "  <thead>\n",
       "    <tr style=\"text-align: right;\">\n",
       "      <th></th>\n",
       "      <th>id</th>\n",
       "      <th>time</th>\n",
       "      <th>state</th>\n",
       "      <th>vehID</th>\n",
       "      <th>speed</th>\n",
       "      <th>length</th>\n",
       "      <th>type</th>\n",
       "      <th>gap</th>\n",
       "    </tr>\n",
       "  </thead>\n",
       "  <tbody>\n",
       "    <tr>\n",
       "      <th>0</th>\n",
       "      <td>e2w_out</td>\n",
       "      <td>1.577923e+09</td>\n",
       "      <td>enter</td>\n",
       "      <td>0_e2w_out</td>\n",
       "      <td>14.99</td>\n",
       "      <td>5.00</td>\n",
       "      <td>DEFAULT_VEHTYPE</td>\n",
       "      <td>None</td>\n",
       "    </tr>\n",
       "    <tr>\n",
       "      <th>3</th>\n",
       "      <td>e2w_out</td>\n",
       "      <td>1.577923e+09</td>\n",
       "      <td>enter</td>\n",
       "      <td>1_e2w_out</td>\n",
       "      <td>7.08</td>\n",
       "      <td>5.00</td>\n",
       "      <td>DEFAULT_VEHTYPE</td>\n",
       "      <td>18.28</td>\n",
       "    </tr>\n",
       "    <tr>\n",
       "      <th>6</th>\n",
       "      <td>e2w_out</td>\n",
       "      <td>1.577923e+09</td>\n",
       "      <td>enter</td>\n",
       "      <td>2_e2w_out</td>\n",
       "      <td>11.66</td>\n",
       "      <td>5.00</td>\n",
       "      <td>DEFAULT_VEHTYPE</td>\n",
       "      <td>66.19</td>\n",
       "    </tr>\n",
       "    <tr>\n",
       "      <th>8</th>\n",
       "      <td>e2w_out</td>\n",
       "      <td>1.577923e+09</td>\n",
       "      <td>enter</td>\n",
       "      <td>3_e2w_out</td>\n",
       "      <td>10.41</td>\n",
       "      <td>5.00</td>\n",
       "      <td>DEFAULT_VEHTYPE</td>\n",
       "      <td>14.00</td>\n",
       "    </tr>\n",
       "    <tr>\n",
       "      <th>11</th>\n",
       "      <td>e2w_out</td>\n",
       "      <td>1.577923e+09</td>\n",
       "      <td>enter</td>\n",
       "      <td>4_e2w_out</td>\n",
       "      <td>10.83</td>\n",
       "      <td>5.00</td>\n",
       "      <td>DEFAULT_VEHTYPE</td>\n",
       "      <td>39.65</td>\n",
       "    </tr>\n",
       "    <tr>\n",
       "      <th>...</th>\n",
       "      <td>...</td>\n",
       "      <td>...</td>\n",
       "      <td>...</td>\n",
       "      <td>...</td>\n",
       "      <td>...</td>\n",
       "      <td>...</td>\n",
       "      <td>...</td>\n",
       "      <td>...</td>\n",
       "    </tr>\n",
       "    <tr>\n",
       "      <th>2152</th>\n",
       "      <td>e2w_out</td>\n",
       "      <td>1.578009e+09</td>\n",
       "      <td>enter</td>\n",
       "      <td>801_e2w_out</td>\n",
       "      <td>8.33</td>\n",
       "      <td>5.00</td>\n",
       "      <td>DEFAULT_VEHTYPE</td>\n",
       "      <td>170.09</td>\n",
       "    </tr>\n",
       "    <tr>\n",
       "      <th>2154</th>\n",
       "      <td>e2w_out</td>\n",
       "      <td>1.578009e+09</td>\n",
       "      <td>enter</td>\n",
       "      <td>802_e2w_out</td>\n",
       "      <td>12.91</td>\n",
       "      <td>5.00</td>\n",
       "      <td>DEFAULT_VEHTYPE</td>\n",
       "      <td>136.34</td>\n",
       "    </tr>\n",
       "    <tr>\n",
       "      <th>2156</th>\n",
       "      <td>e2w_out</td>\n",
       "      <td>1.578009e+09</td>\n",
       "      <td>enter</td>\n",
       "      <td>803_e2w_out</td>\n",
       "      <td>12.50</td>\n",
       "      <td>5.00</td>\n",
       "      <td>DEFAULT_VEHTYPE</td>\n",
       "      <td>311.22</td>\n",
       "    </tr>\n",
       "    <tr>\n",
       "      <th>2159</th>\n",
       "      <td>e2w_out</td>\n",
       "      <td>1.578010e+09</td>\n",
       "      <td>enter</td>\n",
       "      <td>804_e2w_out</td>\n",
       "      <td>5.41</td>\n",
       "      <td>5.00</td>\n",
       "      <td>DEFAULT_VEHTYPE</td>\n",
       "      <td>153.33</td>\n",
       "    </tr>\n",
       "    <tr>\n",
       "      <th>2162</th>\n",
       "      <td>e2w_out</td>\n",
       "      <td>1.578010e+09</td>\n",
       "      <td>enter</td>\n",
       "      <td>805_e2w_out</td>\n",
       "      <td>12.50</td>\n",
       "      <td>5.00</td>\n",
       "      <td>DEFAULT_VEHTYPE</td>\n",
       "      <td>58.35</td>\n",
       "    </tr>\n",
       "  </tbody>\n",
       "</table>\n",
       "<p>806 rows × 8 columns</p>\n",
       "</div>"
      ],
      "text/plain": [
       "           id          time  state        vehID  speed length  \\\n",
       "0     e2w_out  1.577923e+09  enter    0_e2w_out  14.99   5.00   \n",
       "3     e2w_out  1.577923e+09  enter    1_e2w_out   7.08   5.00   \n",
       "6     e2w_out  1.577923e+09  enter    2_e2w_out  11.66   5.00   \n",
       "8     e2w_out  1.577923e+09  enter    3_e2w_out  10.41   5.00   \n",
       "11    e2w_out  1.577923e+09  enter    4_e2w_out  10.83   5.00   \n",
       "...       ...           ...    ...          ...    ...    ...   \n",
       "2152  e2w_out  1.578009e+09  enter  801_e2w_out   8.33   5.00   \n",
       "2154  e2w_out  1.578009e+09  enter  802_e2w_out  12.91   5.00   \n",
       "2156  e2w_out  1.578009e+09  enter  803_e2w_out  12.50   5.00   \n",
       "2159  e2w_out  1.578010e+09  enter  804_e2w_out   5.41   5.00   \n",
       "2162  e2w_out  1.578010e+09  enter  805_e2w_out  12.50   5.00   \n",
       "\n",
       "                 type     gap  \n",
       "0     DEFAULT_VEHTYPE    None  \n",
       "3     DEFAULT_VEHTYPE   18.28  \n",
       "6     DEFAULT_VEHTYPE   66.19  \n",
       "8     DEFAULT_VEHTYPE   14.00  \n",
       "11    DEFAULT_VEHTYPE   39.65  \n",
       "...               ...     ...  \n",
       "2152  DEFAULT_VEHTYPE  170.09  \n",
       "2154  DEFAULT_VEHTYPE  136.34  \n",
       "2156  DEFAULT_VEHTYPE  311.22  \n",
       "2159  DEFAULT_VEHTYPE  153.33  \n",
       "2162  DEFAULT_VEHTYPE   58.35  \n",
       "\n",
       "[806 rows x 8 columns]"
      ]
     },
     "execution_count": 3,
     "metadata": {},
     "output_type": "execute_result"
    }
   ],
   "source": [
    "df_instant_out"
   ]
  },
  {
   "cell_type": "code",
   "execution_count": 4,
   "id": "2509bb26",
   "metadata": {},
   "outputs": [
    {
     "data": {
      "text/html": [
       "<div>\n",
       "<style scoped>\n",
       "    .dataframe tbody tr th:only-of-type {\n",
       "        vertical-align: middle;\n",
       "    }\n",
       "\n",
       "    .dataframe tbody tr th {\n",
       "        vertical-align: top;\n",
       "    }\n",
       "\n",
       "    .dataframe thead th {\n",
       "        text-align: right;\n",
       "    }\n",
       "</style>\n",
       "<table border=\"1\" class=\"dataframe\">\n",
       "  <thead>\n",
       "    <tr style=\"text-align: right;\">\n",
       "      <th></th>\n",
       "      <th>vehID</th>\n",
       "      <th>time_detector_sim</th>\n",
       "      <th>speed_detector_sim</th>\n",
       "      <th>speed_factor</th>\n",
       "      <th>time_detector_real</th>\n",
       "      <th>depart</th>\n",
       "      <th>departSpeed</th>\n",
       "      <th>speed_detector_real</th>\n",
       "      <th>delta_time</th>\n",
       "      <th>delta_speed</th>\n",
       "    </tr>\n",
       "  </thead>\n",
       "  <tbody>\n",
       "    <tr>\n",
       "      <th>0</th>\n",
       "      <td>0_e2w_out</td>\n",
       "      <td>1.577923e+09</td>\n",
       "      <td>14.994000</td>\n",
       "      <td>1.80</td>\n",
       "      <td>1577923299</td>\n",
       "      <td>1577923283</td>\n",
       "      <td>max</td>\n",
       "      <td>15.000000</td>\n",
       "      <td>-0.24</td>\n",
       "      <td>-0.006000</td>\n",
       "    </tr>\n",
       "    <tr>\n",
       "      <th>1</th>\n",
       "      <td>1_e2w_out</td>\n",
       "      <td>1.577923e+09</td>\n",
       "      <td>7.080500</td>\n",
       "      <td>0.85</td>\n",
       "      <td>1577923317</td>\n",
       "      <td>1577923284</td>\n",
       "      <td>max</td>\n",
       "      <td>6.944444</td>\n",
       "      <td>0.37</td>\n",
       "      <td>0.136056</td>\n",
       "    </tr>\n",
       "    <tr>\n",
       "      <th>2</th>\n",
       "      <td>2_e2w_out</td>\n",
       "      <td>1.577923e+09</td>\n",
       "      <td>11.661995</td>\n",
       "      <td>1.40</td>\n",
       "      <td>1577923384</td>\n",
       "      <td>1577923364</td>\n",
       "      <td>max</td>\n",
       "      <td>11.388889</td>\n",
       "      <td>0.26</td>\n",
       "      <td>0.273106</td>\n",
       "    </tr>\n",
       "    <tr>\n",
       "      <th>3</th>\n",
       "      <td>3_e2w_out</td>\n",
       "      <td>1.577923e+09</td>\n",
       "      <td>10.412500</td>\n",
       "      <td>1.25</td>\n",
       "      <td>1577923399</td>\n",
       "      <td>1577923376</td>\n",
       "      <td>max</td>\n",
       "      <td>10.555556</td>\n",
       "      <td>-0.31</td>\n",
       "      <td>-0.143056</td>\n",
       "    </tr>\n",
       "    <tr>\n",
       "      <th>4</th>\n",
       "      <td>4_e2w_out</td>\n",
       "      <td>1.577923e+09</td>\n",
       "      <td>10.829000</td>\n",
       "      <td>1.30</td>\n",
       "      <td>1577923439</td>\n",
       "      <td>1577923417</td>\n",
       "      <td>max</td>\n",
       "      <td>10.833333</td>\n",
       "      <td>-0.18</td>\n",
       "      <td>-0.004333</td>\n",
       "    </tr>\n",
       "  </tbody>\n",
       "</table>\n",
       "</div>"
      ],
      "text/plain": [
       "       vehID  time_detector_sim  speed_detector_sim  speed_factor  \\\n",
       "0  0_e2w_out       1.577923e+09           14.994000          1.80   \n",
       "1  1_e2w_out       1.577923e+09            7.080500          0.85   \n",
       "2  2_e2w_out       1.577923e+09           11.661995          1.40   \n",
       "3  3_e2w_out       1.577923e+09           10.412500          1.25   \n",
       "4  4_e2w_out       1.577923e+09           10.829000          1.30   \n",
       "\n",
       "   time_detector_real      depart departSpeed  speed_detector_real  \\\n",
       "0          1577923299  1577923283         max            15.000000   \n",
       "1          1577923317  1577923284         max             6.944444   \n",
       "2          1577923384  1577923364         max            11.388889   \n",
       "3          1577923399  1577923376         max            10.555556   \n",
       "4          1577923439  1577923417         max            10.833333   \n",
       "\n",
       "   delta_time  delta_speed  \n",
       "0       -0.24    -0.006000  \n",
       "1        0.37     0.136056  \n",
       "2        0.26     0.273106  \n",
       "3       -0.31    -0.143056  \n",
       "4       -0.18    -0.004333  "
      ]
     },
     "execution_count": 4,
     "metadata": {},
     "output_type": "execute_result"
    }
   ],
   "source": [
    "data = pd.read_csv(f'data/calibration_data/calibrated_data_{postfix}.csv')\n",
    "data.rename(columns={\"veh_id\": \"vehID\"}, inplace=True)\n",
    "data.head()"
   ]
  },
  {
   "cell_type": "code",
   "execution_count": 5,
   "id": "41ef4aa2",
   "metadata": {},
   "outputs": [
    {
     "name": "stdout",
     "output_type": "stream",
     "text": [
      "806 806\n"
     ]
    }
   ],
   "source": [
    "print(len(data), len(df_instant_out))"
   ]
  },
  {
   "cell_type": "markdown",
   "id": "26c7724a",
   "metadata": {},
   "source": [
    "compare time error and speed error in loop detector between simulation result and calibration result"
   ]
  },
  {
   "cell_type": "code",
   "execution_count": 6,
   "id": "78ee4572",
   "metadata": {},
   "outputs": [
    {
     "data": {
      "text/html": [
       "<div>\n",
       "<style scoped>\n",
       "    .dataframe tbody tr th:only-of-type {\n",
       "        vertical-align: middle;\n",
       "    }\n",
       "\n",
       "    .dataframe tbody tr th {\n",
       "        vertical-align: top;\n",
       "    }\n",
       "\n",
       "    .dataframe thead th {\n",
       "        text-align: right;\n",
       "    }\n",
       "</style>\n",
       "<table border=\"1\" class=\"dataframe\">\n",
       "  <thead>\n",
       "    <tr style=\"text-align: right;\">\n",
       "      <th></th>\n",
       "      <th>vehID</th>\n",
       "      <th>time</th>\n",
       "      <th>speed</th>\n",
       "      <th>time_detector_sim</th>\n",
       "      <th>speed_detector_sim</th>\n",
       "      <th>time_detector_real</th>\n",
       "      <th>speed_detector_real</th>\n",
       "    </tr>\n",
       "  </thead>\n",
       "  <tbody>\n",
       "    <tr>\n",
       "      <th>0</th>\n",
       "      <td>0_e2w_out</td>\n",
       "      <td>1.577923e+09</td>\n",
       "      <td>14.99</td>\n",
       "      <td>1.577923e+09</td>\n",
       "      <td>14.994000</td>\n",
       "      <td>1577923299</td>\n",
       "      <td>15.000000</td>\n",
       "    </tr>\n",
       "    <tr>\n",
       "      <th>1</th>\n",
       "      <td>1_e2w_out</td>\n",
       "      <td>1.577923e+09</td>\n",
       "      <td>7.08</td>\n",
       "      <td>1.577923e+09</td>\n",
       "      <td>7.080500</td>\n",
       "      <td>1577923317</td>\n",
       "      <td>6.944444</td>\n",
       "    </tr>\n",
       "    <tr>\n",
       "      <th>2</th>\n",
       "      <td>2_e2w_out</td>\n",
       "      <td>1.577923e+09</td>\n",
       "      <td>11.66</td>\n",
       "      <td>1.577923e+09</td>\n",
       "      <td>11.661995</td>\n",
       "      <td>1577923384</td>\n",
       "      <td>11.388889</td>\n",
       "    </tr>\n",
       "    <tr>\n",
       "      <th>3</th>\n",
       "      <td>3_e2w_out</td>\n",
       "      <td>1.577923e+09</td>\n",
       "      <td>10.41</td>\n",
       "      <td>1.577923e+09</td>\n",
       "      <td>10.412500</td>\n",
       "      <td>1577923399</td>\n",
       "      <td>10.555556</td>\n",
       "    </tr>\n",
       "    <tr>\n",
       "      <th>4</th>\n",
       "      <td>4_e2w_out</td>\n",
       "      <td>1.577923e+09</td>\n",
       "      <td>10.83</td>\n",
       "      <td>1.577923e+09</td>\n",
       "      <td>10.829000</td>\n",
       "      <td>1577923439</td>\n",
       "      <td>10.833333</td>\n",
       "    </tr>\n",
       "  </tbody>\n",
       "</table>\n",
       "</div>"
      ],
      "text/plain": [
       "       vehID          time  speed  time_detector_sim  speed_detector_sim  \\\n",
       "0  0_e2w_out  1.577923e+09  14.99       1.577923e+09           14.994000   \n",
       "1  1_e2w_out  1.577923e+09   7.08       1.577923e+09            7.080500   \n",
       "2  2_e2w_out  1.577923e+09  11.66       1.577923e+09           11.661995   \n",
       "3  3_e2w_out  1.577923e+09  10.41       1.577923e+09           10.412500   \n",
       "4  4_e2w_out  1.577923e+09  10.83       1.577923e+09           10.829000   \n",
       "\n",
       "   time_detector_real  speed_detector_real  \n",
       "0          1577923299            15.000000  \n",
       "1          1577923317             6.944444  \n",
       "2          1577923384            11.388889  \n",
       "3          1577923399            10.555556  \n",
       "4          1577923439            10.833333  "
      ]
     },
     "execution_count": 6,
     "metadata": {},
     "output_type": "execute_result"
    }
   ],
   "source": [
    "compare_df = pd.merge(df_instant_out[[\"vehID\",\"time\",\"speed\"]],\n",
    "            data[[\"vehID\",\"time_detector_sim\",\"speed_detector_sim\"\n",
    "                  ,\"time_detector_real\",\"speed_detector_real\"]],on=\"vehID\")\n",
    "compare_df.head()\n",
    "\n",
    "\n"
   ]
  },
  {
   "cell_type": "code",
   "execution_count": 7,
   "id": "444b9984",
   "metadata": {},
   "outputs": [],
   "source": [
    "#compare_df = compare_df.head(19)"
   ]
  },
  {
   "cell_type": "code",
   "execution_count": 8,
   "id": "efaee82a",
   "metadata": {},
   "outputs": [
    {
     "data": {
      "text/plain": [
       "np.float64(0.7135607829460731)"
      ]
     },
     "execution_count": 8,
     "metadata": {},
     "output_type": "execute_result"
    }
   ],
   "source": [
    "time_calib_error = compare_df[\"time_calib_error\"]=(compare_df[\"time_detector_sim\"]-compare_df[\"time_detector_real\"])\n",
    "abs(time_calib_error).mean()"
   ]
  },
  {
   "cell_type": "code",
   "execution_count": 9,
   "id": "06d79b59",
   "metadata": {},
   "outputs": [
    {
     "data": {
      "text/plain": [
       "np.float64(0.5807692185229166)"
      ]
     },
     "execution_count": 9,
     "metadata": {},
     "output_type": "execute_result"
    }
   ],
   "source": [
    "time_sim_error = compare_df[\"time_sim_error\"] = compare_df[\"time\"]-compare_df[\"time_detector_real\"]\n",
    "abs(time_sim_error).mean()"
   ]
  },
  {
   "cell_type": "code",
   "execution_count": 10,
   "id": "623c98a5",
   "metadata": {},
   "outputs": [
    {
     "data": {
      "text/plain": [
       "np.float64(0.7160553161213029)"
      ]
     },
     "execution_count": 10,
     "metadata": {},
     "output_type": "execute_result"
    }
   ],
   "source": [
    "speed_calib_error= compare_df[\"speed_calib_error\"] =compare_df[\"speed_detector_sim\"]-compare_df[\"speed_detector_real\"]\n",
    "abs(speed_calib_error).mean()"
   ]
  },
  {
   "cell_type": "code",
   "execution_count": 11,
   "id": "ce1e059c",
   "metadata": {},
   "outputs": [
    {
     "data": {
      "text/plain": [
       "np.float64(0.7949614006065618)"
      ]
     },
     "execution_count": 11,
     "metadata": {},
     "output_type": "execute_result"
    }
   ],
   "source": [
    "speed_sim_error=compare_df[\"speed_sim_error\"] =compare_df[\"speed\"]-compare_df[\"speed_detector_real\"]\n",
    "abs(speed_sim_error).mean()"
   ]
  },
  {
   "cell_type": "code",
   "execution_count": 12,
   "id": "87cb694c",
   "metadata": {},
   "outputs": [
    {
     "name": "stdout",
     "output_type": "stream",
     "text": [
      "-9.230000019073486 8.799999952316284\n",
      "-3.440000057220459 8.52999997138977\n"
     ]
    }
   ],
   "source": [
    "print(compare_df['time_sim_error'].min(), compare_df['time_sim_error'].max())\n",
    "print(compare_df['time_calib_error'].min(), compare_df['time_calib_error'].max())\n",
    "\n",
    "time_min_error = min(compare_df['time_sim_error'].min(), compare_df['time_calib_error'].min())\n",
    "time_max_error = max(compare_df['time_sim_error'].max(), compare_df['time_calib_error'].max())"
   ]
  },
  {
   "cell_type": "code",
   "execution_count": 13,
   "id": "8d594f6e",
   "metadata": {},
   "outputs": [
    {
     "name": "stdout",
     "output_type": "stream",
     "text": [
      "-8.88888888888889 6.937777777777778\n",
      "-6.14883544690002 8.199219632507091\n"
     ]
    }
   ],
   "source": [
    "print(compare_df['speed_sim_error'].min(), compare_df['speed_sim_error'].max())\n",
    "print(compare_df['speed_calib_error'].min(), compare_df['speed_calib_error'].max())\n",
    "\n",
    "speed_min_error = min(compare_df['speed_sim_error'].min(), compare_df['speed_calib_error'].min())\n",
    "speed_max_error = max(compare_df['speed_sim_error'].max(), compare_df['speed_calib_error'].max())"
   ]
  },
  {
   "cell_type": "code",
   "execution_count": 14,
   "id": "f719d7aa",
   "metadata": {},
   "outputs": [
    {
     "data": {
      "application/vnd.plotly.v1+json": {
       "config": {
        "plotlyServerURL": "https://plot.ly"
       },
       "data": [
        {
         "name": "time_sim_error --> MAE = 0.58",
         "opacity": 0.75,
         "type": "histogram",
         "x": {
          "bdata": "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",
          "dtype": "f8"
         },
         "xbins": {
          "end": 8.799999952316284,
          "size": 1,
          "start": -9.230000019073486
         }
        },
        {
         "name": "time_calib_error  --> MAE = 0.71",
         "opacity": 0.75,
         "type": "histogram",
         "x": {
          "bdata": "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",
          "dtype": "f8"
         },
         "xbins": {
          "end": 8.799999952316284,
          "size": 1,
          "start": -9.230000019073486
         }
        }
       ],
       "layout": {
        "barmode": "group",
        "template": {
         "data": {
          "bar": [
           {
            "error_x": {
             "color": "#2a3f5f"
            },
            "error_y": {
             "color": "#2a3f5f"
            },
            "marker": {
             "line": {
              "color": "#E5ECF6",
              "width": 0.5
             },
             "pattern": {
              "fillmode": "overlay",
              "size": 10,
              "solidity": 0.2
             }
            },
            "type": "bar"
           }
          ],
          "barpolar": [
           {
            "marker": {
             "line": {
              "color": "#E5ECF6",
              "width": 0.5
             },
             "pattern": {
              "fillmode": "overlay",
              "size": 10,
              "solidity": 0.2
             }
            },
            "type": "barpolar"
           }
          ],
          "carpet": [
           {
            "aaxis": {
             "endlinecolor": "#2a3f5f",
             "gridcolor": "white",
             "linecolor": "white",
             "minorgridcolor": "white",
             "startlinecolor": "#2a3f5f"
            },
            "baxis": {
             "endlinecolor": "#2a3f5f",
             "gridcolor": "white",
             "linecolor": "white",
             "minorgridcolor": "white",
             "startlinecolor": "#2a3f5f"
            },
            "type": "carpet"
           }
          ],
          "choropleth": [
           {
            "colorbar": {
             "outlinewidth": 0,
             "ticks": ""
            },
            "type": "choropleth"
           }
          ],
          "contour": [
           {
            "colorbar": {
             "outlinewidth": 0,
             "ticks": ""
            },
            "colorscale": [
             [
              0,
              "#0d0887"
             ],
             [
              0.1111111111111111,
              "#46039f"
             ],
             [
              0.2222222222222222,
              "#7201a8"
             ],
             [
              0.3333333333333333,
              "#9c179e"
             ],
             [
              0.4444444444444444,
              "#bd3786"
             ],
             [
              0.5555555555555556,
              "#d8576b"
             ],
             [
              0.6666666666666666,
              "#ed7953"
             ],
             [
              0.7777777777777778,
              "#fb9f3a"
             ],
             [
              0.8888888888888888,
              "#fdca26"
             ],
             [
              1,
              "#f0f921"
             ]
            ],
            "type": "contour"
           }
          ],
          "contourcarpet": [
           {
            "colorbar": {
             "outlinewidth": 0,
             "ticks": ""
            },
            "type": "contourcarpet"
           }
          ],
          "heatmap": [
           {
            "colorbar": {
             "outlinewidth": 0,
             "ticks": ""
            },
            "colorscale": [
             [
              0,
              "#0d0887"
             ],
             [
              0.1111111111111111,
              "#46039f"
             ],
             [
              0.2222222222222222,
              "#7201a8"
             ],
             [
              0.3333333333333333,
              "#9c179e"
             ],
             [
              0.4444444444444444,
              "#bd3786"
             ],
             [
              0.5555555555555556,
              "#d8576b"
             ],
             [
              0.6666666666666666,
              "#ed7953"
             ],
             [
              0.7777777777777778,
              "#fb9f3a"
             ],
             [
              0.8888888888888888,
              "#fdca26"
             ],
             [
              1,
              "#f0f921"
             ]
            ],
            "type": "heatmap"
           }
          ],
          "histogram": [
           {
            "marker": {
             "pattern": {
              "fillmode": "overlay",
              "size": 10,
              "solidity": 0.2
             }
            },
            "type": "histogram"
           }
          ],
          "histogram2d": [
           {
            "colorbar": {
             "outlinewidth": 0,
             "ticks": ""
            },
            "colorscale": [
             [
              0,
              "#0d0887"
             ],
             [
              0.1111111111111111,
              "#46039f"
             ],
             [
              0.2222222222222222,
              "#7201a8"
             ],
             [
              0.3333333333333333,
              "#9c179e"
             ],
             [
              0.4444444444444444,
              "#bd3786"
             ],
             [
              0.5555555555555556,
              "#d8576b"
             ],
             [
              0.6666666666666666,
              "#ed7953"
             ],
             [
              0.7777777777777778,
              "#fb9f3a"
             ],
             [
              0.8888888888888888,
              "#fdca26"
             ],
             [
              1,
              "#f0f921"
             ]
            ],
            "type": "histogram2d"
           }
          ],
          "histogram2dcontour": [
           {
            "colorbar": {
             "outlinewidth": 0,
             "ticks": ""
            },
            "colorscale": [
             [
              0,
              "#0d0887"
             ],
             [
              0.1111111111111111,
              "#46039f"
             ],
             [
              0.2222222222222222,
              "#7201a8"
             ],
             [
              0.3333333333333333,
              "#9c179e"
             ],
             [
              0.4444444444444444,
              "#bd3786"
             ],
             [
              0.5555555555555556,
              "#d8576b"
             ],
             [
              0.6666666666666666,
              "#ed7953"
             ],
             [
              0.7777777777777778,
              "#fb9f3a"
             ],
             [
              0.8888888888888888,
              "#fdca26"
             ],
             [
              1,
              "#f0f921"
             ]
            ],
            "type": "histogram2dcontour"
           }
          ],
          "mesh3d": [
           {
            "colorbar": {
             "outlinewidth": 0,
             "ticks": ""
            },
            "type": "mesh3d"
           }
          ],
          "parcoords": [
           {
            "line": {
             "colorbar": {
              "outlinewidth": 0,
              "ticks": ""
             }
            },
            "type": "parcoords"
           }
          ],
          "pie": [
           {
            "automargin": true,
            "type": "pie"
           }
          ],
          "scatter": [
           {
            "fillpattern": {
             "fillmode": "overlay",
             "size": 10,
             "solidity": 0.2
            },
            "type": "scatter"
           }
          ],
          "scatter3d": [
           {
            "line": {
             "colorbar": {
              "outlinewidth": 0,
              "ticks": ""
             }
            },
            "marker": {
             "colorbar": {
              "outlinewidth": 0,
              "ticks": ""
             }
            },
            "type": "scatter3d"
           }
          ],
          "scattercarpet": [
           {
            "marker": {
             "colorbar": {
              "outlinewidth": 0,
              "ticks": ""
             }
            },
            "type": "scattercarpet"
           }
          ],
          "scattergeo": [
           {
            "marker": {
             "colorbar": {
              "outlinewidth": 0,
              "ticks": ""
             }
            },
            "type": "scattergeo"
           }
          ],
          "scattergl": [
           {
            "marker": {
             "colorbar": {
              "outlinewidth": 0,
              "ticks": ""
             }
            },
            "type": "scattergl"
           }
          ],
          "scattermap": [
           {
            "marker": {
             "colorbar": {
              "outlinewidth": 0,
              "ticks": ""
             }
            },
            "type": "scattermap"
           }
          ],
          "scattermapbox": [
           {
            "marker": {
             "colorbar": {
              "outlinewidth": 0,
              "ticks": ""
             }
            },
            "type": "scattermapbox"
           }
          ],
          "scatterpolar": [
           {
            "marker": {
             "colorbar": {
              "outlinewidth": 0,
              "ticks": ""
             }
            },
            "type": "scatterpolar"
           }
          ],
          "scatterpolargl": [
           {
            "marker": {
             "colorbar": {
              "outlinewidth": 0,
              "ticks": ""
             }
            },
            "type": "scatterpolargl"
           }
          ],
          "scatterternary": [
           {
            "marker": {
             "colorbar": {
              "outlinewidth": 0,
              "ticks": ""
             }
            },
            "type": "scatterternary"
           }
          ],
          "surface": [
           {
            "colorbar": {
             "outlinewidth": 0,
             "ticks": ""
            },
            "colorscale": [
             [
              0,
              "#0d0887"
             ],
             [
              0.1111111111111111,
              "#46039f"
             ],
             [
              0.2222222222222222,
              "#7201a8"
             ],
             [
              0.3333333333333333,
              "#9c179e"
             ],
             [
              0.4444444444444444,
              "#bd3786"
             ],
             [
              0.5555555555555556,
              "#d8576b"
             ],
             [
              0.6666666666666666,
              "#ed7953"
             ],
             [
              0.7777777777777778,
              "#fb9f3a"
             ],
             [
              0.8888888888888888,
              "#fdca26"
             ],
             [
              1,
              "#f0f921"
             ]
            ],
            "type": "surface"
           }
          ],
          "table": [
           {
            "cells": {
             "fill": {
              "color": "#EBF0F8"
             },
             "line": {
              "color": "white"
             }
            },
            "header": {
             "fill": {
              "color": "#C8D4E3"
             },
             "line": {
              "color": "white"
             }
            },
            "type": "table"
           }
          ]
         },
         "layout": {
          "annotationdefaults": {
           "arrowcolor": "#2a3f5f",
           "arrowhead": 0,
           "arrowwidth": 1
          },
          "autotypenumbers": "strict",
          "coloraxis": {
           "colorbar": {
            "outlinewidth": 0,
            "ticks": ""
           }
          },
          "colorscale": {
           "diverging": [
            [
             0,
             "#8e0152"
            ],
            [
             0.1,
             "#c51b7d"
            ],
            [
             0.2,
             "#de77ae"
            ],
            [
             0.3,
             "#f1b6da"
            ],
            [
             0.4,
             "#fde0ef"
            ],
            [
             0.5,
             "#f7f7f7"
            ],
            [
             0.6,
             "#e6f5d0"
            ],
            [
             0.7,
             "#b8e186"
            ],
            [
             0.8,
             "#7fbc41"
            ],
            [
             0.9,
             "#4d9221"
            ],
            [
             1,
             "#276419"
            ]
           ],
           "sequential": [
            [
             0,
             "#0d0887"
            ],
            [
             0.1111111111111111,
             "#46039f"
            ],
            [
             0.2222222222222222,
             "#7201a8"
            ],
            [
             0.3333333333333333,
             "#9c179e"
            ],
            [
             0.4444444444444444,
             "#bd3786"
            ],
            [
             0.5555555555555556,
             "#d8576b"
            ],
            [
             0.6666666666666666,
             "#ed7953"
            ],
            [
             0.7777777777777778,
             "#fb9f3a"
            ],
            [
             0.8888888888888888,
             "#fdca26"
            ],
            [
             1,
             "#f0f921"
            ]
           ],
           "sequentialminus": [
            [
             0,
             "#0d0887"
            ],
            [
             0.1111111111111111,
             "#46039f"
            ],
            [
             0.2222222222222222,
             "#7201a8"
            ],
            [
             0.3333333333333333,
             "#9c179e"
            ],
            [
             0.4444444444444444,
             "#bd3786"
            ],
            [
             0.5555555555555556,
             "#d8576b"
            ],
            [
             0.6666666666666666,
             "#ed7953"
            ],
            [
             0.7777777777777778,
             "#fb9f3a"
            ],
            [
             0.8888888888888888,
             "#fdca26"
            ],
            [
             1,
             "#f0f921"
            ]
           ]
          },
          "colorway": [
           "#636efa",
           "#EF553B",
           "#00cc96",
           "#ab63fa",
           "#FFA15A",
           "#19d3f3",
           "#FF6692",
           "#B6E880",
           "#FF97FF",
           "#FECB52"
          ],
          "font": {
           "color": "#2a3f5f"
          },
          "geo": {
           "bgcolor": "white",
           "lakecolor": "white",
           "landcolor": "#E5ECF6",
           "showlakes": true,
           "showland": true,
           "subunitcolor": "white"
          },
          "hoverlabel": {
           "align": "left"
          },
          "hovermode": "closest",
          "mapbox": {
           "style": "light"
          },
          "paper_bgcolor": "white",
          "plot_bgcolor": "#E5ECF6",
          "polar": {
           "angularaxis": {
            "gridcolor": "white",
            "linecolor": "white",
            "ticks": ""
           },
           "bgcolor": "#E5ECF6",
           "radialaxis": {
            "gridcolor": "white",
            "linecolor": "white",
            "ticks": ""
           }
          },
          "scene": {
           "xaxis": {
            "backgroundcolor": "#E5ECF6",
            "gridcolor": "white",
            "gridwidth": 2,
            "linecolor": "white",
            "showbackground": true,
            "ticks": "",
            "zerolinecolor": "white"
           },
           "yaxis": {
            "backgroundcolor": "#E5ECF6",
            "gridcolor": "white",
            "gridwidth": 2,
            "linecolor": "white",
            "showbackground": true,
            "ticks": "",
            "zerolinecolor": "white"
           },
           "zaxis": {
            "backgroundcolor": "#E5ECF6",
            "gridcolor": "white",
            "gridwidth": 2,
            "linecolor": "white",
            "showbackground": true,
            "ticks": "",
            "zerolinecolor": "white"
           }
          },
          "shapedefaults": {
           "line": {
            "color": "#2a3f5f"
           }
          },
          "ternary": {
           "aaxis": {
            "gridcolor": "white",
            "linecolor": "white",
            "ticks": ""
           },
           "baxis": {
            "gridcolor": "white",
            "linecolor": "white",
            "ticks": ""
           },
           "bgcolor": "#E5ECF6",
           "caxis": {
            "gridcolor": "white",
            "linecolor": "white",
            "ticks": ""
           }
          },
          "title": {
           "x": 0.05
          },
          "xaxis": {
           "automargin": true,
           "gridcolor": "white",
           "linecolor": "white",
           "ticks": "",
           "title": {
            "standoff": 15
           },
           "zerolinecolor": "white",
           "zerolinewidth": 2
          },
          "yaxis": {
           "automargin": true,
           "gridcolor": "white",
           "linecolor": "white",
           "ticks": "",
           "title": {
            "standoff": 15
           },
           "zerolinecolor": "white",
           "zerolinewidth": 2
          }
         }
        },
        "title": {
         "text": "error  =  simulate  -  real      ------------         e2w_out_2020-01-02"
        },
        "xaxis": {
         "title": {
          "text": "time error (s)"
         }
        },
        "yaxis": {
         "title": {
          "text": "Count"
         }
        }
       }
      }
     },
     "metadata": {},
     "output_type": "display_data"
    }
   ],
   "source": [
    "import plotly.graph_objects as go\n",
    "\n",
    "fig = go.Figure()\n",
    "\n",
    "xbins=dict(\n",
    "        start=time_min_error,  # Bin start\n",
    "        end=time_max_error,    # Bin end\n",
    "        size=1    # Bin size (width of each bin)\n",
    "    )\n",
    "sim_MAE = round(abs(compare_df['time_sim_error']).mean(),2)\n",
    "calib_MAE = round(abs(compare_df['time_calib_error']).mean(),2)\n",
    "\n",
    "fig.add_trace(go.Histogram(x=compare_df['time_sim_error'], name=f\"time_sim_error --> MAE = {sim_MAE}\", opacity=0.75, xbins=xbins))\n",
    "fig.add_trace(go.Histogram(x=compare_df['time_calib_error'], name=f\"time_calib_error  --> MAE = {calib_MAE}\", opacity=0.75, xbins=xbins))\n",
    "\n",
    "fig.update_layout(\n",
    "    barmode='group',  # Use 'overlay' if you want stacked look\n",
    "    xaxis_title='time error (s)',\n",
    "    yaxis_title='Count',\n",
    "    title=f\"error  =  simulate  -  real      ------------         {postfix}\"\n",
    ")\n",
    "\n",
    "fig.show()\n",
    "fig.write_html(f\"diagram/hist_time_error_{postfix}.html\")"
   ]
  },
  {
   "cell_type": "code",
   "execution_count": 15,
   "id": "01a4e795",
   "metadata": {},
   "outputs": [
    {
     "data": {
      "application/vnd.plotly.v1+json": {
       "config": {
        "plotlyServerURL": "https://plot.ly"
       },
       "data": [
        {
         "name": "speed_sim_error --> MAE = 0.79",
         "opacity": 0.75,
         "type": "histogram",
         "x": {
          "bdata": "ABSuR+F6hL8AfPNq4lnBPwB882riWdE/QF1uf5Chwr8AIOi0gU5rv0Bdbn+QocK/ACDotIFOa7/AN68mnhUQQDhUdpi63AJAAAAAAAAAAABwHMdxHMfRPwAAAAAAAAAAyHEcx3Ec/7+AvJp4VjTCvwAY6LSBTnu/ABjotIFOe7+AHMdxHMfBvwAY6LSBTnu/4HoUrkfh6r/gvJp4VjTSvwAAAAAAAAAAkML1KFyP6j8AAAAAAAAAABzHcRzHcfg/ACDotIFOa7+AkKGyw9TxvwAY6LSBTnu/kOM4juM45j+gqqqqqqraP+C8mnhWNNK/ABjotIFOa7+sqqqqqqoAQIAcx3Ecx8E/AAAAAAAAAADgvJp4VjTCv3j7gwyVHeY/oKqqqqqq2r8AEOi0gU5rvwB882riWdE/4LyaeFY00r8gS36x5Bfbv4DbH2So7MA/EFOX2x9k+D8E37yaeFb4P+B6FK5H4do/ACDotIFOa7+g7DB1uf3Rv8DbH2So7MA/gNpApw102j/gvJp4VjTSv0Bdbn+QocK/cPuDDJUd5j/gvJp4VjTSvwDfvJp4Vvg/wNsfZKjswD/A2x9kqOzAP0Bdbn+QocK/QF1uf5Chwr/A2x9kqOzAP0QCvnk18QLAgBzHcRzHwT/A2x9kqOzAP6DbH2So7MA/SAK+eTXx+D+ww9Tl9gfxv3Icx3Ecx/E/qKqqqqqq6j8AAAAAAAAAAEAK16NwPdo/gBzHcRzHwT8AIOi0gU5rv5BXE8+KRva/ABjotIFOe78AEOi0gU5rv8DbH2So7MA/QArXo3A92j+gqqqqqqraP6Cqqqqqqto/YDQS8M2r4T+AHMdxHMfBv8D9QYbKDsO/gBzHcRzHwb/gvJp4VjTCv0gCvnk18fy/ABDotIFOa79AXW5/kKHCv+C8mnhWNNK/GSo7TF1uGECA2kCnDXTaP3Acx3Ecx+E/ABjotIFOe78AAAAAAAAAAIAcx3Ecx8E/QArXo3A92j+AHMdxHMfBv0BMXW5/kNE/QExdbn+Q4T+6/UGGyg4PQMD9QYbKDsO/AHzzauJZwT9wHMdxHMfRP6Acx3Ecx9E/QArXo3A92j/gvJp4VjTCvwCsiWdFI9E/sKqqqqqq6j8AEOi0gU5rv6DbH2So7MA/gLyaeFY0wr8AIOi0gU5rv4Acx3Ecx8G/AHzzauJZ0T+Q7DB1uf3hv2Acx3Ecx8G/ACDotIFOa78AAAAAAAAAAAAg6LSBTmu/ABjotIFOe7+AvJp4VjTCvwBoJOCbV6O/EDptoNMG6r8AGOi0gU57v4C8mnhWNMK/gLyaeFY0wr+gHMdxHMfRP0BMXW5/kNE/ACDotIFOa79gHMdxHMfRvwAY6LSBTnu/4LyaeFY0wr9ACtejcD3aPwB882riWcE/wNsfZKjswD/gvJp4VjTSv7j9QYbKDv8/4LyaeFY00r/gvJp4VjTSv8hxHMdxHO8/AAAAAAAAAABAXW5/kKHCv3Acx3Ecx/G/wNsfZKjswD8AGOi0gU57vwAg6LSBTmu/kOM4juM45j9wHMdxHMfRv4Acx3Ecx8E/gLyaeFY0wr9AO0xdbn/AP3Acx3Ecx9E/kML1KFyP6j/A2x9kqOzAPwAY6LSBTnu/QExdbn+Q0T/A2x9kqOzAP0AK16NwPdo/yHEcx3Ec/z8AAAAAAAAEQIAcx3Ecx8E/cBzHcRzH8T85juM4juMMQHAcx3Ecx9G/AHzzauJZwT/A2x9kqOzAPwAAAAAAAAAAoKqqqqqq2j9gHMdxHMfRv4Acx3Ecx8E/cBzHcRzH0b9sHMdxHMcBwKDsMHW5/dG/IPnFkl8s6b8AjQR882rSv+C8mnhWNNK/cBzHcRzH4b/2SZ/0SZ/8P0rAN68mng9ATJ/0SZ/09b9wHMdxHMfhP8DbH2So7MA/ABjotIFOe78AEOi0gU5rv2Acx3Ecx9G/YBzHcRzH0b9AXW5/kKHCvwAAAAAAAAAA4LyaeFY00r9AO0xdbn/APwAAAAAAAAAAgLyaeFY0wr/GcRzHcRz/P0A7TF1uf8A/bOJZ0UjAAUAAGOi0gU57v0BMXW5/kNE/QArXo3A92j9gHMdxHMfRv5h4VjQS8PG/QExdbn+Q0T9ATF1uf5DRP4CQobLD1AvAZMkvlvxiB8AMdNpApw0OwKyqqqqqqgrAOI7jOI7jDMDA/UGGyg7Dv4zjOI7jOPa/AHzzauJZwT8gS36x5Bfbv/CsaCTgmwnAABjotIFOe7+AvJp4VjTCv4C8mnhWNMK/IGSo7DB14T/4xZJfLPkDQABLfrHkF9u/1OX2Bxkq/7+wqqqqqqrqP+CbVxPPiua/IKYutz/I/D+QwvUoXI/qPwAAAAAAAAAAQF1uf5Chwr+4HoXrUbgAwBBTl9sfZAhAyHEcx3Ec/78AAAAAAAAAAIAcx3Ecx8G/4HoUrkfh6r+Ab15NPCv2P0Bdbn+QocK/QNpApw102j8AGOi0gU57v8dxHMdxHA9AQArXo3A92j+A2kCnDXTaP0BMXW5/kNE/ACDotIFOa7+g2x9kqOzAP4Acx3Ecx8E/oOwwdbn90b8cx3Ecx3H4P0Bdbn+QocK/yHEcx3Ec/79AXW5/kKHCvwB882riWcE/AHzzauJZwT+QobLD1OXuP4Acx3Ecx8E/WDQS8M2r4T+AHMdxHMfBPxAyVHaYuvw/chzHcRzHAcByHMdxHMcBQHIcx3EcxyHApHA9CtejAEAA37yaeFb4P1g0EvDNq/E/KMdxHMdx+D8AAAAAAAD0P7BxHMdxHO+/gBzHcRzHwT9gHMdxHMfBvwAg6LSBTmu/gBzHcRzHwb+AHMdxHMfBPwAAAAAAAAAAAAAAAAAABMBgHMdxHMfBvwAAAAAAAAAAcBzHcRzH4b9wHMdxHMfRP8hxHMdxHP+/ABDotIFOa7/Akl8s+cXqvwAQ6LSBTmu/wLu7u7u767+AHMdxHMfBv4Acx3Ecx8E/pHA9CtejAECQ4ziO4zjmP6yqqqqqqvo/NBLwzauJFEBAXW5/kKHCv6yqqqqqqvo/sIlnRSMB7z84juM4juMCQHAcx3Ecx9G/oBzHcRzH0T+gqqqqqqraP0Bdbn+QocK/sIlnRSMB778QU5fbH2T4P4Acx3Ecx8E/juM4juM49j+QobLD1OXuPwAAAAAAAATA4LyaeFY00r8AfPNq4lnBPyBLfrHkF9u/4LyaeFY00r+AvJp4VjTCv6DsMHW5/dG/chzHcRzH8T+AHMdxHMfBvwBLfrHkF9u/ABjotIFOe79yHMdxHMcBQCBLfrHkF9u/oNsfZKjswD9w2kCnDXTqPwB882riWcE/EHTaQKcN9L9ATF1uf5DhPwAg6LSBTms/wNsfZKjswD8AfPNq4lnBP0AK16NwPdo/gBzHcRzHwT+Q4ziO4zjmP4Acx3Ecx8E/a+JZ0UjAG0DgehSuR+HavxB02kCnDfS/AHzzauJZwT8AfPNq4lnBP5DC9Shcj+o/cBzHcRzH4b9wHMdxHMfRP3Acx3Ecx/G/ACDotIFOa79ATF1uf5DRPwAg6LSBTmu/4LyaeFY00r+AHMdxHMfBv0BMXW5/kOE/EHzzauJZ0T/yiyW/WPIDQKiqqqqqquo/AAAAAAAABECAHMdxHMfBP47jOI7jOAZA4LyaeFY00r/gvJp4VjTSv6Cqqqqqqto/AAAAAAAAAACAvJp4VjTCv3Acx3Ecx/E/yHEcx3Ec/z8AIOi0gU5rv0Bdbn+QocK/YDQS8M2r4T8sGgn45tX8PzC3P8hQ2RJAjuM4juM4BkCO4ziO4zj2P0Bdbn+QocK/wNsfZKjswD9ACtejcD3aPwAY6LSBTnu/xnEcx3Ec/z9AXW5/kKHCv6yqqqqqqvo/4LyaeFY0wr8AAAAAAAAAAIAcx3Ecx8E/gLyaeFY0wr8AGOi0gU57v7Cqqqqqquo/cBzHcRzH4b/4xZJfLPkDQMD9QYbKDsO/AHzzauJZ0T8AIOi0gU5rv4Acx3Ecx8E/cNpApw106j84juM4juP8P7gehetRuADARgK+eTXxAsCsqqqqqqr6PwAAAAAAAAAAgBzHcRzHwb+Q4ziO4zjmP0AK16NwPdo/ABjotIFOe7/wiyW/WPLzP/CLJb9Y8vM/gBzHcRzHwT+g2x9kqOzAPwAg6LSBTmu/kAR882ri4b+QBHzzauLhvwAAAAAAAAAAgBzHcRzHwb/A2x9kqOzAP7Cqqqqqquo/4LyaeFY0wr94VjQS8M0LwKyqqqqqqgpA4LyaeFY00r+g2x9kqOzAP0Bdbn+QocK/yHEcx3Ec/7+AHMdxHMfBP9BxHMdxHO8/juM4juM4BkCsqqqqqqr6PwDfvJp4Vvg/wNsfZKjswD+O4ziO4zj2P8hxHMdxHA/AABjotIFOe78AGOi0gU57v3Acx3Ecx+G/rKqqqqqqCsBACtejcD3aPwAY6LSBTnu/TxvotIFOEkAAAAAAAAAEwBzHcRzHcQjAQArXo3A92j+g2x9kqOzAP+gXS36x5PM/jOM4juM49r+g2x9kqOzAP3Icx3Ecx/E/rKqqqqqqCsDGcRzHcRwVwEqf9Emf9APAACDotIFOa78AAAAAAAAAAEBdbn+QocK/qKqqqqqq6j8AAAAAAAAEQKiqqqqqquq/AAAAAAAABMAAGOi0gU57v6Cqqqqqqtq/dPuDDJUd9j9wHMdxHMfRv2A0EvDNq+E/AAAAAAAABMBACtejcD3aP8ZxHMdxHP8/9Islv1jyFUA4juM4juMMQEBdbn+QocK/gBzHcRzHwb8AIOi0gU5rvwAY6LSBTnu/AHzzauJZwT9wHMdxHMfxv6DbH2So7MA/cBzHcRzH4T/GcRzHcRz/PwAAAAAAAAAAchzHcRzHAUAAIOi0gU5rv8DbH2So7MA/AAAAAAAAAACgqqqqqqraP3Acx3Ecx9E/rKqqqqqq+j9gNBLwzavhPxB882riWdE/HMdxHMdxCMCsqqqqqqr6P3Acx3Ecx9E/juM4juM49j+AHMdxHMfBP2So7DB1uQFAQExdbn+Q0T9wHMdxHMfRP8hxHMdxHA/ArKqqqqqqCsBAXW5/kKHCv4C8mnhWNMK/cBzHcRzH0b/gvJp4VjTCvwAAAAAAAAAAACDotIFOa7+gHMdxHMfRP4Acx3Ecx8E/AAAAAAAAAABgHMdxHMfRvwAY6LSBTnu/rKqqqqqq+j+3P8hQ2WEQQFgTz4pGAuY/GOi0gU4b9L9wHMdxHMfRP6yqqqqqqvo/AHzzauJZwT/IikYCvnnlvwAAAAAAAAAAACDotIFOa79wHMdxHMfRP3Acx3Ecx9G/gNpApw102j8AGOi0gU5rvwAY6LSBTnu/AAAAAAAAAADgvJp4VjTSvwB882riWcE/EHzzauJZ0T8AGOi0gU57v4C8mnhWNMK/qKqqqqqq6r9wHMdxHMfxP7Cqqqqqquo/AI0EfPNq0r/GcRzHcRz/P2Acx3Ecx9G/aIepy+0P9j+AHMdxHMfBP0AK16NwPdo/WDQS8M2r4T8AfPNq4lnBP9BxHMdxHO8/IEt+seQX278AGOi0gU57vxB882riWdE/4FnRSMA3/7+gHMdxHMfRP6Acx3Ecx9E/kOM4juM45j/A2x9kqOzAP1g0EvDNq+E/gG9eTTwr9j9kqOwwdbnxP4C8mnhWNMK/jAR882ri8b8AIOi0gU5rv4Acx3Ecx8G/yHEcx3Ec/78AfPNq4lnRPwAAAAAAAAAAcBzHcRzH4b9yHMdxHMcBQOC8mnhWNNK/AAAAAAAAAABYE8+KRgLmP0QCvnk18QLA4LyaeFY00r8epi63P8j8P+C8mnhWNNK/oNsfZKjswD8AAAAAAAAAAHAcx3Ecx9G/ABjotIFOe79YNBLwzavxPwAY6LSBTnu/4LyaeFY00r+gHMdxHMfRP4Acx3Ecx8G/gBzHcRzHwb9wHMdxHMfhP3Acx3Ecx+E/cBzHcRzH4T+AvJp4VjTCv5DC9Shcj/o/cPuDDJUd5j8AEOi0gU5rv8DbH2So7MA/kKGyw9Tl7j+AHMdxHMfBP6yqqqqqqvo/gBzHcRzHwb8AGOi0gU57vwAg6LSBTmu/TxvotIFOEkDA2x9kqOzAP4Acx3Ecx8G/sHEcx3Ec77+wiWdFIwHvP6DbH2So7MA/rKqqqqqq+j8AAAAAAAAAAEAK16NwPdo/HMdxHMdxCEA5juM4juMMQENlh6nL7Q9AcBzHcRzH4T8AAAAAAAAAABzHcRzHcQjAgG9eTTwr9j9ATF1uf5DRP6iqqqqqqvq/wNsfZKjswD8AfPNq4lnRP4Acx3Ecx8E/ABDotIFOa78AFK5H4XqEv2ziWdFIwAFAwGALtmAL8j8AGOi0gU57v7gehetRuArAgBzHcRzHwb/A2x9kqOzAPwAY6LSBTnu/ABjotIFOe7+AHMdxHMfBP4Acx3Ecx8G/ABjotIFOe79AXW5/kKHCvwAY6LSBTnu/kOwwdbn94b+Ab15NPCv2v+B6FK5H4dq/bOJZ0UjAC0CDLdiCLdgWQEBdbn+QocK/ABDotIFOa78AGOi0gU57vwAY6LSBTnu/oBzHcRzH0T9yHMdxHMcBQAB882riWcE/gBzHcRzHwT+AHMdxHMfBPwAY6LSBTnu/cPuDDJUd5j+wqqqqqqrqPxBTl9sfZAhAi0YCvnk1FkBs4lnRSMABQBzHcRzHcQhAwNsfZKjswD86juM4juMCQOC8mnhWNMK/cBzHcRzH4T+gHMdxHMfRP4Acx3Ecx8G/cBzHcRzH4b+sqqqqqqr6PwY6baDTBhDAcBzHcRzH0b8AGOi0gU57vwAAAAAAAAAAQF1uf5Chwr+AvJp4VjTCv4Acx3Ecx8E/oKqqqqqq2j9ACtejcD3aP/CLJb9Y8vM/qKqqqqqq6r+AHMdxHMfBP4C8mnhWNMK/gBzHcRzHwT9gHMdxHMfRv+C8mnhWNMK/wNsfZKjswD+AvJp4VjTCv0Bdbn+QocK/gBzHcRzHwb8AAAAAAAAAAEBMXW5/kNE/4LyaeFY00r+AvJp4VjTCv+C8mnhWNNK/4HoUrkfh6r8AIOi0gU5rv6iqqqqqqvq/IKYutz/I/D8AfPNq4lnRP8ZxHMdxHP8/gLyaeFY0wr90+4MMlR32P3Acx3Ecx+G/qKqqqqqq6j8AIOi0gU5rv6DbH2So7MA/QF1uf5Chwr8AQobKDlPvvwAY6LSBTnu/gBzHcRzHwT+AHMdxHMfBP47jOI7jOPY/kKGyw9Tl7j9AXW5/kKHCv4Acx3Ecx8G/4LyaeFY00r+g2x9kqOzAP+C8mnhWNMK/4HoUrkfh2r+sqqqqqqr6P47jOI7jOAbA4LyaeFY00r8AGOi0gU57v5DjOI7jOOY/QExdbn+Q0T+QBHzzauLhv4CQobLD1PG/wNsfZKjswD8AGOi0gU57v4C8mnhWNMK/gBzHcRzHwT+rqqqqqqoVQIC8mnhWNMK/wPUoXI/C1b+AvJp4VjTCv4DaQKcNdNo/oBzHcRzH0T+AHMdxHMfBP4Acx3Ecx8G/kOM4juM45j9gHMdxHMfRvwAg6LSBTmu/WDQS8M2r4T+MBHzzauLxPwAAAAAAAARAQF1uf5Chwr9AO0xdbn/APwB882riWdE/HMdxHMdxGEDIcRzHcRz/P+C8mnhWNNK/qKqqqqqq6r8cx3Ecx3EIwMhxHMdxHO8/AHzzauJZwT/A2x9kqOzAP5DjOI7jOOY/ACDotIFOa7+AHMdxHMfBP+C8mnhWNNK/wJJfLPnF6r+AHMdxHMfBP4Acx3Ecx8E/rKqqqqqqAMCAHMdxHMfBvwAY6LSBTnu/4LyaeFY00r8AFK5H4XqEv2A0EvDNq+E/gG9eTTwr9j+M4ziO4zj2v8ZxHMdxHBXAQExdbn+Q0T+QBHzzauLhv4C8mnhWNMK/gBzHcRzHwT9AXW5/kKHCv4Acx3Ecx8E/1OX2Bxkq/7/gvJp4VjTCv8CzopGAb+a/AAAAAAAAAAAAGOi0gU57v3D7gwyVHe4/9Islv1jyA0CAvJp4VjTCv6A20GkDnfo/wNsfZKjswD/oF0t+seTzP3D7gwyVHeY/gBzHcRzHwT94VjQS8M0BwFg0EvDNq+E/oOwwdbn90b9AXW5/kKHCvxjotIFOG/S/AHzzauJZ0T/gehSuR+HavwAY6LSBTnu/AAAAAAAAAACAHMdxHMfBP8D9QYbKDsO/HMdxHMdxCEAcx3Ecx3EIQHhWNBLwzQ1Ax5JfLPnFEEAl4JtXE88OQKnsMHW5/Q9AjuM4juM4BsCA2kCnDXTaP4C8mnhWNMK/ACDotIFOa78AGOi0gU57v0BMXW5/kNE/AAAAAAAAAADA2x9kqOzAP4Acx3Ecx8G/gBzHcRzHwb8AfPNq4lnRP5ChssPU5e4/UBvotIFOB0BgHMdxHMfRvxzHcRzHcfg/cBzHcRzH8b94+4MMlR32P7j9QYbKDv8/ABDotIFOa7+A2kCnDXTaP6Acx3Ecx9E/AN+8mnhW+D8AAAAAAAAEwEBMXW5/kNE/kKGyw9Tl7j+AHMdxHMfBP4zjOI7jOPa/ACDotIFOa79AXW5/kKHCv5DjOI7jOPY/EEt+seQX279gHMdxHMfRvw==",
          "dtype": "f8"
         },
         "xbins": {
          "end": 8.199219632507091,
          "size": 1,
          "start": -8.88888888888889
         }
        },
        {
         "name": "speed_calib_error --> MAE = 0.72",
         "opacity": 0.75,
         "type": "histogram",
         "x": {
          "bdata": "AIBqvHSTeL+gbca4RGrBP8D0+meQetE/AKVP+qRPwr8AeDBP1L9xv6DBqV7gLsK/AHgwT9S/cb+IMvT7MhkQQExDWp6m2QJAAIBqvHSTaL+sgyIJrxf3PwCo8dJNYnC/AIrYAm8flr+AzteJFIbCvwDoCXMCI3O/AOgJcwIjc7/AQmv3jVrCvwDoCXMCI3O/gMK31MZ3078gRJN7qBPSvwAYrkfhenS/UOUML1+P6j8AqPHSTWJgv4R9OvRxY/g/AGDFnXtLa7+AyZZPTazUPwCwK0DuNXe/ANrPLAcU5j8ASVEn0SrCv+DnIY8vA9K/AEBvy1odY79IaFCSc6EAQMDPDDBzVME/ABiuR+F6dL9Ay8cq9CPCv6RfICM+ev0/wAY6baDT2r8A4OzDZ9h1vwBRbFQJi9E/IESTe6gT0r8A7+7u7u7av4AtJlow3MA/2PTckRNi+D94ctWezmT4PyAEQ9e80eM/AHgwT9S/cb8AXg3Pvq2WvwCUPumTPsE/UFMqzj582j8gRJN7qBPSv8DvRP1YcMK/AD8PeXwZ5j8w9k5BzfLRvwi2YAu2YPg/AHw1OvsHsL8AlD7pkz7BPwClT/qkT8K/oMGpXuAuwr8AlD7pkz7BPwBoK/pvM8y/QPYi7KozwT8AlD7pkz7BP0B35IRYX8E/4BwtH7/Z3D/Ae7BreZDDP56j3UrrvvE/6IcrTVAzBEAAGK5H4Xp0vxBYObTIdto/wM8MMHNUwT8AYMWde0trv4DYRXPlNL2/AOgJcwIjc78A4OzDZ9h1vwCUPumTPsE/YGZmZmZm2j+Al9jn8WDaPwDTLtd2s7Q/YN6M0J+j4T9AaYGzxTnCv8Bze+cae8K/wEJr941awr9Ay8cq9CPCvwD4OH0n8YE/AEipOPvweb8ApU/6pE/Cv+DnIY8vA9K/JazyzlxuGEAgU2DWbVvaPyA5IdZXpuE/ALBlrY4Jbr8AGK5H4Xp0v0D2IuyqM8E/EFg5tMh22j/AQmv3jVrCv6BaiiAdgNE/mC8DCkSx4T/gS/f/xpkRQMBze+cae8K/oG3GuERqwT9wR06I9ZXRPwBWezqThdE/YGZmZmZm2j9Ay8cq9CPCv6By1Z7OZNE/YMcED+aJ6j8A4OzDZ9h1v0B35IRYX8E/QK5txrhEwr8AeDBP1L9xv8BCa/eNWsK/wPT6Z5B60T+A5xIUux6yP6DU5fYHGcK/AGDFnXtLa78AgGq8dJNovwB4ME/Uv3G/AOgJcwIjc79Arm3GuETCv6Bq/kFobew/AA1V8LiEvD8AsGWtjgluv0Cubca4RMK/MIbSjDCo4j8AVns6k4XRP6BaiiAdgNE/AGDFnXtLa78A4xKppQjSvwCwZa2OCW6/QMvHKvQjwr8QWDm0yHbaP6BtxrhEasE/AJQ+6ZM+wT/g5yGPLwPSv1BBzfKxCv8/IPy8UyQD0r/g5yGPLwPSv5jerXbH/+4/ABiuR+F6dL9A3gPDGw7Cv0SVsJhNz/G/AJQ+6ZM+wT8AsGWtjgluvwB4ME/Uv3G/YFDKPTkc5j/A/2wN4efRv8DPDDBzVME/gM7XiRSGwr9AxRL8HRPBPyA5IdZXptE/wEkMAiuH6j8AlD7pkz7BPwCwZa2OCW6/QHfkhFhf0T8AlD7pkz7BPwDB62QMVto/IIBJeQ8M/z9QlqbF7lr3P0D2IuyqM8E/yCr0I7q28T+Zc7Rbad0MQMD/bA3h59G/QIogHYBJwT8AlD7pkz7BPwCo8dJNYnC/gJfY5/Fg2j/A1OX2BxnSv8DPDDBzVME/cPE/W0P40b+gvPa/ZRzUv0DeA8MbDtK/ANeCYdh20b9gxrhEainSv+DnIY8vA9K/GA6av37X4b8dgujmst4FQKp1ADtJ8AlA8M/bYBeQ1D8gOSHWV6bhPwCUPumTPsE/AOgJcwIjc78ASKk4+/B5v8DU5fYHGdK/wNTl9gcZ0r9A3gPDGw7CvwCo8dJNYmC/4Ochjy8D0r9AxRL8HRPBPwAYrkfhenS/QK5txrhEwr/y+DKgQBT/P0DFEvwdE8E/zMcq9CO6AUAA6AlzAiNzv6BaiiAdgNE/QDPanjQ12j/A1OX2BxnSv4AHAF4g8sQ/wJGLeoWQ0T+gWoogHYDRP5Do2maMywvAqIVkQ5736L+gdYmq7gnSvxZnHz7DrgrA2C6Ss8la+7/Ac3vnGnvCv2BcIrUUQfa/QG0yyaIowT8A7+7u7u7avwAFotiokgnAALBlrY4Jbr9Arm3GuETCv4DO14kUhsK/cEdOiPWV4T+MCR7ME/UDQAAhUzSsD9u/aCmCdAAm/79gxwQP5onqP2D5pSvjZea/KH3SJ33S/D/ASQwCK4fqPwCo8dJNYnC/QN4DwxsOwr/Idr6fGq8AwChCOJs1aAhAnOoF7qIk/78AqPHSTWJwv0BpgbPFOcK/iJduEoPA6r8Ys+m5Iyf2P8DvRP1YcMK/gFwuuzgq2j8A6AlzAiNzv121pzNZGA9AEFg5tMh22j+AUaKeLkvaP8CRi3qFkNE/mBjAnX6p9D+gWoogHYDBP8DPDDBzVME/QN4DwxsO0r+EfTr0cWP4PwClT/qkT8K/nOoF7qIk/7/A70T9WHDCv0CKIB2AScE/oG3GuERqwT+gT/qkT/ruP0D2IuyqM8E/GFcp9tCr4T/Azwwwc1TBP6AO0ovPxPw/3Ng7BTXLAcAIYFLeA8MBQD2vw1FomBjAiEFg5dCiAEAItmALtmD4P4gSVG/5s/E/YEK961hf+D9otsjXqvHzP+AEixccOe+/QGSo7DB1wT/w8kzm2GrUPwB4ME/Uv3G/QGmBs8U5wr+ATr8hs4rRPwCo8dJNYnC/arx0kxgEBMCg1OX2BxnCvwAYrkfhenS/GA6av37X4b9wR06I9ZXRP5zqBe6iJP+/AODsw2fYdb/AdYquyWLWvwBIqTj78Hm/ALQ+3z+Jur/AQmv3jVrCv0D2IuyqM8E/iEFg5dCiAEAA2s8sBxTmP9gxwYN5ovo/eGCwu7Uw8r+gwale4C7Cv9gxwYN5ovo/QM3ysQr97j/US4kgV9oCQMD/bA3h59G/AFZ7OpOF0T9AhM0JVnHaP6DBqV7gLsK/sJBYoL7k4z84MV/n9134P0D2IuyqM8E/umpPZ7Iw9j/w/DykIvLuP2q8dJMYBATA4Ochjy8D0r9AiiAdgEnBP7BV3NaK3tq/4Ochjy8D0r9Arm3GuETCvyCnAmmz/dG/nqPdSuu+8T9AaYGzxTnCvwAhUzSsD9u/AOgJcwIjc78IYFLeA8MBQADv7u7u7tq/QHfkhFhfwT/QlsSlZITqP6BtxrhEasE/4IXNFW0g5T+gCOFs1qDhPwDQHBAq/K2/AJQ+6ZM+wT9AiiAdgEnBPxBYObTIdto/wM8MMHNUwT8A2s8sBxTmP8DPDDBzVME/hRE39k7BG0AQAiuHFtnavwCg+O4AeVC/oG3GuERqwT8AarZZJAjBP8BJDAIrh+o/wP9sDeHn4b9wR06I9ZXRP0BzKYAhPcI/AHgwT9S/cb+gWoogHYDRPwBgxZ17S2u/IESTe6gT0r9AaYGzxTnCv5gvAwpEseE/wEI/omub0T9wW0XCupgHQAC511xImuo/lkOLbOf7A0BA9iLsqjPBP+7ICbG+MgZAIESTe6gT0r8gRJN7qBPSv0CEzQlWcdo/AKjx0k1icL9Ay1salmXCv8gq9CO6tvE/cBUuMyMW6j8AeDBP1L9xvwClT/qkT8K/kLsoyZyj4T/0u06u2tP8P5pztFtp3RJAJCfE+so0BkC6ak9nsjD2P6DBqV7gLsK/AJQ+6ZM+wT8QWDm0yHbaPwCwZa2OCW6/8vgyoEAU/z+gwale4C7Cv9gxwYN5ovo/QMvHKvQjwr8AqPHSTWJwv8DPDDBzVME/QK5txrhEwr8A2OzDZ9hlv2DHBA/mieo/gGMmKMXWvD/EZ9gVIPcDQMBze+cae8K/AFFsVAmL0T8AeDBP1L9xv0BkqOwwdcE/0JbEpWSE6j+gRKwQOdX8P8h2vp8arwDAwJ4Hf+SK3b/YMcGDeaL6PwCo8dJNYmC/QGmBs8U5wr8A2s8sBxTmPxBYObTIdto/AOgJcwIjc7+4LWt1TPDzPyABsyhnsNM/wM8MMHNUwT9Ad+SEWF/BPwBgxZ17S2u/gL5cwVvF5j8AsGtEiniXPwAYrkfhenS/wEJr941awr8AlD7pkz7BPzBA7jUXkuo/QMvHKvQjwr/waOv4RpT3v0LuNReSpgpAIESTe6gT0r9Ad+SEWF/BPyAXYduWbdI/nOoF7qIk/79A9iLsqjPBP0Bos2WV9+4/JCfE+so0BkBDafI3zqwTQAi2YAu2YPg/AJQ+6ZM+wT+6ak9nsjD2PzClXQ3kFeu/AOgJcwIjc78A6AlzAiNzvxgOmr9+1+G/QCPFCT4by79gZmZmZmbaPwDoCXMCI3O/LEDuNRdSEkBqvHSTGAQEwACgUIn0x6K/EFg5tMh22j/QetHsUQrWP/Du7u7u7vM/YFwitRRB9r9Ad+SEWF/BP56j3UrrvvE/uJHYeHqC4L8g6wviPDYBwECav6318tE/AGDFnXtLa78AgGq8dJNov6DBqV7gLsK/ALnXXEia6j+WQ4ts5/sDQIgn8kFbhvs/gMxepmZ/1j8A6AlzAiNzv8AGOm2g09q/tDDixt4p9j/A/2wN4efRv5C7KMmco+E/arx0kxgEBMAQWDm0yHbaP/L4MqBAFP8/wKFvs8js2r8stz/IUNkMQMDvRP1YcMK/QGmBs8U5wr8AeDBP1L9xvwCwZa2OCW6/QIogHYBJwT9ElbCYTc/xv0B35IRYX8E/IDkh1lem4T/y+DKgQBT/PwCo8dJNYnC/CGBS3gPDAUAAYMWde0trvwCUPumTPsE/ABiuR+F6dL+Al9jn8WDaPyA5IdZXptE/5ph4xqcqBECQuyjJnKPhP8BCP6Jrm9E/hoPmr991CMDYMcGDeaL6PyA5IdZXptE/kegCx90aCEDAzwwwc1TBPzoh1lemwQFAwJGLeoWQ0T8gOSHWV6bRP7D3po9KVuy/AEwHaBdIqr+gwale4C7Cv0Cubca4RMK/wP9sDeHn0b9Ay8cq9CPCvwCo8dJNYmC/AHgwT9S/cb8AVns6k4XRP8DPDDBzVME/AKjx0k1icL8A4xKppQjSvwCwK0DuNXe/2DHBg3mi+j9WhVp4hNQQQEA6AJPyHuY/gOfX54iWvL9wR06I9ZXRP9gxwYN5ovo/oG3GuERqwT/wU6sm/t3kPwCo8dJNYnC/AGDFnXtLa79wR06I9ZXRP5T7tzTJGvM/oGFXgNxr2j8AQG/LWh1jvwCwZa2OCW6/AKjx0k1icL/g5yGPLwPSv6BtxrhEasE/wEI/omub0T94ThQ73iD+P4DO14kUhsK/UJx9+Ay76r/IKvQjurbxPwAF78JMwbi/YMa4RGop0r/y+DKgQBT/P8DU5fYHGdK/gOqEQ/+nxD/Azwwwc1TBPxBYObTIdto/GFcp9tCr4T9AiiAdgEnBP0Bos2WV9+4/UP0boYze2r8AsGWtjgluv8BCP6Jrm9E/oCRzjnYr/79AZKjsMHXRP0BkqOwwddE/YFDKPTkc5j8AlD7pkz7BPxhXKfbQq+E/uJZS8nB4+j/8idT+wzb4P0Cubca4RMK/4BKppQjS8b8AeDBP1L9xv0BpgbPFOcK/nOoF7qIk/78AUWxUCYvRPwCo8dJNYnC/gJeYlNabwD8IYFLeA8MBQCBEk3uoE9K/ABiuR+F6dL9AOgCT8h7mP8B1eM+0Zea/4Ochjy8D0r/+9btOrtr8P+DnIY8vA9K/QHfkhFhfwT8AgGq8dJNov9DqDzELP9w/AOgJcwIjc78gUiD6gDPZPwDoCXMCI3O/4Ochjy8D0r9AZKjsMHXRP8BCa/eNWsK/wEJr941awr/IKvQjurbhP8h7wELe1vI/5K4Ls7r6/T9Arm3GuETCv9D3U+Olm/o/AD8PeXwZ5j8A4OzDZ9h1vwCUPumTPsE/oE/6pE/67j9A9iLsqjPBP9gxwYN5ovo/wEJr941awr8A6AlzAiNzvwBgxZ17S2u/LEDuNRdSEkAAlD7pkz7BP0BpgbPFOcK/AGavVV2Eq78YRtzYOwXvP0B35IRYX8E/2DHBg3mi+j8AgGq8dJNovxBYObTIdto/sgr9iK5tCEDP0W6ldd8MQIICyYyUChVAyCr0I7q24T/2T8lrJG4CQFBSIstr9tO/GLPpuSMn9j+gWoogHYDRP3wjlNHbsvq/AJQ+6ZM+wT/A9PpnkHrRP8DPDDBzVME/AODsw2fYdb8AgGq8dJN4vziEn4c8vgFAgAi2qu713j8AsGWtjgluv6hhPEDoePO/wEJr941awr8AlD7pkz7BPwDoCXMCI3O/ALBlrY4Jbr9AZKjsMHXBP0BpgbPFOcK/ALBlrY4Jbr/A70T9WHDCvwCwZa2OCW6/QNarHdvjwL/QDHAuf47jv+ADs7YmCtu/gNE91zS9C0D/8NM2/Y4UQMDvRP1YcMK/AODsw2fYdb8A6AlzAiNzvwCwZa2OCW6/QGSo7DB10T+eo91K674BQABqtlkkCME/QPYi7KozwT/Azwwwc1TBPwDoCXMCI3O/wLcTJEUR5j+AThvotIHqP7BtxrhEaghAl8i5QHk1FkAy+tL1KXESQLIK/YiubQhAAJQ+6ZM+wT+CRNc2Y9wCQEDLxyr0I8K/8LEK/Yiu4T9AZKjsMHXRP0BpgbPFOcK/GA6av37X4b/YMcGDeaL6P5ixdlX6gPW/wP9sDeHn0b8A6AlzAiNzvwCAarx0k2i/wO9E/Vhwwr9Arm3GuETCv0BkqOwwdcE/QITNCVZx2j8QWDm0yHbaP7gta3VM8PM/UJx9+Ay76r/Azwwwc1TBP0Cubca4RMK/QPYi7KozwT8A4xKppQjSv0DLxyr0I8K/AJQ+6ZM+wT9Arm3GuETCvwClT/qkT8K/wEJr941awr8AGK5H4Xp0v6BaiiAdgNE/IESTe6gT0r9Ay1salmXCv+DnIY8vA9K/QJwZUCAjxj8AeDBP1L9xv3wjlNHbsvq/KH3SJ33S/D8AUWxUCYvRP/L4MqBAFP8/QK5txrhEwr+0MOLG3in2PxgOmr9+1+G/ALnXXEia6j8AeDBP1L9xv0B35IRYX8E/oMGpXuAuwr9gyncJJ4TgPwDoCXMCI3O/wM8MMHNUwT/Azwwwc1TBP7pqT2eyMPY/eMjjy4AC7z/A70T9WHDCv0BpgbPFOcK/4Ochjy8D0r9Ad+SEWF/BP0DLxyr0I8K/wHGZ9YcK7z/YMcGDeaL6P9AvGgSmM9k/4Ochjy8D0r8AsGWtjgluv7C8B4Y3HOY/oFqKIB2A0T8AD5xmXtvGvwCGUDh8Baw/AJQ+6ZM+wT8AsGWtjgluv0Cubca4RMK/wM8MMHNUwT/vzLkMxqwWQECubca4RMK/gEp1E/Qrt79Arm3GuETCv1BTKs4+fNo/QGSo7DB10T/Azwwwc1TBP0BpgbPFOcK/YFDKPTkc5j/A1OX2BxnSvwB4ME/Uv3G/GFcp9tCr4T8sSAHttdz6P5ZDi2zn+wNAoMGpXuAuwr9AxRL8HRPBP8D0+meQetE/sgr9iK5tGEAggEl5Dwz/P+DnIY8vA9K/UJx9+Ay76r+Gg+av33UIwJjerXbH/+4/oG3GuERqwT8AlD7pkz7BP2BQyj05HOY/AGDFnXtLa79A9iLsqjPBPyBEk3uoE9K/AHBIJvbF6r/Azwwwc1TBP0BkqOwwdcE/ACETns18u7/AQmv3jVrCvwDoCXMCI3O/4Ochjy8D0r8AgGq8dJN4v7BCP6Jrm+E/GLPpuSMn9j9gXCK1FEH2v1yl+1JlIAPAwJGLeoWQ0T/Q4WTtZ+Lhv0Cubca4RMK/wM8MMHNUwT+gwale4C7Cv8DPDDBzVME/aCmCdAAm/79Ay8cq9CPCvwAUiGKjSua/AKjx0k1iYL8AsGWtjgluvwBRQETOm7g/DHvGfm72A0BArm3GuETCvzh6W9bqmPo/AJQ+6ZM+wT/Atz1gJkTPP8C4eC11GeY/wM8MMHNUwT9C+HnI48sBwBhXKfbQq+E/QN4DwxsO0r+gwale4C7CvziYJ+rfCPS/oG3GuERq0T9AAvV+5/navwCwZa2OCW6/AKjx0k1icL9A9iLsqjPBP8Bze+cae8K/sgr9iK5tCECQuOksQ8YTQASxT+K0YxVAT/cRaftSFEC2iLWtB1MaQJ6tnB0AZiBA+J+tIfw8BsCAUaKeLkvaP0DLWxqWZcK/AHgwT9S/cb8AsGWtjgluv8CRi3qFkNE/AKjx0k1icL8AlD7pkz7BP8BCa/eNWsK/QGmBs8U5wr8AUWxUCYvRP/D8PKQi8u4/MErU02VJB0DA1OX2BxnSv4R9OvRxY/g/RJWwmE3P8b+o2cWLwCX2P1BBzfKxCv8/AODsw2fYdb+gYVeA3GvaP0BkqOwwddE/CLZgC7Zg+D9qvHSTGAQEwKBaiiAdgNE/oE/6pE/67j/Azwwwc1TBP2BcIrUUQfa/AGDFnXtLa7/A70T9WHDCv3g18axoJPY/kAtJUyrO2r/A1OX2BxnSvw==",
          "dtype": "f8"
         },
         "xbins": {
          "end": 8.199219632507091,
          "size": 1,
          "start": -8.88888888888889
         }
        }
       ],
       "layout": {
        "barmode": "group",
        "template": {
         "data": {
          "bar": [
           {
            "error_x": {
             "color": "#2a3f5f"
            },
            "error_y": {
             "color": "#2a3f5f"
            },
            "marker": {
             "line": {
              "color": "#E5ECF6",
              "width": 0.5
             },
             "pattern": {
              "fillmode": "overlay",
              "size": 10,
              "solidity": 0.2
             }
            },
            "type": "bar"
           }
          ],
          "barpolar": [
           {
            "marker": {
             "line": {
              "color": "#E5ECF6",
              "width": 0.5
             },
             "pattern": {
              "fillmode": "overlay",
              "size": 10,
              "solidity": 0.2
             }
            },
            "type": "barpolar"
           }
          ],
          "carpet": [
           {
            "aaxis": {
             "endlinecolor": "#2a3f5f",
             "gridcolor": "white",
             "linecolor": "white",
             "minorgridcolor": "white",
             "startlinecolor": "#2a3f5f"
            },
            "baxis": {
             "endlinecolor": "#2a3f5f",
             "gridcolor": "white",
             "linecolor": "white",
             "minorgridcolor": "white",
             "startlinecolor": "#2a3f5f"
            },
            "type": "carpet"
           }
          ],
          "choropleth": [
           {
            "colorbar": {
             "outlinewidth": 0,
             "ticks": ""
            },
            "type": "choropleth"
           }
          ],
          "contour": [
           {
            "colorbar": {
             "outlinewidth": 0,
             "ticks": ""
            },
            "colorscale": [
             [
              0,
              "#0d0887"
             ],
             [
              0.1111111111111111,
              "#46039f"
             ],
             [
              0.2222222222222222,
              "#7201a8"
             ],
             [
              0.3333333333333333,
              "#9c179e"
             ],
             [
              0.4444444444444444,
              "#bd3786"
             ],
             [
              0.5555555555555556,
              "#d8576b"
             ],
             [
              0.6666666666666666,
              "#ed7953"
             ],
             [
              0.7777777777777778,
              "#fb9f3a"
             ],
             [
              0.8888888888888888,
              "#fdca26"
             ],
             [
              1,
              "#f0f921"
             ]
            ],
            "type": "contour"
           }
          ],
          "contourcarpet": [
           {
            "colorbar": {
             "outlinewidth": 0,
             "ticks": ""
            },
            "type": "contourcarpet"
           }
          ],
          "heatmap": [
           {
            "colorbar": {
             "outlinewidth": 0,
             "ticks": ""
            },
            "colorscale": [
             [
              0,
              "#0d0887"
             ],
             [
              0.1111111111111111,
              "#46039f"
             ],
             [
              0.2222222222222222,
              "#7201a8"
             ],
             [
              0.3333333333333333,
              "#9c179e"
             ],
             [
              0.4444444444444444,
              "#bd3786"
             ],
             [
              0.5555555555555556,
              "#d8576b"
             ],
             [
              0.6666666666666666,
              "#ed7953"
             ],
             [
              0.7777777777777778,
              "#fb9f3a"
             ],
             [
              0.8888888888888888,
              "#fdca26"
             ],
             [
              1,
              "#f0f921"
             ]
            ],
            "type": "heatmap"
           }
          ],
          "histogram": [
           {
            "marker": {
             "pattern": {
              "fillmode": "overlay",
              "size": 10,
              "solidity": 0.2
             }
            },
            "type": "histogram"
           }
          ],
          "histogram2d": [
           {
            "colorbar": {
             "outlinewidth": 0,
             "ticks": ""
            },
            "colorscale": [
             [
              0,
              "#0d0887"
             ],
             [
              0.1111111111111111,
              "#46039f"
             ],
             [
              0.2222222222222222,
              "#7201a8"
             ],
             [
              0.3333333333333333,
              "#9c179e"
             ],
             [
              0.4444444444444444,
              "#bd3786"
             ],
             [
              0.5555555555555556,
              "#d8576b"
             ],
             [
              0.6666666666666666,
              "#ed7953"
             ],
             [
              0.7777777777777778,
              "#fb9f3a"
             ],
             [
              0.8888888888888888,
              "#fdca26"
             ],
             [
              1,
              "#f0f921"
             ]
            ],
            "type": "histogram2d"
           }
          ],
          "histogram2dcontour": [
           {
            "colorbar": {
             "outlinewidth": 0,
             "ticks": ""
            },
            "colorscale": [
             [
              0,
              "#0d0887"
             ],
             [
              0.1111111111111111,
              "#46039f"
             ],
             [
              0.2222222222222222,
              "#7201a8"
             ],
             [
              0.3333333333333333,
              "#9c179e"
             ],
             [
              0.4444444444444444,
              "#bd3786"
             ],
             [
              0.5555555555555556,
              "#d8576b"
             ],
             [
              0.6666666666666666,
              "#ed7953"
             ],
             [
              0.7777777777777778,
              "#fb9f3a"
             ],
             [
              0.8888888888888888,
              "#fdca26"
             ],
             [
              1,
              "#f0f921"
             ]
            ],
            "type": "histogram2dcontour"
           }
          ],
          "mesh3d": [
           {
            "colorbar": {
             "outlinewidth": 0,
             "ticks": ""
            },
            "type": "mesh3d"
           }
          ],
          "parcoords": [
           {
            "line": {
             "colorbar": {
              "outlinewidth": 0,
              "ticks": ""
             }
            },
            "type": "parcoords"
           }
          ],
          "pie": [
           {
            "automargin": true,
            "type": "pie"
           }
          ],
          "scatter": [
           {
            "fillpattern": {
             "fillmode": "overlay",
             "size": 10,
             "solidity": 0.2
            },
            "type": "scatter"
           }
          ],
          "scatter3d": [
           {
            "line": {
             "colorbar": {
              "outlinewidth": 0,
              "ticks": ""
             }
            },
            "marker": {
             "colorbar": {
              "outlinewidth": 0,
              "ticks": ""
             }
            },
            "type": "scatter3d"
           }
          ],
          "scattercarpet": [
           {
            "marker": {
             "colorbar": {
              "outlinewidth": 0,
              "ticks": ""
             }
            },
            "type": "scattercarpet"
           }
          ],
          "scattergeo": [
           {
            "marker": {
             "colorbar": {
              "outlinewidth": 0,
              "ticks": ""
             }
            },
            "type": "scattergeo"
           }
          ],
          "scattergl": [
           {
            "marker": {
             "colorbar": {
              "outlinewidth": 0,
              "ticks": ""
             }
            },
            "type": "scattergl"
           }
          ],
          "scattermap": [
           {
            "marker": {
             "colorbar": {
              "outlinewidth": 0,
              "ticks": ""
             }
            },
            "type": "scattermap"
           }
          ],
          "scattermapbox": [
           {
            "marker": {
             "colorbar": {
              "outlinewidth": 0,
              "ticks": ""
             }
            },
            "type": "scattermapbox"
           }
          ],
          "scatterpolar": [
           {
            "marker": {
             "colorbar": {
              "outlinewidth": 0,
              "ticks": ""
             }
            },
            "type": "scatterpolar"
           }
          ],
          "scatterpolargl": [
           {
            "marker": {
             "colorbar": {
              "outlinewidth": 0,
              "ticks": ""
             }
            },
            "type": "scatterpolargl"
           }
          ],
          "scatterternary": [
           {
            "marker": {
             "colorbar": {
              "outlinewidth": 0,
              "ticks": ""
             }
            },
            "type": "scatterternary"
           }
          ],
          "surface": [
           {
            "colorbar": {
             "outlinewidth": 0,
             "ticks": ""
            },
            "colorscale": [
             [
              0,
              "#0d0887"
             ],
             [
              0.1111111111111111,
              "#46039f"
             ],
             [
              0.2222222222222222,
              "#7201a8"
             ],
             [
              0.3333333333333333,
              "#9c179e"
             ],
             [
              0.4444444444444444,
              "#bd3786"
             ],
             [
              0.5555555555555556,
              "#d8576b"
             ],
             [
              0.6666666666666666,
              "#ed7953"
             ],
             [
              0.7777777777777778,
              "#fb9f3a"
             ],
             [
              0.8888888888888888,
              "#fdca26"
             ],
             [
              1,
              "#f0f921"
             ]
            ],
            "type": "surface"
           }
          ],
          "table": [
           {
            "cells": {
             "fill": {
              "color": "#EBF0F8"
             },
             "line": {
              "color": "white"
             }
            },
            "header": {
             "fill": {
              "color": "#C8D4E3"
             },
             "line": {
              "color": "white"
             }
            },
            "type": "table"
           }
          ]
         },
         "layout": {
          "annotationdefaults": {
           "arrowcolor": "#2a3f5f",
           "arrowhead": 0,
           "arrowwidth": 1
          },
          "autotypenumbers": "strict",
          "coloraxis": {
           "colorbar": {
            "outlinewidth": 0,
            "ticks": ""
           }
          },
          "colorscale": {
           "diverging": [
            [
             0,
             "#8e0152"
            ],
            [
             0.1,
             "#c51b7d"
            ],
            [
             0.2,
             "#de77ae"
            ],
            [
             0.3,
             "#f1b6da"
            ],
            [
             0.4,
             "#fde0ef"
            ],
            [
             0.5,
             "#f7f7f7"
            ],
            [
             0.6,
             "#e6f5d0"
            ],
            [
             0.7,
             "#b8e186"
            ],
            [
             0.8,
             "#7fbc41"
            ],
            [
             0.9,
             "#4d9221"
            ],
            [
             1,
             "#276419"
            ]
           ],
           "sequential": [
            [
             0,
             "#0d0887"
            ],
            [
             0.1111111111111111,
             "#46039f"
            ],
            [
             0.2222222222222222,
             "#7201a8"
            ],
            [
             0.3333333333333333,
             "#9c179e"
            ],
            [
             0.4444444444444444,
             "#bd3786"
            ],
            [
             0.5555555555555556,
             "#d8576b"
            ],
            [
             0.6666666666666666,
             "#ed7953"
            ],
            [
             0.7777777777777778,
             "#fb9f3a"
            ],
            [
             0.8888888888888888,
             "#fdca26"
            ],
            [
             1,
             "#f0f921"
            ]
           ],
           "sequentialminus": [
            [
             0,
             "#0d0887"
            ],
            [
             0.1111111111111111,
             "#46039f"
            ],
            [
             0.2222222222222222,
             "#7201a8"
            ],
            [
             0.3333333333333333,
             "#9c179e"
            ],
            [
             0.4444444444444444,
             "#bd3786"
            ],
            [
             0.5555555555555556,
             "#d8576b"
            ],
            [
             0.6666666666666666,
             "#ed7953"
            ],
            [
             0.7777777777777778,
             "#fb9f3a"
            ],
            [
             0.8888888888888888,
             "#fdca26"
            ],
            [
             1,
             "#f0f921"
            ]
           ]
          },
          "colorway": [
           "#636efa",
           "#EF553B",
           "#00cc96",
           "#ab63fa",
           "#FFA15A",
           "#19d3f3",
           "#FF6692",
           "#B6E880",
           "#FF97FF",
           "#FECB52"
          ],
          "font": {
           "color": "#2a3f5f"
          },
          "geo": {
           "bgcolor": "white",
           "lakecolor": "white",
           "landcolor": "#E5ECF6",
           "showlakes": true,
           "showland": true,
           "subunitcolor": "white"
          },
          "hoverlabel": {
           "align": "left"
          },
          "hovermode": "closest",
          "mapbox": {
           "style": "light"
          },
          "paper_bgcolor": "white",
          "plot_bgcolor": "#E5ECF6",
          "polar": {
           "angularaxis": {
            "gridcolor": "white",
            "linecolor": "white",
            "ticks": ""
           },
           "bgcolor": "#E5ECF6",
           "radialaxis": {
            "gridcolor": "white",
            "linecolor": "white",
            "ticks": ""
           }
          },
          "scene": {
           "xaxis": {
            "backgroundcolor": "#E5ECF6",
            "gridcolor": "white",
            "gridwidth": 2,
            "linecolor": "white",
            "showbackground": true,
            "ticks": "",
            "zerolinecolor": "white"
           },
           "yaxis": {
            "backgroundcolor": "#E5ECF6",
            "gridcolor": "white",
            "gridwidth": 2,
            "linecolor": "white",
            "showbackground": true,
            "ticks": "",
            "zerolinecolor": "white"
           },
           "zaxis": {
            "backgroundcolor": "#E5ECF6",
            "gridcolor": "white",
            "gridwidth": 2,
            "linecolor": "white",
            "showbackground": true,
            "ticks": "",
            "zerolinecolor": "white"
           }
          },
          "shapedefaults": {
           "line": {
            "color": "#2a3f5f"
           }
          },
          "ternary": {
           "aaxis": {
            "gridcolor": "white",
            "linecolor": "white",
            "ticks": ""
           },
           "baxis": {
            "gridcolor": "white",
            "linecolor": "white",
            "ticks": ""
           },
           "bgcolor": "#E5ECF6",
           "caxis": {
            "gridcolor": "white",
            "linecolor": "white",
            "ticks": ""
           }
          },
          "title": {
           "x": 0.05
          },
          "xaxis": {
           "automargin": true,
           "gridcolor": "white",
           "linecolor": "white",
           "ticks": "",
           "title": {
            "standoff": 15
           },
           "zerolinecolor": "white",
           "zerolinewidth": 2
          },
          "yaxis": {
           "automargin": true,
           "gridcolor": "white",
           "linecolor": "white",
           "ticks": "",
           "title": {
            "standoff": 15
           },
           "zerolinecolor": "white",
           "zerolinewidth": 2
          }
         }
        },
        "title": {
         "text": "error  =  simulate  -  real      ------------         e2w_out_2020-01-02"
        },
        "xaxis": {
         "title": {
          "text": "speed error (m/s)"
         }
        },
        "yaxis": {
         "title": {
          "text": "Count"
         }
        }
       }
      }
     },
     "metadata": {},
     "output_type": "display_data"
    }
   ],
   "source": [
    "import plotly.graph_objects as go\n",
    "\n",
    "fig = go.Figure()\n",
    "\n",
    "xbins=dict(\n",
    "        start=speed_min_error,  # Bin start\n",
    "        end=speed_max_error,    # Bin end\n",
    "        size=1    # Bin size (width of each bin)\n",
    "    )\n",
    "sim_MAE = round(abs(compare_df['speed_sim_error']).mean(),2)\n",
    "calib_MAE = round(abs(compare_df['speed_calib_error']).mean(),2)\n",
    "fig.add_trace(go.Histogram(x=compare_df['speed_sim_error'], name=f\"speed_sim_error --> MAE = {sim_MAE}\", opacity=0.75, xbins=xbins))\n",
    "fig.add_trace(go.Histogram(x=compare_df['speed_calib_error'], name=f\"speed_calib_error --> MAE = {calib_MAE}\", opacity=0.75, xbins=xbins))\n",
    "\n",
    "fig.update_layout(\n",
    "    barmode='group',  # Use 'overlay' if you want stacked look\n",
    "    xaxis_title='speed error (m/s)',\n",
    "    yaxis_title='Count',\n",
    "    title=f\"error  =  simulate  -  real      ------------         {postfix}\"\n",
    ")\n",
    "\n",
    "fig.show()\n",
    "fig.write_html(f\"diagram/hist_speed_error_{postfix}.html\")"
   ]
  },
  {
   "cell_type": "code",
   "execution_count": 16,
   "id": "69f61ca7",
   "metadata": {},
   "outputs": [],
   "source": [
    "#import os\n",
    "#os.environ[\"HORNSGATAN_HOME\"]\n"
   ]
  }
 ],
 "metadata": {
  "kernelspec": {
   "display_name": ".venv",
   "language": "python",
   "name": "python3"
  },
  "language_info": {
   "codemirror_mode": {
    "name": "ipython",
    "version": 3
   },
   "file_extension": ".py",
   "mimetype": "text/x-python",
   "name": "python",
   "nbconvert_exporter": "python",
   "pygments_lexer": "ipython3",
   "version": "3.12.3"
  }
 },
 "nbformat": 4,
 "nbformat_minor": 5
}
