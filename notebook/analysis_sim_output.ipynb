{
 "cells": [
  {
   "cell_type": "markdown",
   "id": "bca770e1",
   "metadata": {},
   "source": [
    "compare calibration result and simulation result in the instant loop detector"
   ]
  },
  {
   "cell_type": "code",
   "execution_count": 225,
   "id": "3c464bd4",
   "metadata": {},
   "outputs": [
    {
     "name": "stdout",
     "output_type": "stream",
     "text": [
      "Current directory: /home/kaveh/projects/Hornsgatan\n",
      "Current directory: /home/kaveh/projects/Hornsgatan\n"
     ]
    }
   ],
   "source": [
    "import os\n",
    "print(\"Current directory:\", os.getcwd())\n",
    "HORNSGATAN_HOME = os.environ[\"HORNSGATAN_HOME\"]\n",
    "os.chdir(HORNSGATAN_HOME)\n",
    "print(\"Current directory:\", os.getcwd())\n",
    "\n",
    "#number = len(data)\n",
    "import pandas as pd\n",
    "date = '2020-01-01'\n",
    "detector = 'w2e_in'\n",
    "number = 19\n",
    "path  = \"data/sim_data/\"\n",
    "if number<1:\n",
    "    postfix = f\"{detector}_{date}\"\n",
    "else:\n",
    "    postfix = f\"{detector}_{date}_{number}\"\n",
    "\n",
    "instantInductionLoop_filename_xml = f\"{path}instantInductionLoop_{postfix}.xml\"\n"
   ]
  },
  {
   "cell_type": "code",
   "execution_count": 226,
   "id": "b2afbafc",
   "metadata": {},
   "outputs": [],
   "source": [
    "import xml.etree.ElementTree as ET\n",
    "\n",
    "# Parse the XML content of output_detectors.xml\n",
    "tree_output = ET.parse(instantInductionLoop_filename_xml)\n",
    "root_output = tree_output.getroot()\n",
    "\n",
    "# Extract data from the XML\n",
    "instant_out_data = []\n",
    "for instant_out in root_output.findall('instantOut'):\n",
    "    instant_out_data.append({\n",
    "        'id': instant_out.get('id'),\n",
    "        'time': float(instant_out.get('time')),\n",
    "        'state': instant_out.get('state'),\n",
    "        'vehID': instant_out.get('vehID'),\n",
    "        'speed': float(instant_out.get('speed')),  # Convert speed to km/h\n",
    "        'length': instant_out.get('length'),\n",
    "        'type': instant_out.get('type'),\n",
    "        'gap': instant_out.get('gap')\n",
    "    })\n",
    "\n",
    "# Convert to a DataFrame\n",
    "df_instant_out = pd.DataFrame(instant_out_data)\n",
    "df_instant_out = df_instant_out[df_instant_out[\"state\"]=='enter']\n",
    "# Save to CSV\n",
    "#output_csv_file_instant_out = 'output_instant_out.csv'\n",
    "#df_instant_out.to_csv(output_csv_file_instant_out, index=False)\n",
    "#print(f\"Data from 'output_detectors.xml' successfully converted to CSV and saved as '{output_csv_file_instant_out}'.\")\n"
   ]
  },
  {
   "cell_type": "code",
   "execution_count": 227,
   "id": "0cb30bef",
   "metadata": {},
   "outputs": [
    {
     "data": {
      "application/vnd.microsoft.datawrangler.viewer.v0+json": {
       "columns": [
        {
         "name": "index",
         "rawType": "int64",
         "type": "integer"
        },
        {
         "name": "id",
         "rawType": "object",
         "type": "string"
        },
        {
         "name": "time",
         "rawType": "float64",
         "type": "float"
        },
        {
         "name": "state",
         "rawType": "object",
         "type": "string"
        },
        {
         "name": "vehID",
         "rawType": "object",
         "type": "string"
        },
        {
         "name": "speed",
         "rawType": "float64",
         "type": "float"
        },
        {
         "name": "length",
         "rawType": "object",
         "type": "string"
        },
        {
         "name": "type",
         "rawType": "object",
         "type": "string"
        },
        {
         "name": "gap",
         "rawType": "object",
         "type": "unknown"
        }
       ],
       "conversionMethod": "pd.DataFrame",
       "ref": "1e65060b-a7fa-4d79-98dc-a591be634c10",
       "rows": [
        [
         "0",
         "w2e_in",
         "1577836811.17",
         "enter",
         "0_w2e_in",
         "9.05",
         "5.00",
         "DEFAULT_VEHTYPE",
         null
        ],
        [
         "2",
         "w2e_in",
         "1577836814.12",
         "enter",
         "1_w2e_in",
         "9.05",
         "5.00",
         "DEFAULT_VEHTYPE",
         "2.39"
        ],
        [
         "4",
         "w2e_in",
         "1577836816.25",
         "enter",
         "2_w2e_in",
         "8.44",
         "5.00",
         "DEFAULT_VEHTYPE",
         "1.58"
        ],
        [
         "6",
         "w2e_in",
         "1577836826.1",
         "enter",
         "3_w2e_in",
         "10.45",
         "5.00",
         "DEFAULT_VEHTYPE",
         "9.25"
        ],
        [
         "8",
         "w2e_in",
         "1577836847.09",
         "enter",
         "4_w2e_in",
         "11.2",
         "5.00",
         "DEFAULT_VEHTYPE",
         "20.52"
        ],
        [
         "10",
         "w2e_in",
         "1577836850.43",
         "enter",
         "5_w2e_in",
         "10.46",
         "5.00",
         "DEFAULT_VEHTYPE",
         "2.89"
        ],
        [
         "12",
         "w2e_in",
         "1577836879.98",
         "enter",
         "6_w2e_in",
         "10.0",
         "5.00",
         "DEFAULT_VEHTYPE",
         "29.08"
        ],
        [
         "15",
         "w2e_in",
         "1577836884.13",
         "enter",
         "7_w2e_in",
         "11.47",
         "5.00",
         "DEFAULT_VEHTYPE",
         "3.65"
        ],
        [
         "17",
         "w2e_in",
         "1577836906.15",
         "enter",
         "8_w2e_in",
         "9.58",
         "5.00",
         "DEFAULT_VEHTYPE",
         "21.59"
        ],
        [
         "19",
         "w2e_in",
         "1577836932.17",
         "enter",
         "9_w2e_in",
         "9.04",
         "5.00",
         "DEFAULT_VEHTYPE",
         "25.50"
        ],
        [
         "21",
         "w2e_in",
         "1577836934.37",
         "enter",
         "10_w2e_in",
         "8.53",
         "5.00",
         "DEFAULT_VEHTYPE",
         "1.65"
        ],
        [
         "23",
         "w2e_in",
         "1577836936.33",
         "enter",
         "11_w2e_in",
         "9.21",
         "5.00",
         "DEFAULT_VEHTYPE",
         "1.38"
        ],
        [
         "25",
         "w2e_in",
         "1577836940.3",
         "enter",
         "12_w2e_in",
         "8.59",
         "5.00",
         "DEFAULT_VEHTYPE",
         "3.43"
        ],
        [
         "27",
         "w2e_in",
         "1577836943.17",
         "enter",
         "13_w2e_in",
         "10.04",
         "5.00",
         "DEFAULT_VEHTYPE",
         "2.29"
        ],
        [
         "29",
         "w2e_in",
         "1577836945.19",
         "enter",
         "14_w2e_in",
         "10.02",
         "5.00",
         "DEFAULT_VEHTYPE",
         "1.52"
        ],
        [
         "31",
         "w2e_in",
         "1577836949.18",
         "enter",
         "15_w2e_in",
         "11.14",
         "5.00",
         "DEFAULT_VEHTYPE",
         "3.49"
        ],
        [
         "33",
         "w2e_in",
         "1577836953.15",
         "enter",
         "16_w2e_in",
         "9.9",
         "5.00",
         "DEFAULT_VEHTYPE",
         "3.53"
        ],
        [
         "35",
         "w2e_in",
         "1577836959.66",
         "enter",
         "17_w2e_in",
         "10.43",
         "5.00",
         "DEFAULT_VEHTYPE",
         "6.00"
        ],
        [
         "38",
         "w2e_in",
         "1577836962.11",
         "enter",
         "18_w2e_in",
         "9.52",
         "5.00",
         "DEFAULT_VEHTYPE",
         "1.97"
        ]
       ],
       "shape": {
        "columns": 8,
        "rows": 19
       }
      },
      "text/html": [
       "<div>\n",
       "<style scoped>\n",
       "    .dataframe tbody tr th:only-of-type {\n",
       "        vertical-align: middle;\n",
       "    }\n",
       "\n",
       "    .dataframe tbody tr th {\n",
       "        vertical-align: top;\n",
       "    }\n",
       "\n",
       "    .dataframe thead th {\n",
       "        text-align: right;\n",
       "    }\n",
       "</style>\n",
       "<table border=\"1\" class=\"dataframe\">\n",
       "  <thead>\n",
       "    <tr style=\"text-align: right;\">\n",
       "      <th></th>\n",
       "      <th>id</th>\n",
       "      <th>time</th>\n",
       "      <th>state</th>\n",
       "      <th>vehID</th>\n",
       "      <th>speed</th>\n",
       "      <th>length</th>\n",
       "      <th>type</th>\n",
       "      <th>gap</th>\n",
       "    </tr>\n",
       "  </thead>\n",
       "  <tbody>\n",
       "    <tr>\n",
       "      <th>0</th>\n",
       "      <td>w2e_in</td>\n",
       "      <td>1.577837e+09</td>\n",
       "      <td>enter</td>\n",
       "      <td>0_w2e_in</td>\n",
       "      <td>9.05</td>\n",
       "      <td>5.00</td>\n",
       "      <td>DEFAULT_VEHTYPE</td>\n",
       "      <td>None</td>\n",
       "    </tr>\n",
       "    <tr>\n",
       "      <th>2</th>\n",
       "      <td>w2e_in</td>\n",
       "      <td>1.577837e+09</td>\n",
       "      <td>enter</td>\n",
       "      <td>1_w2e_in</td>\n",
       "      <td>9.05</td>\n",
       "      <td>5.00</td>\n",
       "      <td>DEFAULT_VEHTYPE</td>\n",
       "      <td>2.39</td>\n",
       "    </tr>\n",
       "    <tr>\n",
       "      <th>4</th>\n",
       "      <td>w2e_in</td>\n",
       "      <td>1.577837e+09</td>\n",
       "      <td>enter</td>\n",
       "      <td>2_w2e_in</td>\n",
       "      <td>8.44</td>\n",
       "      <td>5.00</td>\n",
       "      <td>DEFAULT_VEHTYPE</td>\n",
       "      <td>1.58</td>\n",
       "    </tr>\n",
       "    <tr>\n",
       "      <th>6</th>\n",
       "      <td>w2e_in</td>\n",
       "      <td>1.577837e+09</td>\n",
       "      <td>enter</td>\n",
       "      <td>3_w2e_in</td>\n",
       "      <td>10.45</td>\n",
       "      <td>5.00</td>\n",
       "      <td>DEFAULT_VEHTYPE</td>\n",
       "      <td>9.25</td>\n",
       "    </tr>\n",
       "    <tr>\n",
       "      <th>8</th>\n",
       "      <td>w2e_in</td>\n",
       "      <td>1.577837e+09</td>\n",
       "      <td>enter</td>\n",
       "      <td>4_w2e_in</td>\n",
       "      <td>11.20</td>\n",
       "      <td>5.00</td>\n",
       "      <td>DEFAULT_VEHTYPE</td>\n",
       "      <td>20.52</td>\n",
       "    </tr>\n",
       "    <tr>\n",
       "      <th>10</th>\n",
       "      <td>w2e_in</td>\n",
       "      <td>1.577837e+09</td>\n",
       "      <td>enter</td>\n",
       "      <td>5_w2e_in</td>\n",
       "      <td>10.46</td>\n",
       "      <td>5.00</td>\n",
       "      <td>DEFAULT_VEHTYPE</td>\n",
       "      <td>2.89</td>\n",
       "    </tr>\n",
       "    <tr>\n",
       "      <th>12</th>\n",
       "      <td>w2e_in</td>\n",
       "      <td>1.577837e+09</td>\n",
       "      <td>enter</td>\n",
       "      <td>6_w2e_in</td>\n",
       "      <td>10.00</td>\n",
       "      <td>5.00</td>\n",
       "      <td>DEFAULT_VEHTYPE</td>\n",
       "      <td>29.08</td>\n",
       "    </tr>\n",
       "    <tr>\n",
       "      <th>15</th>\n",
       "      <td>w2e_in</td>\n",
       "      <td>1.577837e+09</td>\n",
       "      <td>enter</td>\n",
       "      <td>7_w2e_in</td>\n",
       "      <td>11.47</td>\n",
       "      <td>5.00</td>\n",
       "      <td>DEFAULT_VEHTYPE</td>\n",
       "      <td>3.65</td>\n",
       "    </tr>\n",
       "    <tr>\n",
       "      <th>17</th>\n",
       "      <td>w2e_in</td>\n",
       "      <td>1.577837e+09</td>\n",
       "      <td>enter</td>\n",
       "      <td>8_w2e_in</td>\n",
       "      <td>9.58</td>\n",
       "      <td>5.00</td>\n",
       "      <td>DEFAULT_VEHTYPE</td>\n",
       "      <td>21.59</td>\n",
       "    </tr>\n",
       "    <tr>\n",
       "      <th>19</th>\n",
       "      <td>w2e_in</td>\n",
       "      <td>1.577837e+09</td>\n",
       "      <td>enter</td>\n",
       "      <td>9_w2e_in</td>\n",
       "      <td>9.04</td>\n",
       "      <td>5.00</td>\n",
       "      <td>DEFAULT_VEHTYPE</td>\n",
       "      <td>25.50</td>\n",
       "    </tr>\n",
       "    <tr>\n",
       "      <th>21</th>\n",
       "      <td>w2e_in</td>\n",
       "      <td>1.577837e+09</td>\n",
       "      <td>enter</td>\n",
       "      <td>10_w2e_in</td>\n",
       "      <td>8.53</td>\n",
       "      <td>5.00</td>\n",
       "      <td>DEFAULT_VEHTYPE</td>\n",
       "      <td>1.65</td>\n",
       "    </tr>\n",
       "    <tr>\n",
       "      <th>23</th>\n",
       "      <td>w2e_in</td>\n",
       "      <td>1.577837e+09</td>\n",
       "      <td>enter</td>\n",
       "      <td>11_w2e_in</td>\n",
       "      <td>9.21</td>\n",
       "      <td>5.00</td>\n",
       "      <td>DEFAULT_VEHTYPE</td>\n",
       "      <td>1.38</td>\n",
       "    </tr>\n",
       "    <tr>\n",
       "      <th>25</th>\n",
       "      <td>w2e_in</td>\n",
       "      <td>1.577837e+09</td>\n",
       "      <td>enter</td>\n",
       "      <td>12_w2e_in</td>\n",
       "      <td>8.59</td>\n",
       "      <td>5.00</td>\n",
       "      <td>DEFAULT_VEHTYPE</td>\n",
       "      <td>3.43</td>\n",
       "    </tr>\n",
       "    <tr>\n",
       "      <th>27</th>\n",
       "      <td>w2e_in</td>\n",
       "      <td>1.577837e+09</td>\n",
       "      <td>enter</td>\n",
       "      <td>13_w2e_in</td>\n",
       "      <td>10.04</td>\n",
       "      <td>5.00</td>\n",
       "      <td>DEFAULT_VEHTYPE</td>\n",
       "      <td>2.29</td>\n",
       "    </tr>\n",
       "    <tr>\n",
       "      <th>29</th>\n",
       "      <td>w2e_in</td>\n",
       "      <td>1.577837e+09</td>\n",
       "      <td>enter</td>\n",
       "      <td>14_w2e_in</td>\n",
       "      <td>10.02</td>\n",
       "      <td>5.00</td>\n",
       "      <td>DEFAULT_VEHTYPE</td>\n",
       "      <td>1.52</td>\n",
       "    </tr>\n",
       "    <tr>\n",
       "      <th>31</th>\n",
       "      <td>w2e_in</td>\n",
       "      <td>1.577837e+09</td>\n",
       "      <td>enter</td>\n",
       "      <td>15_w2e_in</td>\n",
       "      <td>11.14</td>\n",
       "      <td>5.00</td>\n",
       "      <td>DEFAULT_VEHTYPE</td>\n",
       "      <td>3.49</td>\n",
       "    </tr>\n",
       "    <tr>\n",
       "      <th>33</th>\n",
       "      <td>w2e_in</td>\n",
       "      <td>1.577837e+09</td>\n",
       "      <td>enter</td>\n",
       "      <td>16_w2e_in</td>\n",
       "      <td>9.90</td>\n",
       "      <td>5.00</td>\n",
       "      <td>DEFAULT_VEHTYPE</td>\n",
       "      <td>3.53</td>\n",
       "    </tr>\n",
       "    <tr>\n",
       "      <th>35</th>\n",
       "      <td>w2e_in</td>\n",
       "      <td>1.577837e+09</td>\n",
       "      <td>enter</td>\n",
       "      <td>17_w2e_in</td>\n",
       "      <td>10.43</td>\n",
       "      <td>5.00</td>\n",
       "      <td>DEFAULT_VEHTYPE</td>\n",
       "      <td>6.00</td>\n",
       "    </tr>\n",
       "    <tr>\n",
       "      <th>38</th>\n",
       "      <td>w2e_in</td>\n",
       "      <td>1.577837e+09</td>\n",
       "      <td>enter</td>\n",
       "      <td>18_w2e_in</td>\n",
       "      <td>9.52</td>\n",
       "      <td>5.00</td>\n",
       "      <td>DEFAULT_VEHTYPE</td>\n",
       "      <td>1.97</td>\n",
       "    </tr>\n",
       "  </tbody>\n",
       "</table>\n",
       "</div>"
      ],
      "text/plain": [
       "        id          time  state      vehID  speed length             type  \\\n",
       "0   w2e_in  1.577837e+09  enter   0_w2e_in   9.05   5.00  DEFAULT_VEHTYPE   \n",
       "2   w2e_in  1.577837e+09  enter   1_w2e_in   9.05   5.00  DEFAULT_VEHTYPE   \n",
       "4   w2e_in  1.577837e+09  enter   2_w2e_in   8.44   5.00  DEFAULT_VEHTYPE   \n",
       "6   w2e_in  1.577837e+09  enter   3_w2e_in  10.45   5.00  DEFAULT_VEHTYPE   \n",
       "8   w2e_in  1.577837e+09  enter   4_w2e_in  11.20   5.00  DEFAULT_VEHTYPE   \n",
       "10  w2e_in  1.577837e+09  enter   5_w2e_in  10.46   5.00  DEFAULT_VEHTYPE   \n",
       "12  w2e_in  1.577837e+09  enter   6_w2e_in  10.00   5.00  DEFAULT_VEHTYPE   \n",
       "15  w2e_in  1.577837e+09  enter   7_w2e_in  11.47   5.00  DEFAULT_VEHTYPE   \n",
       "17  w2e_in  1.577837e+09  enter   8_w2e_in   9.58   5.00  DEFAULT_VEHTYPE   \n",
       "19  w2e_in  1.577837e+09  enter   9_w2e_in   9.04   5.00  DEFAULT_VEHTYPE   \n",
       "21  w2e_in  1.577837e+09  enter  10_w2e_in   8.53   5.00  DEFAULT_VEHTYPE   \n",
       "23  w2e_in  1.577837e+09  enter  11_w2e_in   9.21   5.00  DEFAULT_VEHTYPE   \n",
       "25  w2e_in  1.577837e+09  enter  12_w2e_in   8.59   5.00  DEFAULT_VEHTYPE   \n",
       "27  w2e_in  1.577837e+09  enter  13_w2e_in  10.04   5.00  DEFAULT_VEHTYPE   \n",
       "29  w2e_in  1.577837e+09  enter  14_w2e_in  10.02   5.00  DEFAULT_VEHTYPE   \n",
       "31  w2e_in  1.577837e+09  enter  15_w2e_in  11.14   5.00  DEFAULT_VEHTYPE   \n",
       "33  w2e_in  1.577837e+09  enter  16_w2e_in   9.90   5.00  DEFAULT_VEHTYPE   \n",
       "35  w2e_in  1.577837e+09  enter  17_w2e_in  10.43   5.00  DEFAULT_VEHTYPE   \n",
       "38  w2e_in  1.577837e+09  enter  18_w2e_in   9.52   5.00  DEFAULT_VEHTYPE   \n",
       "\n",
       "      gap  \n",
       "0    None  \n",
       "2    2.39  \n",
       "4    1.58  \n",
       "6    9.25  \n",
       "8   20.52  \n",
       "10   2.89  \n",
       "12  29.08  \n",
       "15   3.65  \n",
       "17  21.59  \n",
       "19  25.50  \n",
       "21   1.65  \n",
       "23   1.38  \n",
       "25   3.43  \n",
       "27   2.29  \n",
       "29   1.52  \n",
       "31   3.49  \n",
       "33   3.53  \n",
       "35   6.00  \n",
       "38   1.97  "
      ]
     },
     "execution_count": 227,
     "metadata": {},
     "output_type": "execute_result"
    }
   ],
   "source": [
    "df_instant_out"
   ]
  },
  {
   "cell_type": "code",
   "execution_count": 228,
   "id": "2509bb26",
   "metadata": {},
   "outputs": [
    {
     "data": {
      "application/vnd.microsoft.datawrangler.viewer.v0+json": {
       "columns": [
        {
         "name": "index",
         "rawType": "int64",
         "type": "integer"
        },
        {
         "name": "vehID",
         "rawType": "object",
         "type": "string"
        },
        {
         "name": "time_detector_sim",
         "rawType": "float64",
         "type": "float"
        },
        {
         "name": "speed_detector_sim",
         "rawType": "float64",
         "type": "float"
        },
        {
         "name": "speed_factor",
         "rawType": "float64",
         "type": "float"
        },
        {
         "name": "time_detector_real",
         "rawType": "int64",
         "type": "integer"
        },
        {
         "name": "depart",
         "rawType": "int64",
         "type": "integer"
        },
        {
         "name": "departSpeed",
         "rawType": "object",
         "type": "string"
        },
        {
         "name": "speed_detector_real",
         "rawType": "float64",
         "type": "float"
        },
        {
         "name": "delta_time",
         "rawType": "float64",
         "type": "float"
        },
        {
         "name": "delta_speed",
         "rawType": "float64",
         "type": "float"
        }
       ],
       "conversionMethod": "pd.DataFrame",
       "ref": "a5be1a83-dac2-4663-aa0d-3871a32b8466",
       "rows": [
        [
         "0",
         "0_w2e_in",
         "1577836811.13",
         "8.950380416945679",
         "1.196951824242762",
         "1577836811",
         "1577836766",
         "max",
         "9.166666666666666",
         "0.1300001144409179",
         "-0.2162862497209872"
        ],
        [
         "1",
         "1_w2e_in",
         "1577836814.14",
         "8.504859219702267",
         "1.1745607017024704",
         "1577836814",
         "1577836768",
         "max",
         "7.5",
         "0.1400001049041748",
         "1.0048592197022668"
        ],
        [
         "2",
         "2_w2e_in",
         "1577836814.57",
         "9.19533676003194",
         "1.209466456887412",
         "1577836815",
         "1577836769",
         "max",
         "8.88888888888889",
         "-0.4300000667572021",
         "0.3064478711430496"
        ],
        [
         "3",
         "3_w2e_in",
         "1577836826.1",
         "11.019083648591844",
         "1.4104337618974976",
         "1577836826",
         "1577836788",
         "max",
         "11.11111111111111",
         "0.0999999046325683",
         "-0.0920274625192654"
        ],
        [
         "4",
         "4_w2e_in",
         "1577836847.11",
         "10.25064605672004",
         "1.382050983184422",
         "1577836847",
         "1577836808",
         "max",
         "7.777777777777778",
         "0.1099998950958252",
         "2.4728682789422622"
        ]
       ],
       "shape": {
        "columns": 10,
        "rows": 5
       }
      },
      "text/html": [
       "<div>\n",
       "<style scoped>\n",
       "    .dataframe tbody tr th:only-of-type {\n",
       "        vertical-align: middle;\n",
       "    }\n",
       "\n",
       "    .dataframe tbody tr th {\n",
       "        vertical-align: top;\n",
       "    }\n",
       "\n",
       "    .dataframe thead th {\n",
       "        text-align: right;\n",
       "    }\n",
       "</style>\n",
       "<table border=\"1\" class=\"dataframe\">\n",
       "  <thead>\n",
       "    <tr style=\"text-align: right;\">\n",
       "      <th></th>\n",
       "      <th>vehID</th>\n",
       "      <th>time_detector_sim</th>\n",
       "      <th>speed_detector_sim</th>\n",
       "      <th>speed_factor</th>\n",
       "      <th>time_detector_real</th>\n",
       "      <th>depart</th>\n",
       "      <th>departSpeed</th>\n",
       "      <th>speed_detector_real</th>\n",
       "      <th>delta_time</th>\n",
       "      <th>delta_speed</th>\n",
       "    </tr>\n",
       "  </thead>\n",
       "  <tbody>\n",
       "    <tr>\n",
       "      <th>0</th>\n",
       "      <td>0_w2e_in</td>\n",
       "      <td>1.577837e+09</td>\n",
       "      <td>8.950380</td>\n",
       "      <td>1.196952</td>\n",
       "      <td>1577836811</td>\n",
       "      <td>1577836766</td>\n",
       "      <td>max</td>\n",
       "      <td>9.166667</td>\n",
       "      <td>0.13</td>\n",
       "      <td>-0.216286</td>\n",
       "    </tr>\n",
       "    <tr>\n",
       "      <th>1</th>\n",
       "      <td>1_w2e_in</td>\n",
       "      <td>1.577837e+09</td>\n",
       "      <td>8.504859</td>\n",
       "      <td>1.174561</td>\n",
       "      <td>1577836814</td>\n",
       "      <td>1577836768</td>\n",
       "      <td>max</td>\n",
       "      <td>7.500000</td>\n",
       "      <td>0.14</td>\n",
       "      <td>1.004859</td>\n",
       "    </tr>\n",
       "    <tr>\n",
       "      <th>2</th>\n",
       "      <td>2_w2e_in</td>\n",
       "      <td>1.577837e+09</td>\n",
       "      <td>9.195337</td>\n",
       "      <td>1.209466</td>\n",
       "      <td>1577836815</td>\n",
       "      <td>1577836769</td>\n",
       "      <td>max</td>\n",
       "      <td>8.888889</td>\n",
       "      <td>-0.43</td>\n",
       "      <td>0.306448</td>\n",
       "    </tr>\n",
       "    <tr>\n",
       "      <th>3</th>\n",
       "      <td>3_w2e_in</td>\n",
       "      <td>1.577837e+09</td>\n",
       "      <td>11.019084</td>\n",
       "      <td>1.410434</td>\n",
       "      <td>1577836826</td>\n",
       "      <td>1577836788</td>\n",
       "      <td>max</td>\n",
       "      <td>11.111111</td>\n",
       "      <td>0.10</td>\n",
       "      <td>-0.092027</td>\n",
       "    </tr>\n",
       "    <tr>\n",
       "      <th>4</th>\n",
       "      <td>4_w2e_in</td>\n",
       "      <td>1.577837e+09</td>\n",
       "      <td>10.250646</td>\n",
       "      <td>1.382051</td>\n",
       "      <td>1577836847</td>\n",
       "      <td>1577836808</td>\n",
       "      <td>max</td>\n",
       "      <td>7.777778</td>\n",
       "      <td>0.11</td>\n",
       "      <td>2.472868</td>\n",
       "    </tr>\n",
       "  </tbody>\n",
       "</table>\n",
       "</div>"
      ],
      "text/plain": [
       "      vehID  time_detector_sim  speed_detector_sim  speed_factor  \\\n",
       "0  0_w2e_in       1.577837e+09            8.950380      1.196952   \n",
       "1  1_w2e_in       1.577837e+09            8.504859      1.174561   \n",
       "2  2_w2e_in       1.577837e+09            9.195337      1.209466   \n",
       "3  3_w2e_in       1.577837e+09           11.019084      1.410434   \n",
       "4  4_w2e_in       1.577837e+09           10.250646      1.382051   \n",
       "\n",
       "   time_detector_real      depart departSpeed  speed_detector_real  \\\n",
       "0          1577836811  1577836766         max             9.166667   \n",
       "1          1577836814  1577836768         max             7.500000   \n",
       "2          1577836815  1577836769         max             8.888889   \n",
       "3          1577836826  1577836788         max            11.111111   \n",
       "4          1577836847  1577836808         max             7.777778   \n",
       "\n",
       "   delta_time  delta_speed  \n",
       "0        0.13    -0.216286  \n",
       "1        0.14     1.004859  \n",
       "2       -0.43     0.306448  \n",
       "3        0.10    -0.092027  \n",
       "4        0.11     2.472868  "
      ]
     },
     "execution_count": 228,
     "metadata": {},
     "output_type": "execute_result"
    }
   ],
   "source": [
    "data = pd.read_csv(f'data/calibration_data/calibrated_data_{postfix}.csv')\n",
    "data.rename(columns={\"veh_id\": \"vehID\"}, inplace=True)\n",
    "data.head()"
   ]
  },
  {
   "cell_type": "code",
   "execution_count": 229,
   "id": "41ef4aa2",
   "metadata": {},
   "outputs": [
    {
     "name": "stdout",
     "output_type": "stream",
     "text": [
      "19 19\n"
     ]
    }
   ],
   "source": [
    "print(len(data), len(df_instant_out))"
   ]
  },
  {
   "cell_type": "markdown",
   "id": "26c7724a",
   "metadata": {},
   "source": [
    "compare time error and speed error in loop detector between simulation result and calibration result"
   ]
  },
  {
   "cell_type": "code",
   "execution_count": 230,
   "id": "78ee4572",
   "metadata": {},
   "outputs": [
    {
     "data": {
      "application/vnd.microsoft.datawrangler.viewer.v0+json": {
       "columns": [
        {
         "name": "index",
         "rawType": "int64",
         "type": "integer"
        },
        {
         "name": "vehID",
         "rawType": "object",
         "type": "string"
        },
        {
         "name": "time",
         "rawType": "float64",
         "type": "float"
        },
        {
         "name": "speed",
         "rawType": "float64",
         "type": "float"
        },
        {
         "name": "time_detector_sim",
         "rawType": "float64",
         "type": "float"
        },
        {
         "name": "speed_detector_sim",
         "rawType": "float64",
         "type": "float"
        },
        {
         "name": "time_detector_real",
         "rawType": "int64",
         "type": "integer"
        },
        {
         "name": "speed_detector_real",
         "rawType": "float64",
         "type": "float"
        }
       ],
       "conversionMethod": "pd.DataFrame",
       "ref": "95994213-4373-4960-8239-d99b9765baaf",
       "rows": [
        [
         "0",
         "0_w2e_in",
         "1577836811.17",
         "9.05",
         "1577836811.13",
         "8.950380416945679",
         "1577836811",
         "9.166666666666666"
        ],
        [
         "1",
         "1_w2e_in",
         "1577836814.12",
         "9.05",
         "1577836814.14",
         "8.504859219702267",
         "1577836814",
         "7.5"
        ],
        [
         "2",
         "2_w2e_in",
         "1577836816.25",
         "8.44",
         "1577836814.57",
         "9.19533676003194",
         "1577836815",
         "8.88888888888889"
        ],
        [
         "3",
         "3_w2e_in",
         "1577836826.1",
         "10.45",
         "1577836826.1",
         "11.019083648591844",
         "1577836826",
         "11.11111111111111"
        ],
        [
         "4",
         "4_w2e_in",
         "1577836847.09",
         "11.2",
         "1577836847.11",
         "10.25064605672004",
         "1577836847",
         "7.777777777777778"
        ]
       ],
       "shape": {
        "columns": 7,
        "rows": 5
       }
      },
      "text/html": [
       "<div>\n",
       "<style scoped>\n",
       "    .dataframe tbody tr th:only-of-type {\n",
       "        vertical-align: middle;\n",
       "    }\n",
       "\n",
       "    .dataframe tbody tr th {\n",
       "        vertical-align: top;\n",
       "    }\n",
       "\n",
       "    .dataframe thead th {\n",
       "        text-align: right;\n",
       "    }\n",
       "</style>\n",
       "<table border=\"1\" class=\"dataframe\">\n",
       "  <thead>\n",
       "    <tr style=\"text-align: right;\">\n",
       "      <th></th>\n",
       "      <th>vehID</th>\n",
       "      <th>time</th>\n",
       "      <th>speed</th>\n",
       "      <th>time_detector_sim</th>\n",
       "      <th>speed_detector_sim</th>\n",
       "      <th>time_detector_real</th>\n",
       "      <th>speed_detector_real</th>\n",
       "    </tr>\n",
       "  </thead>\n",
       "  <tbody>\n",
       "    <tr>\n",
       "      <th>0</th>\n",
       "      <td>0_w2e_in</td>\n",
       "      <td>1.577837e+09</td>\n",
       "      <td>9.05</td>\n",
       "      <td>1.577837e+09</td>\n",
       "      <td>8.950380</td>\n",
       "      <td>1577836811</td>\n",
       "      <td>9.166667</td>\n",
       "    </tr>\n",
       "    <tr>\n",
       "      <th>1</th>\n",
       "      <td>1_w2e_in</td>\n",
       "      <td>1.577837e+09</td>\n",
       "      <td>9.05</td>\n",
       "      <td>1.577837e+09</td>\n",
       "      <td>8.504859</td>\n",
       "      <td>1577836814</td>\n",
       "      <td>7.500000</td>\n",
       "    </tr>\n",
       "    <tr>\n",
       "      <th>2</th>\n",
       "      <td>2_w2e_in</td>\n",
       "      <td>1.577837e+09</td>\n",
       "      <td>8.44</td>\n",
       "      <td>1.577837e+09</td>\n",
       "      <td>9.195337</td>\n",
       "      <td>1577836815</td>\n",
       "      <td>8.888889</td>\n",
       "    </tr>\n",
       "    <tr>\n",
       "      <th>3</th>\n",
       "      <td>3_w2e_in</td>\n",
       "      <td>1.577837e+09</td>\n",
       "      <td>10.45</td>\n",
       "      <td>1.577837e+09</td>\n",
       "      <td>11.019084</td>\n",
       "      <td>1577836826</td>\n",
       "      <td>11.111111</td>\n",
       "    </tr>\n",
       "    <tr>\n",
       "      <th>4</th>\n",
       "      <td>4_w2e_in</td>\n",
       "      <td>1.577837e+09</td>\n",
       "      <td>11.20</td>\n",
       "      <td>1.577837e+09</td>\n",
       "      <td>10.250646</td>\n",
       "      <td>1577836847</td>\n",
       "      <td>7.777778</td>\n",
       "    </tr>\n",
       "  </tbody>\n",
       "</table>\n",
       "</div>"
      ],
      "text/plain": [
       "      vehID          time  speed  time_detector_sim  speed_detector_sim  \\\n",
       "0  0_w2e_in  1.577837e+09   9.05       1.577837e+09            8.950380   \n",
       "1  1_w2e_in  1.577837e+09   9.05       1.577837e+09            8.504859   \n",
       "2  2_w2e_in  1.577837e+09   8.44       1.577837e+09            9.195337   \n",
       "3  3_w2e_in  1.577837e+09  10.45       1.577837e+09           11.019084   \n",
       "4  4_w2e_in  1.577837e+09  11.20       1.577837e+09           10.250646   \n",
       "\n",
       "   time_detector_real  speed_detector_real  \n",
       "0          1577836811             9.166667  \n",
       "1          1577836814             7.500000  \n",
       "2          1577836815             8.888889  \n",
       "3          1577836826            11.111111  \n",
       "4          1577836847             7.777778  "
      ]
     },
     "execution_count": 230,
     "metadata": {},
     "output_type": "execute_result"
    }
   ],
   "source": [
    "compare_df = pd.merge(df_instant_out[[\"vehID\",\"time\",\"speed\"]],\n",
    "            data[[\"vehID\",\"time_detector_sim\",\"speed_detector_sim\"\n",
    "                  ,\"time_detector_real\",\"speed_detector_real\"]],on=\"vehID\")\n",
    "compare_df.head()\n",
    "\n",
    "\n"
   ]
  },
  {
   "cell_type": "code",
   "execution_count": 231,
   "id": "444b9984",
   "metadata": {},
   "outputs": [],
   "source": [
    "#compare_df = compare_df.head(19)"
   ]
  },
  {
   "cell_type": "code",
   "execution_count": 232,
   "id": "efaee82a",
   "metadata": {},
   "outputs": [
    {
     "data": {
      "text/plain": [
       "np.float64(0.38105266972592)"
      ]
     },
     "execution_count": 232,
     "metadata": {},
     "output_type": "execute_result"
    }
   ],
   "source": [
    "time_calib_error = compare_df[\"time_calib_error\"]=(compare_df[\"time_detector_sim\"]-compare_df[\"time_detector_real\"])\n",
    "abs(time_calib_error).mean()"
   ]
  },
  {
   "cell_type": "code",
   "execution_count": 233,
   "id": "06d79b59",
   "metadata": {},
   "outputs": [
    {
     "data": {
      "text/plain": [
       "np.float64(0.4615789463645534)"
      ]
     },
     "execution_count": 233,
     "metadata": {},
     "output_type": "execute_result"
    }
   ],
   "source": [
    "time_sim_error = compare_df[\"time_sim_error\"] = compare_df[\"time\"]-compare_df[\"time_detector_real\"]\n",
    "abs(time_sim_error).mean()"
   ]
  },
  {
   "cell_type": "code",
   "execution_count": 234,
   "id": "623c98a5",
   "metadata": {},
   "outputs": [
    {
     "data": {
      "text/plain": [
       "np.float64(1.0442851481864543)"
      ]
     },
     "execution_count": 234,
     "metadata": {},
     "output_type": "execute_result"
    }
   ],
   "source": [
    "speed_calib_error= compare_df[\"speed_calib_error\"] =compare_df[\"speed_detector_sim\"]-compare_df[\"speed_detector_real\"]\n",
    "abs(speed_calib_error).mean()"
   ]
  },
  {
   "cell_type": "code",
   "execution_count": 235,
   "id": "ce1e059c",
   "metadata": {},
   "outputs": [
    {
     "data": {
      "text/plain": [
       "np.float64(1.3525146198830411)"
      ]
     },
     "execution_count": 235,
     "metadata": {},
     "output_type": "execute_result"
    }
   ],
   "source": [
    "speed_sim_error=compare_df[\"speed_sim_error\"] =compare_df[\"speed\"]-compare_df[\"speed_detector_real\"]\n",
    "abs(speed_sim_error).mean()"
   ]
  },
  {
   "cell_type": "code",
   "execution_count": 236,
   "id": "f719d7aa",
   "metadata": {},
   "outputs": [
    {
     "data": {
      "application/vnd.plotly.v1+json": {
       "config": {
        "plotlyServerURL": "https://plot.ly"
       },
       "data": [
        {
         "name": "time_sim_error --> MAE = 0.46",
         "opacity": 0.75,
         "type": "histogram",
         "x": {
          "bdata": "AAAAAJDCxT8AAAAAULi+PwAAAAAAAPQ/AAAAAJiZuT8AAAAAPAq3PwAAAMBH4fY/AAAAAOB6lL8AAAAA2KPAPwAAAAA0M8M/AAAAAJDCxT8AAAAAFK7XPwAAAAC4HtU/AAAAwMzM9D8AAAAAkMLFPwAAAADsUcg/AAAA4KNwAUAAAAAANDPDPwAAAACPwtW/AAAAAPQovD8=",
          "dtype": "f8"
         },
         "xbins": {
          "end": 11,
          "size": 1,
          "start": -4
         }
        },
        {
         "name": "time_calib_error  --> MAE = 0.38",
         "opacity": 0.75,
         "type": "histogram",
         "x": {
          "bdata": "AAAAANijwD8AAAAAhuvBPwAAAAAfhdu/AAAAAJiZuT8AAAAA9Ci8PwAAAEAzM/M/AAAAAIbrwT8AAAAAAAAAAAAAAADgepS/AAAAAIbrwT8AAAAANDPDPwAAAAAAAAAAAAAAwB6F9z8AAAAA4HqkPwAAAADXo+C/AAAAgD0KAUAAAAAA9ijMPwAAAADiesS/AAAAAIbrwT8=",
          "dtype": "f8"
         },
         "xbins": {
          "end": 11,
          "size": 1,
          "start": -4
         }
        }
       ],
       "layout": {
        "barmode": "group",
        "template": {
         "data": {
          "bar": [
           {
            "error_x": {
             "color": "#2a3f5f"
            },
            "error_y": {
             "color": "#2a3f5f"
            },
            "marker": {
             "line": {
              "color": "#E5ECF6",
              "width": 0.5
             },
             "pattern": {
              "fillmode": "overlay",
              "size": 10,
              "solidity": 0.2
             }
            },
            "type": "bar"
           }
          ],
          "barpolar": [
           {
            "marker": {
             "line": {
              "color": "#E5ECF6",
              "width": 0.5
             },
             "pattern": {
              "fillmode": "overlay",
              "size": 10,
              "solidity": 0.2
             }
            },
            "type": "barpolar"
           }
          ],
          "carpet": [
           {
            "aaxis": {
             "endlinecolor": "#2a3f5f",
             "gridcolor": "white",
             "linecolor": "white",
             "minorgridcolor": "white",
             "startlinecolor": "#2a3f5f"
            },
            "baxis": {
             "endlinecolor": "#2a3f5f",
             "gridcolor": "white",
             "linecolor": "white",
             "minorgridcolor": "white",
             "startlinecolor": "#2a3f5f"
            },
            "type": "carpet"
           }
          ],
          "choropleth": [
           {
            "colorbar": {
             "outlinewidth": 0,
             "ticks": ""
            },
            "type": "choropleth"
           }
          ],
          "contour": [
           {
            "colorbar": {
             "outlinewidth": 0,
             "ticks": ""
            },
            "colorscale": [
             [
              0,
              "#0d0887"
             ],
             [
              0.1111111111111111,
              "#46039f"
             ],
             [
              0.2222222222222222,
              "#7201a8"
             ],
             [
              0.3333333333333333,
              "#9c179e"
             ],
             [
              0.4444444444444444,
              "#bd3786"
             ],
             [
              0.5555555555555556,
              "#d8576b"
             ],
             [
              0.6666666666666666,
              "#ed7953"
             ],
             [
              0.7777777777777778,
              "#fb9f3a"
             ],
             [
              0.8888888888888888,
              "#fdca26"
             ],
             [
              1,
              "#f0f921"
             ]
            ],
            "type": "contour"
           }
          ],
          "contourcarpet": [
           {
            "colorbar": {
             "outlinewidth": 0,
             "ticks": ""
            },
            "type": "contourcarpet"
           }
          ],
          "heatmap": [
           {
            "colorbar": {
             "outlinewidth": 0,
             "ticks": ""
            },
            "colorscale": [
             [
              0,
              "#0d0887"
             ],
             [
              0.1111111111111111,
              "#46039f"
             ],
             [
              0.2222222222222222,
              "#7201a8"
             ],
             [
              0.3333333333333333,
              "#9c179e"
             ],
             [
              0.4444444444444444,
              "#bd3786"
             ],
             [
              0.5555555555555556,
              "#d8576b"
             ],
             [
              0.6666666666666666,
              "#ed7953"
             ],
             [
              0.7777777777777778,
              "#fb9f3a"
             ],
             [
              0.8888888888888888,
              "#fdca26"
             ],
             [
              1,
              "#f0f921"
             ]
            ],
            "type": "heatmap"
           }
          ],
          "histogram": [
           {
            "marker": {
             "pattern": {
              "fillmode": "overlay",
              "size": 10,
              "solidity": 0.2
             }
            },
            "type": "histogram"
           }
          ],
          "histogram2d": [
           {
            "colorbar": {
             "outlinewidth": 0,
             "ticks": ""
            },
            "colorscale": [
             [
              0,
              "#0d0887"
             ],
             [
              0.1111111111111111,
              "#46039f"
             ],
             [
              0.2222222222222222,
              "#7201a8"
             ],
             [
              0.3333333333333333,
              "#9c179e"
             ],
             [
              0.4444444444444444,
              "#bd3786"
             ],
             [
              0.5555555555555556,
              "#d8576b"
             ],
             [
              0.6666666666666666,
              "#ed7953"
             ],
             [
              0.7777777777777778,
              "#fb9f3a"
             ],
             [
              0.8888888888888888,
              "#fdca26"
             ],
             [
              1,
              "#f0f921"
             ]
            ],
            "type": "histogram2d"
           }
          ],
          "histogram2dcontour": [
           {
            "colorbar": {
             "outlinewidth": 0,
             "ticks": ""
            },
            "colorscale": [
             [
              0,
              "#0d0887"
             ],
             [
              0.1111111111111111,
              "#46039f"
             ],
             [
              0.2222222222222222,
              "#7201a8"
             ],
             [
              0.3333333333333333,
              "#9c179e"
             ],
             [
              0.4444444444444444,
              "#bd3786"
             ],
             [
              0.5555555555555556,
              "#d8576b"
             ],
             [
              0.6666666666666666,
              "#ed7953"
             ],
             [
              0.7777777777777778,
              "#fb9f3a"
             ],
             [
              0.8888888888888888,
              "#fdca26"
             ],
             [
              1,
              "#f0f921"
             ]
            ],
            "type": "histogram2dcontour"
           }
          ],
          "mesh3d": [
           {
            "colorbar": {
             "outlinewidth": 0,
             "ticks": ""
            },
            "type": "mesh3d"
           }
          ],
          "parcoords": [
           {
            "line": {
             "colorbar": {
              "outlinewidth": 0,
              "ticks": ""
             }
            },
            "type": "parcoords"
           }
          ],
          "pie": [
           {
            "automargin": true,
            "type": "pie"
           }
          ],
          "scatter": [
           {
            "fillpattern": {
             "fillmode": "overlay",
             "size": 10,
             "solidity": 0.2
            },
            "type": "scatter"
           }
          ],
          "scatter3d": [
           {
            "line": {
             "colorbar": {
              "outlinewidth": 0,
              "ticks": ""
             }
            },
            "marker": {
             "colorbar": {
              "outlinewidth": 0,
              "ticks": ""
             }
            },
            "type": "scatter3d"
           }
          ],
          "scattercarpet": [
           {
            "marker": {
             "colorbar": {
              "outlinewidth": 0,
              "ticks": ""
             }
            },
            "type": "scattercarpet"
           }
          ],
          "scattergeo": [
           {
            "marker": {
             "colorbar": {
              "outlinewidth": 0,
              "ticks": ""
             }
            },
            "type": "scattergeo"
           }
          ],
          "scattergl": [
           {
            "marker": {
             "colorbar": {
              "outlinewidth": 0,
              "ticks": ""
             }
            },
            "type": "scattergl"
           }
          ],
          "scattermap": [
           {
            "marker": {
             "colorbar": {
              "outlinewidth": 0,
              "ticks": ""
             }
            },
            "type": "scattermap"
           }
          ],
          "scattermapbox": [
           {
            "marker": {
             "colorbar": {
              "outlinewidth": 0,
              "ticks": ""
             }
            },
            "type": "scattermapbox"
           }
          ],
          "scatterpolar": [
           {
            "marker": {
             "colorbar": {
              "outlinewidth": 0,
              "ticks": ""
             }
            },
            "type": "scatterpolar"
           }
          ],
          "scatterpolargl": [
           {
            "marker": {
             "colorbar": {
              "outlinewidth": 0,
              "ticks": ""
             }
            },
            "type": "scatterpolargl"
           }
          ],
          "scatterternary": [
           {
            "marker": {
             "colorbar": {
              "outlinewidth": 0,
              "ticks": ""
             }
            },
            "type": "scatterternary"
           }
          ],
          "surface": [
           {
            "colorbar": {
             "outlinewidth": 0,
             "ticks": ""
            },
            "colorscale": [
             [
              0,
              "#0d0887"
             ],
             [
              0.1111111111111111,
              "#46039f"
             ],
             [
              0.2222222222222222,
              "#7201a8"
             ],
             [
              0.3333333333333333,
              "#9c179e"
             ],
             [
              0.4444444444444444,
              "#bd3786"
             ],
             [
              0.5555555555555556,
              "#d8576b"
             ],
             [
              0.6666666666666666,
              "#ed7953"
             ],
             [
              0.7777777777777778,
              "#fb9f3a"
             ],
             [
              0.8888888888888888,
              "#fdca26"
             ],
             [
              1,
              "#f0f921"
             ]
            ],
            "type": "surface"
           }
          ],
          "table": [
           {
            "cells": {
             "fill": {
              "color": "#EBF0F8"
             },
             "line": {
              "color": "white"
             }
            },
            "header": {
             "fill": {
              "color": "#C8D4E3"
             },
             "line": {
              "color": "white"
             }
            },
            "type": "table"
           }
          ]
         },
         "layout": {
          "annotationdefaults": {
           "arrowcolor": "#2a3f5f",
           "arrowhead": 0,
           "arrowwidth": 1
          },
          "autotypenumbers": "strict",
          "coloraxis": {
           "colorbar": {
            "outlinewidth": 0,
            "ticks": ""
           }
          },
          "colorscale": {
           "diverging": [
            [
             0,
             "#8e0152"
            ],
            [
             0.1,
             "#c51b7d"
            ],
            [
             0.2,
             "#de77ae"
            ],
            [
             0.3,
             "#f1b6da"
            ],
            [
             0.4,
             "#fde0ef"
            ],
            [
             0.5,
             "#f7f7f7"
            ],
            [
             0.6,
             "#e6f5d0"
            ],
            [
             0.7,
             "#b8e186"
            ],
            [
             0.8,
             "#7fbc41"
            ],
            [
             0.9,
             "#4d9221"
            ],
            [
             1,
             "#276419"
            ]
           ],
           "sequential": [
            [
             0,
             "#0d0887"
            ],
            [
             0.1111111111111111,
             "#46039f"
            ],
            [
             0.2222222222222222,
             "#7201a8"
            ],
            [
             0.3333333333333333,
             "#9c179e"
            ],
            [
             0.4444444444444444,
             "#bd3786"
            ],
            [
             0.5555555555555556,
             "#d8576b"
            ],
            [
             0.6666666666666666,
             "#ed7953"
            ],
            [
             0.7777777777777778,
             "#fb9f3a"
            ],
            [
             0.8888888888888888,
             "#fdca26"
            ],
            [
             1,
             "#f0f921"
            ]
           ],
           "sequentialminus": [
            [
             0,
             "#0d0887"
            ],
            [
             0.1111111111111111,
             "#46039f"
            ],
            [
             0.2222222222222222,
             "#7201a8"
            ],
            [
             0.3333333333333333,
             "#9c179e"
            ],
            [
             0.4444444444444444,
             "#bd3786"
            ],
            [
             0.5555555555555556,
             "#d8576b"
            ],
            [
             0.6666666666666666,
             "#ed7953"
            ],
            [
             0.7777777777777778,
             "#fb9f3a"
            ],
            [
             0.8888888888888888,
             "#fdca26"
            ],
            [
             1,
             "#f0f921"
            ]
           ]
          },
          "colorway": [
           "#636efa",
           "#EF553B",
           "#00cc96",
           "#ab63fa",
           "#FFA15A",
           "#19d3f3",
           "#FF6692",
           "#B6E880",
           "#FF97FF",
           "#FECB52"
          ],
          "font": {
           "color": "#2a3f5f"
          },
          "geo": {
           "bgcolor": "white",
           "lakecolor": "white",
           "landcolor": "#E5ECF6",
           "showlakes": true,
           "showland": true,
           "subunitcolor": "white"
          },
          "hoverlabel": {
           "align": "left"
          },
          "hovermode": "closest",
          "mapbox": {
           "style": "light"
          },
          "paper_bgcolor": "white",
          "plot_bgcolor": "#E5ECF6",
          "polar": {
           "angularaxis": {
            "gridcolor": "white",
            "linecolor": "white",
            "ticks": ""
           },
           "bgcolor": "#E5ECF6",
           "radialaxis": {
            "gridcolor": "white",
            "linecolor": "white",
            "ticks": ""
           }
          },
          "scene": {
           "xaxis": {
            "backgroundcolor": "#E5ECF6",
            "gridcolor": "white",
            "gridwidth": 2,
            "linecolor": "white",
            "showbackground": true,
            "ticks": "",
            "zerolinecolor": "white"
           },
           "yaxis": {
            "backgroundcolor": "#E5ECF6",
            "gridcolor": "white",
            "gridwidth": 2,
            "linecolor": "white",
            "showbackground": true,
            "ticks": "",
            "zerolinecolor": "white"
           },
           "zaxis": {
            "backgroundcolor": "#E5ECF6",
            "gridcolor": "white",
            "gridwidth": 2,
            "linecolor": "white",
            "showbackground": true,
            "ticks": "",
            "zerolinecolor": "white"
           }
          },
          "shapedefaults": {
           "line": {
            "color": "#2a3f5f"
           }
          },
          "ternary": {
           "aaxis": {
            "gridcolor": "white",
            "linecolor": "white",
            "ticks": ""
           },
           "baxis": {
            "gridcolor": "white",
            "linecolor": "white",
            "ticks": ""
           },
           "bgcolor": "#E5ECF6",
           "caxis": {
            "gridcolor": "white",
            "linecolor": "white",
            "ticks": ""
           }
          },
          "title": {
           "x": 0.05
          },
          "xaxis": {
           "automargin": true,
           "gridcolor": "white",
           "linecolor": "white",
           "ticks": "",
           "title": {
            "standoff": 15
           },
           "zerolinecolor": "white",
           "zerolinewidth": 2
          },
          "yaxis": {
           "automargin": true,
           "gridcolor": "white",
           "linecolor": "white",
           "ticks": "",
           "title": {
            "standoff": 15
           },
           "zerolinecolor": "white",
           "zerolinewidth": 2
          }
         }
        },
        "title": {
         "text": "error  =  simulate  -  real      ------------         w2e_in_2020-01-01_19"
        },
        "xaxis": {
         "title": {
          "text": "time error (s)"
         }
        },
        "yaxis": {
         "title": {
          "text": "Count"
         }
        }
       }
      }
     },
     "metadata": {},
     "output_type": "display_data"
    }
   ],
   "source": [
    "import plotly.graph_objects as go\n",
    "\n",
    "fig = go.Figure()\n",
    "\n",
    "xbins=dict(\n",
    "        start=-4,  # Bin start\n",
    "        end=11,    # Bin end\n",
    "        size=1    # Bin size (width of each bin)\n",
    "    )\n",
    "sim_MAE = round(abs(compare_df['time_sim_error']).mean(),2)\n",
    "calib_MAE = round(abs(compare_df['time_calib_error']).mean(),2)\n",
    "\n",
    "fig.add_trace(go.Histogram(x=compare_df['time_sim_error'], name=f\"time_sim_error --> MAE = {sim_MAE}\", opacity=0.75, xbins=xbins))\n",
    "fig.add_trace(go.Histogram(x=compare_df['time_calib_error'], name=f\"time_calib_error  --> MAE = {calib_MAE}\", opacity=0.75, xbins=xbins))\n",
    "\n",
    "fig.update_layout(\n",
    "    barmode='group',  # Use 'overlay' if you want stacked look\n",
    "    xaxis_title='time error (s)',\n",
    "    yaxis_title='Count',\n",
    "    title=f\"error  =  simulate  -  real      ------------         {postfix}\"\n",
    ")\n",
    "\n",
    "fig.show()\n",
    "fig.write_html(f\"diagram/hist_time_error_{postfix}_new.html\")"
   ]
  },
  {
   "cell_type": "code",
   "execution_count": 237,
   "id": "d0d6ad65",
   "metadata": {},
   "outputs": [
    {
     "name": "stdout",
     "output_type": "stream",
     "text": [
      "-0.3399999141693115 2.180000066757202\n",
      "-0.5199999809265137 2.130000114440918\n"
     ]
    }
   ],
   "source": [
    "print(compare_df['time_sim_error'].min(), compare_df['time_sim_error'].max())\n",
    "print(compare_df['time_calib_error'].min(), compare_df['time_calib_error'].max())"
   ]
  },
  {
   "cell_type": "code",
   "execution_count": 238,
   "id": "807ab781",
   "metadata": {},
   "outputs": [
    {
     "name": "stdout",
     "output_type": "stream",
     "text": [
      "-0.6611111111111114 3.9700000000000006\n",
      "-0.2162862497209872 3.044843208533038\n"
     ]
    }
   ],
   "source": [
    "print(compare_df['speed_sim_error'].min(), compare_df['speed_sim_error'].max())\n",
    "print(compare_df['speed_calib_error'].min(), compare_df['speed_calib_error'].max())"
   ]
  },
  {
   "cell_type": "code",
   "execution_count": 239,
   "id": "01a4e795",
   "metadata": {},
   "outputs": [
    {
     "data": {
      "application/vnd.plotly.v1+json": {
       "config": {
        "plotlyServerURL": "https://plot.ly"
       },
       "data": [
        {
         "name": "speed_sim_error --> MAE = 1.35",
         "opacity": 0.75,
         "type": "histogram",
         "x": {
          "bdata": "gN3d3d3dvb/QzMzMzMz4PyAyVHaYuty/gNInfdIn5b8KtmALtmALQFzyiyW/WA5AAAAAAAAAAADE9Shcj8IPQIC8mnhWNMK/QNBpA502wL94FK5H4XrwP+Dl9gcZKuM/8qxoJOCbAUAwO0xdbn/gv1Ab6LSBTus/kqGyw9TlCkD4SZ/0SZ/0PzAS8M2rie8/gKnL7Q8y5D8=",
          "dtype": "f8"
         },
         "xbins": {
          "end": 7,
          "size": 1,
          "start": -7
         }
        },
        {
         "name": "speed_calib_error --> MAE = 1.04",
         "opacity": 0.75,
         "type": "histogram",
         "x": {
          "bdata": "ACWQkESvy7/4SNtC5xPwPyA/H4jXnNM/gKfanRyPt7+K+woqb8gDQODGkMHWWwhAQPzjKrfdwD/Min1ez9sGQAAsEetyu7c/AM/omvhbwD/Yzmm0ZBvzPwAbpfGIGqi/KOY/eJcA9D+IKarwhmL8P4CXpSpC5/c/Qpy+tHqqAUCAmZCfEerjPwBC4q8BCtk/QFqXK5Zs4D8=",
          "dtype": "f8"
         },
         "xbins": {
          "end": 7,
          "size": 1,
          "start": -7
         }
        }
       ],
       "layout": {
        "barmode": "group",
        "template": {
         "data": {
          "bar": [
           {
            "error_x": {
             "color": "#2a3f5f"
            },
            "error_y": {
             "color": "#2a3f5f"
            },
            "marker": {
             "line": {
              "color": "#E5ECF6",
              "width": 0.5
             },
             "pattern": {
              "fillmode": "overlay",
              "size": 10,
              "solidity": 0.2
             }
            },
            "type": "bar"
           }
          ],
          "barpolar": [
           {
            "marker": {
             "line": {
              "color": "#E5ECF6",
              "width": 0.5
             },
             "pattern": {
              "fillmode": "overlay",
              "size": 10,
              "solidity": 0.2
             }
            },
            "type": "barpolar"
           }
          ],
          "carpet": [
           {
            "aaxis": {
             "endlinecolor": "#2a3f5f",
             "gridcolor": "white",
             "linecolor": "white",
             "minorgridcolor": "white",
             "startlinecolor": "#2a3f5f"
            },
            "baxis": {
             "endlinecolor": "#2a3f5f",
             "gridcolor": "white",
             "linecolor": "white",
             "minorgridcolor": "white",
             "startlinecolor": "#2a3f5f"
            },
            "type": "carpet"
           }
          ],
          "choropleth": [
           {
            "colorbar": {
             "outlinewidth": 0,
             "ticks": ""
            },
            "type": "choropleth"
           }
          ],
          "contour": [
           {
            "colorbar": {
             "outlinewidth": 0,
             "ticks": ""
            },
            "colorscale": [
             [
              0,
              "#0d0887"
             ],
             [
              0.1111111111111111,
              "#46039f"
             ],
             [
              0.2222222222222222,
              "#7201a8"
             ],
             [
              0.3333333333333333,
              "#9c179e"
             ],
             [
              0.4444444444444444,
              "#bd3786"
             ],
             [
              0.5555555555555556,
              "#d8576b"
             ],
             [
              0.6666666666666666,
              "#ed7953"
             ],
             [
              0.7777777777777778,
              "#fb9f3a"
             ],
             [
              0.8888888888888888,
              "#fdca26"
             ],
             [
              1,
              "#f0f921"
             ]
            ],
            "type": "contour"
           }
          ],
          "contourcarpet": [
           {
            "colorbar": {
             "outlinewidth": 0,
             "ticks": ""
            },
            "type": "contourcarpet"
           }
          ],
          "heatmap": [
           {
            "colorbar": {
             "outlinewidth": 0,
             "ticks": ""
            },
            "colorscale": [
             [
              0,
              "#0d0887"
             ],
             [
              0.1111111111111111,
              "#46039f"
             ],
             [
              0.2222222222222222,
              "#7201a8"
             ],
             [
              0.3333333333333333,
              "#9c179e"
             ],
             [
              0.4444444444444444,
              "#bd3786"
             ],
             [
              0.5555555555555556,
              "#d8576b"
             ],
             [
              0.6666666666666666,
              "#ed7953"
             ],
             [
              0.7777777777777778,
              "#fb9f3a"
             ],
             [
              0.8888888888888888,
              "#fdca26"
             ],
             [
              1,
              "#f0f921"
             ]
            ],
            "type": "heatmap"
           }
          ],
          "histogram": [
           {
            "marker": {
             "pattern": {
              "fillmode": "overlay",
              "size": 10,
              "solidity": 0.2
             }
            },
            "type": "histogram"
           }
          ],
          "histogram2d": [
           {
            "colorbar": {
             "outlinewidth": 0,
             "ticks": ""
            },
            "colorscale": [
             [
              0,
              "#0d0887"
             ],
             [
              0.1111111111111111,
              "#46039f"
             ],
             [
              0.2222222222222222,
              "#7201a8"
             ],
             [
              0.3333333333333333,
              "#9c179e"
             ],
             [
              0.4444444444444444,
              "#bd3786"
             ],
             [
              0.5555555555555556,
              "#d8576b"
             ],
             [
              0.6666666666666666,
              "#ed7953"
             ],
             [
              0.7777777777777778,
              "#fb9f3a"
             ],
             [
              0.8888888888888888,
              "#fdca26"
             ],
             [
              1,
              "#f0f921"
             ]
            ],
            "type": "histogram2d"
           }
          ],
          "histogram2dcontour": [
           {
            "colorbar": {
             "outlinewidth": 0,
             "ticks": ""
            },
            "colorscale": [
             [
              0,
              "#0d0887"
             ],
             [
              0.1111111111111111,
              "#46039f"
             ],
             [
              0.2222222222222222,
              "#7201a8"
             ],
             [
              0.3333333333333333,
              "#9c179e"
             ],
             [
              0.4444444444444444,
              "#bd3786"
             ],
             [
              0.5555555555555556,
              "#d8576b"
             ],
             [
              0.6666666666666666,
              "#ed7953"
             ],
             [
              0.7777777777777778,
              "#fb9f3a"
             ],
             [
              0.8888888888888888,
              "#fdca26"
             ],
             [
              1,
              "#f0f921"
             ]
            ],
            "type": "histogram2dcontour"
           }
          ],
          "mesh3d": [
           {
            "colorbar": {
             "outlinewidth": 0,
             "ticks": ""
            },
            "type": "mesh3d"
           }
          ],
          "parcoords": [
           {
            "line": {
             "colorbar": {
              "outlinewidth": 0,
              "ticks": ""
             }
            },
            "type": "parcoords"
           }
          ],
          "pie": [
           {
            "automargin": true,
            "type": "pie"
           }
          ],
          "scatter": [
           {
            "fillpattern": {
             "fillmode": "overlay",
             "size": 10,
             "solidity": 0.2
            },
            "type": "scatter"
           }
          ],
          "scatter3d": [
           {
            "line": {
             "colorbar": {
              "outlinewidth": 0,
              "ticks": ""
             }
            },
            "marker": {
             "colorbar": {
              "outlinewidth": 0,
              "ticks": ""
             }
            },
            "type": "scatter3d"
           }
          ],
          "scattercarpet": [
           {
            "marker": {
             "colorbar": {
              "outlinewidth": 0,
              "ticks": ""
             }
            },
            "type": "scattercarpet"
           }
          ],
          "scattergeo": [
           {
            "marker": {
             "colorbar": {
              "outlinewidth": 0,
              "ticks": ""
             }
            },
            "type": "scattergeo"
           }
          ],
          "scattergl": [
           {
            "marker": {
             "colorbar": {
              "outlinewidth": 0,
              "ticks": ""
             }
            },
            "type": "scattergl"
           }
          ],
          "scattermap": [
           {
            "marker": {
             "colorbar": {
              "outlinewidth": 0,
              "ticks": ""
             }
            },
            "type": "scattermap"
           }
          ],
          "scattermapbox": [
           {
            "marker": {
             "colorbar": {
              "outlinewidth": 0,
              "ticks": ""
             }
            },
            "type": "scattermapbox"
           }
          ],
          "scatterpolar": [
           {
            "marker": {
             "colorbar": {
              "outlinewidth": 0,
              "ticks": ""
             }
            },
            "type": "scatterpolar"
           }
          ],
          "scatterpolargl": [
           {
            "marker": {
             "colorbar": {
              "outlinewidth": 0,
              "ticks": ""
             }
            },
            "type": "scatterpolargl"
           }
          ],
          "scatterternary": [
           {
            "marker": {
             "colorbar": {
              "outlinewidth": 0,
              "ticks": ""
             }
            },
            "type": "scatterternary"
           }
          ],
          "surface": [
           {
            "colorbar": {
             "outlinewidth": 0,
             "ticks": ""
            },
            "colorscale": [
             [
              0,
              "#0d0887"
             ],
             [
              0.1111111111111111,
              "#46039f"
             ],
             [
              0.2222222222222222,
              "#7201a8"
             ],
             [
              0.3333333333333333,
              "#9c179e"
             ],
             [
              0.4444444444444444,
              "#bd3786"
             ],
             [
              0.5555555555555556,
              "#d8576b"
             ],
             [
              0.6666666666666666,
              "#ed7953"
             ],
             [
              0.7777777777777778,
              "#fb9f3a"
             ],
             [
              0.8888888888888888,
              "#fdca26"
             ],
             [
              1,
              "#f0f921"
             ]
            ],
            "type": "surface"
           }
          ],
          "table": [
           {
            "cells": {
             "fill": {
              "color": "#EBF0F8"
             },
             "line": {
              "color": "white"
             }
            },
            "header": {
             "fill": {
              "color": "#C8D4E3"
             },
             "line": {
              "color": "white"
             }
            },
            "type": "table"
           }
          ]
         },
         "layout": {
          "annotationdefaults": {
           "arrowcolor": "#2a3f5f",
           "arrowhead": 0,
           "arrowwidth": 1
          },
          "autotypenumbers": "strict",
          "coloraxis": {
           "colorbar": {
            "outlinewidth": 0,
            "ticks": ""
           }
          },
          "colorscale": {
           "diverging": [
            [
             0,
             "#8e0152"
            ],
            [
             0.1,
             "#c51b7d"
            ],
            [
             0.2,
             "#de77ae"
            ],
            [
             0.3,
             "#f1b6da"
            ],
            [
             0.4,
             "#fde0ef"
            ],
            [
             0.5,
             "#f7f7f7"
            ],
            [
             0.6,
             "#e6f5d0"
            ],
            [
             0.7,
             "#b8e186"
            ],
            [
             0.8,
             "#7fbc41"
            ],
            [
             0.9,
             "#4d9221"
            ],
            [
             1,
             "#276419"
            ]
           ],
           "sequential": [
            [
             0,
             "#0d0887"
            ],
            [
             0.1111111111111111,
             "#46039f"
            ],
            [
             0.2222222222222222,
             "#7201a8"
            ],
            [
             0.3333333333333333,
             "#9c179e"
            ],
            [
             0.4444444444444444,
             "#bd3786"
            ],
            [
             0.5555555555555556,
             "#d8576b"
            ],
            [
             0.6666666666666666,
             "#ed7953"
            ],
            [
             0.7777777777777778,
             "#fb9f3a"
            ],
            [
             0.8888888888888888,
             "#fdca26"
            ],
            [
             1,
             "#f0f921"
            ]
           ],
           "sequentialminus": [
            [
             0,
             "#0d0887"
            ],
            [
             0.1111111111111111,
             "#46039f"
            ],
            [
             0.2222222222222222,
             "#7201a8"
            ],
            [
             0.3333333333333333,
             "#9c179e"
            ],
            [
             0.4444444444444444,
             "#bd3786"
            ],
            [
             0.5555555555555556,
             "#d8576b"
            ],
            [
             0.6666666666666666,
             "#ed7953"
            ],
            [
             0.7777777777777778,
             "#fb9f3a"
            ],
            [
             0.8888888888888888,
             "#fdca26"
            ],
            [
             1,
             "#f0f921"
            ]
           ]
          },
          "colorway": [
           "#636efa",
           "#EF553B",
           "#00cc96",
           "#ab63fa",
           "#FFA15A",
           "#19d3f3",
           "#FF6692",
           "#B6E880",
           "#FF97FF",
           "#FECB52"
          ],
          "font": {
           "color": "#2a3f5f"
          },
          "geo": {
           "bgcolor": "white",
           "lakecolor": "white",
           "landcolor": "#E5ECF6",
           "showlakes": true,
           "showland": true,
           "subunitcolor": "white"
          },
          "hoverlabel": {
           "align": "left"
          },
          "hovermode": "closest",
          "mapbox": {
           "style": "light"
          },
          "paper_bgcolor": "white",
          "plot_bgcolor": "#E5ECF6",
          "polar": {
           "angularaxis": {
            "gridcolor": "white",
            "linecolor": "white",
            "ticks": ""
           },
           "bgcolor": "#E5ECF6",
           "radialaxis": {
            "gridcolor": "white",
            "linecolor": "white",
            "ticks": ""
           }
          },
          "scene": {
           "xaxis": {
            "backgroundcolor": "#E5ECF6",
            "gridcolor": "white",
            "gridwidth": 2,
            "linecolor": "white",
            "showbackground": true,
            "ticks": "",
            "zerolinecolor": "white"
           },
           "yaxis": {
            "backgroundcolor": "#E5ECF6",
            "gridcolor": "white",
            "gridwidth": 2,
            "linecolor": "white",
            "showbackground": true,
            "ticks": "",
            "zerolinecolor": "white"
           },
           "zaxis": {
            "backgroundcolor": "#E5ECF6",
            "gridcolor": "white",
            "gridwidth": 2,
            "linecolor": "white",
            "showbackground": true,
            "ticks": "",
            "zerolinecolor": "white"
           }
          },
          "shapedefaults": {
           "line": {
            "color": "#2a3f5f"
           }
          },
          "ternary": {
           "aaxis": {
            "gridcolor": "white",
            "linecolor": "white",
            "ticks": ""
           },
           "baxis": {
            "gridcolor": "white",
            "linecolor": "white",
            "ticks": ""
           },
           "bgcolor": "#E5ECF6",
           "caxis": {
            "gridcolor": "white",
            "linecolor": "white",
            "ticks": ""
           }
          },
          "title": {
           "x": 0.05
          },
          "xaxis": {
           "automargin": true,
           "gridcolor": "white",
           "linecolor": "white",
           "ticks": "",
           "title": {
            "standoff": 15
           },
           "zerolinecolor": "white",
           "zerolinewidth": 2
          },
          "yaxis": {
           "automargin": true,
           "gridcolor": "white",
           "linecolor": "white",
           "ticks": "",
           "title": {
            "standoff": 15
           },
           "zerolinecolor": "white",
           "zerolinewidth": 2
          }
         }
        },
        "title": {
         "text": "error  =  simulate  -  real      ------------         w2e_in_2020-01-01_19"
        },
        "xaxis": {
         "title": {
          "text": "Value"
         }
        },
        "yaxis": {
         "title": {
          "text": "Count"
         }
        }
       }
      }
     },
     "metadata": {},
     "output_type": "display_data"
    }
   ],
   "source": [
    "import plotly.graph_objects as go\n",
    "\n",
    "fig = go.Figure()\n",
    "\n",
    "xbins=dict(\n",
    "        start=-7,  # Bin start\n",
    "        end=7,    # Bin end\n",
    "        size=1    # Bin size (width of each bin)\n",
    "    )\n",
    "sim_MAE = round(abs(compare_df['speed_sim_error']).mean(),2)\n",
    "calib_MAE = round(abs(compare_df['speed_calib_error']).mean(),2)\n",
    "fig.add_trace(go.Histogram(x=compare_df['speed_sim_error'], name=f\"speed_sim_error --> MAE = {sim_MAE}\", opacity=0.75, xbins=xbins))\n",
    "fig.add_trace(go.Histogram(x=compare_df['speed_calib_error'], name=f\"speed_calib_error --> MAE = {calib_MAE}\", opacity=0.75, xbins=xbins))\n",
    "\n",
    "fig.update_layout(\n",
    "    barmode='group',  # Use 'overlay' if you want stacked look\n",
    "    xaxis_title='Value',\n",
    "    yaxis_title='Count',\n",
    "    title=f\"error  =  simulate  -  real      ------------         {postfix}\"\n",
    ")\n",
    "\n",
    "fig.show()\n",
    "fig.write_html(f\"diagram/hist_speed_error_{postfix}_new.html\")"
   ]
  },
  {
   "cell_type": "code",
   "execution_count": 240,
   "id": "69f61ca7",
   "metadata": {},
   "outputs": [],
   "source": [
    "#import os\n",
    "#os.environ[\"HORNSGATAN_HOME\"]\n"
   ]
  }
 ],
 "metadata": {
  "kernelspec": {
   "display_name": "KTH",
   "language": "python",
   "name": "python3"
  },
  "language_info": {
   "codemirror_mode": {
    "name": "ipython",
    "version": 3
   },
   "file_extension": ".py",
   "mimetype": "text/x-python",
   "name": "python",
   "nbconvert_exporter": "python",
   "pygments_lexer": "ipython3",
   "version": "3.12.3"
  }
 },
 "nbformat": 4,
 "nbformat_minor": 5
}
