{
 "cells": [
  {
   "cell_type": "markdown",
   "id": "bca770e1",
   "metadata": {},
   "source": [
    "compare calibration result and simulation result in the instant loop detector"
   ]
  },
  {
   "cell_type": "code",
   "execution_count": 29,
   "id": "3c464bd4",
   "metadata": {},
   "outputs": [
    {
     "name": "stdout",
     "output_type": "stream",
     "text": [
      "Current directory: /home/kaveh/projects/Hornsgatan\n",
      "Current directory: /home/kaveh/projects/Hornsgatan\n"
     ]
    }
   ],
   "source": [
    "import os\n",
    "print(\"Current directory:\", os.getcwd())\n",
    "HORNSGATAN_HOME = os.environ[\"HORNSGATAN_HOME\"]\n",
    "os.chdir(HORNSGATAN_HOME)\n",
    "print(\"Current directory:\", os.getcwd())\n",
    "\n",
    "#number = len(data)\n",
    "import pandas as pd\n",
    "date = '2020-01-01'\n",
    "detector = 'w2e_in'\n",
    "number = 100\n",
    "path  = \"data/sim_data/\"\n",
    "if number<1:\n",
    "    postfix = f\"{detector}_{date}\"\n",
    "else:\n",
    "    postfix = f\"{detector}_{date}_{number}\"\n",
    "\n",
    "instantInductionLoop_filename_xml = f\"{path}instantInductionLoop_{postfix}.xml\"\n"
   ]
  },
  {
   "cell_type": "code",
   "execution_count": 32,
   "id": "b2afbafc",
   "metadata": {},
   "outputs": [],
   "source": [
    "import xml.etree.ElementTree as ET\n",
    "\n",
    "# Parse the XML content of output_detectors.xml\n",
    "tree_output = ET.parse(instantInductionLoop_filename_xml)\n",
    "root_output = tree_output.getroot()\n",
    "\n",
    "# Extract data from the XML\n",
    "instant_out_data = []\n",
    "for instant_out in root_output.findall('instantOut'):\n",
    "    instant_out_data.append({\n",
    "        'id': instant_out.get('id'),\n",
    "        'time': float(instant_out.get('time')),\n",
    "        'state': instant_out.get('state'),\n",
    "        'vehID': instant_out.get('vehID'),\n",
    "        'speed': float(instant_out.get('speed')),  # Convert speed to km/h\n",
    "        'length': instant_out.get('length'),\n",
    "        'type': instant_out.get('type'),\n",
    "        'gap': instant_out.get('gap')\n",
    "    })\n",
    "\n",
    "# Convert to a DataFrame\n",
    "df_instant_out = pd.DataFrame(instant_out_data)\n",
    "df_instant_out = df_instant_out[df_instant_out[\"state\"]=='enter']\n",
    "# Save to CSV\n",
    "#output_csv_file_instant_out = 'output_instant_out.csv'\n",
    "#df_instant_out.to_csv(output_csv_file_instant_out, index=False)\n",
    "#print(f\"Data from 'output_detectors.xml' successfully converted to CSV and saved as '{output_csv_file_instant_out}'.\")\n"
   ]
  },
  {
   "cell_type": "code",
   "execution_count": 19,
   "id": "0cb30bef",
   "metadata": {},
   "outputs": [
    {
     "data": {
      "application/vnd.microsoft.datawrangler.viewer.v0+json": {
       "columns": [
        {
         "name": "index",
         "rawType": "int64",
         "type": "integer"
        },
        {
         "name": "id",
         "rawType": "object",
         "type": "string"
        },
        {
         "name": "time",
         "rawType": "float64",
         "type": "float"
        },
        {
         "name": "state",
         "rawType": "object",
         "type": "string"
        },
        {
         "name": "vehID",
         "rawType": "object",
         "type": "string"
        },
        {
         "name": "speed",
         "rawType": "float64",
         "type": "float"
        },
        {
         "name": "length",
         "rawType": "object",
         "type": "string"
        },
        {
         "name": "type",
         "rawType": "object",
         "type": "string"
        },
        {
         "name": "gap",
         "rawType": "object",
         "type": "unknown"
        }
       ],
       "conversionMethod": "pd.DataFrame",
       "ref": "d419c7a8-a5ec-4e32-b418-0b833014bea2",
       "rows": [
        [
         "0",
         "w2e_in",
         "1577836811.82",
         "enter",
         "0_w2e_in",
         "9.05",
         "5.00",
         "DEFAULT_VEHTYPE",
         null
        ],
        [
         "3",
         "w2e_in",
         "1577836814.11",
         "enter",
         "1_w2e_in",
         "8.9",
         "5.00",
         "DEFAULT_VEHTYPE",
         "1.74"
        ],
        [
         "5",
         "w2e_in",
         "1577836815.95",
         "enter",
         "2_w2e_in",
         "8.9",
         "5.00",
         "DEFAULT_VEHTYPE",
         "1.28"
        ],
        [
         "8",
         "w2e_in",
         "1577836826.23",
         "enter",
         "3_w2e_in",
         "11.3",
         "5.00",
         "DEFAULT_VEHTYPE",
         "9.71"
        ],
        [
         "10",
         "w2e_in",
         "1577836847.13",
         "enter",
         "4_w2e_in",
         "7.71",
         "5.00",
         "DEFAULT_VEHTYPE",
         "20.46"
        ],
        [
         "12",
         "w2e_in",
         "1577836849.5",
         "enter",
         "5_w2e_in",
         "7.6",
         "5.00",
         "DEFAULT_VEHTYPE",
         "1.72"
        ],
        [
         "15",
         "w2e_in",
         "1577836880.1",
         "enter",
         "6_w2e_in",
         "10.52",
         "5.00",
         "DEFAULT_VEHTYPE",
         "29.94"
        ],
        [
         "17",
         "w2e_in",
         "1577836884.1",
         "enter",
         "7_w2e_in",
         "9.81",
         "5.00",
         "DEFAULT_VEHTYPE",
         "3.53"
        ],
        [
         "19",
         "w2e_in",
         "1577836905.98",
         "enter",
         "8_w2e_in",
         "9.44",
         "5.00",
         "DEFAULT_VEHTYPE",
         "21.36"
        ],
        [
         "22",
         "w2e_in",
         "1577836932.11",
         "enter",
         "9_w2e_in",
         "9.15",
         "5.00",
         "DEFAULT_VEHTYPE",
         "25.60"
        ],
        [
         "24",
         "w2e_in",
         "1577836933.93",
         "enter",
         "10_w2e_in",
         "9.15",
         "5.00",
         "DEFAULT_VEHTYPE",
         "1.27"
        ],
        [
         "27",
         "w2e_in",
         "1577836936.11",
         "enter",
         "11_w2e_in",
         "8.99",
         "5.00",
         "DEFAULT_VEHTYPE",
         "1.64"
        ],
        [
         "29",
         "w2e_in",
         "1577836938.6",
         "enter",
         "12_w2e_in",
         "8.74",
         "5.00",
         "DEFAULT_VEHTYPE",
         "1.94"
        ],
        [
         "32",
         "w2e_in",
         "1577836943.26",
         "enter",
         "13_w2e_in",
         "11.0",
         "5.00",
         "DEFAULT_VEHTYPE",
         "4.08"
        ],
        [
         "34",
         "w2e_in",
         "1577836944.94",
         "enter",
         "14_w2e_in",
         "11.0",
         "5.00",
         "DEFAULT_VEHTYPE",
         "1.23"
        ],
        [
         "37",
         "w2e_in",
         "1577836946.62",
         "enter",
         "15_w2e_in",
         "11.01",
         "5.00",
         "DEFAULT_VEHTYPE",
         "1.23"
        ],
        [
         "40",
         "w2e_in",
         "1577836954.86",
         "enter",
         "16_w2e_in",
         "10.13",
         "5.00",
         "DEFAULT_VEHTYPE",
         "7.78"
        ],
        [
         "43",
         "w2e_in",
         "1577836960.01",
         "enter",
         "17_w2e_in",
         "9.23",
         "5.00",
         "DEFAULT_VEHTYPE",
         "4.65"
        ],
        [
         "45",
         "w2e_in",
         "1577836962.02",
         "enter",
         "18_w2e_in",
         "9.17",
         "5.00",
         "DEFAULT_VEHTYPE",
         "1.47"
        ],
        [
         "47",
         "w2e_in",
         "1577836964.04",
         "enter",
         "19_w2e_in",
         "9.09",
         "5.00",
         "DEFAULT_VEHTYPE",
         "1.47"
        ],
        [
         "49",
         "w2e_in",
         "1577836977.92",
         "enter",
         "20_w2e_in",
         "9.66",
         "5.00",
         "DEFAULT_VEHTYPE",
         "13.33"
        ],
        [
         "52",
         "w2e_in",
         "1577837006.09",
         "enter",
         "21_w2e_in",
         "11.65",
         "5.00",
         "DEFAULT_VEHTYPE",
         "27.65"
        ],
        [
         "54",
         "w2e_in",
         "1577837011.1",
         "enter",
         "22_w2e_in",
         "10.51",
         "5.00",
         "DEFAULT_VEHTYPE",
         "4.58"
        ],
        [
         "56",
         "w2e_in",
         "1577837013.33",
         "enter",
         "23_w2e_in",
         "10.5",
         "5.00",
         "DEFAULT_VEHTYPE",
         "1.76"
        ],
        [
         "58",
         "w2e_in",
         "1577837015.19",
         "enter",
         "24_w2e_in",
         "10.4",
         "5.00",
         "DEFAULT_VEHTYPE",
         "1.39"
        ],
        [
         "60",
         "w2e_in",
         "1577837016.91",
         "enter",
         "25_w2e_in",
         "10.4",
         "5.00",
         "DEFAULT_VEHTYPE",
         "1.24"
        ],
        [
         "63",
         "w2e_in",
         "1577837018.63",
         "enter",
         "26_w2e_in",
         "10.4",
         "5.00",
         "DEFAULT_VEHTYPE",
         "1.24"
        ],
        [
         "66",
         "w2e_in",
         "1577837020.65",
         "enter",
         "27_w2e_in",
         "10.18",
         "5.00",
         "DEFAULT_VEHTYPE",
         "1.54"
        ],
        [
         "69",
         "w2e_in",
         "1577837022.39",
         "enter",
         "28_w2e_in",
         "10.18",
         "5.00",
         "DEFAULT_VEHTYPE",
         "1.25"
        ],
        [
         "71",
         "w2e_in",
         "1577837024.48",
         "enter",
         "29_w2e_in",
         "9.85",
         "5.00",
         "DEFAULT_VEHTYPE",
         "1.60"
        ],
        [
         "73",
         "w2e_in",
         "1577837036.09",
         "enter",
         "30_w2e_in",
         "11.05",
         "5.00",
         "DEFAULT_VEHTYPE",
         "11.10"
        ],
        [
         "75",
         "w2e_in",
         "1577837041.91",
         "enter",
         "31_w2e_in",
         "10.12",
         "5.00",
         "DEFAULT_VEHTYPE",
         "5.37"
        ],
        [
         "78",
         "w2e_in",
         "1577837064.08",
         "enter",
         "32_w2e_in",
         "12.1",
         "5.00",
         "DEFAULT_VEHTYPE",
         "21.68"
        ],
        [
         "80",
         "w2e_in",
         "1577837069.09",
         "enter",
         "33_w2e_in",
         "10.85",
         "5.00",
         "DEFAULT_VEHTYPE",
         "4.60"
        ],
        [
         "82",
         "w2e_in",
         "1577837092.1",
         "enter",
         "34_w2e_in",
         "9.6",
         "5.00",
         "DEFAULT_VEHTYPE",
         "22.55"
        ],
        [
         "84",
         "w2e_in",
         "1577837095.11",
         "enter",
         "35_w2e_in",
         "9.21",
         "5.00",
         "DEFAULT_VEHTYPE",
         "2.48"
        ],
        [
         "86",
         "w2e_in",
         "1577837097.43",
         "enter",
         "36_w2e_in",
         "9.04",
         "5.00",
         "DEFAULT_VEHTYPE",
         "1.78"
        ],
        [
         "88",
         "w2e_in",
         "1577837131.0",
         "enter",
         "37_w2e_in",
         "11.78",
         "5.00",
         "DEFAULT_VEHTYPE",
         "33.02"
        ],
        [
         "90",
         "w2e_in",
         "1577837133.09",
         "enter",
         "38_w2e_in",
         "11.48",
         "5.00",
         "DEFAULT_VEHTYPE",
         "1.66"
        ],
        [
         "92",
         "w2e_in",
         "1577837134.93",
         "enter",
         "39_w2e_in",
         "11.38",
         "5.00",
         "DEFAULT_VEHTYPE",
         "1.41"
        ],
        [
         "95",
         "w2e_in",
         "1577837141.59",
         "enter",
         "40_w2e_in",
         "9.73",
         "5.00",
         "DEFAULT_VEHTYPE",
         "6.21"
        ],
        [
         "98",
         "w2e_in",
         "1577837146.09",
         "enter",
         "41_w2e_in",
         "11.11",
         "5.00",
         "DEFAULT_VEHTYPE",
         "3.99"
        ],
        [
         "100",
         "w2e_in",
         "1577837151.89",
         "enter",
         "42_w2e_in",
         "9.89",
         "5.00",
         "DEFAULT_VEHTYPE",
         "5.35"
        ],
        [
         "103",
         "w2e_in",
         "1577837164.28",
         "enter",
         "43_w2e_in",
         "8.08",
         "5.00",
         "DEFAULT_VEHTYPE",
         "11.88"
        ],
        [
         "105",
         "w2e_in",
         "1577837181.11",
         "enter",
         "44_w2e_in",
         "9.36",
         "5.00",
         "DEFAULT_VEHTYPE",
         "16.21"
        ],
        [
         "107",
         "w2e_in",
         "1577837183.11",
         "enter",
         "45_w2e_in",
         "9.3",
         "5.00",
         "DEFAULT_VEHTYPE",
         "1.47"
        ],
        [
         "109",
         "w2e_in",
         "1577837211.01",
         "enter",
         "46_w2e_in",
         "9.65",
         "5.00",
         "DEFAULT_VEHTYPE",
         "27.36"
        ],
        [
         "111",
         "w2e_in",
         "1577837212.79",
         "enter",
         "47_w2e_in",
         "9.65",
         "5.00",
         "DEFAULT_VEHTYPE",
         "1.26"
        ],
        [
         "114",
         "w2e_in",
         "1577837215.37",
         "enter",
         "48_w2e_in",
         "12.6",
         "5.00",
         "DEFAULT_VEHTYPE",
         "2.06"
        ],
        [
         "116",
         "w2e_in",
         "1577837216.96",
         "enter",
         "49_w2e_in",
         "12.54",
         "5.00",
         "DEFAULT_VEHTYPE",
         "1.19"
        ]
       ],
       "shape": {
        "columns": 8,
        "rows": 100
       }
      },
      "text/html": [
       "<div>\n",
       "<style scoped>\n",
       "    .dataframe tbody tr th:only-of-type {\n",
       "        vertical-align: middle;\n",
       "    }\n",
       "\n",
       "    .dataframe tbody tr th {\n",
       "        vertical-align: top;\n",
       "    }\n",
       "\n",
       "    .dataframe thead th {\n",
       "        text-align: right;\n",
       "    }\n",
       "</style>\n",
       "<table border=\"1\" class=\"dataframe\">\n",
       "  <thead>\n",
       "    <tr style=\"text-align: right;\">\n",
       "      <th></th>\n",
       "      <th>id</th>\n",
       "      <th>time</th>\n",
       "      <th>state</th>\n",
       "      <th>vehID</th>\n",
       "      <th>speed</th>\n",
       "      <th>length</th>\n",
       "      <th>type</th>\n",
       "      <th>gap</th>\n",
       "    </tr>\n",
       "  </thead>\n",
       "  <tbody>\n",
       "    <tr>\n",
       "      <th>0</th>\n",
       "      <td>w2e_in</td>\n",
       "      <td>1.577837e+09</td>\n",
       "      <td>enter</td>\n",
       "      <td>0_w2e_in</td>\n",
       "      <td>9.05</td>\n",
       "      <td>5.00</td>\n",
       "      <td>DEFAULT_VEHTYPE</td>\n",
       "      <td>None</td>\n",
       "    </tr>\n",
       "    <tr>\n",
       "      <th>3</th>\n",
       "      <td>w2e_in</td>\n",
       "      <td>1.577837e+09</td>\n",
       "      <td>enter</td>\n",
       "      <td>1_w2e_in</td>\n",
       "      <td>8.90</td>\n",
       "      <td>5.00</td>\n",
       "      <td>DEFAULT_VEHTYPE</td>\n",
       "      <td>1.74</td>\n",
       "    </tr>\n",
       "    <tr>\n",
       "      <th>5</th>\n",
       "      <td>w2e_in</td>\n",
       "      <td>1.577837e+09</td>\n",
       "      <td>enter</td>\n",
       "      <td>2_w2e_in</td>\n",
       "      <td>8.90</td>\n",
       "      <td>5.00</td>\n",
       "      <td>DEFAULT_VEHTYPE</td>\n",
       "      <td>1.28</td>\n",
       "    </tr>\n",
       "    <tr>\n",
       "      <th>8</th>\n",
       "      <td>w2e_in</td>\n",
       "      <td>1.577837e+09</td>\n",
       "      <td>enter</td>\n",
       "      <td>3_w2e_in</td>\n",
       "      <td>11.30</td>\n",
       "      <td>5.00</td>\n",
       "      <td>DEFAULT_VEHTYPE</td>\n",
       "      <td>9.71</td>\n",
       "    </tr>\n",
       "    <tr>\n",
       "      <th>10</th>\n",
       "      <td>w2e_in</td>\n",
       "      <td>1.577837e+09</td>\n",
       "      <td>enter</td>\n",
       "      <td>4_w2e_in</td>\n",
       "      <td>7.71</td>\n",
       "      <td>5.00</td>\n",
       "      <td>DEFAULT_VEHTYPE</td>\n",
       "      <td>20.46</td>\n",
       "    </tr>\n",
       "    <tr>\n",
       "      <th>...</th>\n",
       "      <td>...</td>\n",
       "      <td>...</td>\n",
       "      <td>...</td>\n",
       "      <td>...</td>\n",
       "      <td>...</td>\n",
       "      <td>...</td>\n",
       "      <td>...</td>\n",
       "      <td>...</td>\n",
       "    </tr>\n",
       "    <tr>\n",
       "      <th>224</th>\n",
       "      <td>w2e_in</td>\n",
       "      <td>1.577838e+09</td>\n",
       "      <td>enter</td>\n",
       "      <td>95_w2e_in</td>\n",
       "      <td>10.52</td>\n",
       "      <td>5.00</td>\n",
       "      <td>DEFAULT_VEHTYPE</td>\n",
       "      <td>7.41</td>\n",
       "    </tr>\n",
       "    <tr>\n",
       "      <th>226</th>\n",
       "      <td>w2e_in</td>\n",
       "      <td>1.577838e+09</td>\n",
       "      <td>enter</td>\n",
       "      <td>96_w2e_in</td>\n",
       "      <td>10.53</td>\n",
       "      <td>5.00</td>\n",
       "      <td>DEFAULT_VEHTYPE</td>\n",
       "      <td>33.52</td>\n",
       "    </tr>\n",
       "    <tr>\n",
       "      <th>228</th>\n",
       "      <td>w2e_in</td>\n",
       "      <td>1.577838e+09</td>\n",
       "      <td>enter</td>\n",
       "      <td>97_w2e_in</td>\n",
       "      <td>7.96</td>\n",
       "      <td>5.00</td>\n",
       "      <td>DEFAULT_VEHTYPE</td>\n",
       "      <td>13.56</td>\n",
       "    </tr>\n",
       "    <tr>\n",
       "      <th>230</th>\n",
       "      <td>w2e_in</td>\n",
       "      <td>1.577838e+09</td>\n",
       "      <td>enter</td>\n",
       "      <td>98_w2e_in</td>\n",
       "      <td>8.26</td>\n",
       "      <td>5.00</td>\n",
       "      <td>DEFAULT_VEHTYPE</td>\n",
       "      <td>1.68</td>\n",
       "    </tr>\n",
       "    <tr>\n",
       "      <th>233</th>\n",
       "      <td>w2e_in</td>\n",
       "      <td>1.577838e+09</td>\n",
       "      <td>enter</td>\n",
       "      <td>99_w2e_in</td>\n",
       "      <td>8.20</td>\n",
       "      <td>5.00</td>\n",
       "      <td>DEFAULT_VEHTYPE</td>\n",
       "      <td>1.46</td>\n",
       "    </tr>\n",
       "  </tbody>\n",
       "</table>\n",
       "<p>100 rows × 8 columns</p>\n",
       "</div>"
      ],
      "text/plain": [
       "         id          time  state      vehID  speed length             type  \\\n",
       "0    w2e_in  1.577837e+09  enter   0_w2e_in   9.05   5.00  DEFAULT_VEHTYPE   \n",
       "3    w2e_in  1.577837e+09  enter   1_w2e_in   8.90   5.00  DEFAULT_VEHTYPE   \n",
       "5    w2e_in  1.577837e+09  enter   2_w2e_in   8.90   5.00  DEFAULT_VEHTYPE   \n",
       "8    w2e_in  1.577837e+09  enter   3_w2e_in  11.30   5.00  DEFAULT_VEHTYPE   \n",
       "10   w2e_in  1.577837e+09  enter   4_w2e_in   7.71   5.00  DEFAULT_VEHTYPE   \n",
       "..      ...           ...    ...        ...    ...    ...              ...   \n",
       "224  w2e_in  1.577838e+09  enter  95_w2e_in  10.52   5.00  DEFAULT_VEHTYPE   \n",
       "226  w2e_in  1.577838e+09  enter  96_w2e_in  10.53   5.00  DEFAULT_VEHTYPE   \n",
       "228  w2e_in  1.577838e+09  enter  97_w2e_in   7.96   5.00  DEFAULT_VEHTYPE   \n",
       "230  w2e_in  1.577838e+09  enter  98_w2e_in   8.26   5.00  DEFAULT_VEHTYPE   \n",
       "233  w2e_in  1.577838e+09  enter  99_w2e_in   8.20   5.00  DEFAULT_VEHTYPE   \n",
       "\n",
       "       gap  \n",
       "0     None  \n",
       "3     1.74  \n",
       "5     1.28  \n",
       "8     9.71  \n",
       "10   20.46  \n",
       "..     ...  \n",
       "224   7.41  \n",
       "226  33.52  \n",
       "228  13.56  \n",
       "230   1.68  \n",
       "233   1.46  \n",
       "\n",
       "[100 rows x 8 columns]"
      ]
     },
     "execution_count": 19,
     "metadata": {},
     "output_type": "execute_result"
    }
   ],
   "source": [
    "df_instant_out"
   ]
  },
  {
   "cell_type": "code",
   "execution_count": 33,
   "id": "2509bb26",
   "metadata": {},
   "outputs": [
    {
     "data": {
      "application/vnd.microsoft.datawrangler.viewer.v0+json": {
       "columns": [
        {
         "name": "index",
         "rawType": "int64",
         "type": "integer"
        },
        {
         "name": "vehID",
         "rawType": "object",
         "type": "string"
        },
        {
         "name": "time_detector_sim",
         "rawType": "float64",
         "type": "float"
        },
        {
         "name": "speed_detector_sim",
         "rawType": "float64",
         "type": "float"
        },
        {
         "name": "speed_factor",
         "rawType": "float64",
         "type": "float"
        },
        {
         "name": "time_detector_real",
         "rawType": "int64",
         "type": "integer"
        },
        {
         "name": "depart",
         "rawType": "int64",
         "type": "integer"
        },
        {
         "name": "departSpeed",
         "rawType": "object",
         "type": "string"
        },
        {
         "name": "speed_detector_real",
         "rawType": "float64",
         "type": "float"
        },
        {
         "name": "delta_time",
         "rawType": "float64",
         "type": "float"
        },
        {
         "name": "delta_speed",
         "rawType": "float64",
         "type": "float"
        }
       ],
       "conversionMethod": "pd.DataFrame",
       "ref": "edf7cac8-3dcc-4e92-b00d-b13bef4468c7",
       "rows": [
        [
         "0",
         "0_w2e_in",
         "1577836811.08",
         "11.448342348863628",
         "1.3743510255343607",
         "1577836811",
         "1577836773",
         "max",
         "9.166666666666666",
         "0.0799999237060546",
         "2.281675682196962"
        ],
        [
         "1",
         "1_w2e_in",
         "1577836814.09",
         "10.842219655617743",
         "1.3015868618781523",
         "1577836814",
         "1577836774",
         "max",
         "7.5",
         "0.0899999141693115",
         "3.342219655617745"
        ],
        [
         "2",
         "2_w2e_in",
         "1577836817.1",
         "10.46754124446401",
         "1.2566077851313933",
         "1577836815",
         "1577836775",
         "max",
         "8.88888888888889",
         "2.0999999046325684",
         "1.5786523555751213"
        ],
        [
         "3",
         "3_w2e_in",
         "1577836826.09",
         "10.77568519809741",
         "1.2935996429233088",
         "1577836826",
         "1577836786",
         "max",
         "11.11111111111111",
         "0.0899999141693115",
         "-0.3354259130137009"
        ],
        [
         "4",
         "4_w2e_in",
         "1577836847.13",
         "7.675852865627043",
         "0.9214709900633496",
         "1577836847",
         "1577836791",
         "max",
         "7.777777777777778",
         "0.1300001144409179",
         "-0.1019249121507348"
        ]
       ],
       "shape": {
        "columns": 10,
        "rows": 5
       }
      },
      "text/html": [
       "<div>\n",
       "<style scoped>\n",
       "    .dataframe tbody tr th:only-of-type {\n",
       "        vertical-align: middle;\n",
       "    }\n",
       "\n",
       "    .dataframe tbody tr th {\n",
       "        vertical-align: top;\n",
       "    }\n",
       "\n",
       "    .dataframe thead th {\n",
       "        text-align: right;\n",
       "    }\n",
       "</style>\n",
       "<table border=\"1\" class=\"dataframe\">\n",
       "  <thead>\n",
       "    <tr style=\"text-align: right;\">\n",
       "      <th></th>\n",
       "      <th>vehID</th>\n",
       "      <th>time_detector_sim</th>\n",
       "      <th>speed_detector_sim</th>\n",
       "      <th>speed_factor</th>\n",
       "      <th>time_detector_real</th>\n",
       "      <th>depart</th>\n",
       "      <th>departSpeed</th>\n",
       "      <th>speed_detector_real</th>\n",
       "      <th>delta_time</th>\n",
       "      <th>delta_speed</th>\n",
       "    </tr>\n",
       "  </thead>\n",
       "  <tbody>\n",
       "    <tr>\n",
       "      <th>0</th>\n",
       "      <td>0_w2e_in</td>\n",
       "      <td>1.577837e+09</td>\n",
       "      <td>11.448342</td>\n",
       "      <td>1.374351</td>\n",
       "      <td>1577836811</td>\n",
       "      <td>1577836773</td>\n",
       "      <td>max</td>\n",
       "      <td>9.166667</td>\n",
       "      <td>0.08</td>\n",
       "      <td>2.281676</td>\n",
       "    </tr>\n",
       "    <tr>\n",
       "      <th>1</th>\n",
       "      <td>1_w2e_in</td>\n",
       "      <td>1.577837e+09</td>\n",
       "      <td>10.842220</td>\n",
       "      <td>1.301587</td>\n",
       "      <td>1577836814</td>\n",
       "      <td>1577836774</td>\n",
       "      <td>max</td>\n",
       "      <td>7.500000</td>\n",
       "      <td>0.09</td>\n",
       "      <td>3.342220</td>\n",
       "    </tr>\n",
       "    <tr>\n",
       "      <th>2</th>\n",
       "      <td>2_w2e_in</td>\n",
       "      <td>1.577837e+09</td>\n",
       "      <td>10.467541</td>\n",
       "      <td>1.256608</td>\n",
       "      <td>1577836815</td>\n",
       "      <td>1577836775</td>\n",
       "      <td>max</td>\n",
       "      <td>8.888889</td>\n",
       "      <td>2.10</td>\n",
       "      <td>1.578652</td>\n",
       "    </tr>\n",
       "    <tr>\n",
       "      <th>3</th>\n",
       "      <td>3_w2e_in</td>\n",
       "      <td>1.577837e+09</td>\n",
       "      <td>10.775685</td>\n",
       "      <td>1.293600</td>\n",
       "      <td>1577836826</td>\n",
       "      <td>1577836786</td>\n",
       "      <td>max</td>\n",
       "      <td>11.111111</td>\n",
       "      <td>0.09</td>\n",
       "      <td>-0.335426</td>\n",
       "    </tr>\n",
       "    <tr>\n",
       "      <th>4</th>\n",
       "      <td>4_w2e_in</td>\n",
       "      <td>1.577837e+09</td>\n",
       "      <td>7.675853</td>\n",
       "      <td>0.921471</td>\n",
       "      <td>1577836847</td>\n",
       "      <td>1577836791</td>\n",
       "      <td>max</td>\n",
       "      <td>7.777778</td>\n",
       "      <td>0.13</td>\n",
       "      <td>-0.101925</td>\n",
       "    </tr>\n",
       "  </tbody>\n",
       "</table>\n",
       "</div>"
      ],
      "text/plain": [
       "      vehID  time_detector_sim  speed_detector_sim  speed_factor  \\\n",
       "0  0_w2e_in       1.577837e+09           11.448342      1.374351   \n",
       "1  1_w2e_in       1.577837e+09           10.842220      1.301587   \n",
       "2  2_w2e_in       1.577837e+09           10.467541      1.256608   \n",
       "3  3_w2e_in       1.577837e+09           10.775685      1.293600   \n",
       "4  4_w2e_in       1.577837e+09            7.675853      0.921471   \n",
       "\n",
       "   time_detector_real      depart departSpeed  speed_detector_real  \\\n",
       "0          1577836811  1577836773         max             9.166667   \n",
       "1          1577836814  1577836774         max             7.500000   \n",
       "2          1577836815  1577836775         max             8.888889   \n",
       "3          1577836826  1577836786         max            11.111111   \n",
       "4          1577836847  1577836791         max             7.777778   \n",
       "\n",
       "   delta_time  delta_speed  \n",
       "0        0.08     2.281676  \n",
       "1        0.09     3.342220  \n",
       "2        2.10     1.578652  \n",
       "3        0.09    -0.335426  \n",
       "4        0.13    -0.101925  "
      ]
     },
     "execution_count": 33,
     "metadata": {},
     "output_type": "execute_result"
    }
   ],
   "source": [
    "data = pd.read_csv(f'data/calibration_data/calibrated_data_{postfix}.csv')\n",
    "data.rename(columns={\"veh_id\": \"vehID\"}, inplace=True)\n",
    "data.head()"
   ]
  },
  {
   "cell_type": "code",
   "execution_count": 34,
   "id": "41ef4aa2",
   "metadata": {},
   "outputs": [
    {
     "name": "stdout",
     "output_type": "stream",
     "text": [
      "100 100\n"
     ]
    }
   ],
   "source": [
    "print(len(data), len(df_instant_out))"
   ]
  },
  {
   "cell_type": "markdown",
   "id": "26c7724a",
   "metadata": {},
   "source": [
    "compare time error and speed error in loop detector between simulation result and calibration result"
   ]
  },
  {
   "cell_type": "code",
   "execution_count": null,
   "id": "78ee4572",
   "metadata": {},
   "outputs": [
    {
     "data": {
      "application/vnd.microsoft.datawrangler.viewer.v0+json": {
       "columns": [
        {
         "name": "index",
         "rawType": "int64",
         "type": "integer"
        },
        {
         "name": "vehID",
         "rawType": "object",
         "type": "string"
        },
        {
         "name": "time",
         "rawType": "float64",
         "type": "float"
        },
        {
         "name": "speed",
         "rawType": "float64",
         "type": "float"
        },
        {
         "name": "time_detector_sim",
         "rawType": "float64",
         "type": "float"
        },
        {
         "name": "speed_detector_sim",
         "rawType": "float64",
         "type": "float"
        },
        {
         "name": "time_detector_real",
         "rawType": "int64",
         "type": "integer"
        },
        {
         "name": "speed_detector_real",
         "rawType": "float64",
         "type": "float"
        }
       ],
       "conversionMethod": "pd.DataFrame",
       "ref": "c5efe7b4-0ce3-4d1f-b05c-4953ab9768c1",
       "rows": [
        [
         "0",
         "0_w2e_in",
         "1577836811.08",
         "11.45",
         "1577836811.08",
         "11.448342348863628",
         "1577836811",
         "9.166666666666666"
        ],
        [
         "1",
         "1_w2e_in",
         "1577836814.09",
         "10.84",
         "1577836814.09",
         "10.842219655617743",
         "1577836814",
         "7.5"
        ],
        [
         "2",
         "2_w2e_in",
         "1577836816.64",
         "10.47",
         "1577836817.1",
         "10.46754124446401",
         "1577836815",
         "8.88888888888889"
        ],
        [
         "3",
         "3_w2e_in",
         "1577836826.09",
         "10.78",
         "1577836826.09",
         "10.77568519809741",
         "1577836826",
         "11.11111111111111"
        ],
        [
         "4",
         "4_w2e_in",
         "1577836847.13",
         "7.68",
         "1577836847.13",
         "7.675852865627043",
         "1577836847",
         "7.777777777777778"
        ]
       ],
       "shape": {
        "columns": 7,
        "rows": 5
       }
      },
      "text/html": [
       "<div>\n",
       "<style scoped>\n",
       "    .dataframe tbody tr th:only-of-type {\n",
       "        vertical-align: middle;\n",
       "    }\n",
       "\n",
       "    .dataframe tbody tr th {\n",
       "        vertical-align: top;\n",
       "    }\n",
       "\n",
       "    .dataframe thead th {\n",
       "        text-align: right;\n",
       "    }\n",
       "</style>\n",
       "<table border=\"1\" class=\"dataframe\">\n",
       "  <thead>\n",
       "    <tr style=\"text-align: right;\">\n",
       "      <th></th>\n",
       "      <th>vehID</th>\n",
       "      <th>time</th>\n",
       "      <th>speed</th>\n",
       "      <th>time_detector_sim</th>\n",
       "      <th>speed_detector_sim</th>\n",
       "      <th>time_detector_real</th>\n",
       "      <th>speed_detector_real</th>\n",
       "    </tr>\n",
       "  </thead>\n",
       "  <tbody>\n",
       "    <tr>\n",
       "      <th>0</th>\n",
       "      <td>0_w2e_in</td>\n",
       "      <td>1.577837e+09</td>\n",
       "      <td>11.45</td>\n",
       "      <td>1.577837e+09</td>\n",
       "      <td>11.448342</td>\n",
       "      <td>1577836811</td>\n",
       "      <td>9.166667</td>\n",
       "    </tr>\n",
       "    <tr>\n",
       "      <th>1</th>\n",
       "      <td>1_w2e_in</td>\n",
       "      <td>1.577837e+09</td>\n",
       "      <td>10.84</td>\n",
       "      <td>1.577837e+09</td>\n",
       "      <td>10.842220</td>\n",
       "      <td>1577836814</td>\n",
       "      <td>7.500000</td>\n",
       "    </tr>\n",
       "    <tr>\n",
       "      <th>2</th>\n",
       "      <td>2_w2e_in</td>\n",
       "      <td>1.577837e+09</td>\n",
       "      <td>10.47</td>\n",
       "      <td>1.577837e+09</td>\n",
       "      <td>10.467541</td>\n",
       "      <td>1577836815</td>\n",
       "      <td>8.888889</td>\n",
       "    </tr>\n",
       "    <tr>\n",
       "      <th>3</th>\n",
       "      <td>3_w2e_in</td>\n",
       "      <td>1.577837e+09</td>\n",
       "      <td>10.78</td>\n",
       "      <td>1.577837e+09</td>\n",
       "      <td>10.775685</td>\n",
       "      <td>1577836826</td>\n",
       "      <td>11.111111</td>\n",
       "    </tr>\n",
       "    <tr>\n",
       "      <th>4</th>\n",
       "      <td>4_w2e_in</td>\n",
       "      <td>1.577837e+09</td>\n",
       "      <td>7.68</td>\n",
       "      <td>1.577837e+09</td>\n",
       "      <td>7.675853</td>\n",
       "      <td>1577836847</td>\n",
       "      <td>7.777778</td>\n",
       "    </tr>\n",
       "  </tbody>\n",
       "</table>\n",
       "</div>"
      ],
      "text/plain": [
       "      vehID          time  speed  time_detector_sim  speed_detector_sim  \\\n",
       "0  0_w2e_in  1.577837e+09  11.45       1.577837e+09           11.448342   \n",
       "1  1_w2e_in  1.577837e+09  10.84       1.577837e+09           10.842220   \n",
       "2  2_w2e_in  1.577837e+09  10.47       1.577837e+09           10.467541   \n",
       "3  3_w2e_in  1.577837e+09  10.78       1.577837e+09           10.775685   \n",
       "4  4_w2e_in  1.577837e+09   7.68       1.577837e+09            7.675853   \n",
       "\n",
       "   time_detector_real  speed_detector_real  \n",
       "0          1577836811             9.166667  \n",
       "1          1577836814             7.500000  \n",
       "2          1577836815             8.888889  \n",
       "3          1577836826            11.111111  \n",
       "4          1577836847             7.777778  "
      ]
     },
     "execution_count": 36,
     "metadata": {},
     "output_type": "execute_result"
    }
   ],
   "source": [
    "compare_df = pd.merge(df_instant_out[[\"vehID\",\"time\",\"speed\"]],\n",
    "            data[[\"vehID\",\"time_detector_sim\",\"speed_detector_sim\"\n",
    "                  ,\"time_detector_real\",\"speed_detector_real\"]],on=\"vehID\")\n",
    "compare_df.head()\n",
    "\n",
    "\n"
   ]
  },
  {
   "cell_type": "code",
   "execution_count": 38,
   "id": "efaee82a",
   "metadata": {},
   "outputs": [
    {
     "data": {
      "text/plain": [
       "np.float64(0.8128999876976013)"
      ]
     },
     "execution_count": 38,
     "metadata": {},
     "output_type": "execute_result"
    }
   ],
   "source": [
    "time_calib_error = compare_df[\"time_calib_error\"]=(compare_df[\"time_detector_sim\"]-compare_df[\"time_detector_real\"])\n",
    "abs(time_calib_error).mean()"
   ]
  },
  {
   "cell_type": "code",
   "execution_count": 39,
   "id": "06d79b59",
   "metadata": {},
   "outputs": [
    {
     "data": {
      "text/plain": [
       "np.float64(0.8248999905586243)"
      ]
     },
     "execution_count": 39,
     "metadata": {},
     "output_type": "execute_result"
    }
   ],
   "source": [
    "time_sim_error = compare_df[\"time_sim_error\"] = compare_df[\"time\"]-compare_df[\"time_detector_real\"]\n",
    "abs(time_sim_error).mean()"
   ]
  },
  {
   "cell_type": "code",
   "execution_count": 40,
   "id": "623c98a5",
   "metadata": {},
   "outputs": [
    {
     "data": {
      "text/plain": [
       "np.float64(2.0809711255951946)"
      ]
     },
     "execution_count": 40,
     "metadata": {},
     "output_type": "execute_result"
    }
   ],
   "source": [
    "speed_calib_error= compare_df[\"speed_calib_error\"] =compare_df[\"speed_detector_sim\"]-compare_df[\"speed_detector_real\"]\n",
    "abs(speed_calib_error).mean()"
   ]
  },
  {
   "cell_type": "code",
   "execution_count": 41,
   "id": "ce1e059c",
   "metadata": {},
   "outputs": [
    {
     "data": {
      "text/plain": [
       "np.float64(2.0943444444444443)"
      ]
     },
     "execution_count": 41,
     "metadata": {},
     "output_type": "execute_result"
    }
   ],
   "source": [
    "speed_sim_error=compare_df[\"speed_sim_error\"] =compare_df[\"speed\"]-compare_df[\"speed_detector_real\"]\n",
    "abs(speed_sim_error).mean()"
   ]
  },
  {
   "cell_type": "code",
   "execution_count": 127,
   "id": "f719d7aa",
   "metadata": {},
   "outputs": [
    {
     "data": {
      "application/vnd.plotly.v1+json": {
       "config": {
        "plotlyServerURL": "https://plot.ly"
       },
       "data": [
        {
         "name": "time_sim_error --> MAE = 0.77",
         "opacity": 0.75,
         "type": "histogram",
         "x": {
          "bdata": "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",
          "dtype": "f8"
         },
         "xbins": {
          "end": 11,
          "size": 1,
          "start": -4
         }
        },
        {
         "name": "time_calib_error  --> MAE = 0.92",
         "opacity": 0.75,
         "type": "histogram",
         "x": {
          "bdata": "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",
          "dtype": "f8"
         },
         "xbins": {
          "end": 11,
          "size": 1,
          "start": -4
         }
        }
       ],
       "layout": {
        "barmode": "group",
        "template": {
         "data": {
          "bar": [
           {
            "error_x": {
             "color": "#2a3f5f"
            },
            "error_y": {
             "color": "#2a3f5f"
            },
            "marker": {
             "line": {
              "color": "#E5ECF6",
              "width": 0.5
             },
             "pattern": {
              "fillmode": "overlay",
              "size": 10,
              "solidity": 0.2
             }
            },
            "type": "bar"
           }
          ],
          "barpolar": [
           {
            "marker": {
             "line": {
              "color": "#E5ECF6",
              "width": 0.5
             },
             "pattern": {
              "fillmode": "overlay",
              "size": 10,
              "solidity": 0.2
             }
            },
            "type": "barpolar"
           }
          ],
          "carpet": [
           {
            "aaxis": {
             "endlinecolor": "#2a3f5f",
             "gridcolor": "white",
             "linecolor": "white",
             "minorgridcolor": "white",
             "startlinecolor": "#2a3f5f"
            },
            "baxis": {
             "endlinecolor": "#2a3f5f",
             "gridcolor": "white",
             "linecolor": "white",
             "minorgridcolor": "white",
             "startlinecolor": "#2a3f5f"
            },
            "type": "carpet"
           }
          ],
          "choropleth": [
           {
            "colorbar": {
             "outlinewidth": 0,
             "ticks": ""
            },
            "type": "choropleth"
           }
          ],
          "contour": [
           {
            "colorbar": {
             "outlinewidth": 0,
             "ticks": ""
            },
            "colorscale": [
             [
              0,
              "#0d0887"
             ],
             [
              0.1111111111111111,
              "#46039f"
             ],
             [
              0.2222222222222222,
              "#7201a8"
             ],
             [
              0.3333333333333333,
              "#9c179e"
             ],
             [
              0.4444444444444444,
              "#bd3786"
             ],
             [
              0.5555555555555556,
              "#d8576b"
             ],
             [
              0.6666666666666666,
              "#ed7953"
             ],
             [
              0.7777777777777778,
              "#fb9f3a"
             ],
             [
              0.8888888888888888,
              "#fdca26"
             ],
             [
              1,
              "#f0f921"
             ]
            ],
            "type": "contour"
           }
          ],
          "contourcarpet": [
           {
            "colorbar": {
             "outlinewidth": 0,
             "ticks": ""
            },
            "type": "contourcarpet"
           }
          ],
          "heatmap": [
           {
            "colorbar": {
             "outlinewidth": 0,
             "ticks": ""
            },
            "colorscale": [
             [
              0,
              "#0d0887"
             ],
             [
              0.1111111111111111,
              "#46039f"
             ],
             [
              0.2222222222222222,
              "#7201a8"
             ],
             [
              0.3333333333333333,
              "#9c179e"
             ],
             [
              0.4444444444444444,
              "#bd3786"
             ],
             [
              0.5555555555555556,
              "#d8576b"
             ],
             [
              0.6666666666666666,
              "#ed7953"
             ],
             [
              0.7777777777777778,
              "#fb9f3a"
             ],
             [
              0.8888888888888888,
              "#fdca26"
             ],
             [
              1,
              "#f0f921"
             ]
            ],
            "type": "heatmap"
           }
          ],
          "histogram": [
           {
            "marker": {
             "pattern": {
              "fillmode": "overlay",
              "size": 10,
              "solidity": 0.2
             }
            },
            "type": "histogram"
           }
          ],
          "histogram2d": [
           {
            "colorbar": {
             "outlinewidth": 0,
             "ticks": ""
            },
            "colorscale": [
             [
              0,
              "#0d0887"
             ],
             [
              0.1111111111111111,
              "#46039f"
             ],
             [
              0.2222222222222222,
              "#7201a8"
             ],
             [
              0.3333333333333333,
              "#9c179e"
             ],
             [
              0.4444444444444444,
              "#bd3786"
             ],
             [
              0.5555555555555556,
              "#d8576b"
             ],
             [
              0.6666666666666666,
              "#ed7953"
             ],
             [
              0.7777777777777778,
              "#fb9f3a"
             ],
             [
              0.8888888888888888,
              "#fdca26"
             ],
             [
              1,
              "#f0f921"
             ]
            ],
            "type": "histogram2d"
           }
          ],
          "histogram2dcontour": [
           {
            "colorbar": {
             "outlinewidth": 0,
             "ticks": ""
            },
            "colorscale": [
             [
              0,
              "#0d0887"
             ],
             [
              0.1111111111111111,
              "#46039f"
             ],
             [
              0.2222222222222222,
              "#7201a8"
             ],
             [
              0.3333333333333333,
              "#9c179e"
             ],
             [
              0.4444444444444444,
              "#bd3786"
             ],
             [
              0.5555555555555556,
              "#d8576b"
             ],
             [
              0.6666666666666666,
              "#ed7953"
             ],
             [
              0.7777777777777778,
              "#fb9f3a"
             ],
             [
              0.8888888888888888,
              "#fdca26"
             ],
             [
              1,
              "#f0f921"
             ]
            ],
            "type": "histogram2dcontour"
           }
          ],
          "mesh3d": [
           {
            "colorbar": {
             "outlinewidth": 0,
             "ticks": ""
            },
            "type": "mesh3d"
           }
          ],
          "parcoords": [
           {
            "line": {
             "colorbar": {
              "outlinewidth": 0,
              "ticks": ""
             }
            },
            "type": "parcoords"
           }
          ],
          "pie": [
           {
            "automargin": true,
            "type": "pie"
           }
          ],
          "scatter": [
           {
            "fillpattern": {
             "fillmode": "overlay",
             "size": 10,
             "solidity": 0.2
            },
            "type": "scatter"
           }
          ],
          "scatter3d": [
           {
            "line": {
             "colorbar": {
              "outlinewidth": 0,
              "ticks": ""
             }
            },
            "marker": {
             "colorbar": {
              "outlinewidth": 0,
              "ticks": ""
             }
            },
            "type": "scatter3d"
           }
          ],
          "scattercarpet": [
           {
            "marker": {
             "colorbar": {
              "outlinewidth": 0,
              "ticks": ""
             }
            },
            "type": "scattercarpet"
           }
          ],
          "scattergeo": [
           {
            "marker": {
             "colorbar": {
              "outlinewidth": 0,
              "ticks": ""
             }
            },
            "type": "scattergeo"
           }
          ],
          "scattergl": [
           {
            "marker": {
             "colorbar": {
              "outlinewidth": 0,
              "ticks": ""
             }
            },
            "type": "scattergl"
           }
          ],
          "scattermap": [
           {
            "marker": {
             "colorbar": {
              "outlinewidth": 0,
              "ticks": ""
             }
            },
            "type": "scattermap"
           }
          ],
          "scattermapbox": [
           {
            "marker": {
             "colorbar": {
              "outlinewidth": 0,
              "ticks": ""
             }
            },
            "type": "scattermapbox"
           }
          ],
          "scatterpolar": [
           {
            "marker": {
             "colorbar": {
              "outlinewidth": 0,
              "ticks": ""
             }
            },
            "type": "scatterpolar"
           }
          ],
          "scatterpolargl": [
           {
            "marker": {
             "colorbar": {
              "outlinewidth": 0,
              "ticks": ""
             }
            },
            "type": "scatterpolargl"
           }
          ],
          "scatterternary": [
           {
            "marker": {
             "colorbar": {
              "outlinewidth": 0,
              "ticks": ""
             }
            },
            "type": "scatterternary"
           }
          ],
          "surface": [
           {
            "colorbar": {
             "outlinewidth": 0,
             "ticks": ""
            },
            "colorscale": [
             [
              0,
              "#0d0887"
             ],
             [
              0.1111111111111111,
              "#46039f"
             ],
             [
              0.2222222222222222,
              "#7201a8"
             ],
             [
              0.3333333333333333,
              "#9c179e"
             ],
             [
              0.4444444444444444,
              "#bd3786"
             ],
             [
              0.5555555555555556,
              "#d8576b"
             ],
             [
              0.6666666666666666,
              "#ed7953"
             ],
             [
              0.7777777777777778,
              "#fb9f3a"
             ],
             [
              0.8888888888888888,
              "#fdca26"
             ],
             [
              1,
              "#f0f921"
             ]
            ],
            "type": "surface"
           }
          ],
          "table": [
           {
            "cells": {
             "fill": {
              "color": "#EBF0F8"
             },
             "line": {
              "color": "white"
             }
            },
            "header": {
             "fill": {
              "color": "#C8D4E3"
             },
             "line": {
              "color": "white"
             }
            },
            "type": "table"
           }
          ]
         },
         "layout": {
          "annotationdefaults": {
           "arrowcolor": "#2a3f5f",
           "arrowhead": 0,
           "arrowwidth": 1
          },
          "autotypenumbers": "strict",
          "coloraxis": {
           "colorbar": {
            "outlinewidth": 0,
            "ticks": ""
           }
          },
          "colorscale": {
           "diverging": [
            [
             0,
             "#8e0152"
            ],
            [
             0.1,
             "#c51b7d"
            ],
            [
             0.2,
             "#de77ae"
            ],
            [
             0.3,
             "#f1b6da"
            ],
            [
             0.4,
             "#fde0ef"
            ],
            [
             0.5,
             "#f7f7f7"
            ],
            [
             0.6,
             "#e6f5d0"
            ],
            [
             0.7,
             "#b8e186"
            ],
            [
             0.8,
             "#7fbc41"
            ],
            [
             0.9,
             "#4d9221"
            ],
            [
             1,
             "#276419"
            ]
           ],
           "sequential": [
            [
             0,
             "#0d0887"
            ],
            [
             0.1111111111111111,
             "#46039f"
            ],
            [
             0.2222222222222222,
             "#7201a8"
            ],
            [
             0.3333333333333333,
             "#9c179e"
            ],
            [
             0.4444444444444444,
             "#bd3786"
            ],
            [
             0.5555555555555556,
             "#d8576b"
            ],
            [
             0.6666666666666666,
             "#ed7953"
            ],
            [
             0.7777777777777778,
             "#fb9f3a"
            ],
            [
             0.8888888888888888,
             "#fdca26"
            ],
            [
             1,
             "#f0f921"
            ]
           ],
           "sequentialminus": [
            [
             0,
             "#0d0887"
            ],
            [
             0.1111111111111111,
             "#46039f"
            ],
            [
             0.2222222222222222,
             "#7201a8"
            ],
            [
             0.3333333333333333,
             "#9c179e"
            ],
            [
             0.4444444444444444,
             "#bd3786"
            ],
            [
             0.5555555555555556,
             "#d8576b"
            ],
            [
             0.6666666666666666,
             "#ed7953"
            ],
            [
             0.7777777777777778,
             "#fb9f3a"
            ],
            [
             0.8888888888888888,
             "#fdca26"
            ],
            [
             1,
             "#f0f921"
            ]
           ]
          },
          "colorway": [
           "#636efa",
           "#EF553B",
           "#00cc96",
           "#ab63fa",
           "#FFA15A",
           "#19d3f3",
           "#FF6692",
           "#B6E880",
           "#FF97FF",
           "#FECB52"
          ],
          "font": {
           "color": "#2a3f5f"
          },
          "geo": {
           "bgcolor": "white",
           "lakecolor": "white",
           "landcolor": "#E5ECF6",
           "showlakes": true,
           "showland": true,
           "subunitcolor": "white"
          },
          "hoverlabel": {
           "align": "left"
          },
          "hovermode": "closest",
          "mapbox": {
           "style": "light"
          },
          "paper_bgcolor": "white",
          "plot_bgcolor": "#E5ECF6",
          "polar": {
           "angularaxis": {
            "gridcolor": "white",
            "linecolor": "white",
            "ticks": ""
           },
           "bgcolor": "#E5ECF6",
           "radialaxis": {
            "gridcolor": "white",
            "linecolor": "white",
            "ticks": ""
           }
          },
          "scene": {
           "xaxis": {
            "backgroundcolor": "#E5ECF6",
            "gridcolor": "white",
            "gridwidth": 2,
            "linecolor": "white",
            "showbackground": true,
            "ticks": "",
            "zerolinecolor": "white"
           },
           "yaxis": {
            "backgroundcolor": "#E5ECF6",
            "gridcolor": "white",
            "gridwidth": 2,
            "linecolor": "white",
            "showbackground": true,
            "ticks": "",
            "zerolinecolor": "white"
           },
           "zaxis": {
            "backgroundcolor": "#E5ECF6",
            "gridcolor": "white",
            "gridwidth": 2,
            "linecolor": "white",
            "showbackground": true,
            "ticks": "",
            "zerolinecolor": "white"
           }
          },
          "shapedefaults": {
           "line": {
            "color": "#2a3f5f"
           }
          },
          "ternary": {
           "aaxis": {
            "gridcolor": "white",
            "linecolor": "white",
            "ticks": ""
           },
           "baxis": {
            "gridcolor": "white",
            "linecolor": "white",
            "ticks": ""
           },
           "bgcolor": "#E5ECF6",
           "caxis": {
            "gridcolor": "white",
            "linecolor": "white",
            "ticks": ""
           }
          },
          "title": {
           "x": 0.05
          },
          "xaxis": {
           "automargin": true,
           "gridcolor": "white",
           "linecolor": "white",
           "ticks": "",
           "title": {
            "standoff": 15
           },
           "zerolinecolor": "white",
           "zerolinewidth": 2
          },
          "yaxis": {
           "automargin": true,
           "gridcolor": "white",
           "linecolor": "white",
           "ticks": "",
           "title": {
            "standoff": 15
           },
           "zerolinecolor": "white",
           "zerolinewidth": 2
          }
         }
        },
        "title": {
         "text": "error  =  simulate  -  real      ------------         e2w_out_2020-01-01"
        },
        "xaxis": {
         "title": {
          "text": "time error (s)"
         }
        },
        "yaxis": {
         "title": {
          "text": "Count"
         }
        }
       }
      }
     },
     "metadata": {},
     "output_type": "display_data"
    }
   ],
   "source": [
    "import plotly.graph_objects as go\n",
    "\n",
    "fig = go.Figure()\n",
    "\n",
    "xbins=dict(\n",
    "        start=-4,  # Bin start\n",
    "        end=11,    # Bin end\n",
    "        size=1    # Bin size (width of each bin)\n",
    "    )\n",
    "sim_MAE = round(abs(compare_df['time_sim_error']).mean(),2)\n",
    "calib_MAE = round(abs(compare_df['time_calib_error']).mean(),2)\n",
    "\n",
    "fig.add_trace(go.Histogram(x=compare_df['time_sim_error'], name=f\"time_sim_error --> MAE = {sim_MAE}\", opacity=0.75, xbins=xbins))\n",
    "fig.add_trace(go.Histogram(x=compare_df['time_calib_error'], name=f\"time_calib_error  --> MAE = {calib_MAE}\", opacity=0.75, xbins=xbins))\n",
    "\n",
    "fig.update_layout(\n",
    "    barmode='group',  # Use 'overlay' if you want stacked look\n",
    "    xaxis_title='time error (s)',\n",
    "    yaxis_title='Count',\n",
    "    title=f\"error  =  simulate  -  real      ------------         {postfix}\"\n",
    ")\n",
    "\n",
    "fig.show()\n",
    "fig.write_html(f\"diagram/hist_time_error_{postfix}.html\")"
   ]
  },
  {
   "cell_type": "code",
   "execution_count": 128,
   "id": "d0d6ad65",
   "metadata": {},
   "outputs": [
    {
     "name": "stdout",
     "output_type": "stream",
     "text": [
      "-3.359999895095825 8.940000057220459\n",
      "-1.9100000858306885 10.579999923706055\n"
     ]
    }
   ],
   "source": [
    "print(compare_df['time_sim_error'].min(), compare_df['time_sim_error'].max())\n",
    "print(compare_df['time_calib_error'].min(), compare_df['time_calib_error'].max())"
   ]
  },
  {
   "cell_type": "code",
   "execution_count": 129,
   "id": "807ab781",
   "metadata": {},
   "outputs": [
    {
     "name": "stdout",
     "output_type": "stream",
     "text": [
      "-6.666666666666666 6.111111111111111\n",
      "-4.757534516970681 6.108111111111111\n"
     ]
    }
   ],
   "source": [
    "print(compare_df['speed_sim_error'].min(), compare_df['speed_sim_error'].max())\n",
    "print(compare_df['speed_calib_error'].min(), compare_df['speed_calib_error'].max())"
   ]
  },
  {
   "cell_type": "code",
   "execution_count": 130,
   "id": "01a4e795",
   "metadata": {},
   "outputs": [
    {
     "data": {
      "application/vnd.plotly.v1+json": {
       "config": {
        "plotlyServerURL": "https://plot.ly"
       },
       "data": [
        {
         "name": "speed_sim_error --> MAE = 1.0",
         "opacity": 0.75,
         "type": "histogram",
         "x": {
          "bdata": "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",
          "dtype": "f8"
         },
         "xbins": {
          "end": 7,
          "size": 1,
          "start": -7
         }
        },
        {
         "name": "speed_calib_error --> MAE = 0.97",
         "opacity": 0.75,
         "type": "histogram",
         "x": {
          "bdata": "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",
          "dtype": "f8"
         },
         "xbins": {
          "end": 7,
          "size": 1,
          "start": -7
         }
        }
       ],
       "layout": {
        "barmode": "group",
        "template": {
         "data": {
          "bar": [
           {
            "error_x": {
             "color": "#2a3f5f"
            },
            "error_y": {
             "color": "#2a3f5f"
            },
            "marker": {
             "line": {
              "color": "#E5ECF6",
              "width": 0.5
             },
             "pattern": {
              "fillmode": "overlay",
              "size": 10,
              "solidity": 0.2
             }
            },
            "type": "bar"
           }
          ],
          "barpolar": [
           {
            "marker": {
             "line": {
              "color": "#E5ECF6",
              "width": 0.5
             },
             "pattern": {
              "fillmode": "overlay",
              "size": 10,
              "solidity": 0.2
             }
            },
            "type": "barpolar"
           }
          ],
          "carpet": [
           {
            "aaxis": {
             "endlinecolor": "#2a3f5f",
             "gridcolor": "white",
             "linecolor": "white",
             "minorgridcolor": "white",
             "startlinecolor": "#2a3f5f"
            },
            "baxis": {
             "endlinecolor": "#2a3f5f",
             "gridcolor": "white",
             "linecolor": "white",
             "minorgridcolor": "white",
             "startlinecolor": "#2a3f5f"
            },
            "type": "carpet"
           }
          ],
          "choropleth": [
           {
            "colorbar": {
             "outlinewidth": 0,
             "ticks": ""
            },
            "type": "choropleth"
           }
          ],
          "contour": [
           {
            "colorbar": {
             "outlinewidth": 0,
             "ticks": ""
            },
            "colorscale": [
             [
              0,
              "#0d0887"
             ],
             [
              0.1111111111111111,
              "#46039f"
             ],
             [
              0.2222222222222222,
              "#7201a8"
             ],
             [
              0.3333333333333333,
              "#9c179e"
             ],
             [
              0.4444444444444444,
              "#bd3786"
             ],
             [
              0.5555555555555556,
              "#d8576b"
             ],
             [
              0.6666666666666666,
              "#ed7953"
             ],
             [
              0.7777777777777778,
              "#fb9f3a"
             ],
             [
              0.8888888888888888,
              "#fdca26"
             ],
             [
              1,
              "#f0f921"
             ]
            ],
            "type": "contour"
           }
          ],
          "contourcarpet": [
           {
            "colorbar": {
             "outlinewidth": 0,
             "ticks": ""
            },
            "type": "contourcarpet"
           }
          ],
          "heatmap": [
           {
            "colorbar": {
             "outlinewidth": 0,
             "ticks": ""
            },
            "colorscale": [
             [
              0,
              "#0d0887"
             ],
             [
              0.1111111111111111,
              "#46039f"
             ],
             [
              0.2222222222222222,
              "#7201a8"
             ],
             [
              0.3333333333333333,
              "#9c179e"
             ],
             [
              0.4444444444444444,
              "#bd3786"
             ],
             [
              0.5555555555555556,
              "#d8576b"
             ],
             [
              0.6666666666666666,
              "#ed7953"
             ],
             [
              0.7777777777777778,
              "#fb9f3a"
             ],
             [
              0.8888888888888888,
              "#fdca26"
             ],
             [
              1,
              "#f0f921"
             ]
            ],
            "type": "heatmap"
           }
          ],
          "histogram": [
           {
            "marker": {
             "pattern": {
              "fillmode": "overlay",
              "size": 10,
              "solidity": 0.2
             }
            },
            "type": "histogram"
           }
          ],
          "histogram2d": [
           {
            "colorbar": {
             "outlinewidth": 0,
             "ticks": ""
            },
            "colorscale": [
             [
              0,
              "#0d0887"
             ],
             [
              0.1111111111111111,
              "#46039f"
             ],
             [
              0.2222222222222222,
              "#7201a8"
             ],
             [
              0.3333333333333333,
              "#9c179e"
             ],
             [
              0.4444444444444444,
              "#bd3786"
             ],
             [
              0.5555555555555556,
              "#d8576b"
             ],
             [
              0.6666666666666666,
              "#ed7953"
             ],
             [
              0.7777777777777778,
              "#fb9f3a"
             ],
             [
              0.8888888888888888,
              "#fdca26"
             ],
             [
              1,
              "#f0f921"
             ]
            ],
            "type": "histogram2d"
           }
          ],
          "histogram2dcontour": [
           {
            "colorbar": {
             "outlinewidth": 0,
             "ticks": ""
            },
            "colorscale": [
             [
              0,
              "#0d0887"
             ],
             [
              0.1111111111111111,
              "#46039f"
             ],
             [
              0.2222222222222222,
              "#7201a8"
             ],
             [
              0.3333333333333333,
              "#9c179e"
             ],
             [
              0.4444444444444444,
              "#bd3786"
             ],
             [
              0.5555555555555556,
              "#d8576b"
             ],
             [
              0.6666666666666666,
              "#ed7953"
             ],
             [
              0.7777777777777778,
              "#fb9f3a"
             ],
             [
              0.8888888888888888,
              "#fdca26"
             ],
             [
              1,
              "#f0f921"
             ]
            ],
            "type": "histogram2dcontour"
           }
          ],
          "mesh3d": [
           {
            "colorbar": {
             "outlinewidth": 0,
             "ticks": ""
            },
            "type": "mesh3d"
           }
          ],
          "parcoords": [
           {
            "line": {
             "colorbar": {
              "outlinewidth": 0,
              "ticks": ""
             }
            },
            "type": "parcoords"
           }
          ],
          "pie": [
           {
            "automargin": true,
            "type": "pie"
           }
          ],
          "scatter": [
           {
            "fillpattern": {
             "fillmode": "overlay",
             "size": 10,
             "solidity": 0.2
            },
            "type": "scatter"
           }
          ],
          "scatter3d": [
           {
            "line": {
             "colorbar": {
              "outlinewidth": 0,
              "ticks": ""
             }
            },
            "marker": {
             "colorbar": {
              "outlinewidth": 0,
              "ticks": ""
             }
            },
            "type": "scatter3d"
           }
          ],
          "scattercarpet": [
           {
            "marker": {
             "colorbar": {
              "outlinewidth": 0,
              "ticks": ""
             }
            },
            "type": "scattercarpet"
           }
          ],
          "scattergeo": [
           {
            "marker": {
             "colorbar": {
              "outlinewidth": 0,
              "ticks": ""
             }
            },
            "type": "scattergeo"
           }
          ],
          "scattergl": [
           {
            "marker": {
             "colorbar": {
              "outlinewidth": 0,
              "ticks": ""
             }
            },
            "type": "scattergl"
           }
          ],
          "scattermap": [
           {
            "marker": {
             "colorbar": {
              "outlinewidth": 0,
              "ticks": ""
             }
            },
            "type": "scattermap"
           }
          ],
          "scattermapbox": [
           {
            "marker": {
             "colorbar": {
              "outlinewidth": 0,
              "ticks": ""
             }
            },
            "type": "scattermapbox"
           }
          ],
          "scatterpolar": [
           {
            "marker": {
             "colorbar": {
              "outlinewidth": 0,
              "ticks": ""
             }
            },
            "type": "scatterpolar"
           }
          ],
          "scatterpolargl": [
           {
            "marker": {
             "colorbar": {
              "outlinewidth": 0,
              "ticks": ""
             }
            },
            "type": "scatterpolargl"
           }
          ],
          "scatterternary": [
           {
            "marker": {
             "colorbar": {
              "outlinewidth": 0,
              "ticks": ""
             }
            },
            "type": "scatterternary"
           }
          ],
          "surface": [
           {
            "colorbar": {
             "outlinewidth": 0,
             "ticks": ""
            },
            "colorscale": [
             [
              0,
              "#0d0887"
             ],
             [
              0.1111111111111111,
              "#46039f"
             ],
             [
              0.2222222222222222,
              "#7201a8"
             ],
             [
              0.3333333333333333,
              "#9c179e"
             ],
             [
              0.4444444444444444,
              "#bd3786"
             ],
             [
              0.5555555555555556,
              "#d8576b"
             ],
             [
              0.6666666666666666,
              "#ed7953"
             ],
             [
              0.7777777777777778,
              "#fb9f3a"
             ],
             [
              0.8888888888888888,
              "#fdca26"
             ],
             [
              1,
              "#f0f921"
             ]
            ],
            "type": "surface"
           }
          ],
          "table": [
           {
            "cells": {
             "fill": {
              "color": "#EBF0F8"
             },
             "line": {
              "color": "white"
             }
            },
            "header": {
             "fill": {
              "color": "#C8D4E3"
             },
             "line": {
              "color": "white"
             }
            },
            "type": "table"
           }
          ]
         },
         "layout": {
          "annotationdefaults": {
           "arrowcolor": "#2a3f5f",
           "arrowhead": 0,
           "arrowwidth": 1
          },
          "autotypenumbers": "strict",
          "coloraxis": {
           "colorbar": {
            "outlinewidth": 0,
            "ticks": ""
           }
          },
          "colorscale": {
           "diverging": [
            [
             0,
             "#8e0152"
            ],
            [
             0.1,
             "#c51b7d"
            ],
            [
             0.2,
             "#de77ae"
            ],
            [
             0.3,
             "#f1b6da"
            ],
            [
             0.4,
             "#fde0ef"
            ],
            [
             0.5,
             "#f7f7f7"
            ],
            [
             0.6,
             "#e6f5d0"
            ],
            [
             0.7,
             "#b8e186"
            ],
            [
             0.8,
             "#7fbc41"
            ],
            [
             0.9,
             "#4d9221"
            ],
            [
             1,
             "#276419"
            ]
           ],
           "sequential": [
            [
             0,
             "#0d0887"
            ],
            [
             0.1111111111111111,
             "#46039f"
            ],
            [
             0.2222222222222222,
             "#7201a8"
            ],
            [
             0.3333333333333333,
             "#9c179e"
            ],
            [
             0.4444444444444444,
             "#bd3786"
            ],
            [
             0.5555555555555556,
             "#d8576b"
            ],
            [
             0.6666666666666666,
             "#ed7953"
            ],
            [
             0.7777777777777778,
             "#fb9f3a"
            ],
            [
             0.8888888888888888,
             "#fdca26"
            ],
            [
             1,
             "#f0f921"
            ]
           ],
           "sequentialminus": [
            [
             0,
             "#0d0887"
            ],
            [
             0.1111111111111111,
             "#46039f"
            ],
            [
             0.2222222222222222,
             "#7201a8"
            ],
            [
             0.3333333333333333,
             "#9c179e"
            ],
            [
             0.4444444444444444,
             "#bd3786"
            ],
            [
             0.5555555555555556,
             "#d8576b"
            ],
            [
             0.6666666666666666,
             "#ed7953"
            ],
            [
             0.7777777777777778,
             "#fb9f3a"
            ],
            [
             0.8888888888888888,
             "#fdca26"
            ],
            [
             1,
             "#f0f921"
            ]
           ]
          },
          "colorway": [
           "#636efa",
           "#EF553B",
           "#00cc96",
           "#ab63fa",
           "#FFA15A",
           "#19d3f3",
           "#FF6692",
           "#B6E880",
           "#FF97FF",
           "#FECB52"
          ],
          "font": {
           "color": "#2a3f5f"
          },
          "geo": {
           "bgcolor": "white",
           "lakecolor": "white",
           "landcolor": "#E5ECF6",
           "showlakes": true,
           "showland": true,
           "subunitcolor": "white"
          },
          "hoverlabel": {
           "align": "left"
          },
          "hovermode": "closest",
          "mapbox": {
           "style": "light"
          },
          "paper_bgcolor": "white",
          "plot_bgcolor": "#E5ECF6",
          "polar": {
           "angularaxis": {
            "gridcolor": "white",
            "linecolor": "white",
            "ticks": ""
           },
           "bgcolor": "#E5ECF6",
           "radialaxis": {
            "gridcolor": "white",
            "linecolor": "white",
            "ticks": ""
           }
          },
          "scene": {
           "xaxis": {
            "backgroundcolor": "#E5ECF6",
            "gridcolor": "white",
            "gridwidth": 2,
            "linecolor": "white",
            "showbackground": true,
            "ticks": "",
            "zerolinecolor": "white"
           },
           "yaxis": {
            "backgroundcolor": "#E5ECF6",
            "gridcolor": "white",
            "gridwidth": 2,
            "linecolor": "white",
            "showbackground": true,
            "ticks": "",
            "zerolinecolor": "white"
           },
           "zaxis": {
            "backgroundcolor": "#E5ECF6",
            "gridcolor": "white",
            "gridwidth": 2,
            "linecolor": "white",
            "showbackground": true,
            "ticks": "",
            "zerolinecolor": "white"
           }
          },
          "shapedefaults": {
           "line": {
            "color": "#2a3f5f"
           }
          },
          "ternary": {
           "aaxis": {
            "gridcolor": "white",
            "linecolor": "white",
            "ticks": ""
           },
           "baxis": {
            "gridcolor": "white",
            "linecolor": "white",
            "ticks": ""
           },
           "bgcolor": "#E5ECF6",
           "caxis": {
            "gridcolor": "white",
            "linecolor": "white",
            "ticks": ""
           }
          },
          "title": {
           "x": 0.05
          },
          "xaxis": {
           "automargin": true,
           "gridcolor": "white",
           "linecolor": "white",
           "ticks": "",
           "title": {
            "standoff": 15
           },
           "zerolinecolor": "white",
           "zerolinewidth": 2
          },
          "yaxis": {
           "automargin": true,
           "gridcolor": "white",
           "linecolor": "white",
           "ticks": "",
           "title": {
            "standoff": 15
           },
           "zerolinecolor": "white",
           "zerolinewidth": 2
          }
         }
        },
        "title": {
         "text": "error  =  simulate  -  real      ------------         e2w_out_2020-01-01"
        },
        "xaxis": {
         "title": {
          "text": "Value"
         }
        },
        "yaxis": {
         "title": {
          "text": "Count"
         }
        }
       }
      }
     },
     "metadata": {},
     "output_type": "display_data"
    }
   ],
   "source": [
    "import plotly.graph_objects as go\n",
    "\n",
    "fig = go.Figure()\n",
    "\n",
    "xbins=dict(\n",
    "        start=-7,  # Bin start\n",
    "        end=7,    # Bin end\n",
    "        size=1    # Bin size (width of each bin)\n",
    "    )\n",
    "sim_MAE = round(abs(compare_df['speed_sim_error']).mean(),2)\n",
    "calib_MAE = round(abs(compare_df['speed_calib_error']).mean(),2)\n",
    "fig.add_trace(go.Histogram(x=compare_df['speed_sim_error'], name=f\"speed_sim_error --> MAE = {sim_MAE}\", opacity=0.75, xbins=xbins))\n",
    "fig.add_trace(go.Histogram(x=compare_df['speed_calib_error'], name=f\"speed_calib_error --> MAE = {calib_MAE}\", opacity=0.75, xbins=xbins))\n",
    "\n",
    "fig.update_layout(\n",
    "    barmode='group',  # Use 'overlay' if you want stacked look\n",
    "    xaxis_title='Value',\n",
    "    yaxis_title='Count',\n",
    "    title=f\"error  =  simulate  -  real      ------------         {postfix}\"\n",
    ")\n",
    "\n",
    "fig.show()\n",
    "fig.write_html(f\"diagram/hist_speed_error_{postfix}.html\")"
   ]
  },
  {
   "cell_type": "code",
   "execution_count": null,
   "id": "6ecf1adc",
   "metadata": {},
   "outputs": [
    {
     "name": "stdout",
     "output_type": "stream",
     "text": [
      "environ({'USER': 'kaveh', 'SSH_CLIENT': '50.98.120.254 52394 22', 'LC_TIME': 'sv_SE.UTF-8', 'XDG_SESSION_TYPE': 'tty', 'SHLVL': '1', 'MOTD_SHOWN': 'pam', 'HOME': '/home/kaveh', 'OLDPWD': '/home/kaveh/.vscode-server', 'LC_MONETARY': 'sv_SE.UTF-8', 'SSL_CERT_FILE': '/usr/lib/ssl/certs/ca-certificates.crt', 'DBUS_SESSION_BUS_ADDRESS': 'unix:path=/run/user/1007/bus', 'LOGNAME': 'kaveh', '_': '/home/kaveh/calib_venv/bin/python', 'XDG_SESSION_CLASS': 'user', 'XDG_SESSION_ID': '8314', 'VSCODE_CLI_REQUIRE_TOKEN': 'ae03dc89-2af2-452f-9f46-712bcd09a747', 'PATH': '/home/kaveh/calib_venv/bin:/home/kaveh/.vscode-server/cli/servers/Stable-848b80aeb52026648a8ff9f7c45a9b0a80641e2e/server/bin/remote-cli:/home/kaveh/.local/bin:/home/kaveh/anaconda3/bin:/home/kaveh/anaconda3/condabin:/usr/local/sbin:/usr/local/bin:/usr/sbin:/usr/bin:/sbin:/bin:/usr/games:/usr/local/games:/snap/bin', 'VSCODE_AGENT_FOLDER': '/home/kaveh/.vscode-server', 'LC_ADDRESS': 'sv_SE.UTF-8', 'XDG_RUNTIME_DIR': '/run/user/1007', 'SSL_CERT_DIR': '/usr/lib/ssl/certs', 'LANG': 'en_US.UTF-8', 'LC_TELEPHONE': 'sv_SE.UTF-8', 'SHELL': '/bin/bash', 'LC_NAME': 'sv_SE.UTF-8', 'LC_MEASUREMENT': 'sv_SE.UTF-8', 'LC_IDENTIFICATION': 'sv_SE.UTF-8', 'PWD': '/home/kaveh', 'SSH_CONNECTION': '50.98.120.254 52394 130.237.39.154 22', 'LC_NUMERIC': 'sv_SE.UTF-8', 'LC_PAPER': 'sv_SE.UTF-8', 'VSCODE_CWD': '/home/kaveh', 'VSCODE_NLS_CONFIG': '{\"userLocale\":\"en\",\"osLocale\":\"en\",\"resolvedLanguage\":\"en\",\"defaultMessagesFile\":\"/home/kaveh/.vscode-server/cli/servers/Stable-848b80aeb52026648a8ff9f7c45a9b0a80641e2e/server/out/nls.messages.json\",\"locale\":\"en\",\"availableLanguages\":{}}', 'VSCODE_HANDLES_SIGPIPE': 'true', 'CONDA_EXE': '/home/kaveh/anaconda3/bin/conda', '_CE_M': '', 'XML_CATALOG_FILES': 'file:///home/kaveh/anaconda3/etc/xml/catalog file:///etc/xml/catalog', 'GSETTINGS_SCHEMA_DIR': '/home/kaveh/anaconda3/share/glib-2.0/schemas', 'CONDA_PREFIX': '/home/kaveh/anaconda3', 'GSETTINGS_SCHEMA_DIR_CONDA_BACKUP': '', 'LS_COLORS': '', 'CONDA_PROMPT_MODIFIER': '(base) ', 'CPL_ZIP_ENCODING': 'UTF-8', 'SUMO_HOME': '/usr/share/sumo', 'LESSCLOSE': '/usr/bin/lesspipe %s %s', '_CE_CONDA': '', 'LESSOPEN': '| /usr/bin/lesspipe %s', 'CONDA_SHLVL': '1', 'GDAL_DRIVER_PATH': '/home/kaveh/anaconda3/lib/gdalplugins', 'PROJ_DATA': '/home/kaveh/anaconda3/share/proj', 'CONDA_PYTHON_EXE': '/home/kaveh/anaconda3/bin/python', 'CONDA_DEFAULT_ENV': 'base', 'XDG_DATA_DIRS': '/usr/share/gnome:/usr/local/share:/usr/share:/var/lib/snapd/desktop', 'GDAL_DATA': '/home/kaveh/anaconda3/share/gdal', 'PROJ_NETWORK': 'ON', 'VSCODE_ESM_ENTRYPOINT': 'vs/workbench/api/node/extensionHostProcess', 'VSCODE_HANDLES_UNCAUGHT_ERRORS': 'true', 'BROWSER': '/home/kaveh/.vscode-server/cli/servers/Stable-848b80aeb52026648a8ff9f7c45a9b0a80641e2e/server/bin/helpers/browser.sh', 'ELECTRON_RUN_AS_NODE': '1', 'VSCODE_IPC_HOOK_CLI': '/run/user/1007/vscode-ipc-f3b4b80f-59f9-4b53-a2f4-0a4dc5c246b3.sock', 'VSCODE_L10N_BUNDLE_LOCATION': '', 'PYTHONUNBUFFERED': '1', 'VIRTUAL_ENV': '/home/kaveh/calib_venv', 'PYTHONIOENCODING': 'utf-8', 'VIRTUAL_ENV_PROMPT': '(calib_venv) ', 'PS1': '(calib_venv) ', 'PYDEVD_IPYTHON_COMPATIBLE_DEBUGGING': '1', 'PYTHON_FROZEN_MODULES': 'on', 'PYDEVD_USE_FRAME_EVAL': 'NO', 'TERM': 'xterm-color', 'CLICOLOR': '1', 'FORCE_COLOR': '1', 'CLICOLOR_FORCE': '1', 'PAGER': 'cat', 'GIT_PAGER': 'cat', 'MPLBACKEND': 'module://matplotlib_inline.backend_inline'})\n"
     ]
    }
   ],
   "source": []
  },
  {
   "cell_type": "code",
   "execution_count": 1,
   "id": "69f61ca7",
   "metadata": {},
   "outputs": [
    {
     "data": {
      "text/plain": [
       "'/home/kaveh/Hornsgatan/'"
      ]
     },
     "execution_count": 1,
     "metadata": {},
     "output_type": "execute_result"
    }
   ],
   "source": [
    "import os\n",
    "os.environ[\"HORNSGATAN_HOME\"]\n"
   ]
  }
 ],
 "metadata": {
  "kernelspec": {
   "display_name": "KTH",
   "language": "python",
   "name": "python3"
  },
  "language_info": {
   "codemirror_mode": {
    "name": "ipython",
    "version": 3
   },
   "file_extension": ".py",
   "mimetype": "text/x-python",
   "name": "python",
   "nbconvert_exporter": "python",
   "pygments_lexer": "ipython3",
   "version": "3.12.3"
  }
 },
 "nbformat": 4,
 "nbformat_minor": 5
}
