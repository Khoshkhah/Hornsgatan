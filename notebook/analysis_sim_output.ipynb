{
 "cells": [
  {
   "cell_type": "markdown",
   "id": "bca770e1",
   "metadata": {},
   "source": [
    "compare calibration result and simulation result in the instant loop detector"
   ]
  },
  {
   "cell_type": "code",
   "execution_count": 51,
   "id": "3c464bd4",
   "metadata": {},
   "outputs": [
    {
     "name": "stdout",
     "output_type": "stream",
     "text": [
      "Current directory: /home/kaveh/projects/Hornsgatan\n",
      "Current directory: /home/kaveh/projects/Hornsgatan\n"
     ]
    }
   ],
   "source": [
    "import os\n",
    "print(\"Current directory:\", os.getcwd())\n",
    "HORNSGATAN_HOME = os.environ[\"HORNSGATAN_HOME\"]\n",
    "os.chdir(HORNSGATAN_HOME)\n",
    "print(\"Current directory:\", os.getcwd())\n",
    "\n",
    "#number = len(data)\n",
    "import pandas as pd\n",
    "date = '2020-01-01'\n",
    "detector = 'w2e_in'\n",
    "number = 0\n",
    "path  = \"data/sim_data/\"\n",
    "if number<1:\n",
    "    postfix = f\"{detector}_{date}\"\n",
    "else:\n",
    "    postfix = f\"{detector}_{date}_{number}\"\n",
    "\n",
    "instantInductionLoop_filename_xml = f\"{path}instantInductionLoop_{postfix}.xml\"\n"
   ]
  },
  {
   "cell_type": "code",
   "execution_count": 52,
   "id": "b2afbafc",
   "metadata": {},
   "outputs": [],
   "source": [
    "import xml.etree.ElementTree as ET\n",
    "\n",
    "# Parse the XML content of output_detectors.xml\n",
    "tree_output = ET.parse(instantInductionLoop_filename_xml)\n",
    "root_output = tree_output.getroot()\n",
    "\n",
    "# Extract data from the XML\n",
    "instant_out_data = []\n",
    "for instant_out in root_output.findall('instantOut'):\n",
    "    instant_out_data.append({\n",
    "        'id': instant_out.get('id'),\n",
    "        'time': float(instant_out.get('time')),\n",
    "        'state': instant_out.get('state'),\n",
    "        'vehID': instant_out.get('vehID'),\n",
    "        'speed': float(instant_out.get('speed')),  # Convert speed to km/h\n",
    "        'length': instant_out.get('length'),\n",
    "        'type': instant_out.get('type'),\n",
    "        'gap': instant_out.get('gap')\n",
    "    })\n",
    "\n",
    "# Convert to a DataFrame\n",
    "df_instant_out = pd.DataFrame(instant_out_data)\n",
    "df_instant_out = df_instant_out[df_instant_out[\"state\"]=='enter']\n",
    "# Save to CSV\n",
    "#output_csv_file_instant_out = 'output_instant_out.csv'\n",
    "#df_instant_out.to_csv(output_csv_file_instant_out, index=False)\n",
    "#print(f\"Data from 'output_detectors.xml' successfully converted to CSV and saved as '{output_csv_file_instant_out}'.\")\n"
   ]
  },
  {
   "cell_type": "code",
   "execution_count": 53,
   "id": "0cb30bef",
   "metadata": {},
   "outputs": [
    {
     "data": {
      "application/vnd.microsoft.datawrangler.viewer.v0+json": {
       "columns": [
        {
         "name": "index",
         "rawType": "int64",
         "type": "integer"
        },
        {
         "name": "id",
         "rawType": "object",
         "type": "string"
        },
        {
         "name": "time",
         "rawType": "float64",
         "type": "float"
        },
        {
         "name": "state",
         "rawType": "object",
         "type": "string"
        },
        {
         "name": "vehID",
         "rawType": "object",
         "type": "string"
        },
        {
         "name": "speed",
         "rawType": "float64",
         "type": "float"
        },
        {
         "name": "length",
         "rawType": "object",
         "type": "string"
        },
        {
         "name": "type",
         "rawType": "object",
         "type": "string"
        },
        {
         "name": "gap",
         "rawType": "object",
         "type": "unknown"
        }
       ],
       "conversionMethod": "pd.DataFrame",
       "ref": "87336006-6162-4c75-938f-d66248e099c6",
       "rows": [
        [
         "0",
         "w2e_in",
         "1577836811.1",
         "enter",
         "0_w2e_in",
         "10.26",
         "5.00",
         "DEFAULT_VEHTYPE",
         null
        ],
        [
         "2",
         "w2e_in",
         "1577836814.1",
         "enter",
         "1_w2e_in",
         "9.82",
         "5.00",
         "DEFAULT_VEHTYPE",
         "2.52"
        ],
        [
         "4",
         "w2e_in",
         "1577836815.87",
         "enter",
         "2_w2e_in",
         "9.82",
         "5.00",
         "DEFAULT_VEHTYPE",
         "1.25"
        ],
        [
         "7",
         "w2e_in",
         "1577836826.09",
         "enter",
         "3_w2e_in",
         "11.09",
         "5.00",
         "DEFAULT_VEHTYPE",
         "9.71"
        ],
        [
         "9",
         "w2e_in",
         "1577836847.26",
         "enter",
         "5_w2e_in",
         "7.93",
         "5.00",
         "DEFAULT_VEHTYPE",
         "20.72"
        ],
        [
         "11",
         "w2e_in",
         "1577836849.21",
         "enter",
         "4_w2e_in",
         "7.93",
         "5.00",
         "DEFAULT_VEHTYPE",
         "1.32"
        ],
        [
         "13",
         "w2e_in",
         "1577836880.1",
         "enter",
         "6_w2e_in",
         "10.05",
         "5.00",
         "DEFAULT_VEHTYPE",
         "30.26"
        ],
        [
         "15",
         "w2e_in",
         "1577836884.11",
         "enter",
         "7_w2e_in",
         "9.37",
         "5.00",
         "DEFAULT_VEHTYPE",
         "3.51"
        ],
        [
         "17",
         "w2e_in",
         "1577836906.1",
         "enter",
         "8_w2e_in",
         "9.79",
         "5.00",
         "DEFAULT_VEHTYPE",
         "21.46"
        ],
        [
         "19",
         "w2e_in",
         "1577836932.01",
         "enter",
         "9_w2e_in",
         "9.65",
         "5.00",
         "DEFAULT_VEHTYPE",
         "25.40"
        ],
        [
         "21",
         "w2e_in",
         "1577836934.19",
         "enter",
         "10_w2e_in",
         "9.46",
         "5.00",
         "DEFAULT_VEHTYPE",
         "1.66"
        ],
        [
         "23",
         "w2e_in",
         "1577836935.99",
         "enter",
         "11_w2e_in",
         "9.5",
         "5.00",
         "DEFAULT_VEHTYPE",
         "1.27"
        ],
        [
         "26",
         "w2e_in",
         "1577836937.79",
         "enter",
         "12_w2e_in",
         "9.51",
         "5.00",
         "DEFAULT_VEHTYPE",
         "1.27"
        ],
        [
         "29",
         "w2e_in",
         "1577836943.16",
         "enter",
         "13_w2e_in",
         "11.31",
         "5.00",
         "DEFAULT_VEHTYPE",
         "4.84"
        ],
        [
         "31",
         "w2e_in",
         "1577836946.07",
         "enter",
         "14_w2e_in",
         "10.89",
         "5.00",
         "DEFAULT_VEHTYPE",
         "2.47"
        ],
        [
         "33",
         "w2e_in",
         "1577836948.09",
         "enter",
         "15_w2e_in",
         "10.71",
         "5.00",
         "DEFAULT_VEHTYPE",
         "1.57"
        ],
        [
         "35",
         "w2e_in",
         "1577836953.1",
         "enter",
         "16_w2e_in",
         "9.7",
         "5.00",
         "DEFAULT_VEHTYPE",
         "4.54"
        ],
        [
         "37",
         "w2e_in",
         "1577836960.1",
         "enter",
         "17_w2e_in",
         "9.79",
         "5.00",
         "DEFAULT_VEHTYPE",
         "6.49"
        ],
        [
         "39",
         "w2e_in",
         "1577836962.22",
         "enter",
         "18_w2e_in",
         "9.65",
         "5.00",
         "DEFAULT_VEHTYPE",
         "1.61"
        ],
        [
         "41",
         "w2e_in",
         "1577836964.1",
         "enter",
         "19_w2e_in",
         "9.6",
         "5.00",
         "DEFAULT_VEHTYPE",
         "1.37"
        ],
        [
         "43",
         "w2e_in",
         "1577836978.11",
         "enter",
         "20_w2e_in",
         "8.95",
         "5.00",
         "DEFAULT_VEHTYPE",
         "13.49"
        ],
        [
         "45",
         "w2e_in",
         "1577837006.09",
         "enter",
         "21_w2e_in",
         "11.69",
         "5.00",
         "DEFAULT_VEHTYPE",
         "27.42"
        ],
        [
         "47",
         "w2e_in",
         "1577837011.1",
         "enter",
         "22_w2e_in",
         "10.52",
         "5.00",
         "DEFAULT_VEHTYPE",
         "4.58"
        ],
        [
         "49",
         "w2e_in",
         "1577837014.01",
         "enter",
         "23_w2e_in",
         "10.14",
         "5.00",
         "DEFAULT_VEHTYPE",
         "2.44"
        ],
        [
         "51",
         "w2e_in",
         "1577837015.75",
         "enter",
         "24_w2e_in",
         "10.14",
         "5.00",
         "DEFAULT_VEHTYPE",
         "1.25"
        ],
        [
         "54",
         "w2e_in",
         "1577837017.49",
         "enter",
         "25_w2e_in",
         "10.14",
         "5.00",
         "DEFAULT_VEHTYPE",
         "1.25"
        ],
        [
         "56",
         "w2e_in",
         "1577837019.23",
         "enter",
         "26_w2e_in",
         "10.14",
         "5.00",
         "DEFAULT_VEHTYPE",
         "1.25"
        ],
        [
         "58",
         "w2e_in",
         "1577837022.55",
         "enter",
         "27_w2e_in",
         "9.93",
         "5.00",
         "DEFAULT_VEHTYPE",
         "2.83"
        ],
        [
         "61",
         "w2e_in",
         "1577837024.31",
         "enter",
         "28_w2e_in",
         "9.93",
         "5.00",
         "DEFAULT_VEHTYPE",
         "1.25"
        ],
        [
         "63",
         "w2e_in",
         "1577837026.06",
         "enter",
         "29_w2e_in",
         "9.93",
         "5.00",
         "DEFAULT_VEHTYPE",
         "1.25"
        ],
        [
         "65",
         "w2e_in",
         "1577837035.97",
         "enter",
         "30_w2e_in",
         "12.85",
         "5.00",
         "DEFAULT_VEHTYPE",
         "9.40"
        ],
        [
         "68",
         "w2e_in",
         "1577837042.17",
         "enter",
         "31_w2e_in",
         "11.02",
         "5.00",
         "DEFAULT_VEHTYPE",
         "5.82"
        ],
        [
         "70",
         "w2e_in",
         "1577837064.08",
         "enter",
         "32_w2e_in",
         "11.96",
         "5.00",
         "DEFAULT_VEHTYPE",
         "21.46"
        ],
        [
         "72",
         "w2e_in",
         "1577837069.09",
         "enter",
         "33_w2e_in",
         "10.83",
         "5.00",
         "DEFAULT_VEHTYPE",
         "4.59"
        ],
        [
         "74",
         "w2e_in",
         "1577837091.97",
         "enter",
         "34_w2e_in",
         "9.23",
         "5.00",
         "DEFAULT_VEHTYPE",
         "22.42"
        ],
        [
         "77",
         "w2e_in",
         "1577837094.91",
         "enter",
         "35_w2e_in",
         "8.89",
         "5.00",
         "DEFAULT_VEHTYPE",
         "2.40"
        ],
        [
         "80",
         "w2e_in",
         "1577837097.65",
         "enter",
         "36_w2e_in",
         "8.61",
         "5.00",
         "DEFAULT_VEHTYPE",
         "2.17"
        ],
        [
         "83",
         "w2e_in",
         "1577837133.09",
         "enter",
         "38_w2e_in",
         "11.34",
         "5.00",
         "DEFAULT_VEHTYPE",
         "34.86"
        ],
        [
         "85",
         "w2e_in",
         "1577837134.75",
         "enter",
         "37_w2e_in",
         "11.34",
         "5.00",
         "DEFAULT_VEHTYPE",
         "1.22"
        ],
        [
         "88",
         "w2e_in",
         "1577837136.41",
         "enter",
         "39_w2e_in",
         "11.34",
         "5.00",
         "DEFAULT_VEHTYPE",
         "1.22"
        ],
        [
         "90",
         "w2e_in",
         "1577837142.4",
         "enter",
         "40_w2e_in",
         "9.79",
         "5.00",
         "DEFAULT_VEHTYPE",
         "5.55"
        ],
        [
         "92",
         "w2e_in",
         "1577837151.16",
         "enter",
         "42_w2e_in",
         "9.76",
         "5.00",
         "DEFAULT_VEHTYPE",
         "8.25"
        ],
        [
         "94",
         "w2e_in",
         "1577837152.93",
         "enter",
         "41_w2e_in",
         "9.76",
         "5.00",
         "DEFAULT_VEHTYPE",
         "1.26"
        ],
        [
         "97",
         "w2e_in",
         "1577837164.22",
         "enter",
         "43_w2e_in",
         "7.8",
         "5.00",
         "DEFAULT_VEHTYPE",
         "10.79"
        ],
        [
         "99",
         "w2e_in",
         "1577837181.11",
         "enter",
         "44_w2e_in",
         "9.16",
         "5.00",
         "DEFAULT_VEHTYPE",
         "16.24"
        ],
        [
         "101",
         "w2e_in",
         "1577837183.12",
         "enter",
         "45_w2e_in",
         "9.08",
         "5.00",
         "DEFAULT_VEHTYPE",
         "1.47"
        ],
        [
         "103",
         "w2e_in",
         "1577837211.1",
         "enter",
         "46_w2e_in",
         "10.0",
         "5.00",
         "DEFAULT_VEHTYPE",
         "27.43"
        ],
        [
         "105",
         "w2e_in",
         "1577837212.85",
         "enter",
         "47_w2e_in",
         "10.0",
         "5.00",
         "DEFAULT_VEHTYPE",
         "1.25"
        ],
        [
         "108",
         "w2e_in",
         "1577837217.42",
         "enter",
         "50_w2e_in",
         "10.44",
         "5.00",
         "DEFAULT_VEHTYPE",
         "4.07"
        ],
        [
         "110",
         "w2e_in",
         "1577837220.38",
         "enter",
         "49_w2e_in",
         "9.99",
         "5.00",
         "DEFAULT_VEHTYPE",
         "2.48"
        ]
       ],
       "shape": {
        "columns": 8,
        "rows": 10162
       }
      },
      "text/html": [
       "<div>\n",
       "<style scoped>\n",
       "    .dataframe tbody tr th:only-of-type {\n",
       "        vertical-align: middle;\n",
       "    }\n",
       "\n",
       "    .dataframe tbody tr th {\n",
       "        vertical-align: top;\n",
       "    }\n",
       "\n",
       "    .dataframe thead th {\n",
       "        text-align: right;\n",
       "    }\n",
       "</style>\n",
       "<table border=\"1\" class=\"dataframe\">\n",
       "  <thead>\n",
       "    <tr style=\"text-align: right;\">\n",
       "      <th></th>\n",
       "      <th>id</th>\n",
       "      <th>time</th>\n",
       "      <th>state</th>\n",
       "      <th>vehID</th>\n",
       "      <th>speed</th>\n",
       "      <th>length</th>\n",
       "      <th>type</th>\n",
       "      <th>gap</th>\n",
       "    </tr>\n",
       "  </thead>\n",
       "  <tbody>\n",
       "    <tr>\n",
       "      <th>0</th>\n",
       "      <td>w2e_in</td>\n",
       "      <td>1.577837e+09</td>\n",
       "      <td>enter</td>\n",
       "      <td>0_w2e_in</td>\n",
       "      <td>10.26</td>\n",
       "      <td>5.00</td>\n",
       "      <td>DEFAULT_VEHTYPE</td>\n",
       "      <td>None</td>\n",
       "    </tr>\n",
       "    <tr>\n",
       "      <th>2</th>\n",
       "      <td>w2e_in</td>\n",
       "      <td>1.577837e+09</td>\n",
       "      <td>enter</td>\n",
       "      <td>1_w2e_in</td>\n",
       "      <td>9.82</td>\n",
       "      <td>5.00</td>\n",
       "      <td>DEFAULT_VEHTYPE</td>\n",
       "      <td>2.52</td>\n",
       "    </tr>\n",
       "    <tr>\n",
       "      <th>4</th>\n",
       "      <td>w2e_in</td>\n",
       "      <td>1.577837e+09</td>\n",
       "      <td>enter</td>\n",
       "      <td>2_w2e_in</td>\n",
       "      <td>9.82</td>\n",
       "      <td>5.00</td>\n",
       "      <td>DEFAULT_VEHTYPE</td>\n",
       "      <td>1.25</td>\n",
       "    </tr>\n",
       "    <tr>\n",
       "      <th>7</th>\n",
       "      <td>w2e_in</td>\n",
       "      <td>1.577837e+09</td>\n",
       "      <td>enter</td>\n",
       "      <td>3_w2e_in</td>\n",
       "      <td>11.09</td>\n",
       "      <td>5.00</td>\n",
       "      <td>DEFAULT_VEHTYPE</td>\n",
       "      <td>9.71</td>\n",
       "    </tr>\n",
       "    <tr>\n",
       "      <th>9</th>\n",
       "      <td>w2e_in</td>\n",
       "      <td>1.577837e+09</td>\n",
       "      <td>enter</td>\n",
       "      <td>5_w2e_in</td>\n",
       "      <td>7.93</td>\n",
       "      <td>5.00</td>\n",
       "      <td>DEFAULT_VEHTYPE</td>\n",
       "      <td>20.72</td>\n",
       "    </tr>\n",
       "    <tr>\n",
       "      <th>...</th>\n",
       "      <td>...</td>\n",
       "      <td>...</td>\n",
       "      <td>...</td>\n",
       "      <td>...</td>\n",
       "      <td>...</td>\n",
       "      <td>...</td>\n",
       "      <td>...</td>\n",
       "      <td>...</td>\n",
       "    </tr>\n",
       "    <tr>\n",
       "      <th>24408</th>\n",
       "      <td>w2e_in</td>\n",
       "      <td>1.577923e+09</td>\n",
       "      <td>enter</td>\n",
       "      <td>10157_w2e_in</td>\n",
       "      <td>10.10</td>\n",
       "      <td>5.00</td>\n",
       "      <td>DEFAULT_VEHTYPE</td>\n",
       "      <td>1.25</td>\n",
       "    </tr>\n",
       "    <tr>\n",
       "      <th>24411</th>\n",
       "      <td>w2e_in</td>\n",
       "      <td>1.577923e+09</td>\n",
       "      <td>enter</td>\n",
       "      <td>10158_w2e_in</td>\n",
       "      <td>10.11</td>\n",
       "      <td>5.00</td>\n",
       "      <td>DEFAULT_VEHTYPE</td>\n",
       "      <td>1.25</td>\n",
       "    </tr>\n",
       "    <tr>\n",
       "      <th>24413</th>\n",
       "      <td>w2e_in</td>\n",
       "      <td>1.577923e+09</td>\n",
       "      <td>enter</td>\n",
       "      <td>10160_w2e_in</td>\n",
       "      <td>10.74</td>\n",
       "      <td>5.00</td>\n",
       "      <td>DEFAULT_VEHTYPE</td>\n",
       "      <td>4.16</td>\n",
       "    </tr>\n",
       "    <tr>\n",
       "      <th>24415</th>\n",
       "      <td>w2e_in</td>\n",
       "      <td>1.577923e+09</td>\n",
       "      <td>enter</td>\n",
       "      <td>10159_w2e_in</td>\n",
       "      <td>10.74</td>\n",
       "      <td>5.00</td>\n",
       "      <td>DEFAULT_VEHTYPE</td>\n",
       "      <td>1.23</td>\n",
       "    </tr>\n",
       "    <tr>\n",
       "      <th>24418</th>\n",
       "      <td>w2e_in</td>\n",
       "      <td>1.577923e+09</td>\n",
       "      <td>enter</td>\n",
       "      <td>10161_w2e_in</td>\n",
       "      <td>10.11</td>\n",
       "      <td>5.00</td>\n",
       "      <td>DEFAULT_VEHTYPE</td>\n",
       "      <td>6.67</td>\n",
       "    </tr>\n",
       "  </tbody>\n",
       "</table>\n",
       "<p>10162 rows × 8 columns</p>\n",
       "</div>"
      ],
      "text/plain": [
       "           id          time  state         vehID  speed length  \\\n",
       "0      w2e_in  1.577837e+09  enter      0_w2e_in  10.26   5.00   \n",
       "2      w2e_in  1.577837e+09  enter      1_w2e_in   9.82   5.00   \n",
       "4      w2e_in  1.577837e+09  enter      2_w2e_in   9.82   5.00   \n",
       "7      w2e_in  1.577837e+09  enter      3_w2e_in  11.09   5.00   \n",
       "9      w2e_in  1.577837e+09  enter      5_w2e_in   7.93   5.00   \n",
       "...       ...           ...    ...           ...    ...    ...   \n",
       "24408  w2e_in  1.577923e+09  enter  10157_w2e_in  10.10   5.00   \n",
       "24411  w2e_in  1.577923e+09  enter  10158_w2e_in  10.11   5.00   \n",
       "24413  w2e_in  1.577923e+09  enter  10160_w2e_in  10.74   5.00   \n",
       "24415  w2e_in  1.577923e+09  enter  10159_w2e_in  10.74   5.00   \n",
       "24418  w2e_in  1.577923e+09  enter  10161_w2e_in  10.11   5.00   \n",
       "\n",
       "                  type    gap  \n",
       "0      DEFAULT_VEHTYPE   None  \n",
       "2      DEFAULT_VEHTYPE   2.52  \n",
       "4      DEFAULT_VEHTYPE   1.25  \n",
       "7      DEFAULT_VEHTYPE   9.71  \n",
       "9      DEFAULT_VEHTYPE  20.72  \n",
       "...                ...    ...  \n",
       "24408  DEFAULT_VEHTYPE   1.25  \n",
       "24411  DEFAULT_VEHTYPE   1.25  \n",
       "24413  DEFAULT_VEHTYPE   4.16  \n",
       "24415  DEFAULT_VEHTYPE   1.23  \n",
       "24418  DEFAULT_VEHTYPE   6.67  \n",
       "\n",
       "[10162 rows x 8 columns]"
      ]
     },
     "execution_count": 53,
     "metadata": {},
     "output_type": "execute_result"
    }
   ],
   "source": [
    "df_instant_out"
   ]
  },
  {
   "cell_type": "code",
   "execution_count": 54,
   "id": "2509bb26",
   "metadata": {},
   "outputs": [
    {
     "data": {
      "application/vnd.microsoft.datawrangler.viewer.v0+json": {
       "columns": [
        {
         "name": "index",
         "rawType": "int64",
         "type": "integer"
        },
        {
         "name": "vehID",
         "rawType": "object",
         "type": "string"
        },
        {
         "name": "time_detector_sim",
         "rawType": "float64",
         "type": "float"
        },
        {
         "name": "speed_detector_sim",
         "rawType": "float64",
         "type": "float"
        },
        {
         "name": "speed_factor",
         "rawType": "float64",
         "type": "float"
        },
        {
         "name": "time_detector_real",
         "rawType": "int64",
         "type": "integer"
        },
        {
         "name": "depart",
         "rawType": "int64",
         "type": "integer"
        },
        {
         "name": "departSpeed",
         "rawType": "object",
         "type": "string"
        },
        {
         "name": "speed_detector_real",
         "rawType": "float64",
         "type": "float"
        },
        {
         "name": "delta_time",
         "rawType": "float64",
         "type": "float"
        },
        {
         "name": "delta_speed",
         "rawType": "float64",
         "type": "float"
        }
       ],
       "conversionMethod": "pd.DataFrame",
       "ref": "ce6c593e-3931-4c87-8153-6f4f44e5ea1b",
       "rows": [
        [
         "0",
         "0_w2e_in",
         "1577836811.1",
         "10.262976438951462",
         "1.232050226254171",
         "1577836811",
         "1577836769",
         "max",
         "9.166666666666666",
         "0.0999999046325683",
         "1.096309772284796"
        ],
        [
         "1",
         "1_w2e_in",
         "1577836814.21",
         "9.816909419009344",
         "1.178500696196346",
         "1577836814",
         "1577836770",
         "max",
         "7.5",
         "0.2100000381469726",
         "2.3169094190093453"
        ],
        [
         "2",
         "2_w2e_in",
         "1577836815.25",
         "10.04948666035724",
         "1.2064207142450631",
         "1577836815",
         "1577836770",
         "max",
         "8.88888888888889",
         "0.25",
         "1.1605977714683515"
        ],
        [
         "3",
         "3_w2e_in",
         "1577836826.09",
         "11.093025494653835",
         "1.3316955891426243",
         "1577836826",
         "1577836787",
         "max",
         "11.11111111111111",
         "0.0899999141693115",
         "-0.0180856164572755"
        ],
        [
         "4",
         "4_w2e_in",
         "1577836846.84",
         "8.030520039602967",
         "0.9640480239619408",
         "1577836847",
         "1577836793",
         "max",
         "7.777777777777778",
         "-0.1600000858306884",
         "0.2527422618251895"
        ]
       ],
       "shape": {
        "columns": 10,
        "rows": 5
       }
      },
      "text/html": [
       "<div>\n",
       "<style scoped>\n",
       "    .dataframe tbody tr th:only-of-type {\n",
       "        vertical-align: middle;\n",
       "    }\n",
       "\n",
       "    .dataframe tbody tr th {\n",
       "        vertical-align: top;\n",
       "    }\n",
       "\n",
       "    .dataframe thead th {\n",
       "        text-align: right;\n",
       "    }\n",
       "</style>\n",
       "<table border=\"1\" class=\"dataframe\">\n",
       "  <thead>\n",
       "    <tr style=\"text-align: right;\">\n",
       "      <th></th>\n",
       "      <th>vehID</th>\n",
       "      <th>time_detector_sim</th>\n",
       "      <th>speed_detector_sim</th>\n",
       "      <th>speed_factor</th>\n",
       "      <th>time_detector_real</th>\n",
       "      <th>depart</th>\n",
       "      <th>departSpeed</th>\n",
       "      <th>speed_detector_real</th>\n",
       "      <th>delta_time</th>\n",
       "      <th>delta_speed</th>\n",
       "    </tr>\n",
       "  </thead>\n",
       "  <tbody>\n",
       "    <tr>\n",
       "      <th>0</th>\n",
       "      <td>0_w2e_in</td>\n",
       "      <td>1.577837e+09</td>\n",
       "      <td>10.262976</td>\n",
       "      <td>1.232050</td>\n",
       "      <td>1577836811</td>\n",
       "      <td>1577836769</td>\n",
       "      <td>max</td>\n",
       "      <td>9.166667</td>\n",
       "      <td>0.10</td>\n",
       "      <td>1.096310</td>\n",
       "    </tr>\n",
       "    <tr>\n",
       "      <th>1</th>\n",
       "      <td>1_w2e_in</td>\n",
       "      <td>1.577837e+09</td>\n",
       "      <td>9.816909</td>\n",
       "      <td>1.178501</td>\n",
       "      <td>1577836814</td>\n",
       "      <td>1577836770</td>\n",
       "      <td>max</td>\n",
       "      <td>7.500000</td>\n",
       "      <td>0.21</td>\n",
       "      <td>2.316909</td>\n",
       "    </tr>\n",
       "    <tr>\n",
       "      <th>2</th>\n",
       "      <td>2_w2e_in</td>\n",
       "      <td>1.577837e+09</td>\n",
       "      <td>10.049487</td>\n",
       "      <td>1.206421</td>\n",
       "      <td>1577836815</td>\n",
       "      <td>1577836770</td>\n",
       "      <td>max</td>\n",
       "      <td>8.888889</td>\n",
       "      <td>0.25</td>\n",
       "      <td>1.160598</td>\n",
       "    </tr>\n",
       "    <tr>\n",
       "      <th>3</th>\n",
       "      <td>3_w2e_in</td>\n",
       "      <td>1.577837e+09</td>\n",
       "      <td>11.093025</td>\n",
       "      <td>1.331696</td>\n",
       "      <td>1577836826</td>\n",
       "      <td>1577836787</td>\n",
       "      <td>max</td>\n",
       "      <td>11.111111</td>\n",
       "      <td>0.09</td>\n",
       "      <td>-0.018086</td>\n",
       "    </tr>\n",
       "    <tr>\n",
       "      <th>4</th>\n",
       "      <td>4_w2e_in</td>\n",
       "      <td>1.577837e+09</td>\n",
       "      <td>8.030520</td>\n",
       "      <td>0.964048</td>\n",
       "      <td>1577836847</td>\n",
       "      <td>1577836793</td>\n",
       "      <td>max</td>\n",
       "      <td>7.777778</td>\n",
       "      <td>-0.16</td>\n",
       "      <td>0.252742</td>\n",
       "    </tr>\n",
       "  </tbody>\n",
       "</table>\n",
       "</div>"
      ],
      "text/plain": [
       "      vehID  time_detector_sim  speed_detector_sim  speed_factor  \\\n",
       "0  0_w2e_in       1.577837e+09           10.262976      1.232050   \n",
       "1  1_w2e_in       1.577837e+09            9.816909      1.178501   \n",
       "2  2_w2e_in       1.577837e+09           10.049487      1.206421   \n",
       "3  3_w2e_in       1.577837e+09           11.093025      1.331696   \n",
       "4  4_w2e_in       1.577837e+09            8.030520      0.964048   \n",
       "\n",
       "   time_detector_real      depart departSpeed  speed_detector_real  \\\n",
       "0          1577836811  1577836769         max             9.166667   \n",
       "1          1577836814  1577836770         max             7.500000   \n",
       "2          1577836815  1577836770         max             8.888889   \n",
       "3          1577836826  1577836787         max            11.111111   \n",
       "4          1577836847  1577836793         max             7.777778   \n",
       "\n",
       "   delta_time  delta_speed  \n",
       "0        0.10     1.096310  \n",
       "1        0.21     2.316909  \n",
       "2        0.25     1.160598  \n",
       "3        0.09    -0.018086  \n",
       "4       -0.16     0.252742  "
      ]
     },
     "execution_count": 54,
     "metadata": {},
     "output_type": "execute_result"
    }
   ],
   "source": [
    "data = pd.read_csv(f'data/calibration_data/calibrated_data_{postfix}.csv')\n",
    "data.rename(columns={\"veh_id\": \"vehID\"}, inplace=True)\n",
    "data.head()"
   ]
  },
  {
   "cell_type": "code",
   "execution_count": 55,
   "id": "41ef4aa2",
   "metadata": {},
   "outputs": [
    {
     "name": "stdout",
     "output_type": "stream",
     "text": [
      "10162 10162\n"
     ]
    }
   ],
   "source": [
    "print(len(data), len(df_instant_out))"
   ]
  },
  {
   "cell_type": "markdown",
   "id": "26c7724a",
   "metadata": {},
   "source": [
    "compare time error and speed error in loop detector between simulation result and calibration result"
   ]
  },
  {
   "cell_type": "code",
   "execution_count": 63,
   "id": "78ee4572",
   "metadata": {},
   "outputs": [
    {
     "data": {
      "application/vnd.microsoft.datawrangler.viewer.v0+json": {
       "columns": [
        {
         "name": "index",
         "rawType": "int64",
         "type": "integer"
        },
        {
         "name": "vehID",
         "rawType": "object",
         "type": "string"
        },
        {
         "name": "time",
         "rawType": "float64",
         "type": "float"
        },
        {
         "name": "speed",
         "rawType": "float64",
         "type": "float"
        },
        {
         "name": "time_detector_sim",
         "rawType": "float64",
         "type": "float"
        },
        {
         "name": "speed_detector_sim",
         "rawType": "float64",
         "type": "float"
        },
        {
         "name": "time_detector_real",
         "rawType": "int64",
         "type": "integer"
        },
        {
         "name": "speed_detector_real",
         "rawType": "float64",
         "type": "float"
        }
       ],
       "conversionMethod": "pd.DataFrame",
       "ref": "35a9a4f8-1b2b-4209-84e1-58a862e84596",
       "rows": [
        [
         "0",
         "0_w2e_in",
         "1577836811.1",
         "10.26",
         "1577836811.1",
         "10.262976438951462",
         "1577836811",
         "9.166666666666666"
        ],
        [
         "1",
         "1_w2e_in",
         "1577836814.1",
         "9.82",
         "1577836814.21",
         "9.816909419009344",
         "1577836814",
         "7.5"
        ],
        [
         "2",
         "2_w2e_in",
         "1577836815.87",
         "9.82",
         "1577836815.25",
         "10.04948666035724",
         "1577836815",
         "8.88888888888889"
        ],
        [
         "3",
         "3_w2e_in",
         "1577836826.09",
         "11.09",
         "1577836826.09",
         "11.093025494653835",
         "1577836826",
         "11.11111111111111"
        ],
        [
         "4",
         "5_w2e_in",
         "1577836847.26",
         "7.93",
         "1577836849.13",
         "7.932750883906156",
         "1577836849",
         "6.666666666666666"
        ]
       ],
       "shape": {
        "columns": 7,
        "rows": 5
       }
      },
      "text/html": [
       "<div>\n",
       "<style scoped>\n",
       "    .dataframe tbody tr th:only-of-type {\n",
       "        vertical-align: middle;\n",
       "    }\n",
       "\n",
       "    .dataframe tbody tr th {\n",
       "        vertical-align: top;\n",
       "    }\n",
       "\n",
       "    .dataframe thead th {\n",
       "        text-align: right;\n",
       "    }\n",
       "</style>\n",
       "<table border=\"1\" class=\"dataframe\">\n",
       "  <thead>\n",
       "    <tr style=\"text-align: right;\">\n",
       "      <th></th>\n",
       "      <th>vehID</th>\n",
       "      <th>time</th>\n",
       "      <th>speed</th>\n",
       "      <th>time_detector_sim</th>\n",
       "      <th>speed_detector_sim</th>\n",
       "      <th>time_detector_real</th>\n",
       "      <th>speed_detector_real</th>\n",
       "    </tr>\n",
       "  </thead>\n",
       "  <tbody>\n",
       "    <tr>\n",
       "      <th>0</th>\n",
       "      <td>0_w2e_in</td>\n",
       "      <td>1.577837e+09</td>\n",
       "      <td>10.26</td>\n",
       "      <td>1.577837e+09</td>\n",
       "      <td>10.262976</td>\n",
       "      <td>1577836811</td>\n",
       "      <td>9.166667</td>\n",
       "    </tr>\n",
       "    <tr>\n",
       "      <th>1</th>\n",
       "      <td>1_w2e_in</td>\n",
       "      <td>1.577837e+09</td>\n",
       "      <td>9.82</td>\n",
       "      <td>1.577837e+09</td>\n",
       "      <td>9.816909</td>\n",
       "      <td>1577836814</td>\n",
       "      <td>7.500000</td>\n",
       "    </tr>\n",
       "    <tr>\n",
       "      <th>2</th>\n",
       "      <td>2_w2e_in</td>\n",
       "      <td>1.577837e+09</td>\n",
       "      <td>9.82</td>\n",
       "      <td>1.577837e+09</td>\n",
       "      <td>10.049487</td>\n",
       "      <td>1577836815</td>\n",
       "      <td>8.888889</td>\n",
       "    </tr>\n",
       "    <tr>\n",
       "      <th>3</th>\n",
       "      <td>3_w2e_in</td>\n",
       "      <td>1.577837e+09</td>\n",
       "      <td>11.09</td>\n",
       "      <td>1.577837e+09</td>\n",
       "      <td>11.093025</td>\n",
       "      <td>1577836826</td>\n",
       "      <td>11.111111</td>\n",
       "    </tr>\n",
       "    <tr>\n",
       "      <th>4</th>\n",
       "      <td>5_w2e_in</td>\n",
       "      <td>1.577837e+09</td>\n",
       "      <td>7.93</td>\n",
       "      <td>1.577837e+09</td>\n",
       "      <td>7.932751</td>\n",
       "      <td>1577836849</td>\n",
       "      <td>6.666667</td>\n",
       "    </tr>\n",
       "  </tbody>\n",
       "</table>\n",
       "</div>"
      ],
      "text/plain": [
       "      vehID          time  speed  time_detector_sim  speed_detector_sim  \\\n",
       "0  0_w2e_in  1.577837e+09  10.26       1.577837e+09           10.262976   \n",
       "1  1_w2e_in  1.577837e+09   9.82       1.577837e+09            9.816909   \n",
       "2  2_w2e_in  1.577837e+09   9.82       1.577837e+09           10.049487   \n",
       "3  3_w2e_in  1.577837e+09  11.09       1.577837e+09           11.093025   \n",
       "4  5_w2e_in  1.577837e+09   7.93       1.577837e+09            7.932751   \n",
       "\n",
       "   time_detector_real  speed_detector_real  \n",
       "0          1577836811             9.166667  \n",
       "1          1577836814             7.500000  \n",
       "2          1577836815             8.888889  \n",
       "3          1577836826            11.111111  \n",
       "4          1577836849             6.666667  "
      ]
     },
     "execution_count": 63,
     "metadata": {},
     "output_type": "execute_result"
    }
   ],
   "source": [
    "compare_df = pd.merge(df_instant_out[[\"vehID\",\"time\",\"speed\"]],\n",
    "            data[[\"vehID\",\"time_detector_sim\",\"speed_detector_sim\"\n",
    "                  ,\"time_detector_real\",\"speed_detector_real\"]],on=\"vehID\")\n",
    "compare_df.head()\n",
    "\n",
    "\n"
   ]
  },
  {
   "cell_type": "code",
   "execution_count": null,
   "id": "444b9984",
   "metadata": {},
   "outputs": [],
   "source": [
    "#compare_df = compare_df.head(19)"
   ]
  },
  {
   "cell_type": "code",
   "execution_count": 64,
   "id": "efaee82a",
   "metadata": {},
   "outputs": [
    {
     "data": {
      "text/plain": [
       "np.float64(0.5222111503056386)"
      ]
     },
     "execution_count": 64,
     "metadata": {},
     "output_type": "execute_result"
    }
   ],
   "source": [
    "time_calib_error = compare_df[\"time_calib_error\"]=(compare_df[\"time_detector_sim\"]-compare_df[\"time_detector_real\"])\n",
    "abs(time_calib_error).mean()"
   ]
  },
  {
   "cell_type": "code",
   "execution_count": 65,
   "id": "06d79b59",
   "metadata": {},
   "outputs": [
    {
     "data": {
      "text/plain": [
       "np.float64(1.9395689687210846)"
      ]
     },
     "execution_count": 65,
     "metadata": {},
     "output_type": "execute_result"
    }
   ],
   "source": [
    "time_sim_error = compare_df[\"time_sim_error\"] = compare_df[\"time\"]-compare_df[\"time_detector_real\"]\n",
    "abs(time_sim_error).mean()"
   ]
  },
  {
   "cell_type": "code",
   "execution_count": 66,
   "id": "623c98a5",
   "metadata": {},
   "outputs": [
    {
     "data": {
      "text/plain": [
       "np.float64(1.0430913536949387)"
      ]
     },
     "execution_count": 66,
     "metadata": {},
     "output_type": "execute_result"
    }
   ],
   "source": [
    "speed_calib_error= compare_df[\"speed_calib_error\"] =compare_df[\"speed_detector_sim\"]-compare_df[\"speed_detector_real\"]\n",
    "abs(speed_calib_error).mean()"
   ]
  },
  {
   "cell_type": "code",
   "execution_count": 67,
   "id": "ce1e059c",
   "metadata": {},
   "outputs": [
    {
     "data": {
      "text/plain": [
       "np.float64(1.2202188982921123)"
      ]
     },
     "execution_count": 67,
     "metadata": {},
     "output_type": "execute_result"
    }
   ],
   "source": [
    "speed_sim_error=compare_df[\"speed_sim_error\"] =compare_df[\"speed\"]-compare_df[\"speed_detector_real\"]\n",
    "abs(speed_sim_error).mean()"
   ]
  },
  {
   "cell_type": "code",
   "execution_count": 68,
   "id": "f719d7aa",
   "metadata": {},
   "outputs": [
    {
     "data": {
      "application/vnd.plotly.v1+json": {
       "config": {
        "plotlyServerURL": "https://plot.ly"
       },
       "data": [
        {
         "name": "time_sim_error --> MAE = 1.94",
         "opacity": 0.75,
         "type": "histogram",
         "x": {
          "bdata": "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",
          "dtype": "f8"
         },
         "xbins": {
          "end": 11,
          "size": 1,
          "start": -4
         }
        },
        {
         "name": "time_calib_error  --> MAE = 0.52",
         "opacity": 0.75,
         "type": "histogram",
         "x": {
          "bdata": "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",
          "dtype": "f8"
         },
         "xbins": {
          "end": 11,
          "size": 1,
          "start": -4
         }
        }
       ],
       "layout": {
        "barmode": "group",
        "template": {
         "data": {
          "bar": [
           {
            "error_x": {
             "color": "#2a3f5f"
            },
            "error_y": {
             "color": "#2a3f5f"
            },
            "marker": {
             "line": {
              "color": "#E5ECF6",
              "width": 0.5
             },
             "pattern": {
              "fillmode": "overlay",
              "size": 10,
              "solidity": 0.2
             }
            },
            "type": "bar"
           }
          ],
          "barpolar": [
           {
            "marker": {
             "line": {
              "color": "#E5ECF6",
              "width": 0.5
             },
             "pattern": {
              "fillmode": "overlay",
              "size": 10,
              "solidity": 0.2
             }
            },
            "type": "barpolar"
           }
          ],
          "carpet": [
           {
            "aaxis": {
             "endlinecolor": "#2a3f5f",
             "gridcolor": "white",
             "linecolor": "white",
             "minorgridcolor": "white",
             "startlinecolor": "#2a3f5f"
            },
            "baxis": {
             "endlinecolor": "#2a3f5f",
             "gridcolor": "white",
             "linecolor": "white",
             "minorgridcolor": "white",
             "startlinecolor": "#2a3f5f"
            },
            "type": "carpet"
           }
          ],
          "choropleth": [
           {
            "colorbar": {
             "outlinewidth": 0,
             "ticks": ""
            },
            "type": "choropleth"
           }
          ],
          "contour": [
           {
            "colorbar": {
             "outlinewidth": 0,
             "ticks": ""
            },
            "colorscale": [
             [
              0,
              "#0d0887"
             ],
             [
              0.1111111111111111,
              "#46039f"
             ],
             [
              0.2222222222222222,
              "#7201a8"
             ],
             [
              0.3333333333333333,
              "#9c179e"
             ],
             [
              0.4444444444444444,
              "#bd3786"
             ],
             [
              0.5555555555555556,
              "#d8576b"
             ],
             [
              0.6666666666666666,
              "#ed7953"
             ],
             [
              0.7777777777777778,
              "#fb9f3a"
             ],
             [
              0.8888888888888888,
              "#fdca26"
             ],
             [
              1,
              "#f0f921"
             ]
            ],
            "type": "contour"
           }
          ],
          "contourcarpet": [
           {
            "colorbar": {
             "outlinewidth": 0,
             "ticks": ""
            },
            "type": "contourcarpet"
           }
          ],
          "heatmap": [
           {
            "colorbar": {
             "outlinewidth": 0,
             "ticks": ""
            },
            "colorscale": [
             [
              0,
              "#0d0887"
             ],
             [
              0.1111111111111111,
              "#46039f"
             ],
             [
              0.2222222222222222,
              "#7201a8"
             ],
             [
              0.3333333333333333,
              "#9c179e"
             ],
             [
              0.4444444444444444,
              "#bd3786"
             ],
             [
              0.5555555555555556,
              "#d8576b"
             ],
             [
              0.6666666666666666,
              "#ed7953"
             ],
             [
              0.7777777777777778,
              "#fb9f3a"
             ],
             [
              0.8888888888888888,
              "#fdca26"
             ],
             [
              1,
              "#f0f921"
             ]
            ],
            "type": "heatmap"
           }
          ],
          "histogram": [
           {
            "marker": {
             "pattern": {
              "fillmode": "overlay",
              "size": 10,
              "solidity": 0.2
             }
            },
            "type": "histogram"
           }
          ],
          "histogram2d": [
           {
            "colorbar": {
             "outlinewidth": 0,
             "ticks": ""
            },
            "colorscale": [
             [
              0,
              "#0d0887"
             ],
             [
              0.1111111111111111,
              "#46039f"
             ],
             [
              0.2222222222222222,
              "#7201a8"
             ],
             [
              0.3333333333333333,
              "#9c179e"
             ],
             [
              0.4444444444444444,
              "#bd3786"
             ],
             [
              0.5555555555555556,
              "#d8576b"
             ],
             [
              0.6666666666666666,
              "#ed7953"
             ],
             [
              0.7777777777777778,
              "#fb9f3a"
             ],
             [
              0.8888888888888888,
              "#fdca26"
             ],
             [
              1,
              "#f0f921"
             ]
            ],
            "type": "histogram2d"
           }
          ],
          "histogram2dcontour": [
           {
            "colorbar": {
             "outlinewidth": 0,
             "ticks": ""
            },
            "colorscale": [
             [
              0,
              "#0d0887"
             ],
             [
              0.1111111111111111,
              "#46039f"
             ],
             [
              0.2222222222222222,
              "#7201a8"
             ],
             [
              0.3333333333333333,
              "#9c179e"
             ],
             [
              0.4444444444444444,
              "#bd3786"
             ],
             [
              0.5555555555555556,
              "#d8576b"
             ],
             [
              0.6666666666666666,
              "#ed7953"
             ],
             [
              0.7777777777777778,
              "#fb9f3a"
             ],
             [
              0.8888888888888888,
              "#fdca26"
             ],
             [
              1,
              "#f0f921"
             ]
            ],
            "type": "histogram2dcontour"
           }
          ],
          "mesh3d": [
           {
            "colorbar": {
             "outlinewidth": 0,
             "ticks": ""
            },
            "type": "mesh3d"
           }
          ],
          "parcoords": [
           {
            "line": {
             "colorbar": {
              "outlinewidth": 0,
              "ticks": ""
             }
            },
            "type": "parcoords"
           }
          ],
          "pie": [
           {
            "automargin": true,
            "type": "pie"
           }
          ],
          "scatter": [
           {
            "fillpattern": {
             "fillmode": "overlay",
             "size": 10,
             "solidity": 0.2
            },
            "type": "scatter"
           }
          ],
          "scatter3d": [
           {
            "line": {
             "colorbar": {
              "outlinewidth": 0,
              "ticks": ""
             }
            },
            "marker": {
             "colorbar": {
              "outlinewidth": 0,
              "ticks": ""
             }
            },
            "type": "scatter3d"
           }
          ],
          "scattercarpet": [
           {
            "marker": {
             "colorbar": {
              "outlinewidth": 0,
              "ticks": ""
             }
            },
            "type": "scattercarpet"
           }
          ],
          "scattergeo": [
           {
            "marker": {
             "colorbar": {
              "outlinewidth": 0,
              "ticks": ""
             }
            },
            "type": "scattergeo"
           }
          ],
          "scattergl": [
           {
            "marker": {
             "colorbar": {
              "outlinewidth": 0,
              "ticks": ""
             }
            },
            "type": "scattergl"
           }
          ],
          "scattermap": [
           {
            "marker": {
             "colorbar": {
              "outlinewidth": 0,
              "ticks": ""
             }
            },
            "type": "scattermap"
           }
          ],
          "scattermapbox": [
           {
            "marker": {
             "colorbar": {
              "outlinewidth": 0,
              "ticks": ""
             }
            },
            "type": "scattermapbox"
           }
          ],
          "scatterpolar": [
           {
            "marker": {
             "colorbar": {
              "outlinewidth": 0,
              "ticks": ""
             }
            },
            "type": "scatterpolar"
           }
          ],
          "scatterpolargl": [
           {
            "marker": {
             "colorbar": {
              "outlinewidth": 0,
              "ticks": ""
             }
            },
            "type": "scatterpolargl"
           }
          ],
          "scatterternary": [
           {
            "marker": {
             "colorbar": {
              "outlinewidth": 0,
              "ticks": ""
             }
            },
            "type": "scatterternary"
           }
          ],
          "surface": [
           {
            "colorbar": {
             "outlinewidth": 0,
             "ticks": ""
            },
            "colorscale": [
             [
              0,
              "#0d0887"
             ],
             [
              0.1111111111111111,
              "#46039f"
             ],
             [
              0.2222222222222222,
              "#7201a8"
             ],
             [
              0.3333333333333333,
              "#9c179e"
             ],
             [
              0.4444444444444444,
              "#bd3786"
             ],
             [
              0.5555555555555556,
              "#d8576b"
             ],
             [
              0.6666666666666666,
              "#ed7953"
             ],
             [
              0.7777777777777778,
              "#fb9f3a"
             ],
             [
              0.8888888888888888,
              "#fdca26"
             ],
             [
              1,
              "#f0f921"
             ]
            ],
            "type": "surface"
           }
          ],
          "table": [
           {
            "cells": {
             "fill": {
              "color": "#EBF0F8"
             },
             "line": {
              "color": "white"
             }
            },
            "header": {
             "fill": {
              "color": "#C8D4E3"
             },
             "line": {
              "color": "white"
             }
            },
            "type": "table"
           }
          ]
         },
         "layout": {
          "annotationdefaults": {
           "arrowcolor": "#2a3f5f",
           "arrowhead": 0,
           "arrowwidth": 1
          },
          "autotypenumbers": "strict",
          "coloraxis": {
           "colorbar": {
            "outlinewidth": 0,
            "ticks": ""
           }
          },
          "colorscale": {
           "diverging": [
            [
             0,
             "#8e0152"
            ],
            [
             0.1,
             "#c51b7d"
            ],
            [
             0.2,
             "#de77ae"
            ],
            [
             0.3,
             "#f1b6da"
            ],
            [
             0.4,
             "#fde0ef"
            ],
            [
             0.5,
             "#f7f7f7"
            ],
            [
             0.6,
             "#e6f5d0"
            ],
            [
             0.7,
             "#b8e186"
            ],
            [
             0.8,
             "#7fbc41"
            ],
            [
             0.9,
             "#4d9221"
            ],
            [
             1,
             "#276419"
            ]
           ],
           "sequential": [
            [
             0,
             "#0d0887"
            ],
            [
             0.1111111111111111,
             "#46039f"
            ],
            [
             0.2222222222222222,
             "#7201a8"
            ],
            [
             0.3333333333333333,
             "#9c179e"
            ],
            [
             0.4444444444444444,
             "#bd3786"
            ],
            [
             0.5555555555555556,
             "#d8576b"
            ],
            [
             0.6666666666666666,
             "#ed7953"
            ],
            [
             0.7777777777777778,
             "#fb9f3a"
            ],
            [
             0.8888888888888888,
             "#fdca26"
            ],
            [
             1,
             "#f0f921"
            ]
           ],
           "sequentialminus": [
            [
             0,
             "#0d0887"
            ],
            [
             0.1111111111111111,
             "#46039f"
            ],
            [
             0.2222222222222222,
             "#7201a8"
            ],
            [
             0.3333333333333333,
             "#9c179e"
            ],
            [
             0.4444444444444444,
             "#bd3786"
            ],
            [
             0.5555555555555556,
             "#d8576b"
            ],
            [
             0.6666666666666666,
             "#ed7953"
            ],
            [
             0.7777777777777778,
             "#fb9f3a"
            ],
            [
             0.8888888888888888,
             "#fdca26"
            ],
            [
             1,
             "#f0f921"
            ]
           ]
          },
          "colorway": [
           "#636efa",
           "#EF553B",
           "#00cc96",
           "#ab63fa",
           "#FFA15A",
           "#19d3f3",
           "#FF6692",
           "#B6E880",
           "#FF97FF",
           "#FECB52"
          ],
          "font": {
           "color": "#2a3f5f"
          },
          "geo": {
           "bgcolor": "white",
           "lakecolor": "white",
           "landcolor": "#E5ECF6",
           "showlakes": true,
           "showland": true,
           "subunitcolor": "white"
          },
          "hoverlabel": {
           "align": "left"
          },
          "hovermode": "closest",
          "mapbox": {
           "style": "light"
          },
          "paper_bgcolor": "white",
          "plot_bgcolor": "#E5ECF6",
          "polar": {
           "angularaxis": {
            "gridcolor": "white",
            "linecolor": "white",
            "ticks": ""
           },
           "bgcolor": "#E5ECF6",
           "radialaxis": {
            "gridcolor": "white",
            "linecolor": "white",
            "ticks": ""
           }
          },
          "scene": {
           "xaxis": {
            "backgroundcolor": "#E5ECF6",
            "gridcolor": "white",
            "gridwidth": 2,
            "linecolor": "white",
            "showbackground": true,
            "ticks": "",
            "zerolinecolor": "white"
           },
           "yaxis": {
            "backgroundcolor": "#E5ECF6",
            "gridcolor": "white",
            "gridwidth": 2,
            "linecolor": "white",
            "showbackground": true,
            "ticks": "",
            "zerolinecolor": "white"
           },
           "zaxis": {
            "backgroundcolor": "#E5ECF6",
            "gridcolor": "white",
            "gridwidth": 2,
            "linecolor": "white",
            "showbackground": true,
            "ticks": "",
            "zerolinecolor": "white"
           }
          },
          "shapedefaults": {
           "line": {
            "color": "#2a3f5f"
           }
          },
          "ternary": {
           "aaxis": {
            "gridcolor": "white",
            "linecolor": "white",
            "ticks": ""
           },
           "baxis": {
            "gridcolor": "white",
            "linecolor": "white",
            "ticks": ""
           },
           "bgcolor": "#E5ECF6",
           "caxis": {
            "gridcolor": "white",
            "linecolor": "white",
            "ticks": ""
           }
          },
          "title": {
           "x": 0.05
          },
          "xaxis": {
           "automargin": true,
           "gridcolor": "white",
           "linecolor": "white",
           "ticks": "",
           "title": {
            "standoff": 15
           },
           "zerolinecolor": "white",
           "zerolinewidth": 2
          },
          "yaxis": {
           "automargin": true,
           "gridcolor": "white",
           "linecolor": "white",
           "ticks": "",
           "title": {
            "standoff": 15
           },
           "zerolinecolor": "white",
           "zerolinewidth": 2
          }
         }
        },
        "title": {
         "text": "error  =  simulate  -  real      ------------         w2e_in_2020-01-01"
        },
        "xaxis": {
         "title": {
          "text": "time error (s)"
         }
        },
        "yaxis": {
         "title": {
          "text": "Count"
         }
        }
       }
      }
     },
     "metadata": {},
     "output_type": "display_data"
    }
   ],
   "source": [
    "import plotly.graph_objects as go\n",
    "\n",
    "fig = go.Figure()\n",
    "\n",
    "xbins=dict(\n",
    "        start=-4,  # Bin start\n",
    "        end=11,    # Bin end\n",
    "        size=1    # Bin size (width of each bin)\n",
    "    )\n",
    "sim_MAE = round(abs(compare_df['time_sim_error']).mean(),2)\n",
    "calib_MAE = round(abs(compare_df['time_calib_error']).mean(),2)\n",
    "\n",
    "fig.add_trace(go.Histogram(x=compare_df['time_sim_error'], name=f\"time_sim_error --> MAE = {sim_MAE}\", opacity=0.75, xbins=xbins))\n",
    "fig.add_trace(go.Histogram(x=compare_df['time_calib_error'], name=f\"time_calib_error  --> MAE = {calib_MAE}\", opacity=0.75, xbins=xbins))\n",
    "\n",
    "fig.update_layout(\n",
    "    barmode='group',  # Use 'overlay' if you want stacked look\n",
    "    xaxis_title='time error (s)',\n",
    "    yaxis_title='Count',\n",
    "    title=f\"error  =  simulate  -  real      ------------         {postfix}\"\n",
    ")\n",
    "\n",
    "fig.show()\n",
    "fig.write_html(f\"diagram/hist_time_error_{postfix}_new.html\")"
   ]
  },
  {
   "cell_type": "code",
   "execution_count": 69,
   "id": "d0d6ad65",
   "metadata": {},
   "outputs": [
    {
     "name": "stdout",
     "output_type": "stream",
     "text": [
      "-39.049999952316284 51.47000002861023\n",
      "-10.019999980926514 5.0299999713897705\n"
     ]
    }
   ],
   "source": [
    "print(compare_df['time_sim_error'].min(), compare_df['time_sim_error'].max())\n",
    "print(compare_df['time_calib_error'].min(), compare_df['time_calib_error'].max())"
   ]
  },
  {
   "cell_type": "code",
   "execution_count": 48,
   "id": "807ab781",
   "metadata": {},
   "outputs": [
    {
     "name": "stdout",
     "output_type": "stream",
     "text": [
      "-0.275555555555556 2.4499999999999993\n",
      "-0.2793832282569735 2.4456961448789105\n"
     ]
    }
   ],
   "source": [
    "print(compare_df['speed_sim_error'].min(), compare_df['speed_sim_error'].max())\n",
    "print(compare_df['speed_calib_error'].min(), compare_df['speed_calib_error'].max())"
   ]
  },
  {
   "cell_type": "code",
   "execution_count": 49,
   "id": "01a4e795",
   "metadata": {},
   "outputs": [
    {
     "data": {
      "application/vnd.plotly.v1+json": {
       "config": {
        "plotlyServerURL": "https://plot.ly"
       },
       "data": [
        {
         "name": "speed_sim_error --> MAE = 0.79",
         "opacity": 0.75,
         "type": "histogram",
         "x": {
          "bdata": "ABjotIFOe7+YmZmZmZn1PwA/6ZM+6aO/oNsfZKjs6D8ArWgk4Ju3PzD5xZJfLPE/wB6F61G45j+YmZmZmZkDQIA/6ZM+6bM/gN3d3d3dvb8wMzMzMzP3P8AmnhWNBMw/Yupy+4MMAUAA59XEs6LRvwidNtBpA/E/fvNq4lnRAEDAy+0PMlTWP8CaeFY0EsA/QJ/0SZ/04T8=",
          "dtype": "f8"
         },
         "xbins": {
          "end": 7,
          "size": 1,
          "start": -7
         }
        },
        {
         "name": "speed_calib_error --> MAE = 0.79",
         "opacity": 0.75,
         "type": "histogram",
         "x": {
          "bdata": "ACCjjLdJYb+w1MjHoaX1P0BCQqUZMMU/8KkK/H/X6D/Af6Y8Q/C2P1C5iDd3MPE/kOQd7C+y5j9kqvEjyZADQICVZq3SVrM/gMLO6n/3vL94knQnCyr3P8AeVoswxMs/CuEJ4GwDAUDgiBoxauHRvzBwmngsB/E/dkVN75jXAEDAtNWKe4fWP4DEHjJnEcA/gJsMiGLn4T8=",
          "dtype": "f8"
         },
         "xbins": {
          "end": 7,
          "size": 1,
          "start": -7
         }
        }
       ],
       "layout": {
        "barmode": "group",
        "template": {
         "data": {
          "bar": [
           {
            "error_x": {
             "color": "#2a3f5f"
            },
            "error_y": {
             "color": "#2a3f5f"
            },
            "marker": {
             "line": {
              "color": "#E5ECF6",
              "width": 0.5
             },
             "pattern": {
              "fillmode": "overlay",
              "size": 10,
              "solidity": 0.2
             }
            },
            "type": "bar"
           }
          ],
          "barpolar": [
           {
            "marker": {
             "line": {
              "color": "#E5ECF6",
              "width": 0.5
             },
             "pattern": {
              "fillmode": "overlay",
              "size": 10,
              "solidity": 0.2
             }
            },
            "type": "barpolar"
           }
          ],
          "carpet": [
           {
            "aaxis": {
             "endlinecolor": "#2a3f5f",
             "gridcolor": "white",
             "linecolor": "white",
             "minorgridcolor": "white",
             "startlinecolor": "#2a3f5f"
            },
            "baxis": {
             "endlinecolor": "#2a3f5f",
             "gridcolor": "white",
             "linecolor": "white",
             "minorgridcolor": "white",
             "startlinecolor": "#2a3f5f"
            },
            "type": "carpet"
           }
          ],
          "choropleth": [
           {
            "colorbar": {
             "outlinewidth": 0,
             "ticks": ""
            },
            "type": "choropleth"
           }
          ],
          "contour": [
           {
            "colorbar": {
             "outlinewidth": 0,
             "ticks": ""
            },
            "colorscale": [
             [
              0,
              "#0d0887"
             ],
             [
              0.1111111111111111,
              "#46039f"
             ],
             [
              0.2222222222222222,
              "#7201a8"
             ],
             [
              0.3333333333333333,
              "#9c179e"
             ],
             [
              0.4444444444444444,
              "#bd3786"
             ],
             [
              0.5555555555555556,
              "#d8576b"
             ],
             [
              0.6666666666666666,
              "#ed7953"
             ],
             [
              0.7777777777777778,
              "#fb9f3a"
             ],
             [
              0.8888888888888888,
              "#fdca26"
             ],
             [
              1,
              "#f0f921"
             ]
            ],
            "type": "contour"
           }
          ],
          "contourcarpet": [
           {
            "colorbar": {
             "outlinewidth": 0,
             "ticks": ""
            },
            "type": "contourcarpet"
           }
          ],
          "heatmap": [
           {
            "colorbar": {
             "outlinewidth": 0,
             "ticks": ""
            },
            "colorscale": [
             [
              0,
              "#0d0887"
             ],
             [
              0.1111111111111111,
              "#46039f"
             ],
             [
              0.2222222222222222,
              "#7201a8"
             ],
             [
              0.3333333333333333,
              "#9c179e"
             ],
             [
              0.4444444444444444,
              "#bd3786"
             ],
             [
              0.5555555555555556,
              "#d8576b"
             ],
             [
              0.6666666666666666,
              "#ed7953"
             ],
             [
              0.7777777777777778,
              "#fb9f3a"
             ],
             [
              0.8888888888888888,
              "#fdca26"
             ],
             [
              1,
              "#f0f921"
             ]
            ],
            "type": "heatmap"
           }
          ],
          "histogram": [
           {
            "marker": {
             "pattern": {
              "fillmode": "overlay",
              "size": 10,
              "solidity": 0.2
             }
            },
            "type": "histogram"
           }
          ],
          "histogram2d": [
           {
            "colorbar": {
             "outlinewidth": 0,
             "ticks": ""
            },
            "colorscale": [
             [
              0,
              "#0d0887"
             ],
             [
              0.1111111111111111,
              "#46039f"
             ],
             [
              0.2222222222222222,
              "#7201a8"
             ],
             [
              0.3333333333333333,
              "#9c179e"
             ],
             [
              0.4444444444444444,
              "#bd3786"
             ],
             [
              0.5555555555555556,
              "#d8576b"
             ],
             [
              0.6666666666666666,
              "#ed7953"
             ],
             [
              0.7777777777777778,
              "#fb9f3a"
             ],
             [
              0.8888888888888888,
              "#fdca26"
             ],
             [
              1,
              "#f0f921"
             ]
            ],
            "type": "histogram2d"
           }
          ],
          "histogram2dcontour": [
           {
            "colorbar": {
             "outlinewidth": 0,
             "ticks": ""
            },
            "colorscale": [
             [
              0,
              "#0d0887"
             ],
             [
              0.1111111111111111,
              "#46039f"
             ],
             [
              0.2222222222222222,
              "#7201a8"
             ],
             [
              0.3333333333333333,
              "#9c179e"
             ],
             [
              0.4444444444444444,
              "#bd3786"
             ],
             [
              0.5555555555555556,
              "#d8576b"
             ],
             [
              0.6666666666666666,
              "#ed7953"
             ],
             [
              0.7777777777777778,
              "#fb9f3a"
             ],
             [
              0.8888888888888888,
              "#fdca26"
             ],
             [
              1,
              "#f0f921"
             ]
            ],
            "type": "histogram2dcontour"
           }
          ],
          "mesh3d": [
           {
            "colorbar": {
             "outlinewidth": 0,
             "ticks": ""
            },
            "type": "mesh3d"
           }
          ],
          "parcoords": [
           {
            "line": {
             "colorbar": {
              "outlinewidth": 0,
              "ticks": ""
             }
            },
            "type": "parcoords"
           }
          ],
          "pie": [
           {
            "automargin": true,
            "type": "pie"
           }
          ],
          "scatter": [
           {
            "fillpattern": {
             "fillmode": "overlay",
             "size": 10,
             "solidity": 0.2
            },
            "type": "scatter"
           }
          ],
          "scatter3d": [
           {
            "line": {
             "colorbar": {
              "outlinewidth": 0,
              "ticks": ""
             }
            },
            "marker": {
             "colorbar": {
              "outlinewidth": 0,
              "ticks": ""
             }
            },
            "type": "scatter3d"
           }
          ],
          "scattercarpet": [
           {
            "marker": {
             "colorbar": {
              "outlinewidth": 0,
              "ticks": ""
             }
            },
            "type": "scattercarpet"
           }
          ],
          "scattergeo": [
           {
            "marker": {
             "colorbar": {
              "outlinewidth": 0,
              "ticks": ""
             }
            },
            "type": "scattergeo"
           }
          ],
          "scattergl": [
           {
            "marker": {
             "colorbar": {
              "outlinewidth": 0,
              "ticks": ""
             }
            },
            "type": "scattergl"
           }
          ],
          "scattermap": [
           {
            "marker": {
             "colorbar": {
              "outlinewidth": 0,
              "ticks": ""
             }
            },
            "type": "scattermap"
           }
          ],
          "scattermapbox": [
           {
            "marker": {
             "colorbar": {
              "outlinewidth": 0,
              "ticks": ""
             }
            },
            "type": "scattermapbox"
           }
          ],
          "scatterpolar": [
           {
            "marker": {
             "colorbar": {
              "outlinewidth": 0,
              "ticks": ""
             }
            },
            "type": "scatterpolar"
           }
          ],
          "scatterpolargl": [
           {
            "marker": {
             "colorbar": {
              "outlinewidth": 0,
              "ticks": ""
             }
            },
            "type": "scatterpolargl"
           }
          ],
          "scatterternary": [
           {
            "marker": {
             "colorbar": {
              "outlinewidth": 0,
              "ticks": ""
             }
            },
            "type": "scatterternary"
           }
          ],
          "surface": [
           {
            "colorbar": {
             "outlinewidth": 0,
             "ticks": ""
            },
            "colorscale": [
             [
              0,
              "#0d0887"
             ],
             [
              0.1111111111111111,
              "#46039f"
             ],
             [
              0.2222222222222222,
              "#7201a8"
             ],
             [
              0.3333333333333333,
              "#9c179e"
             ],
             [
              0.4444444444444444,
              "#bd3786"
             ],
             [
              0.5555555555555556,
              "#d8576b"
             ],
             [
              0.6666666666666666,
              "#ed7953"
             ],
             [
              0.7777777777777778,
              "#fb9f3a"
             ],
             [
              0.8888888888888888,
              "#fdca26"
             ],
             [
              1,
              "#f0f921"
             ]
            ],
            "type": "surface"
           }
          ],
          "table": [
           {
            "cells": {
             "fill": {
              "color": "#EBF0F8"
             },
             "line": {
              "color": "white"
             }
            },
            "header": {
             "fill": {
              "color": "#C8D4E3"
             },
             "line": {
              "color": "white"
             }
            },
            "type": "table"
           }
          ]
         },
         "layout": {
          "annotationdefaults": {
           "arrowcolor": "#2a3f5f",
           "arrowhead": 0,
           "arrowwidth": 1
          },
          "autotypenumbers": "strict",
          "coloraxis": {
           "colorbar": {
            "outlinewidth": 0,
            "ticks": ""
           }
          },
          "colorscale": {
           "diverging": [
            [
             0,
             "#8e0152"
            ],
            [
             0.1,
             "#c51b7d"
            ],
            [
             0.2,
             "#de77ae"
            ],
            [
             0.3,
             "#f1b6da"
            ],
            [
             0.4,
             "#fde0ef"
            ],
            [
             0.5,
             "#f7f7f7"
            ],
            [
             0.6,
             "#e6f5d0"
            ],
            [
             0.7,
             "#b8e186"
            ],
            [
             0.8,
             "#7fbc41"
            ],
            [
             0.9,
             "#4d9221"
            ],
            [
             1,
             "#276419"
            ]
           ],
           "sequential": [
            [
             0,
             "#0d0887"
            ],
            [
             0.1111111111111111,
             "#46039f"
            ],
            [
             0.2222222222222222,
             "#7201a8"
            ],
            [
             0.3333333333333333,
             "#9c179e"
            ],
            [
             0.4444444444444444,
             "#bd3786"
            ],
            [
             0.5555555555555556,
             "#d8576b"
            ],
            [
             0.6666666666666666,
             "#ed7953"
            ],
            [
             0.7777777777777778,
             "#fb9f3a"
            ],
            [
             0.8888888888888888,
             "#fdca26"
            ],
            [
             1,
             "#f0f921"
            ]
           ],
           "sequentialminus": [
            [
             0,
             "#0d0887"
            ],
            [
             0.1111111111111111,
             "#46039f"
            ],
            [
             0.2222222222222222,
             "#7201a8"
            ],
            [
             0.3333333333333333,
             "#9c179e"
            ],
            [
             0.4444444444444444,
             "#bd3786"
            ],
            [
             0.5555555555555556,
             "#d8576b"
            ],
            [
             0.6666666666666666,
             "#ed7953"
            ],
            [
             0.7777777777777778,
             "#fb9f3a"
            ],
            [
             0.8888888888888888,
             "#fdca26"
            ],
            [
             1,
             "#f0f921"
            ]
           ]
          },
          "colorway": [
           "#636efa",
           "#EF553B",
           "#00cc96",
           "#ab63fa",
           "#FFA15A",
           "#19d3f3",
           "#FF6692",
           "#B6E880",
           "#FF97FF",
           "#FECB52"
          ],
          "font": {
           "color": "#2a3f5f"
          },
          "geo": {
           "bgcolor": "white",
           "lakecolor": "white",
           "landcolor": "#E5ECF6",
           "showlakes": true,
           "showland": true,
           "subunitcolor": "white"
          },
          "hoverlabel": {
           "align": "left"
          },
          "hovermode": "closest",
          "mapbox": {
           "style": "light"
          },
          "paper_bgcolor": "white",
          "plot_bgcolor": "#E5ECF6",
          "polar": {
           "angularaxis": {
            "gridcolor": "white",
            "linecolor": "white",
            "ticks": ""
           },
           "bgcolor": "#E5ECF6",
           "radialaxis": {
            "gridcolor": "white",
            "linecolor": "white",
            "ticks": ""
           }
          },
          "scene": {
           "xaxis": {
            "backgroundcolor": "#E5ECF6",
            "gridcolor": "white",
            "gridwidth": 2,
            "linecolor": "white",
            "showbackground": true,
            "ticks": "",
            "zerolinecolor": "white"
           },
           "yaxis": {
            "backgroundcolor": "#E5ECF6",
            "gridcolor": "white",
            "gridwidth": 2,
            "linecolor": "white",
            "showbackground": true,
            "ticks": "",
            "zerolinecolor": "white"
           },
           "zaxis": {
            "backgroundcolor": "#E5ECF6",
            "gridcolor": "white",
            "gridwidth": 2,
            "linecolor": "white",
            "showbackground": true,
            "ticks": "",
            "zerolinecolor": "white"
           }
          },
          "shapedefaults": {
           "line": {
            "color": "#2a3f5f"
           }
          },
          "ternary": {
           "aaxis": {
            "gridcolor": "white",
            "linecolor": "white",
            "ticks": ""
           },
           "baxis": {
            "gridcolor": "white",
            "linecolor": "white",
            "ticks": ""
           },
           "bgcolor": "#E5ECF6",
           "caxis": {
            "gridcolor": "white",
            "linecolor": "white",
            "ticks": ""
           }
          },
          "title": {
           "x": 0.05
          },
          "xaxis": {
           "automargin": true,
           "gridcolor": "white",
           "linecolor": "white",
           "ticks": "",
           "title": {
            "standoff": 15
           },
           "zerolinecolor": "white",
           "zerolinewidth": 2
          },
          "yaxis": {
           "automargin": true,
           "gridcolor": "white",
           "linecolor": "white",
           "ticks": "",
           "title": {
            "standoff": 15
           },
           "zerolinecolor": "white",
           "zerolinewidth": 2
          }
         }
        },
        "title": {
         "text": "error  =  simulate  -  real      ------------         w2e_in_2020-01-01_19"
        },
        "xaxis": {
         "title": {
          "text": "Value"
         }
        },
        "yaxis": {
         "title": {
          "text": "Count"
         }
        }
       }
      }
     },
     "metadata": {},
     "output_type": "display_data"
    }
   ],
   "source": [
    "import plotly.graph_objects as go\n",
    "\n",
    "fig = go.Figure()\n",
    "\n",
    "xbins=dict(\n",
    "        start=-7,  # Bin start\n",
    "        end=7,    # Bin end\n",
    "        size=1    # Bin size (width of each bin)\n",
    "    )\n",
    "sim_MAE = round(abs(compare_df['speed_sim_error']).mean(),2)\n",
    "calib_MAE = round(abs(compare_df['speed_calib_error']).mean(),2)\n",
    "fig.add_trace(go.Histogram(x=compare_df['speed_sim_error'], name=f\"speed_sim_error --> MAE = {sim_MAE}\", opacity=0.75, xbins=xbins))\n",
    "fig.add_trace(go.Histogram(x=compare_df['speed_calib_error'], name=f\"speed_calib_error --> MAE = {calib_MAE}\", opacity=0.75, xbins=xbins))\n",
    "\n",
    "fig.update_layout(\n",
    "    barmode='group',  # Use 'overlay' if you want stacked look\n",
    "    xaxis_title='Value',\n",
    "    yaxis_title='Count',\n",
    "    title=f\"error  =  simulate  -  real      ------------         {postfix}\"\n",
    ")\n",
    "\n",
    "fig.show()\n",
    "fig.write_html(f\"diagram/hist_speed_error_{postfix}_new.html\")"
   ]
  },
  {
   "cell_type": "code",
   "execution_count": 50,
   "id": "69f61ca7",
   "metadata": {},
   "outputs": [],
   "source": [
    "#import os\n",
    "#os.environ[\"HORNSGATAN_HOME\"]\n"
   ]
  }
 ],
 "metadata": {
  "kernelspec": {
   "display_name": "KTH",
   "language": "python",
   "name": "python3"
  },
  "language_info": {
   "codemirror_mode": {
    "name": "ipython",
    "version": 3
   },
   "file_extension": ".py",
   "mimetype": "text/x-python",
   "name": "python",
   "nbconvert_exporter": "python",
   "pygments_lexer": "ipython3",
   "version": "3.12.3"
  }
 },
 "nbformat": 4,
 "nbformat_minor": 5
}
