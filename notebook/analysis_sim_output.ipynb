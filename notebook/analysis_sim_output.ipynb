{
 "cells": [
  {
   "cell_type": "markdown",
   "id": "bca770e1",
   "metadata": {},
   "source": [
    "compare calibration result and simulation result in the instant loop detector"
   ]
  },
  {
   "cell_type": "code",
   "execution_count": 65,
   "id": "3c464bd4",
   "metadata": {},
   "outputs": [
    {
     "name": "stdout",
     "output_type": "stream",
     "text": [
      "Current directory: /home/kaveh/projects/Hornsgatan\n",
      "Current directory: /home/kaveh/projects/Hornsgatan\n"
     ]
    }
   ],
   "source": [
    "import os\n",
    "print(\"Current directory:\", os.getcwd())\n",
    "HORNSGATAN_HOME = os.environ[\"HORNSGATAN_HOME\"]\n",
    "os.chdir(HORNSGATAN_HOME)\n",
    "print(\"Current directory:\", os.getcwd())\n",
    "\n",
    "#number = len(data)\n",
    "import pandas as pd\n",
    "date = '2020-01-01'\n",
    "detector = 'w2e_out'\n",
    "number = 0\n",
    "path  = \"data/sim_data/\"\n",
    "if number<1:\n",
    "    postfix = f\"{detector}_{date}\"\n",
    "else:\n",
    "    postfix = f\"{detector}_{date}_{number}\"\n",
    "\n",
    "instantInductionLoop_filename_xml = f\"{path}instantInductionLoop_{postfix}.xml\"\n"
   ]
  },
  {
   "cell_type": "code",
   "execution_count": 66,
   "id": "b2afbafc",
   "metadata": {},
   "outputs": [],
   "source": [
    "import xml.etree.ElementTree as ET\n",
    "\n",
    "# Parse the XML content of output_detectors.xml\n",
    "tree_output = ET.parse(instantInductionLoop_filename_xml)\n",
    "root_output = tree_output.getroot()\n",
    "\n",
    "# Extract data from the XML\n",
    "instant_out_data = []\n",
    "for instant_out in root_output.findall('instantOut'):\n",
    "    instant_out_data.append({\n",
    "        'id': instant_out.get('id'),\n",
    "        'time': float(instant_out.get('time')),\n",
    "        'state': instant_out.get('state'),\n",
    "        'vehID': instant_out.get('vehID'),\n",
    "        'speed': float(instant_out.get('speed')),  # Convert speed to km/h\n",
    "        'length': instant_out.get('length'),\n",
    "        'type': instant_out.get('type'),\n",
    "        'gap': instant_out.get('gap')\n",
    "    })\n",
    "\n",
    "# Convert to a DataFrame\n",
    "df_instant_out = pd.DataFrame(instant_out_data)\n",
    "df_instant_out = df_instant_out[df_instant_out[\"state\"]=='enter']\n",
    "# Save to CSV\n",
    "#output_csv_file_instant_out = 'output_instant_out.csv'\n",
    "#df_instant_out.to_csv(output_csv_file_instant_out, index=False)\n",
    "#print(f\"Data from 'output_detectors.xml' successfully converted to CSV and saved as '{output_csv_file_instant_out}'.\")\n"
   ]
  },
  {
   "cell_type": "code",
   "execution_count": 67,
   "id": "0cb30bef",
   "metadata": {},
   "outputs": [
    {
     "data": {
      "application/vnd.microsoft.datawrangler.viewer.v0+json": {
       "columns": [
        {
         "name": "index",
         "rawType": "int64",
         "type": "integer"
        },
        {
         "name": "id",
         "rawType": "object",
         "type": "string"
        },
        {
         "name": "time",
         "rawType": "float64",
         "type": "float"
        },
        {
         "name": "state",
         "rawType": "object",
         "type": "string"
        },
        {
         "name": "vehID",
         "rawType": "object",
         "type": "string"
        },
        {
         "name": "speed",
         "rawType": "float64",
         "type": "float"
        },
        {
         "name": "length",
         "rawType": "object",
         "type": "string"
        },
        {
         "name": "type",
         "rawType": "object",
         "type": "string"
        },
        {
         "name": "gap",
         "rawType": "object",
         "type": "unknown"
        }
       ],
       "ref": "394a4cf4-e7a1-4964-b710-be86d6755146",
       "rows": [
        [
         "0",
         "w2e_out",
         "1577836839.25",
         "enter",
         "0_w2e_out",
         "7.02",
         "5.00",
         "DEFAULT_VEHTYPE",
         null
        ],
        [
         "2",
         "w2e_out",
         "1577837023.07",
         "enter",
         "1_w2e_out",
         "9.86",
         "5.00",
         "DEFAULT_VEHTYPE",
         "183.11"
        ],
        [
         "4",
         "w2e_out",
         "1577837025.4",
         "enter",
         "2_w2e_out",
         "12.01",
         "5.00",
         "DEFAULT_VEHTYPE",
         "1.82"
        ],
        [
         "6",
         "w2e_out",
         "1577837156.26",
         "enter",
         "3_w2e_out",
         "8.4",
         "5.00",
         "DEFAULT_VEHTYPE",
         "130.45"
        ],
        [
         "8",
         "w2e_out",
         "1577837294.51",
         "enter",
         "4_w2e_out",
         "11.56",
         "5.00",
         "DEFAULT_VEHTYPE",
         "137.65"
        ],
        [
         "10",
         "w2e_out",
         "1577837468.09",
         "enter",
         "5_w2e_out",
         "11.1",
         "5.00",
         "DEFAULT_VEHTYPE",
         "173.15"
        ],
        [
         "12",
         "w2e_out",
         "1577837813.27",
         "enter",
         "6_w2e_out",
         "12.63",
         "5.00",
         "DEFAULT_VEHTYPE",
         "344.73"
        ],
        [
         "14",
         "w2e_out",
         "1577837974.1",
         "enter",
         "7_w2e_out",
         "10.31",
         "5.00",
         "DEFAULT_VEHTYPE",
         "160.44"
        ],
        [
         "16",
         "w2e_out",
         "1577838076.04",
         "enter",
         "8_w2e_out",
         "13.66",
         "5.00",
         "DEFAULT_VEHTYPE",
         "101.46"
        ],
        [
         "18",
         "w2e_out",
         "1577838136.16",
         "enter",
         "9_w2e_out",
         "6.4",
         "5.00",
         "DEFAULT_VEHTYPE",
         "59.75"
        ],
        [
         "20",
         "w2e_out",
         "1577838159.07",
         "enter",
         "10_w2e_out",
         "7.58",
         "5.00",
         "DEFAULT_VEHTYPE",
         "22.13"
        ],
        [
         "22",
         "w2e_out",
         "1577838161.74",
         "enter",
         "11_w2e_out",
         "10.47",
         "5.00",
         "DEFAULT_VEHTYPE",
         "2.01"
        ],
        [
         "25",
         "w2e_out",
         "1577838164.03",
         "enter",
         "12_w2e_out",
         "10.56",
         "5.00",
         "DEFAULT_VEHTYPE",
         "1.79"
        ],
        [
         "27",
         "w2e_out",
         "1577838175.14",
         "enter",
         "13_w2e_out",
         "13.9",
         "5.00",
         "DEFAULT_VEHTYPE",
         "10.64"
        ],
        [
         "29",
         "w2e_out",
         "1577838176.68",
         "enter",
         "14_w2e_out",
         "13.9",
         "5.00",
         "DEFAULT_VEHTYPE",
         "1.18"
        ],
        [
         "32",
         "w2e_out",
         "1577838222.94",
         "enter",
         "15_w2e_out",
         "10.11",
         "5.00",
         "DEFAULT_VEHTYPE",
         "45.90"
        ],
        [
         "35",
         "w2e_out",
         "1577838418.08",
         "enter",
         "16_w2e_out",
         "12.04",
         "5.00",
         "DEFAULT_VEHTYPE",
         "194.65"
        ],
        [
         "37",
         "w2e_out",
         "1577838469.08",
         "enter",
         "17_w2e_out",
         "13.09",
         "5.00",
         "DEFAULT_VEHTYPE",
         "50.58"
        ],
        [
         "39",
         "w2e_out",
         "1577838547.21",
         "enter",
         "18_w2e_out",
         "6.8",
         "5.00",
         "DEFAULT_VEHTYPE",
         "77.75"
        ],
        [
         "41",
         "w2e_out",
         "1577838611.0",
         "enter",
         "19_w2e_out",
         "8.67",
         "5.00",
         "DEFAULT_VEHTYPE",
         "63.05"
        ],
        [
         "44",
         "w2e_out",
         "1577838612.86",
         "enter",
         "20_w2e_out",
         "8.67",
         "5.00",
         "DEFAULT_VEHTYPE",
         "1.29"
        ],
        [
         "47",
         "w2e_out",
         "1577838728.07",
         "enter",
         "21_w2e_out",
         "14.6",
         "5.00",
         "DEFAULT_VEHTYPE",
         "114.63"
        ],
        [
         "49",
         "w2e_out",
         "1577838817.01",
         "enter",
         "22_w2e_out",
         "8.49",
         "5.00",
         "DEFAULT_VEHTYPE",
         "88.60"
        ],
        [
         "51",
         "w2e_out",
         "1577838986.08",
         "enter",
         "23_w2e_out",
         "12.07",
         "5.00",
         "DEFAULT_VEHTYPE",
         "168.49"
        ],
        [
         "53",
         "w2e_out",
         "1577839004.0",
         "enter",
         "24_w2e_out",
         "8.85",
         "5.00",
         "DEFAULT_VEHTYPE",
         "17.50"
        ],
        [
         "56",
         "w2e_out",
         "1577839005.85",
         "enter",
         "25_w2e_out",
         "8.85",
         "5.00",
         "DEFAULT_VEHTYPE",
         "1.28"
        ],
        [
         "59",
         "w2e_out",
         "1577839007.69",
         "enter",
         "26_w2e_out",
         "8.85",
         "5.00",
         "DEFAULT_VEHTYPE",
         "1.28"
        ],
        [
         "62",
         "w2e_out",
         "1577839100.04",
         "enter",
         "27_w2e_out",
         "12.83",
         "5.00",
         "DEFAULT_VEHTYPE",
         "91.78"
        ],
        [
         "64",
         "w2e_out",
         "1577839287.2",
         "enter",
         "28_w2e_out",
         "5.0",
         "5.00",
         "DEFAULT_VEHTYPE",
         "186.77"
        ],
        [
         "67",
         "w2e_out",
         "1577839324.2",
         "enter",
         "29_w2e_out",
         "9.75",
         "5.00",
         "DEFAULT_VEHTYPE",
         "36.00"
        ],
        [
         "69",
         "w2e_out",
         "1577839456.1",
         "enter",
         "30_w2e_out",
         "10.05",
         "5.00",
         "DEFAULT_VEHTYPE",
         "131.38"
        ],
        [
         "71",
         "w2e_out",
         "1577839467.04",
         "enter",
         "31_w2e_out",
         "9.03",
         "5.00",
         "DEFAULT_VEHTYPE",
         "10.44"
        ],
        [
         "73",
         "w2e_out",
         "1577839468.87",
         "enter",
         "32_w2e_out",
         "9.04",
         "5.00",
         "DEFAULT_VEHTYPE",
         "1.28"
        ],
        [
         "76",
         "w2e_out",
         "1577839660.05",
         "enter",
         "33_w2e_out",
         "19.19",
         "5.00",
         "DEFAULT_VEHTYPE",
         "190.63"
        ],
        [
         "78",
         "w2e_out",
         "1577839750.0",
         "enter",
         "34_w2e_out",
         "9.23",
         "5.00",
         "DEFAULT_VEHTYPE",
         "89.68"
        ],
        [
         "81",
         "w2e_out",
         "1577839865.08",
         "enter",
         "35_w2e_out",
         "12.67",
         "5.00",
         "DEFAULT_VEHTYPE",
         "114.54"
        ],
        [
         "83",
         "w2e_out",
         "1577839881.07",
         "enter",
         "36_w2e_out",
         "13.6",
         "5.00",
         "DEFAULT_VEHTYPE",
         "15.60"
        ],
        [
         "85",
         "w2e_out",
         "1577840406.63",
         "enter",
         "37_w2e_out",
         "14.23",
         "5.00",
         "DEFAULT_VEHTYPE",
         "525.19"
        ],
        [
         "87",
         "w2e_out",
         "1577840440.01",
         "enter",
         "38_w2e_out",
         "15.14",
         "5.00",
         "DEFAULT_VEHTYPE",
         "33.02"
        ],
        [
         "89",
         "w2e_out",
         "1577840471.08",
         "enter",
         "39_w2e_out",
         "13.14",
         "5.00",
         "DEFAULT_VEHTYPE",
         "30.74"
        ],
        [
         "91",
         "w2e_out",
         "1577840565.16",
         "enter",
         "40_w2e_out",
         "11.62",
         "5.00",
         "DEFAULT_VEHTYPE",
         "93.71"
        ],
        [
         "93",
         "w2e_out",
         "1577840636.03",
         "enter",
         "41_w2e_out",
         "10.87",
         "5.00",
         "DEFAULT_VEHTYPE",
         "70.44"
        ],
        [
         "95",
         "w2e_out",
         "1577840736.86",
         "enter",
         "42_w2e_out",
         "9.89",
         "5.00",
         "DEFAULT_VEHTYPE",
         "100.37"
        ],
        [
         "98",
         "w2e_out",
         "1577840759.26",
         "enter",
         "43_w2e_out",
         "6.59",
         "5.00",
         "DEFAULT_VEHTYPE",
         "21.90"
        ],
        [
         "101",
         "w2e_out",
         "1577840761.4",
         "enter",
         "44_w2e_out",
         "6.59",
         "5.00",
         "DEFAULT_VEHTYPE",
         "1.38"
        ],
        [
         "104",
         "w2e_out",
         "1577840770.07",
         "enter",
         "45_w2e_out",
         "14.47",
         "5.00",
         "DEFAULT_VEHTYPE",
         "7.91"
        ],
        [
         "106",
         "w2e_out",
         "1577840781.04",
         "enter",
         "46_w2e_out",
         "12.46",
         "5.00",
         "DEFAULT_VEHTYPE",
         "10.63"
        ],
        [
         "108",
         "w2e_out",
         "1577841346.03",
         "enter",
         "47_w2e_out",
         "11.77",
         "5.00",
         "DEFAULT_VEHTYPE",
         "564.59"
        ],
        [
         "110",
         "w2e_out",
         "1577841380.08",
         "enter",
         "48_w2e_out",
         "12.07",
         "5.00",
         "DEFAULT_VEHTYPE",
         "33.63"
        ],
        [
         "112",
         "w2e_out",
         "1577841412.07",
         "enter",
         "49_w2e_out",
         "14.99",
         "5.00",
         "DEFAULT_VEHTYPE",
         "31.57"
        ]
       ],
       "shape": {
        "columns": 8,
        "rows": 1358
       }
      },
      "text/html": [
       "<div>\n",
       "<style scoped>\n",
       "    .dataframe tbody tr th:only-of-type {\n",
       "        vertical-align: middle;\n",
       "    }\n",
       "\n",
       "    .dataframe tbody tr th {\n",
       "        vertical-align: top;\n",
       "    }\n",
       "\n",
       "    .dataframe thead th {\n",
       "        text-align: right;\n",
       "    }\n",
       "</style>\n",
       "<table border=\"1\" class=\"dataframe\">\n",
       "  <thead>\n",
       "    <tr style=\"text-align: right;\">\n",
       "      <th></th>\n",
       "      <th>id</th>\n",
       "      <th>time</th>\n",
       "      <th>state</th>\n",
       "      <th>vehID</th>\n",
       "      <th>speed</th>\n",
       "      <th>length</th>\n",
       "      <th>type</th>\n",
       "      <th>gap</th>\n",
       "    </tr>\n",
       "  </thead>\n",
       "  <tbody>\n",
       "    <tr>\n",
       "      <th>0</th>\n",
       "      <td>w2e_out</td>\n",
       "      <td>1.577837e+09</td>\n",
       "      <td>enter</td>\n",
       "      <td>0_w2e_out</td>\n",
       "      <td>7.02</td>\n",
       "      <td>5.00</td>\n",
       "      <td>DEFAULT_VEHTYPE</td>\n",
       "      <td>None</td>\n",
       "    </tr>\n",
       "    <tr>\n",
       "      <th>2</th>\n",
       "      <td>w2e_out</td>\n",
       "      <td>1.577837e+09</td>\n",
       "      <td>enter</td>\n",
       "      <td>1_w2e_out</td>\n",
       "      <td>9.86</td>\n",
       "      <td>5.00</td>\n",
       "      <td>DEFAULT_VEHTYPE</td>\n",
       "      <td>183.11</td>\n",
       "    </tr>\n",
       "    <tr>\n",
       "      <th>4</th>\n",
       "      <td>w2e_out</td>\n",
       "      <td>1.577837e+09</td>\n",
       "      <td>enter</td>\n",
       "      <td>2_w2e_out</td>\n",
       "      <td>12.01</td>\n",
       "      <td>5.00</td>\n",
       "      <td>DEFAULT_VEHTYPE</td>\n",
       "      <td>1.82</td>\n",
       "    </tr>\n",
       "    <tr>\n",
       "      <th>6</th>\n",
       "      <td>w2e_out</td>\n",
       "      <td>1.577837e+09</td>\n",
       "      <td>enter</td>\n",
       "      <td>3_w2e_out</td>\n",
       "      <td>8.40</td>\n",
       "      <td>5.00</td>\n",
       "      <td>DEFAULT_VEHTYPE</td>\n",
       "      <td>130.45</td>\n",
       "    </tr>\n",
       "    <tr>\n",
       "      <th>8</th>\n",
       "      <td>w2e_out</td>\n",
       "      <td>1.577837e+09</td>\n",
       "      <td>enter</td>\n",
       "      <td>4_w2e_out</td>\n",
       "      <td>11.56</td>\n",
       "      <td>5.00</td>\n",
       "      <td>DEFAULT_VEHTYPE</td>\n",
       "      <td>137.65</td>\n",
       "    </tr>\n",
       "    <tr>\n",
       "      <th>...</th>\n",
       "      <td>...</td>\n",
       "      <td>...</td>\n",
       "      <td>...</td>\n",
       "      <td>...</td>\n",
       "      <td>...</td>\n",
       "      <td>...</td>\n",
       "      <td>...</td>\n",
       "      <td>...</td>\n",
       "    </tr>\n",
       "    <tr>\n",
       "      <th>3401</th>\n",
       "      <td>w2e_out</td>\n",
       "      <td>1.577923e+09</td>\n",
       "      <td>enter</td>\n",
       "      <td>1353_w2e_out</td>\n",
       "      <td>12.76</td>\n",
       "      <td>5.00</td>\n",
       "      <td>DEFAULT_VEHTYPE</td>\n",
       "      <td>55.68</td>\n",
       "    </tr>\n",
       "    <tr>\n",
       "      <th>3403</th>\n",
       "      <td>w2e_out</td>\n",
       "      <td>1.577923e+09</td>\n",
       "      <td>enter</td>\n",
       "      <td>1354_w2e_out</td>\n",
       "      <td>12.80</td>\n",
       "      <td>5.00</td>\n",
       "      <td>DEFAULT_VEHTYPE</td>\n",
       "      <td>1.20</td>\n",
       "    </tr>\n",
       "    <tr>\n",
       "      <th>3406</th>\n",
       "      <td>w2e_out</td>\n",
       "      <td>1.577923e+09</td>\n",
       "      <td>enter</td>\n",
       "      <td>1355_w2e_out</td>\n",
       "      <td>6.33</td>\n",
       "      <td>5.00</td>\n",
       "      <td>DEFAULT_VEHTYPE</td>\n",
       "      <td>38.09</td>\n",
       "    </tr>\n",
       "    <tr>\n",
       "      <th>3408</th>\n",
       "      <td>w2e_out</td>\n",
       "      <td>1.577923e+09</td>\n",
       "      <td>enter</td>\n",
       "      <td>1356_w2e_out</td>\n",
       "      <td>11.03</td>\n",
       "      <td>5.00</td>\n",
       "      <td>DEFAULT_VEHTYPE</td>\n",
       "      <td>145.16</td>\n",
       "    </tr>\n",
       "    <tr>\n",
       "      <th>3410</th>\n",
       "      <td>w2e_out</td>\n",
       "      <td>1.577923e+09</td>\n",
       "      <td>enter</td>\n",
       "      <td>1357_w2e_out</td>\n",
       "      <td>8.73</td>\n",
       "      <td>5.00</td>\n",
       "      <td>DEFAULT_VEHTYPE</td>\n",
       "      <td>143.88</td>\n",
       "    </tr>\n",
       "  </tbody>\n",
       "</table>\n",
       "<p>1358 rows × 8 columns</p>\n",
       "</div>"
      ],
      "text/plain": [
       "           id          time  state         vehID  speed length  \\\n",
       "0     w2e_out  1.577837e+09  enter     0_w2e_out   7.02   5.00   \n",
       "2     w2e_out  1.577837e+09  enter     1_w2e_out   9.86   5.00   \n",
       "4     w2e_out  1.577837e+09  enter     2_w2e_out  12.01   5.00   \n",
       "6     w2e_out  1.577837e+09  enter     3_w2e_out   8.40   5.00   \n",
       "8     w2e_out  1.577837e+09  enter     4_w2e_out  11.56   5.00   \n",
       "...       ...           ...    ...           ...    ...    ...   \n",
       "3401  w2e_out  1.577923e+09  enter  1353_w2e_out  12.76   5.00   \n",
       "3403  w2e_out  1.577923e+09  enter  1354_w2e_out  12.80   5.00   \n",
       "3406  w2e_out  1.577923e+09  enter  1355_w2e_out   6.33   5.00   \n",
       "3408  w2e_out  1.577923e+09  enter  1356_w2e_out  11.03   5.00   \n",
       "3410  w2e_out  1.577923e+09  enter  1357_w2e_out   8.73   5.00   \n",
       "\n",
       "                 type     gap  \n",
       "0     DEFAULT_VEHTYPE    None  \n",
       "2     DEFAULT_VEHTYPE  183.11  \n",
       "4     DEFAULT_VEHTYPE    1.82  \n",
       "6     DEFAULT_VEHTYPE  130.45  \n",
       "8     DEFAULT_VEHTYPE  137.65  \n",
       "...               ...     ...  \n",
       "3401  DEFAULT_VEHTYPE   55.68  \n",
       "3403  DEFAULT_VEHTYPE    1.20  \n",
       "3406  DEFAULT_VEHTYPE   38.09  \n",
       "3408  DEFAULT_VEHTYPE  145.16  \n",
       "3410  DEFAULT_VEHTYPE  143.88  \n",
       "\n",
       "[1358 rows x 8 columns]"
      ]
     },
     "execution_count": 67,
     "metadata": {},
     "output_type": "execute_result"
    }
   ],
   "source": [
    "df_instant_out"
   ]
  },
  {
   "cell_type": "code",
   "execution_count": 68,
   "id": "2509bb26",
   "metadata": {},
   "outputs": [
    {
     "data": {
      "application/vnd.microsoft.datawrangler.viewer.v0+json": {
       "columns": [
        {
         "name": "index",
         "rawType": "int64",
         "type": "integer"
        },
        {
         "name": "vehID",
         "rawType": "object",
         "type": "string"
        },
        {
         "name": "time_detector_sim",
         "rawType": "float64",
         "type": "float"
        },
        {
         "name": "speed_detector_sim",
         "rawType": "float64",
         "type": "float"
        },
        {
         "name": "speed_factor",
         "rawType": "float64",
         "type": "float"
        },
        {
         "name": "time_detector_real",
         "rawType": "int64",
         "type": "integer"
        },
        {
         "name": "depart",
         "rawType": "int64",
         "type": "integer"
        },
        {
         "name": "departSpeed",
         "rawType": "object",
         "type": "string"
        },
        {
         "name": "speed_detector_real",
         "rawType": "float64",
         "type": "float"
        },
        {
         "name": "delta_time",
         "rawType": "float64",
         "type": "float"
        },
        {
         "name": "delta_speed",
         "rawType": "float64",
         "type": "float"
        }
       ],
       "ref": "a2641342-025d-410d-844f-dcc25afc6a74",
       "rows": [
        [
         "0",
         "0_w2e_out",
         "1577836839.25",
         "7.019593522358814",
         "0.8426882890910924",
         "1577836839",
         "1577836778",
         "max",
         "5.833333333333333",
         "0.25",
         "1.1862601890254814"
        ],
        [
         "1",
         "1_w2e_out",
         "1577837023.07",
         "9.861873243907311",
         "1.1838980730417448",
         "1577837023",
         "1577836979",
         "max",
         "10.0",
         "0.0699999332427978",
         "-0.1381267560926868"
        ],
        [
         "2",
         "2_w2e_out",
         "1577837026.43",
         "10.453260812135072",
         "3.027113313815668",
         "1577837025",
         "1577837003",
         "max",
         "11.38888888888889",
         "1.430000066757202",
         "-0.935628076753817"
        ],
        [
         "3",
         "3_w2e_out",
         "1577837156.26",
         "8.401512723543362",
         "1.0085848004579132",
         "1577837157",
         "1577837105",
         "max",
         "7.222222222222222",
         "-0.7400000095367432",
         "1.17929050132114"
        ],
        [
         "4",
         "4_w2e_out",
         "1577837294.51",
         "11.555530576406715",
         "1.3872185596991784",
         "1577837295",
         "1577837257",
         "max",
         "10.833333333333334",
         "-0.4900000095367431",
         "0.7221972430733832"
        ]
       ],
       "shape": {
        "columns": 10,
        "rows": 5
       }
      },
      "text/html": [
       "<div>\n",
       "<style scoped>\n",
       "    .dataframe tbody tr th:only-of-type {\n",
       "        vertical-align: middle;\n",
       "    }\n",
       "\n",
       "    .dataframe tbody tr th {\n",
       "        vertical-align: top;\n",
       "    }\n",
       "\n",
       "    .dataframe thead th {\n",
       "        text-align: right;\n",
       "    }\n",
       "</style>\n",
       "<table border=\"1\" class=\"dataframe\">\n",
       "  <thead>\n",
       "    <tr style=\"text-align: right;\">\n",
       "      <th></th>\n",
       "      <th>vehID</th>\n",
       "      <th>time_detector_sim</th>\n",
       "      <th>speed_detector_sim</th>\n",
       "      <th>speed_factor</th>\n",
       "      <th>time_detector_real</th>\n",
       "      <th>depart</th>\n",
       "      <th>departSpeed</th>\n",
       "      <th>speed_detector_real</th>\n",
       "      <th>delta_time</th>\n",
       "      <th>delta_speed</th>\n",
       "    </tr>\n",
       "  </thead>\n",
       "  <tbody>\n",
       "    <tr>\n",
       "      <th>0</th>\n",
       "      <td>0_w2e_out</td>\n",
       "      <td>1.577837e+09</td>\n",
       "      <td>7.019594</td>\n",
       "      <td>0.842688</td>\n",
       "      <td>1577836839</td>\n",
       "      <td>1577836778</td>\n",
       "      <td>max</td>\n",
       "      <td>5.833333</td>\n",
       "      <td>0.25</td>\n",
       "      <td>1.186260</td>\n",
       "    </tr>\n",
       "    <tr>\n",
       "      <th>1</th>\n",
       "      <td>1_w2e_out</td>\n",
       "      <td>1.577837e+09</td>\n",
       "      <td>9.861873</td>\n",
       "      <td>1.183898</td>\n",
       "      <td>1577837023</td>\n",
       "      <td>1577836979</td>\n",
       "      <td>max</td>\n",
       "      <td>10.000000</td>\n",
       "      <td>0.07</td>\n",
       "      <td>-0.138127</td>\n",
       "    </tr>\n",
       "    <tr>\n",
       "      <th>2</th>\n",
       "      <td>2_w2e_out</td>\n",
       "      <td>1.577837e+09</td>\n",
       "      <td>10.453261</td>\n",
       "      <td>3.027113</td>\n",
       "      <td>1577837025</td>\n",
       "      <td>1577837003</td>\n",
       "      <td>max</td>\n",
       "      <td>11.388889</td>\n",
       "      <td>1.43</td>\n",
       "      <td>-0.935628</td>\n",
       "    </tr>\n",
       "    <tr>\n",
       "      <th>3</th>\n",
       "      <td>3_w2e_out</td>\n",
       "      <td>1.577837e+09</td>\n",
       "      <td>8.401513</td>\n",
       "      <td>1.008585</td>\n",
       "      <td>1577837157</td>\n",
       "      <td>1577837105</td>\n",
       "      <td>max</td>\n",
       "      <td>7.222222</td>\n",
       "      <td>-0.74</td>\n",
       "      <td>1.179291</td>\n",
       "    </tr>\n",
       "    <tr>\n",
       "      <th>4</th>\n",
       "      <td>4_w2e_out</td>\n",
       "      <td>1.577837e+09</td>\n",
       "      <td>11.555531</td>\n",
       "      <td>1.387219</td>\n",
       "      <td>1577837295</td>\n",
       "      <td>1577837257</td>\n",
       "      <td>max</td>\n",
       "      <td>10.833333</td>\n",
       "      <td>-0.49</td>\n",
       "      <td>0.722197</td>\n",
       "    </tr>\n",
       "  </tbody>\n",
       "</table>\n",
       "</div>"
      ],
      "text/plain": [
       "       vehID  time_detector_sim  speed_detector_sim  speed_factor  \\\n",
       "0  0_w2e_out       1.577837e+09            7.019594      0.842688   \n",
       "1  1_w2e_out       1.577837e+09            9.861873      1.183898   \n",
       "2  2_w2e_out       1.577837e+09           10.453261      3.027113   \n",
       "3  3_w2e_out       1.577837e+09            8.401513      1.008585   \n",
       "4  4_w2e_out       1.577837e+09           11.555531      1.387219   \n",
       "\n",
       "   time_detector_real      depart departSpeed  speed_detector_real  \\\n",
       "0          1577836839  1577836778         max             5.833333   \n",
       "1          1577837023  1577836979         max            10.000000   \n",
       "2          1577837025  1577837003         max            11.388889   \n",
       "3          1577837157  1577837105         max             7.222222   \n",
       "4          1577837295  1577837257         max            10.833333   \n",
       "\n",
       "   delta_time  delta_speed  \n",
       "0        0.25     1.186260  \n",
       "1        0.07    -0.138127  \n",
       "2        1.43    -0.935628  \n",
       "3       -0.74     1.179291  \n",
       "4       -0.49     0.722197  "
      ]
     },
     "execution_count": 68,
     "metadata": {},
     "output_type": "execute_result"
    }
   ],
   "source": [
    "data = pd.read_csv(f'data/calibration_data/calibrated_data_{postfix}.csv')\n",
    "data.rename(columns={\"veh_id\": \"vehID\"}, inplace=True)\n",
    "data.head()"
   ]
  },
  {
   "cell_type": "code",
   "execution_count": 69,
   "id": "41ef4aa2",
   "metadata": {},
   "outputs": [
    {
     "name": "stdout",
     "output_type": "stream",
     "text": [
      "1358 1358\n"
     ]
    }
   ],
   "source": [
    "print(len(data), len(df_instant_out))"
   ]
  },
  {
   "cell_type": "markdown",
   "id": "26c7724a",
   "metadata": {},
   "source": [
    "compare time error and speed error in loop detector between simulation result and calibration result"
   ]
  },
  {
   "cell_type": "code",
   "execution_count": 70,
   "id": "78ee4572",
   "metadata": {},
   "outputs": [
    {
     "data": {
      "application/vnd.microsoft.datawrangler.viewer.v0+json": {
       "columns": [
        {
         "name": "index",
         "rawType": "int64",
         "type": "integer"
        },
        {
         "name": "vehID",
         "rawType": "object",
         "type": "string"
        },
        {
         "name": "time",
         "rawType": "float64",
         "type": "float"
        },
        {
         "name": "speed",
         "rawType": "float64",
         "type": "float"
        },
        {
         "name": "time_detector_sim",
         "rawType": "float64",
         "type": "float"
        },
        {
         "name": "speed_detector_sim",
         "rawType": "float64",
         "type": "float"
        },
        {
         "name": "time_detector_real",
         "rawType": "int64",
         "type": "integer"
        },
        {
         "name": "speed_detector_real",
         "rawType": "float64",
         "type": "float"
        }
       ],
       "ref": "eb45bde9-04be-4c38-bedc-1d3a7f9c7be0",
       "rows": [
        [
         "0",
         "0_w2e_out",
         "1577836839.25",
         "7.02",
         "1577836839.25",
         "7.019593522358814",
         "1577836839",
         "5.833333333333333"
        ],
        [
         "1",
         "1_w2e_out",
         "1577837023.07",
         "9.86",
         "1577837023.07",
         "9.861873243907311",
         "1577837023",
         "10.0"
        ],
        [
         "2",
         "2_w2e_out",
         "1577837025.4",
         "12.01",
         "1577837026.43",
         "10.453260812135072",
         "1577837025",
         "11.38888888888889"
        ],
        [
         "3",
         "3_w2e_out",
         "1577837156.26",
         "8.4",
         "1577837156.26",
         "8.401512723543362",
         "1577837157",
         "7.222222222222222"
        ],
        [
         "4",
         "4_w2e_out",
         "1577837294.51",
         "11.56",
         "1577837294.51",
         "11.555530576406715",
         "1577837295",
         "10.833333333333334"
        ]
       ],
       "shape": {
        "columns": 7,
        "rows": 5
       }
      },
      "text/html": [
       "<div>\n",
       "<style scoped>\n",
       "    .dataframe tbody tr th:only-of-type {\n",
       "        vertical-align: middle;\n",
       "    }\n",
       "\n",
       "    .dataframe tbody tr th {\n",
       "        vertical-align: top;\n",
       "    }\n",
       "\n",
       "    .dataframe thead th {\n",
       "        text-align: right;\n",
       "    }\n",
       "</style>\n",
       "<table border=\"1\" class=\"dataframe\">\n",
       "  <thead>\n",
       "    <tr style=\"text-align: right;\">\n",
       "      <th></th>\n",
       "      <th>vehID</th>\n",
       "      <th>time</th>\n",
       "      <th>speed</th>\n",
       "      <th>time_detector_sim</th>\n",
       "      <th>speed_detector_sim</th>\n",
       "      <th>time_detector_real</th>\n",
       "      <th>speed_detector_real</th>\n",
       "    </tr>\n",
       "  </thead>\n",
       "  <tbody>\n",
       "    <tr>\n",
       "      <th>0</th>\n",
       "      <td>0_w2e_out</td>\n",
       "      <td>1.577837e+09</td>\n",
       "      <td>7.02</td>\n",
       "      <td>1.577837e+09</td>\n",
       "      <td>7.019594</td>\n",
       "      <td>1577836839</td>\n",
       "      <td>5.833333</td>\n",
       "    </tr>\n",
       "    <tr>\n",
       "      <th>1</th>\n",
       "      <td>1_w2e_out</td>\n",
       "      <td>1.577837e+09</td>\n",
       "      <td>9.86</td>\n",
       "      <td>1.577837e+09</td>\n",
       "      <td>9.861873</td>\n",
       "      <td>1577837023</td>\n",
       "      <td>10.000000</td>\n",
       "    </tr>\n",
       "    <tr>\n",
       "      <th>2</th>\n",
       "      <td>2_w2e_out</td>\n",
       "      <td>1.577837e+09</td>\n",
       "      <td>12.01</td>\n",
       "      <td>1.577837e+09</td>\n",
       "      <td>10.453261</td>\n",
       "      <td>1577837025</td>\n",
       "      <td>11.388889</td>\n",
       "    </tr>\n",
       "    <tr>\n",
       "      <th>3</th>\n",
       "      <td>3_w2e_out</td>\n",
       "      <td>1.577837e+09</td>\n",
       "      <td>8.40</td>\n",
       "      <td>1.577837e+09</td>\n",
       "      <td>8.401513</td>\n",
       "      <td>1577837157</td>\n",
       "      <td>7.222222</td>\n",
       "    </tr>\n",
       "    <tr>\n",
       "      <th>4</th>\n",
       "      <td>4_w2e_out</td>\n",
       "      <td>1.577837e+09</td>\n",
       "      <td>11.56</td>\n",
       "      <td>1.577837e+09</td>\n",
       "      <td>11.555531</td>\n",
       "      <td>1577837295</td>\n",
       "      <td>10.833333</td>\n",
       "    </tr>\n",
       "  </tbody>\n",
       "</table>\n",
       "</div>"
      ],
      "text/plain": [
       "       vehID          time  speed  time_detector_sim  speed_detector_sim  \\\n",
       "0  0_w2e_out  1.577837e+09   7.02       1.577837e+09            7.019594   \n",
       "1  1_w2e_out  1.577837e+09   9.86       1.577837e+09            9.861873   \n",
       "2  2_w2e_out  1.577837e+09  12.01       1.577837e+09           10.453261   \n",
       "3  3_w2e_out  1.577837e+09   8.40       1.577837e+09            8.401513   \n",
       "4  4_w2e_out  1.577837e+09  11.56       1.577837e+09           11.555531   \n",
       "\n",
       "   time_detector_real  speed_detector_real  \n",
       "0          1577836839             5.833333  \n",
       "1          1577837023            10.000000  \n",
       "2          1577837025            11.388889  \n",
       "3          1577837157             7.222222  \n",
       "4          1577837295            10.833333  "
      ]
     },
     "execution_count": 70,
     "metadata": {},
     "output_type": "execute_result"
    }
   ],
   "source": [
    "compare_df = pd.merge(df_instant_out[[\"vehID\",\"time\",\"speed\"]],\n",
    "            data[[\"vehID\",\"time_detector_sim\",\"speed_detector_sim\"\n",
    "                  ,\"time_detector_real\",\"speed_detector_real\"]],on=\"vehID\")\n",
    "compare_df.head()\n",
    "\n",
    "\n"
   ]
  },
  {
   "cell_type": "code",
   "execution_count": 71,
   "id": "444b9984",
   "metadata": {},
   "outputs": [],
   "source": [
    "#compare_df = compare_df.head(19)"
   ]
  },
  {
   "cell_type": "code",
   "execution_count": 72,
   "id": "efaee82a",
   "metadata": {},
   "outputs": [
    {
     "data": {
      "text/plain": [
       "np.float64(1.116899852724595)"
      ]
     },
     "execution_count": 72,
     "metadata": {},
     "output_type": "execute_result"
    }
   ],
   "source": [
    "time_calib_error = compare_df[\"time_calib_error\"]=(compare_df[\"time_detector_sim\"]-compare_df[\"time_detector_real\"])\n",
    "abs(time_calib_error).mean()"
   ]
  },
  {
   "cell_type": "code",
   "execution_count": 73,
   "id": "06d79b59",
   "metadata": {},
   "outputs": [
    {
     "data": {
      "text/plain": [
       "np.float64(0.8715979366485079)"
      ]
     },
     "execution_count": 73,
     "metadata": {},
     "output_type": "execute_result"
    }
   ],
   "source": [
    "time_sim_error = compare_df[\"time_sim_error\"] = compare_df[\"time\"]-compare_df[\"time_detector_real\"]\n",
    "abs(time_sim_error).mean()"
   ]
  },
  {
   "cell_type": "code",
   "execution_count": 74,
   "id": "623c98a5",
   "metadata": {},
   "outputs": [
    {
     "data": {
      "text/plain": [
       "np.float64(1.3585949240674728)"
      ]
     },
     "execution_count": 74,
     "metadata": {},
     "output_type": "execute_result"
    }
   ],
   "source": [
    "speed_calib_error= compare_df[\"speed_calib_error\"] =compare_df[\"speed_detector_sim\"]-compare_df[\"speed_detector_real\"]\n",
    "abs(speed_calib_error).mean()"
   ]
  },
  {
   "cell_type": "code",
   "execution_count": 75,
   "id": "ce1e059c",
   "metadata": {},
   "outputs": [
    {
     "data": {
      "text/plain": [
       "np.float64(1.5862092947144493)"
      ]
     },
     "execution_count": 75,
     "metadata": {},
     "output_type": "execute_result"
    }
   ],
   "source": [
    "speed_sim_error=compare_df[\"speed_sim_error\"] =compare_df[\"speed\"]-compare_df[\"speed_detector_real\"]\n",
    "abs(speed_sim_error).mean()"
   ]
  },
  {
   "cell_type": "code",
   "execution_count": 76,
   "id": "f719d7aa",
   "metadata": {},
   "outputs": [
    {
     "data": {
      "application/vnd.plotly.v1+json": {
       "config": {
        "plotlyServerURL": "https://plot.ly"
       },
       "data": [
        {
         "name": "time_sim_error --> MAE = 0.87",
         "opacity": 0.75,
         "type": "histogram",
         "x": {
          "bdata": "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",
          "dtype": "f8"
         },
         "xbins": {
          "end": 11,
          "size": 1,
          "start": -4
         }
        },
        {
         "name": "time_calib_error  --> MAE = 1.12",
         "opacity": 0.75,
         "type": "histogram",
         "x": {
          "bdata": "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",
          "dtype": "f8"
         },
         "xbins": {
          "end": 11,
          "size": 1,
          "start": -4
         }
        }
       ],
       "layout": {
        "barmode": "group",
        "template": {
         "data": {
          "bar": [
           {
            "error_x": {
             "color": "#2a3f5f"
            },
            "error_y": {
             "color": "#2a3f5f"
            },
            "marker": {
             "line": {
              "color": "#E5ECF6",
              "width": 0.5
             },
             "pattern": {
              "fillmode": "overlay",
              "size": 10,
              "solidity": 0.2
             }
            },
            "type": "bar"
           }
          ],
          "barpolar": [
           {
            "marker": {
             "line": {
              "color": "#E5ECF6",
              "width": 0.5
             },
             "pattern": {
              "fillmode": "overlay",
              "size": 10,
              "solidity": 0.2
             }
            },
            "type": "barpolar"
           }
          ],
          "carpet": [
           {
            "aaxis": {
             "endlinecolor": "#2a3f5f",
             "gridcolor": "white",
             "linecolor": "white",
             "minorgridcolor": "white",
             "startlinecolor": "#2a3f5f"
            },
            "baxis": {
             "endlinecolor": "#2a3f5f",
             "gridcolor": "white",
             "linecolor": "white",
             "minorgridcolor": "white",
             "startlinecolor": "#2a3f5f"
            },
            "type": "carpet"
           }
          ],
          "choropleth": [
           {
            "colorbar": {
             "outlinewidth": 0,
             "ticks": ""
            },
            "type": "choropleth"
           }
          ],
          "contour": [
           {
            "colorbar": {
             "outlinewidth": 0,
             "ticks": ""
            },
            "colorscale": [
             [
              0,
              "#0d0887"
             ],
             [
              0.1111111111111111,
              "#46039f"
             ],
             [
              0.2222222222222222,
              "#7201a8"
             ],
             [
              0.3333333333333333,
              "#9c179e"
             ],
             [
              0.4444444444444444,
              "#bd3786"
             ],
             [
              0.5555555555555556,
              "#d8576b"
             ],
             [
              0.6666666666666666,
              "#ed7953"
             ],
             [
              0.7777777777777778,
              "#fb9f3a"
             ],
             [
              0.8888888888888888,
              "#fdca26"
             ],
             [
              1,
              "#f0f921"
             ]
            ],
            "type": "contour"
           }
          ],
          "contourcarpet": [
           {
            "colorbar": {
             "outlinewidth": 0,
             "ticks": ""
            },
            "type": "contourcarpet"
           }
          ],
          "heatmap": [
           {
            "colorbar": {
             "outlinewidth": 0,
             "ticks": ""
            },
            "colorscale": [
             [
              0,
              "#0d0887"
             ],
             [
              0.1111111111111111,
              "#46039f"
             ],
             [
              0.2222222222222222,
              "#7201a8"
             ],
             [
              0.3333333333333333,
              "#9c179e"
             ],
             [
              0.4444444444444444,
              "#bd3786"
             ],
             [
              0.5555555555555556,
              "#d8576b"
             ],
             [
              0.6666666666666666,
              "#ed7953"
             ],
             [
              0.7777777777777778,
              "#fb9f3a"
             ],
             [
              0.8888888888888888,
              "#fdca26"
             ],
             [
              1,
              "#f0f921"
             ]
            ],
            "type": "heatmap"
           }
          ],
          "histogram": [
           {
            "marker": {
             "pattern": {
              "fillmode": "overlay",
              "size": 10,
              "solidity": 0.2
             }
            },
            "type": "histogram"
           }
          ],
          "histogram2d": [
           {
            "colorbar": {
             "outlinewidth": 0,
             "ticks": ""
            },
            "colorscale": [
             [
              0,
              "#0d0887"
             ],
             [
              0.1111111111111111,
              "#46039f"
             ],
             [
              0.2222222222222222,
              "#7201a8"
             ],
             [
              0.3333333333333333,
              "#9c179e"
             ],
             [
              0.4444444444444444,
              "#bd3786"
             ],
             [
              0.5555555555555556,
              "#d8576b"
             ],
             [
              0.6666666666666666,
              "#ed7953"
             ],
             [
              0.7777777777777778,
              "#fb9f3a"
             ],
             [
              0.8888888888888888,
              "#fdca26"
             ],
             [
              1,
              "#f0f921"
             ]
            ],
            "type": "histogram2d"
           }
          ],
          "histogram2dcontour": [
           {
            "colorbar": {
             "outlinewidth": 0,
             "ticks": ""
            },
            "colorscale": [
             [
              0,
              "#0d0887"
             ],
             [
              0.1111111111111111,
              "#46039f"
             ],
             [
              0.2222222222222222,
              "#7201a8"
             ],
             [
              0.3333333333333333,
              "#9c179e"
             ],
             [
              0.4444444444444444,
              "#bd3786"
             ],
             [
              0.5555555555555556,
              "#d8576b"
             ],
             [
              0.6666666666666666,
              "#ed7953"
             ],
             [
              0.7777777777777778,
              "#fb9f3a"
             ],
             [
              0.8888888888888888,
              "#fdca26"
             ],
             [
              1,
              "#f0f921"
             ]
            ],
            "type": "histogram2dcontour"
           }
          ],
          "mesh3d": [
           {
            "colorbar": {
             "outlinewidth": 0,
             "ticks": ""
            },
            "type": "mesh3d"
           }
          ],
          "parcoords": [
           {
            "line": {
             "colorbar": {
              "outlinewidth": 0,
              "ticks": ""
             }
            },
            "type": "parcoords"
           }
          ],
          "pie": [
           {
            "automargin": true,
            "type": "pie"
           }
          ],
          "scatter": [
           {
            "fillpattern": {
             "fillmode": "overlay",
             "size": 10,
             "solidity": 0.2
            },
            "type": "scatter"
           }
          ],
          "scatter3d": [
           {
            "line": {
             "colorbar": {
              "outlinewidth": 0,
              "ticks": ""
             }
            },
            "marker": {
             "colorbar": {
              "outlinewidth": 0,
              "ticks": ""
             }
            },
            "type": "scatter3d"
           }
          ],
          "scattercarpet": [
           {
            "marker": {
             "colorbar": {
              "outlinewidth": 0,
              "ticks": ""
             }
            },
            "type": "scattercarpet"
           }
          ],
          "scattergeo": [
           {
            "marker": {
             "colorbar": {
              "outlinewidth": 0,
              "ticks": ""
             }
            },
            "type": "scattergeo"
           }
          ],
          "scattergl": [
           {
            "marker": {
             "colorbar": {
              "outlinewidth": 0,
              "ticks": ""
             }
            },
            "type": "scattergl"
           }
          ],
          "scattermap": [
           {
            "marker": {
             "colorbar": {
              "outlinewidth": 0,
              "ticks": ""
             }
            },
            "type": "scattermap"
           }
          ],
          "scattermapbox": [
           {
            "marker": {
             "colorbar": {
              "outlinewidth": 0,
              "ticks": ""
             }
            },
            "type": "scattermapbox"
           }
          ],
          "scatterpolar": [
           {
            "marker": {
             "colorbar": {
              "outlinewidth": 0,
              "ticks": ""
             }
            },
            "type": "scatterpolar"
           }
          ],
          "scatterpolargl": [
           {
            "marker": {
             "colorbar": {
              "outlinewidth": 0,
              "ticks": ""
             }
            },
            "type": "scatterpolargl"
           }
          ],
          "scatterternary": [
           {
            "marker": {
             "colorbar": {
              "outlinewidth": 0,
              "ticks": ""
             }
            },
            "type": "scatterternary"
           }
          ],
          "surface": [
           {
            "colorbar": {
             "outlinewidth": 0,
             "ticks": ""
            },
            "colorscale": [
             [
              0,
              "#0d0887"
             ],
             [
              0.1111111111111111,
              "#46039f"
             ],
             [
              0.2222222222222222,
              "#7201a8"
             ],
             [
              0.3333333333333333,
              "#9c179e"
             ],
             [
              0.4444444444444444,
              "#bd3786"
             ],
             [
              0.5555555555555556,
              "#d8576b"
             ],
             [
              0.6666666666666666,
              "#ed7953"
             ],
             [
              0.7777777777777778,
              "#fb9f3a"
             ],
             [
              0.8888888888888888,
              "#fdca26"
             ],
             [
              1,
              "#f0f921"
             ]
            ],
            "type": "surface"
           }
          ],
          "table": [
           {
            "cells": {
             "fill": {
              "color": "#EBF0F8"
             },
             "line": {
              "color": "white"
             }
            },
            "header": {
             "fill": {
              "color": "#C8D4E3"
             },
             "line": {
              "color": "white"
             }
            },
            "type": "table"
           }
          ]
         },
         "layout": {
          "annotationdefaults": {
           "arrowcolor": "#2a3f5f",
           "arrowhead": 0,
           "arrowwidth": 1
          },
          "autotypenumbers": "strict",
          "coloraxis": {
           "colorbar": {
            "outlinewidth": 0,
            "ticks": ""
           }
          },
          "colorscale": {
           "diverging": [
            [
             0,
             "#8e0152"
            ],
            [
             0.1,
             "#c51b7d"
            ],
            [
             0.2,
             "#de77ae"
            ],
            [
             0.3,
             "#f1b6da"
            ],
            [
             0.4,
             "#fde0ef"
            ],
            [
             0.5,
             "#f7f7f7"
            ],
            [
             0.6,
             "#e6f5d0"
            ],
            [
             0.7,
             "#b8e186"
            ],
            [
             0.8,
             "#7fbc41"
            ],
            [
             0.9,
             "#4d9221"
            ],
            [
             1,
             "#276419"
            ]
           ],
           "sequential": [
            [
             0,
             "#0d0887"
            ],
            [
             0.1111111111111111,
             "#46039f"
            ],
            [
             0.2222222222222222,
             "#7201a8"
            ],
            [
             0.3333333333333333,
             "#9c179e"
            ],
            [
             0.4444444444444444,
             "#bd3786"
            ],
            [
             0.5555555555555556,
             "#d8576b"
            ],
            [
             0.6666666666666666,
             "#ed7953"
            ],
            [
             0.7777777777777778,
             "#fb9f3a"
            ],
            [
             0.8888888888888888,
             "#fdca26"
            ],
            [
             1,
             "#f0f921"
            ]
           ],
           "sequentialminus": [
            [
             0,
             "#0d0887"
            ],
            [
             0.1111111111111111,
             "#46039f"
            ],
            [
             0.2222222222222222,
             "#7201a8"
            ],
            [
             0.3333333333333333,
             "#9c179e"
            ],
            [
             0.4444444444444444,
             "#bd3786"
            ],
            [
             0.5555555555555556,
             "#d8576b"
            ],
            [
             0.6666666666666666,
             "#ed7953"
            ],
            [
             0.7777777777777778,
             "#fb9f3a"
            ],
            [
             0.8888888888888888,
             "#fdca26"
            ],
            [
             1,
             "#f0f921"
            ]
           ]
          },
          "colorway": [
           "#636efa",
           "#EF553B",
           "#00cc96",
           "#ab63fa",
           "#FFA15A",
           "#19d3f3",
           "#FF6692",
           "#B6E880",
           "#FF97FF",
           "#FECB52"
          ],
          "font": {
           "color": "#2a3f5f"
          },
          "geo": {
           "bgcolor": "white",
           "lakecolor": "white",
           "landcolor": "#E5ECF6",
           "showlakes": true,
           "showland": true,
           "subunitcolor": "white"
          },
          "hoverlabel": {
           "align": "left"
          },
          "hovermode": "closest",
          "mapbox": {
           "style": "light"
          },
          "paper_bgcolor": "white",
          "plot_bgcolor": "#E5ECF6",
          "polar": {
           "angularaxis": {
            "gridcolor": "white",
            "linecolor": "white",
            "ticks": ""
           },
           "bgcolor": "#E5ECF6",
           "radialaxis": {
            "gridcolor": "white",
            "linecolor": "white",
            "ticks": ""
           }
          },
          "scene": {
           "xaxis": {
            "backgroundcolor": "#E5ECF6",
            "gridcolor": "white",
            "gridwidth": 2,
            "linecolor": "white",
            "showbackground": true,
            "ticks": "",
            "zerolinecolor": "white"
           },
           "yaxis": {
            "backgroundcolor": "#E5ECF6",
            "gridcolor": "white",
            "gridwidth": 2,
            "linecolor": "white",
            "showbackground": true,
            "ticks": "",
            "zerolinecolor": "white"
           },
           "zaxis": {
            "backgroundcolor": "#E5ECF6",
            "gridcolor": "white",
            "gridwidth": 2,
            "linecolor": "white",
            "showbackground": true,
            "ticks": "",
            "zerolinecolor": "white"
           }
          },
          "shapedefaults": {
           "line": {
            "color": "#2a3f5f"
           }
          },
          "ternary": {
           "aaxis": {
            "gridcolor": "white",
            "linecolor": "white",
            "ticks": ""
           },
           "baxis": {
            "gridcolor": "white",
            "linecolor": "white",
            "ticks": ""
           },
           "bgcolor": "#E5ECF6",
           "caxis": {
            "gridcolor": "white",
            "linecolor": "white",
            "ticks": ""
           }
          },
          "title": {
           "x": 0.05
          },
          "xaxis": {
           "automargin": true,
           "gridcolor": "white",
           "linecolor": "white",
           "ticks": "",
           "title": {
            "standoff": 15
           },
           "zerolinecolor": "white",
           "zerolinewidth": 2
          },
          "yaxis": {
           "automargin": true,
           "gridcolor": "white",
           "linecolor": "white",
           "ticks": "",
           "title": {
            "standoff": 15
           },
           "zerolinecolor": "white",
           "zerolinewidth": 2
          }
         }
        },
        "title": {
         "text": "error  =  simulate  -  real      ------------         w2e_out_2020-01-01"
        },
        "xaxis": {
         "title": {
          "text": "time error (s)"
         }
        },
        "yaxis": {
         "title": {
          "text": "Count"
         }
        }
       }
      }
     },
     "metadata": {},
     "output_type": "display_data"
    }
   ],
   "source": [
    "import plotly.graph_objects as go\n",
    "\n",
    "fig = go.Figure()\n",
    "\n",
    "xbins=dict(\n",
    "        start=-4,  # Bin start\n",
    "        end=11,    # Bin end\n",
    "        size=1    # Bin size (width of each bin)\n",
    "    )\n",
    "sim_MAE = round(abs(compare_df['time_sim_error']).mean(),2)\n",
    "calib_MAE = round(abs(compare_df['time_calib_error']).mean(),2)\n",
    "\n",
    "fig.add_trace(go.Histogram(x=compare_df['time_sim_error'], name=f\"time_sim_error --> MAE = {sim_MAE}\", opacity=0.75, xbins=xbins))\n",
    "fig.add_trace(go.Histogram(x=compare_df['time_calib_error'], name=f\"time_calib_error  --> MAE = {calib_MAE}\", opacity=0.75, xbins=xbins))\n",
    "\n",
    "fig.update_layout(\n",
    "    barmode='group',  # Use 'overlay' if you want stacked look\n",
    "    xaxis_title='time error (s)',\n",
    "    yaxis_title='Count',\n",
    "    title=f\"error  =  simulate  -  real      ------------         {postfix}\"\n",
    ")\n",
    "\n",
    "fig.show()\n",
    "fig.write_html(f\"diagram/hist_time_error_{postfix}_new.html\")"
   ]
  },
  {
   "cell_type": "code",
   "execution_count": 77,
   "id": "d0d6ad65",
   "metadata": {},
   "outputs": [
    {
     "name": "stdout",
     "output_type": "stream",
     "text": [
      "-21.299999952316284 7.140000104904175\n",
      "-12.549999952316284 8.97000002861023\n"
     ]
    }
   ],
   "source": [
    "print(compare_df['time_sim_error'].min(), compare_df['time_sim_error'].max())\n",
    "print(compare_df['time_calib_error'].min(), compare_df['time_calib_error'].max())"
   ]
  },
  {
   "cell_type": "code",
   "execution_count": 78,
   "id": "807ab781",
   "metadata": {},
   "outputs": [
    {
     "name": "stdout",
     "output_type": "stream",
     "text": [
      "-6.944444444444445 12.355555555555556\n",
      "-6.9749498937674295 9.862625038673595\n"
     ]
    }
   ],
   "source": [
    "print(compare_df['speed_sim_error'].min(), compare_df['speed_sim_error'].max())\n",
    "print(compare_df['speed_calib_error'].min(), compare_df['speed_calib_error'].max())"
   ]
  },
  {
   "cell_type": "code",
   "execution_count": 79,
   "id": "01a4e795",
   "metadata": {},
   "outputs": [
    {
     "data": {
      "application/vnd.plotly.v1+json": {
       "config": {
        "plotlyServerURL": "https://plot.ly"
       },
       "data": [
        {
         "name": "speed_sim_error --> MAE = 1.59",
         "opacity": 0.75,
         "type": "histogram",
         "x": {
          "bdata": "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",
          "dtype": "f8"
         },
         "xbins": {
          "end": 7,
          "size": 1,
          "start": -7
         }
        },
        {
         "name": "speed_calib_error --> MAE = 1.36",
         "opacity": 0.75,
         "type": "histogram",
         "x": {
          "bdata": "XJTG9uv68j8Acg82I67Bv5AQ3Eqq8O2/HIZ6t1/e8j+AXohkPRznP0BC47z0CdE/1jDLnxTcF0DA1J7ALcvOv4Cy7xl6es2/oKJ3z90V0b/AkXjFwArXPwRx9iF/MfS/QBRhwNbL3j8AKcjEjpwZQHSBOp+zixJAAKcXD5pEvT9wEGhylVgAQACOlXkWaJ4/H3EAMg3xDUAgKFM5QGnVPzcfNlFcZgxAELZkh6uc5j+A88BSqvq9v2CxeDnh0PM/ACU/cJJKpb+Q+NqGcnHkv4AANdTqgLG/AFasmAI9rT/IKvQjurbhP2D3x/tOxuI/sskNKq6nBkBAghl8XXv4P6DRgCW0D+u/QPCLjaEA0L8AHIox+F6wP0D+h5sWZMY/AFAV0mNsi79MzNak0WwNQECeForkWMG/AMfl3I9stT+YArzruuv5PwCFtSeEjaQ/wNBDCDmSxT/K7vw8/1cQQDojy9BCowRAIJlnVrgQ4b8AxJYIxM6kv9C+eNcBNOU/gKrjv9FWvz8AwEXCfCCLvxDKs5bKO+I/AIE94xHaoD/AeO6dhaHBvwBWK3L/rcM/cHzDovmoAcDc2DsFNcsBwACocISMpYM/QO5MLl31xz9I70Mp1gQNQJKBK52OiBRAwhL+CPrzFUDy+DKgQBT/PwA6wT0Tuaa/ANqjxRO1sb9gc4rxBsnkP8DZT7tO09Y/MBmv57k96T+wbOOeyDDwPwDhNZfZ964/qxSLxLe5FkAApDXg5BKZPyARRcW0zdw/iMJdKlYA/T8AjSFoAU7av4AyPqpT/LI/AMubFvDmuz/ApaONezTPPwDlFQYbYsi/QCW3WwJC0j8AJ9qs0ye+P4Tzykd/PvM/FAILpv/BBkC8bjzvk/wBQMC3m3cwscA/ACxivoYRCUCkhWRdcgURQADjBSi/VsQ/YG1oNB0b1z8AN+bHbgbCP2Dxmn1Fk9I/ALcHjx4+qb8AvILczeeFP+hUqE43nwVAQJ02mIkCtT/Ap2dsVbbyP0Axb2Vy5+k/i4k55+0XBEDsE7k4Qs4DQICMIFX1M7y/gHdmC9Ntzb/YMcGDeaL6P9B1Q/GkywBA4NMHxarB6j8gJVGcL4vSv2AcYw6MW9M/IHj05ZMZ179wT/4Wv6bgPwCGuJHV2cC/5CdVHitv8j+AMeRy7TncP4SL7FEr2fk/oBod5dZkwT9Aq4bXOY/IPwD7px5xj6g/0PHNxvE04r/G51fPWlkQwAAd9IuWf8u/eB5JYgQ/9D+oRWPoWWX5P4BvPCYC2LY/gMsCsk2R0D8gdNhwFfLUv0ATRvQq2tY/AKjx0k1iYL84YlXPoGL1vwBeNRZjleu/HByHhyqB8T9AX9YSP0XCv8jrr891Y/K/AILGRr4mgr8At4Dse4TyvwCbAY/fV7s/kH5bZoFU+j+Gg+av33UIwEA7iiz1i8W/8CcLDefa6L9giD0lchvTv6A1DVoBVMW/gB8tq7loyD9gVkEhbI/DvwBWWt/9krG/VGi8d7b7E0DhR/xXq1UOQFiIk1U7WPk/YDRREmwH0z+IZMgAWWzwP8BKqRy/AhJAwJ+cvVSdy78gOSHWV6bRPwCReVVYyuo/CKw1kqFj+z9oNJCQCav2PwBAJNZes7C/oN68VWGl5T/Qs2K61Oj5P4D72ypBsro/AKjx0k1iYL8AhzbGAgTjP0ACRPiJOOY/QHfyE7kQyT8ApIpjSp6lP5Dwfvr2qANAKH/DPlGO+T8A5CXcBNiBPwAm/AaIzbA/2A2KB1QI9D/AEAeiMpPAvwBAABLYS1G/oJBeaAqJ5j/g4FRL9bXNP8AyN3TXAcI/gJ9eB981zr/7ZwUFCIAMQAC511xImuo/umpPZ7Iw9j/A6SECVg/Bv3Clhmtrw/4/XbWnM1kYD0AIYFLeA8MBQHoslqPngvM/wGj+4yz45j/IKvQjurbhP5BrtF0YQ9E/RJWwmE3P8b+Aq50lj8G7PwCM9OMwCpq/AAk5MUmCrr8wdckdArXuP4Cta4v9uL+/wPz2dYRX+j/AW0A4EFnEPywbrccWX/E/8K9zbm7o6r/A6GXswOzLvwAWYS35GJA/nqPdSuu+8T8AwcsYs1rsP5Das6h+uto/sJLkV/y40r+DenXq5bIHQECHE98MKME/AFACNgNXWz8IYFLeA8MBQEBOH/N+xuo/Mi6RWoogD8CgwNnhWKvkP36D5ezNX/s/QBT99qawzr8Ajh64/vK4PwB9JN7cjsu/wDyBPUEswD/QCuNE8erhvxi9im1dduI/oMqQRfWx0r9cvfw629MAQMBJYaTWddQ/mJmL30WJ5z8U91WipxX9PwBKRz2sX7M/2DHBg3mi+j8An3Ks//fSvyA5IdZXptE/wP9sDeHn0b80bfNef4/3v0Bjavb07+w/AAk27aEglr+6ak9nsjD2P3An4UuC0uW/ujKPRu91CUAIYFLeA8MBQLIK/YiubQhA13tIQ/18/z9gXCK1FEH2v56j3UrrvvE/cBT5g7sO5D8A5G9mVQSHv/C3M9gqMOM//pFQmx4EA0BgNLs8ebTKv/AWPvjtQ+W/2Vp38GkVAkAI4oa2bgziP6gOYwNwt/U//q1faeoE8D+gJfconYsFQBBUqAtnb+A/IGNt+4gu0D/QJ+vuPuzUv1Ak5lhv/dq/CGBS3gPDAUDYMcGDeaL6PwCeoB/WS6s/YMhxSMhx6D+AIfkgE2e2P4BUSLUDVLQ/8atvW6F0DEAMyqM+CG33P0jWYFzXu/o/sI1EE6vB5D9IISol57j7PwhgUt4DwwFAIDkh1lem0T8AlwJEQwrmv4ClfPRwbbo/2DHBg3mi+j9g5OF+Re3QP7jWtQD/yBJASDW4EFPq57+9sH4xXu8RQPL4MqBAFP8/SixWGd799j9QnH34DLvqvwBeGpAePci/umpPZ7Iw9j+WQ4ts5/sDQFpfUS+YOPA/IDkh1lem0T/YMcGDeaL6P9BDUVaMfdC/RJWwmE3P8b8uqDSH9ZEAwFDQZGl2PBFAgN1NJ5/KtL+A8t045ffKP25PRyMdSwdAgJXYVIrQsD+AgpR2uK7HvwCEJh0n+6G/rqAz/am5I0BT3YVP/YwhQBgOmr9+1+G/qFVjy8BEAkAAiNoVWd+5P7pqT2eyMPY/GPWcjjgF2z8Q6lKXQtXtv+CMBrfgd9c/AK2JnCuqrT8AAKAn27oSPwBK7vrDX8W/gPSZgFrftr9Q7+oUzW/wPxgOmr9+1+G/yCr0I7q24T/o1TxnfLIPQAbWfDlWyQVAgJDa3crVzj+Q7qu5sRrnP0BpyHZ3jcS/YHVMyE0O4L8k02XiiUD2v/L4MqBAFP8/AKTovM4mqz8A3+ZIJlKnPwAaIafwubE/AFi7xR/PlT8Q1lCq9QPkv4C9NZiBRta/AIDU0rPtkj+AwI9PvFusvxyN+kUhmPw/yCr0I7q24T9SUActTNkIwLYoE1zjMw7AYHs4G1wsxT9wFeAmrsQLQCA5IdZXptE/gGl1X2RZu7+cAb1XeJv9PwCPo+hXFLI/oP3RM5P45z8A8JOGhY+Cv9DfYrb13Om/AFZZHrAbt78AyAorIwq1vwAAk3Ua7DM/nqPdSuu+8T8LcNHGO+0NQPplfsuOkvg/8vgyoEAU/z80vfsme5wSQLxvCCGkmghAoF9w8u6A3j/YMcGDeaL6P0ABEtcc+fm/FEQe5L4C9b9mNKToa9wOQLzLyoDaDwdA8vgyoEAU/z+6ak9nsjD2P7RZeQMnLvE/pBWOWfpG8T9sc5vd98vyP6AjGgD1Ac0/oAC43cVD3T+WQ4ts5/sDQLAkSE+Xnc4/TeU2H0DdAEDYMcGDeaL6P2TCzS3i0ug/AKjx0k1iYL+eo91K677xP3jxsMHA+QJAAMjUAk65mD/pyJos5y8GQMS0equEefI/oEG491wXAUAu0aOrU+0TQOCcU5rTI9g/Rk8M8JelEUCYQ6ciz/fjPwC2Zktqea4/94UCTxiTEkDYMcGDeaL6P+xoyN6GbOA/kOVoubsA3r9riy2FFOkAQPTUmZ+2tf4/XtswQ1EEBEBA9k4uLbABQPcOiyLo7ghAAJFFEbQByT9AEbPjUlrCP9j2Cek/POE/IDkh1lem0T8gaKxNsnfRPwCx8vJkELg//Mo4UOhNBUCWQ4ts5/sDQCTANFNxRf0/umpPZ7Iw9j+6ak9nsjD2P+j+QYV29ek/QH+bxIExzT8A7s3HfGaiv2BcIrUUQfa/ruYgm0jLE0DAwVeTvHCwvyA5IdZXptE/ME44vt7O/T8YIRjPA3X0P8gq9CO6tuE/ZLIyHYIc5r8woG4SC3rpPwCNPGv566K/AGgdB4AjoD9+BgppFN0NQEDJFmcHr/4/AN7ucmC1p78AgACwiuaWv6/ShvOxpRRAAKZug9qfz7/CPhVhJ00QQKYO9OF86ARAAFOAbKUTl7/grOg/9Wvyv1A6rEl3Zt6/8vgyoEAU/z/AAG71wZHxP7baTkEgvQhAIDJe7z3i0D8bkAKjz/UNQBUNKDQnIxFAtVdLXgEOF0CrvxXteIUKQPltAHQ/ogBAACJW5SvI3D9QGNkm1WvwP0A1J73HsLq/UIeuoGMv5T+SUbjTRgLyP34pCxGPbA1AeLl0B6XnIEBwfGnvlhkCQEDdIFPtlfY/9O2CtYND+D8gOSHWV6bRPwhLxywcM/M/QKgDuzWHsj+ATNZLgMetv2aSNnDPcB1AAHcMlg+9rb9E/bAhv+4CQAQ+aGPdUgdAE/HQQDG+A0COyJweJ48PQMpptLTmAgZA1JnJMfPi9z8AIuagyFOaPxHA/yV2rRJA6E6LQgeZ9z8uq78D9CAOQKy3OPlZjQJArj/oGBNi/j+U2gHXuMgDQMDsQ00B1cC/IB4FtPXZ0T8kJ8T6yjQGQK75L47ohwFAKFe+Cre2AUC6ak9nsjD2P56j3UrrvvE/7mpvqoqS8D8whBMDkSDCPwhgUt4DwwFAAJRGSNxCu7+AmUeO7xDWP9DPSUsBOdq/YGx0ZH3IzL/YMcGDeaL6P1zLUp/IUfk/gKdDUgc35L+AC1MmCqqwP8iRQ83I1RFATOygGwOr/T92El4qScsHQCCFrZlaFe8/wD+0+3Zr6r+YmSTmXn/yPyiPUIs8qvE/AFC0dVo9eD9vx94oGIkHQNgxwYN5ovo/dkzwYJ6oEECAd/8mwGrBv0BIW85BucI/egLRzJiHBkCeo91K677xPwhgUt4DwwFAAKjx0k1iYL8wDvrf4HDlv+ApylD6hu0/dEmeG2uC8D8ARsUUu/u9PwAIhq8GSK6/nqPdSuu+8T+YH/7LODrgPwjcVuY/Heq/MK/+wkecA8BURAsOQ/4RQGq5ogNtIwpAAAnY5WBRvL8glNxirM3nPzC7h8qiMQNAgHbE0mRcvb9y92DdajICQOA1ri0QZc0/mD0Z7e+N3D/Ax1aDYoi+vxQNcvSpV/k/nqPdSuu+8T+AeM1MroO3v7pqT2eyMPY/PHqeuvas5j+wfGwLhF/tPwA+B6icQ5W/wM6k9bG51b94zTL/iyUSQLpqT2eyMPY/DMY+cKYH4z8Qagf3riz3PyQnxPrKNAZAGCc8WmyQAEC0IZWh1rfnPwhgUt4DwwFAwZ3llxKpCUBk/O+2tyIGQJZDi2zn+wNAspLcPGRX/D8APyeQW86mPwO6PWJaNA9APZKNnMMHG0CQkx9RXtXyPwCEV+XUMKk/APCf8UzvsD+ANAq6fmLZPwCh23ko4qu/AKKam7SRrz8A+HrWNnXJPwC511xImuo/sOPSzpfYxb/y+DKgQBT/Py6uOnXItxJAMgJy6IEnBkCA0pfj8fncPwDdQuUtafI/gLx9cZe02z8QHNJBys/XP4AJX4IE47u/QGSyAud4+j+Azi3LfT+/v4AV9FPicqS/ALnXXEia6j+AWSELLMawPygZV3uk5uU/YFwitRRB9r84Lt2kDpwPwACo8dJNYmC/ALnXXEia6j+A/jgBr6TCPwCuu80v77E/yiCuBImwC0Akvc+lracEQAeurOtxIwVAgDNtVgMDtz9QnH34DLvqv6R2GdtfVgJA0BtJt+Cw7j9ElbCYTc/xvyop4JnaYABA4A9egiZL9T8YDpq/ftfhvwBmNePqM60/vnXzZtapFUDAScVKHQLUP5zxx3BXEgNA0LixyBf/2j/P3cHBIYEAQMD/bA3h59G/2DHBg3mi+j8AuddcSJrqP5gTwgmVq/A/am+ZGajTBUDoE5QH1g4OwM5IrwJeihFA8vgyoEAU/z/AhTOy8iXJvwCQn7XYOJg/AEX7SxYCkT/YMcGDeaL6P1zVPnnUC+8/9NVuTKqR6T+AJKMK+CjtP1ChMXZkvPM/kN/i0YTh2D9gXCK1FEH2v7pqT2eyMPY/lu2s7/jV9z8AAOKmax8bv2gOVKcAF+k/iLNLRVXi7T8AhGXKf3+qP1Iv3EJa+hVAKsHHPhjKIUAkAXlnZnYcQABLz7oLjfY/ncC3sEyPEkAvdY7/LWwSQOFc+ssD+RdAsFlr+ZeV8T/1Y0AOhEMJQPhUxyhSXfg/ANJVu+esrD8gSh4A9B/9P9gxwYN5ovo/umpPZ7Iw9j+eo91K677xPwC511xImuo/IKNR5w3s27+wx+rnm3PzP3wjlNHbsvq/UJhfG4ZN5D/52RqhwegDQA4Nosk2dfU/QImbE9dH/z+A95nf6mm9P9I0Q8tFUQdAAH4TbE5VrD9+yI28mvMGQN045QayRwxAHjzoCuksBkBUXfe8t1kRQHCC7Fmw0eA/8iRYyBg9+D9Qo19pJz/gP71+BUABfQZAwJhNdQWbw79IyWeNeUzov7j8ej8KIfS/TTqc5s4OBUDj7KHc8HkAQABndzcmiqU/2Ek53T7R6j+AUarFLezgP+zRaqDqCfY/COZ58qOH8b8AuZfd1HeiPwDSUD0z/gFAGKX8BT2R9T+g9VVaZcrsvxAiAXp90NS/8vgyoEAU/z8Ax37OAoTbvzgM0AfQ5vW/gBxDxAsAsz8ITtvwKWvlPxgOmr9+1+G/4OdYoLbG1L+A07RhTFSvPzCT881n3uc/AOBeexq8ez8sHVGMH+P/PyDUiBQSBNS/AP0Hd8edvz+AAs6On83WPwhgUt4DwwFAIDkh1lem0T/MgwCv4hsJQGwEZK2WAQFAyPbXV8coDUCA7PDKCyHBP6LT5d3KXRpAAJwN8KnE5T/g4ixJf+nkvzANztVqV/A/eOUqMpUU/T/M6L3E7L4BQMyUoK/xafs/iMeQ1gus6T+eo91K677xPwC511xImuo/2DHBg3mi+j8A+ndIVRSLv5UFi1cXeQ1AwL6fdQjdxL/A/2wN4efRvwDmntymcc8/gM7Fbxte9D8IPoTaEvsVwFjUlcVMvQBAumpPZ7Iw9j+cY98J4EDpvwhgUt4DwwFAuItvKFpt6z+8cQ7hsgcAQABsLXXoboc/0JzdMeJf1T8qEd6mGwIHQAC6lOi2i80/rMDOF0zL+j/g2uGxoWPivwB0SjLVEKY/8FHgOIAiE0A7yv/mzYkOQJs0KqqdUwtADNicgEFoA0AAXIU7VYGcv1AL3wZUAPW/wP9sDeHn0b/IEcSS6VzSPwC511xImuo/xrZxBWSICMCABAU6uDLCv0gJ7adsw/Q/GCDBoekY8j+gY9kU7+LdvwC/54V1OZe/wEzVyXgcyr9UJ+dp2VETQBCMkwQUMAlAUnBOrhkdDUBUqUfDzjgCQHZpVRhbUfU/0Es6NMaO5T+QN8aKwXfqP0DtLDfOEtU/r9Y1lcPDF0AuENii0s4VQMBLA+ZLIN+/oF1lo1yO0D/IKvQjurbhP0BfuMvnUNu/yCr0I7q24T+AVE3gJR23PyjBfHKXE+I/UJx9+Ay76r809W5/tD4DwHB/TZfTH+E/dCxPxiOsEEBA6BFUW44QQCa5vn/9mg1ATMhg2ranA0BE/sC3bdn9PyA5IdZXptE/2KwP6KwR4D/g3vh9yj3TvwTa01pAyPo/2DHBg3mi+j9o4dCNr+jsP+A6ealQBgtAAKUew7Zhpr/QciTNBsrlvyA5IdZXptE/4NgVzWLE2j8YDpq/ftfhvwCxGsTb07w/4M/qrhGe2z+ACnV2+GbXPyA5IdZXptE/AAnr21+VwD+Anaq+d/K1PwCEbUpQrJy/jnX+angcEECfOa5D/qsEQGdEktf4swVA8eUJJEDiCEAAuddcSJrqPwCo8dJNYmC/ONQ07pVa/T/IK/qvblHhPwDQUIWLfKi/ZHEazRtl8j+gCa+TUXHbP2xwGI5HkAhAQGZBjwrFt7/YMcGDeaL6P2pfkS+XUfI/gBx7XifKD0AfEAWKu40FQEzfon8KgfI/wLn4qBIP1z/AYNmaVyPAv6APSJkv9eC/n/rVPI71CkAAfZLmXOyrPwC2IdUaCaW/CGBS3gPDAUDUZYcvYET/PxRlVLlQ3fk/EvoUcLXnBEAA2KMh7RSdP37MrsD9w/c/2OiC83MY0z8ADf8ZLlXDv3Br3/9LouY/oKhFQ08s2L/g7vtO1i/eP7sUdyqXjAtAQCthNCFPsL8AwL7iBr9WPwDmhjfJyJ0/AMlEug6G/T/YFb9F0OjzP8Bqmu8FKdG/uC8ZWWNc7D+AEr3O5DG3PwAxEgn2jbG/gHftHaLgtD+rSoFWLqMPQCcTAHjxOgJA6p3FkZUYDUCEDkmrCjwHQADqTGnBWJM/9kCeEA7BEkCQvRYPHSf/P4AbOCu/Pr4/TKGghjuLAUDw36wQ9qDwPwBkfSnrh6S/AYPy0jk1BkDIKvQjurbhPwDZrQJbmta/oIK0YXVD4T+AzFODs5nDv7hNK/S8tvC/ALnXXEia6j9QzBlCMoPTv2SgCJWGFfM/B+kewnPbGEAmw24/TMUKQLpqT2eyMPY/CniA8WHVAsB2TPBgnqgQQOaYJHlyLQ9AIDpo+0x63T8QlSASVh/8P/Ics1yQAwtAAFw8n6SY8z/gg3OY9mj0P0A0Lw19r7A/wGwRrQjH6b8AWM5uDAX0PzBl9LjEnwVAH+Fycz8sGEDAuB3MhibRvwCEZuVvMaI/IMwNT5d90r8AqIuZgrDDP7pqT2eyMPY/mNqgQa6Z+b+QaW9HKMEHQJgVvyBPvwhAgM2okvFBtT+Aub/SKa+xvwDCtqucQ5A/TBA5nEKbFUC4iJ7tpbcLQG7u0tWQrwZAAMyp0X/Qkz+IGN2/DyfsP0DcXa/Uf9y/OvoJdXa7AsBQ7ppfSDvRP/hr0n2GCvk/ioLFYhi4EEAI/V+mW6/9P2xsCX7XOxBAuBpaTV/WBEAY39UYVAkKQDJwZhS+yyFA1mzxnFZPGEAg7E7gQmoNQAwShHSt0v8/AB64RHXAoL/yTFl1rKAGQDAk9587Vdc/IDkh1lem0T8IYFLeA8MBQKYs/+fv5wVAAKiso/c8cD8AzearkK6qP+wTctizHgdAAF6nFAZNvb9kOLwFLuMLQNquji3YDfk/wGMW5Mhn3b+AzTlR1bW7PwA00sRb7oa/gEsJ01Grvr/gDf/Q8TjrP883j3nZtQNAvMA0IO/O8T8g9ZmOMkTRPyA5IdZXptE/KP06ynOh5j8AVgZSrCvMP4COVQIHgLU/EPR4Xob/3j8AqPHSTWJgv7gh1VX0a/U/ALnXXEia6j+AN8KRjNK2vwC511xImuo/5PMTKjs6DcBqdSABQ3sYQAC6ytTYq6S/aFA0zb9uB0CWQ4ts5/sDQHgmexJf3/4/AP5sxUFPsz8VdSitsKYYQHWYQzbuERhAAASdxNnOtr+Ah4Pt7Cu9P+aiIiohZQpAAOZ0wcWWmz+gGZf6hNDov9N0mHRMLBJAuyk5vfuyDkCD8SMf2aQMQADjY11Z7K2/s8AxhMvYAUC8S+xZ1IT4vwApvseEnLQ/AJTCv+FE0r9wKJIM/1XovyBRBfs6I/G/wNifCU4G3j/TLAALARUHQALbp/Z/Vfo/YJldLgic0D+Q2QoJFXXrv/DrBqF/idI/9L/Vt9SGAkAAS1Tlhd+6P8gq9CO6tuE/QGU8Tuuh8D/IKvQjurbhPzS/0vVAPeY/uL5y0c2T7D9sghyHwd/6P56j3UrrvvE/4giRJ50cEsBCHB52XzgEwCNHRDpvkQNA9JVxID9h8z8gOSHWV6bRPwQv+oMAd/y/GA6av37X4b/AZ8C1WyTwvwBAjYHNv3Q/8t2UIH2rCkBA+nEyLpLVP1RoA+NwnwtAoFU24fJPwb/YtuuyRRLrv9zYOwU1ywHAALnXXEia6j/Al0waTy7NPxKqPdxnjwpAONpopJ0G6z9A0nqX6tLTv1xfRKAUdvo/ENe9JKPK/D8AuddcSJrqP4DqIErvadE/Ru6wx+ElEEDYMcGDeaL6PyA5IdZXptE/ILyX4IBn4b8gvfib7wjkv3p1BpbJywVAMEUhEiTE+z9k1awcPFkSQIC+KsYtPNM/AAJTORKClz/wfNUwJnTZP0BxjOBPGc0/AFOgQVIutb8AusRT29qgPwDsiupi/as/kdLG1AvKDkAA4H2jW8RjP8BOn9T4V7Y/fKOIjSiJCkDy+DKgQBT/PyBocKLO/uM/yGuaKAao+z+ooVJL1t73PwDC8jXc8ZM/gD+1QJe83T9A01BivifCv4CXyjrW4+w/gOiVhH8CsD+ABakHlV7PP1rOI8Xw4gxAKOwmuOe94D8Az9TerUqsP17ioTIv5gBAAOPQz2pRtL+AqNIhC7K/v0zrw2m/qw5AYL3WmP/d2T+YUv5xL07xPwDgj8blKYS/GIEllp4vEkDcoEBXayABQGiQNKAlRv0/yCr0I7q24T/y+DKgQBT/P9gxwYN5ovo/D+HTQ1nmG8CAg0ZGlyzHvwC07Bnc454/gOYh9lGk0j+QuevSZLIAQP48Q+AdoBFARD5DdSnLEEDSi+IDBWMGQMSVy6uCpgxAYPGprwOL3z/w5LeTkOjnP0ByaLRXUdG/AKCHxILVAUDy+DKgQBT/PyRlrGl9H/M/4B8WkZ40wj9wZNXE0Bv4P2CVNiIZjtU/IDkh1lem0T+AlvL9w87gvyA5IdZXptE/ALA3+oNVbb8gMV/3tAzFvyb5E4NeCAlAOLT29D+U/j/y+DKgQBT/P3YQhGhy7gBA4ElFpH8gCEAwH/rbgUHfP+D9Pxsnm+e/tPSh12AM9L8A6KICNvy6P7BGw+S/vvw/kMnkAlu03z+cfUvfQvvxP5QF5XvOUvo/VqAR3exIAUCsKgocqjcEQHjJOiBtK/M/8CxNRNI88j+YEEZvZZnvv3ZRirRZmf4/AB6v4M9okT+sJk0R3EIFQKByQmOP49u/cCCziB2zEECxS27Ww5oAQLApedg2Se4/oE/kMIKvzL+AiPI/5OvxP5ZDi2zn+wNAGFQzsfQg9D8y+SrPQGzxP/L4MqBAFP8/rNA66Por9b9gh/iyVNz9P4Dl4M3JAre/aLVE9Nam8D+8+cfuh/D/P3HQ4InlaQZAaKNxLhVZ8z8KMlNZdmP5P3zh+J3MFw9AIDkh1lem0T8qErtjqYfwvwCUV60nUKE/cCXvvgA59L9lejultCAVwID237uvSNi/5KaQBniYEEAIps9cTxLhP4CIU+coCLY/gFFazVDcHkCwDB170MUeQH1rjHXj5R1A2BdhgSd48j+gr+UAz+bMPwB9ZVKWxsI/AEh5AMY+t78AsFzQHjaKPwAA4B2Dp+s+QIdniV2owr945BRVKa7iP2JFy/VfgANA4FNqdlBI9j8wK611cJPRP4zD+wyQG/i/uGr77tS97z/QjPTTmi7zPwC511xImuo/6LjnCiHL4T9Fb9WL064QwCDu/IsDqfg/YC+RfeHh3z9A5kayjp7eP2AJXSLjQ9M/8vgyoEAU/z+AIs9IOAnPv+Bu2rdWe9k/8vgyoEAU/z9QPkkyQxnVvyA5IdZXptE/AJ5kEJzMmj8AhDSFhhzMv5A0kgPKpxJA5Ibcorp99D+eo91K677xP+h1O8/DCOs/wP9sDeHn0b+wJY3Ka0LtP/CQtx9aR+o/3keRcBZTFUBmr7OaKWgIQNgxwYN5ovo/TeJeh7U3/D9gbeN+TCDQP8C17rNTws+/wAYkgKxdyL/kH5BJazXzP7KS88qU+hZAHPOuntPK8D8AqPHSTWJgv6BDU0oP3de/AJ4g+K4voD+6ak9nsjD2P56j3UrrvvE/cKykcGRGAcBpbO7tezgKQEDAwl+/rsK/a84hCRe1AEBgXCK1FEH2v3DTjQI2avG/ZCuepCZX5L+wKmVojjbhP5Az5wa/aec/gGN/u2z1yL+wyaVi/CLnP1CB1AGy0fY/umpPZ7Iw9j8AYPqiLpGVP8DtuLpTR9w/gA56ykKJwb9+WMBjrikPQIAUJWTuasI/4EXrFIOP3j+ADUNAqOW6P8xNQHGolw5AEmSLNPq0CUAAUnBu7JKqv3ZOSbW9uvs/AKjx0k1iYL9AWuZtcYjZv3cQTZAsJhFAPmU/UIJfEkDy+DKgQBT/PyA5IdZXptE/wDRCg7XEzT8AXE7JsceWP4iCd/qLhv4/Pt/pkExlAkCAE7Qib8OrP0DQVV6KRsy/sHvxsHdH4L8Agep2k9LEP5hNDNjFMeK/wOpl3kqO3L/YSxEqQ2QFQPITo/3zRAtAtGasQaxyA0BAYmjryYPyP8AK0k25BbQ/UJx9+Ay76r/YMcGDeaL6P6CiBz1K1Na/QPKLnsaKxb8kmQ6UVrgZQABKvBJxgpC/AOs0oH+frz+gJKcrVtb+PwC8tx6SPZI/dz12OMY8I0BwKLwtVhPgvwCJI1tfMqI/uq/SFVB9CUBMl6N2RtwAQCA5IdZXptE/ALnXXEia6j8OCswYNp7xPwBKlIs4ZY2/gHHyFsVosr+AhkUtJAzVPwDzecgHcru/ILg3NXom6b/gMzP1lw0CQOhTC1QCL/o/lKKPpAU6978wx5l+Tyz6P9U6IzZSbRlAAPwBv0Ygtz+Qs6rXt5XiPwivHVATCfE/JCfE+so0BkBUWosTpIAEQBiZs54lGgBA+Ju/ubnA7T8Sylesg+wLQMB0AgSOvNQ/AOKPUoCo3z8AuddcSJrqP2Bjr5dzqOS/4AUaqGvm3D+AiWystCLYPwACyMdYPb0/cJxr3aCE0D8AVkOtmjfDP/L4MqBAFP8/MGGeewXo2D/AYq7EPWfkPwC511xImuo/iBIk95nV2j8wOR4JWDflP+ANVrExBd8/nqPdSuu+8T8AsjwpEwaXPwBsLd8l9pY/gOeMZKbcx7+QKeMB7egEQFT8y3k2Kh9AZOqlCrJvA0BsTob8aDoJQED44ZPPMt0/GA6av37X4b8AJXe9RkGqv7ggGMk26PE/BDEs9fYu9D8A7ckVq6HDv8AT9KpKmtE/APc9JgtDpr+Q1LoJnpjkP6CkX6QVmdO/oBGbew6g3T+Atjf3KwGzvwBnB5dbCqW/2DHBg3mi+j/ycunD0sEMQGDysB7TW9g/4G0z3SHn5D8A2q7le2mcPwA4G5naf4S/wLPpqzOPwL+ASDd+C3HCPwDBUatiTKi/wtHAHUTFBUAApXH/EyTgPxD9TjXUgdU/ALnXXEia6j+6ak9nsjD2P8gt3jtBivw/ABW80LsEqb8Acnp8gLqXv2Cc4xTobeM/wFT/AumEzj8AuddcSJrqP8BdBQ+j1cE/gNWECjaltz+g9/cQYfHUP/pLtpoeZRFAAJBeV9YLc78AhH3uMV+iv5hHRVC5Vvc/AAzuedRKsr/Q7m6WLsnXP+xBkUtJ/ghAYFwitRRB9r8AqMBfaDKhv+Bq9AJLUeE/IAL8SbCw8z8kJ8T6yjQGQCBO2P9dhv0/MK3Fk9l//j9AVIv45M/zP4ChZeiiHMy/wCZ33613yT+w7ZyH5VLYP8DBBlKVJ9C/lM0fnQx/CkAAku7fhyOXv1DwdRcVaey/AHAfWxIQeb/Ab0kQEv3WP8DNYYoqm8+/qFbBPzLs8z+gVUDiwjHoP4BO4NsCBrg/AEglvmgOtT8AoHpFqWiUv2hMnDYvxxNA0IMBJsWSDEDAKMHJmCjvP4CeutJMK8U/cGwWqtnB5z9A3qbh1sfHPwCo8dJNYmC/iLHZGol3+z+AhI866KrFvwAx3001B7c/QC/K/YCB0j+GOKzda8QLQABo2iyItsY/AIGYE4ljtL/IAflNWssHQABtj8ssFtI/wB/Y1sHlyL9AXo3UC9LGv4DvT44+A+u/AIajKepwsj+eo91K677xPzCEE7J568Y/oHOvcGSS0z8gRs0L8cvQPxgOmr9+1+G/APaPo1K2yT8gkYse6ZTWv8gq9CO6tuE/YLM5oCsA67/QeouWzkDvvwBaXcAphaS/8vgyoEAU/z9AnWg5wrvgP5iZ4vH9OCNAIK7Dp+YT5T8Qb8Jlmnjgv6JKWMym5wzAgLAgyJLe9j/qImnP7fsSQFo/uiMbiQxA2DHBg3mi+j/cEzjPI4znP2y6OVWAMfk/AOB/PYXKur8AnLk73+iRvzAjo2xbyuQ/AECDPGn8lL8ANAHapAySvzbHn9SnUwFA8EfKUXkM6D+AumAQ7TbZPw==",
          "dtype": "f8"
         },
         "xbins": {
          "end": 7,
          "size": 1,
          "start": -7
         }
        }
       ],
       "layout": {
        "barmode": "group",
        "template": {
         "data": {
          "bar": [
           {
            "error_x": {
             "color": "#2a3f5f"
            },
            "error_y": {
             "color": "#2a3f5f"
            },
            "marker": {
             "line": {
              "color": "#E5ECF6",
              "width": 0.5
             },
             "pattern": {
              "fillmode": "overlay",
              "size": 10,
              "solidity": 0.2
             }
            },
            "type": "bar"
           }
          ],
          "barpolar": [
           {
            "marker": {
             "line": {
              "color": "#E5ECF6",
              "width": 0.5
             },
             "pattern": {
              "fillmode": "overlay",
              "size": 10,
              "solidity": 0.2
             }
            },
            "type": "barpolar"
           }
          ],
          "carpet": [
           {
            "aaxis": {
             "endlinecolor": "#2a3f5f",
             "gridcolor": "white",
             "linecolor": "white",
             "minorgridcolor": "white",
             "startlinecolor": "#2a3f5f"
            },
            "baxis": {
             "endlinecolor": "#2a3f5f",
             "gridcolor": "white",
             "linecolor": "white",
             "minorgridcolor": "white",
             "startlinecolor": "#2a3f5f"
            },
            "type": "carpet"
           }
          ],
          "choropleth": [
           {
            "colorbar": {
             "outlinewidth": 0,
             "ticks": ""
            },
            "type": "choropleth"
           }
          ],
          "contour": [
           {
            "colorbar": {
             "outlinewidth": 0,
             "ticks": ""
            },
            "colorscale": [
             [
              0,
              "#0d0887"
             ],
             [
              0.1111111111111111,
              "#46039f"
             ],
             [
              0.2222222222222222,
              "#7201a8"
             ],
             [
              0.3333333333333333,
              "#9c179e"
             ],
             [
              0.4444444444444444,
              "#bd3786"
             ],
             [
              0.5555555555555556,
              "#d8576b"
             ],
             [
              0.6666666666666666,
              "#ed7953"
             ],
             [
              0.7777777777777778,
              "#fb9f3a"
             ],
             [
              0.8888888888888888,
              "#fdca26"
             ],
             [
              1,
              "#f0f921"
             ]
            ],
            "type": "contour"
           }
          ],
          "contourcarpet": [
           {
            "colorbar": {
             "outlinewidth": 0,
             "ticks": ""
            },
            "type": "contourcarpet"
           }
          ],
          "heatmap": [
           {
            "colorbar": {
             "outlinewidth": 0,
             "ticks": ""
            },
            "colorscale": [
             [
              0,
              "#0d0887"
             ],
             [
              0.1111111111111111,
              "#46039f"
             ],
             [
              0.2222222222222222,
              "#7201a8"
             ],
             [
              0.3333333333333333,
              "#9c179e"
             ],
             [
              0.4444444444444444,
              "#bd3786"
             ],
             [
              0.5555555555555556,
              "#d8576b"
             ],
             [
              0.6666666666666666,
              "#ed7953"
             ],
             [
              0.7777777777777778,
              "#fb9f3a"
             ],
             [
              0.8888888888888888,
              "#fdca26"
             ],
             [
              1,
              "#f0f921"
             ]
            ],
            "type": "heatmap"
           }
          ],
          "histogram": [
           {
            "marker": {
             "pattern": {
              "fillmode": "overlay",
              "size": 10,
              "solidity": 0.2
             }
            },
            "type": "histogram"
           }
          ],
          "histogram2d": [
           {
            "colorbar": {
             "outlinewidth": 0,
             "ticks": ""
            },
            "colorscale": [
             [
              0,
              "#0d0887"
             ],
             [
              0.1111111111111111,
              "#46039f"
             ],
             [
              0.2222222222222222,
              "#7201a8"
             ],
             [
              0.3333333333333333,
              "#9c179e"
             ],
             [
              0.4444444444444444,
              "#bd3786"
             ],
             [
              0.5555555555555556,
              "#d8576b"
             ],
             [
              0.6666666666666666,
              "#ed7953"
             ],
             [
              0.7777777777777778,
              "#fb9f3a"
             ],
             [
              0.8888888888888888,
              "#fdca26"
             ],
             [
              1,
              "#f0f921"
             ]
            ],
            "type": "histogram2d"
           }
          ],
          "histogram2dcontour": [
           {
            "colorbar": {
             "outlinewidth": 0,
             "ticks": ""
            },
            "colorscale": [
             [
              0,
              "#0d0887"
             ],
             [
              0.1111111111111111,
              "#46039f"
             ],
             [
              0.2222222222222222,
              "#7201a8"
             ],
             [
              0.3333333333333333,
              "#9c179e"
             ],
             [
              0.4444444444444444,
              "#bd3786"
             ],
             [
              0.5555555555555556,
              "#d8576b"
             ],
             [
              0.6666666666666666,
              "#ed7953"
             ],
             [
              0.7777777777777778,
              "#fb9f3a"
             ],
             [
              0.8888888888888888,
              "#fdca26"
             ],
             [
              1,
              "#f0f921"
             ]
            ],
            "type": "histogram2dcontour"
           }
          ],
          "mesh3d": [
           {
            "colorbar": {
             "outlinewidth": 0,
             "ticks": ""
            },
            "type": "mesh3d"
           }
          ],
          "parcoords": [
           {
            "line": {
             "colorbar": {
              "outlinewidth": 0,
              "ticks": ""
             }
            },
            "type": "parcoords"
           }
          ],
          "pie": [
           {
            "automargin": true,
            "type": "pie"
           }
          ],
          "scatter": [
           {
            "fillpattern": {
             "fillmode": "overlay",
             "size": 10,
             "solidity": 0.2
            },
            "type": "scatter"
           }
          ],
          "scatter3d": [
           {
            "line": {
             "colorbar": {
              "outlinewidth": 0,
              "ticks": ""
             }
            },
            "marker": {
             "colorbar": {
              "outlinewidth": 0,
              "ticks": ""
             }
            },
            "type": "scatter3d"
           }
          ],
          "scattercarpet": [
           {
            "marker": {
             "colorbar": {
              "outlinewidth": 0,
              "ticks": ""
             }
            },
            "type": "scattercarpet"
           }
          ],
          "scattergeo": [
           {
            "marker": {
             "colorbar": {
              "outlinewidth": 0,
              "ticks": ""
             }
            },
            "type": "scattergeo"
           }
          ],
          "scattergl": [
           {
            "marker": {
             "colorbar": {
              "outlinewidth": 0,
              "ticks": ""
             }
            },
            "type": "scattergl"
           }
          ],
          "scattermap": [
           {
            "marker": {
             "colorbar": {
              "outlinewidth": 0,
              "ticks": ""
             }
            },
            "type": "scattermap"
           }
          ],
          "scattermapbox": [
           {
            "marker": {
             "colorbar": {
              "outlinewidth": 0,
              "ticks": ""
             }
            },
            "type": "scattermapbox"
           }
          ],
          "scatterpolar": [
           {
            "marker": {
             "colorbar": {
              "outlinewidth": 0,
              "ticks": ""
             }
            },
            "type": "scatterpolar"
           }
          ],
          "scatterpolargl": [
           {
            "marker": {
             "colorbar": {
              "outlinewidth": 0,
              "ticks": ""
             }
            },
            "type": "scatterpolargl"
           }
          ],
          "scatterternary": [
           {
            "marker": {
             "colorbar": {
              "outlinewidth": 0,
              "ticks": ""
             }
            },
            "type": "scatterternary"
           }
          ],
          "surface": [
           {
            "colorbar": {
             "outlinewidth": 0,
             "ticks": ""
            },
            "colorscale": [
             [
              0,
              "#0d0887"
             ],
             [
              0.1111111111111111,
              "#46039f"
             ],
             [
              0.2222222222222222,
              "#7201a8"
             ],
             [
              0.3333333333333333,
              "#9c179e"
             ],
             [
              0.4444444444444444,
              "#bd3786"
             ],
             [
              0.5555555555555556,
              "#d8576b"
             ],
             [
              0.6666666666666666,
              "#ed7953"
             ],
             [
              0.7777777777777778,
              "#fb9f3a"
             ],
             [
              0.8888888888888888,
              "#fdca26"
             ],
             [
              1,
              "#f0f921"
             ]
            ],
            "type": "surface"
           }
          ],
          "table": [
           {
            "cells": {
             "fill": {
              "color": "#EBF0F8"
             },
             "line": {
              "color": "white"
             }
            },
            "header": {
             "fill": {
              "color": "#C8D4E3"
             },
             "line": {
              "color": "white"
             }
            },
            "type": "table"
           }
          ]
         },
         "layout": {
          "annotationdefaults": {
           "arrowcolor": "#2a3f5f",
           "arrowhead": 0,
           "arrowwidth": 1
          },
          "autotypenumbers": "strict",
          "coloraxis": {
           "colorbar": {
            "outlinewidth": 0,
            "ticks": ""
           }
          },
          "colorscale": {
           "diverging": [
            [
             0,
             "#8e0152"
            ],
            [
             0.1,
             "#c51b7d"
            ],
            [
             0.2,
             "#de77ae"
            ],
            [
             0.3,
             "#f1b6da"
            ],
            [
             0.4,
             "#fde0ef"
            ],
            [
             0.5,
             "#f7f7f7"
            ],
            [
             0.6,
             "#e6f5d0"
            ],
            [
             0.7,
             "#b8e186"
            ],
            [
             0.8,
             "#7fbc41"
            ],
            [
             0.9,
             "#4d9221"
            ],
            [
             1,
             "#276419"
            ]
           ],
           "sequential": [
            [
             0,
             "#0d0887"
            ],
            [
             0.1111111111111111,
             "#46039f"
            ],
            [
             0.2222222222222222,
             "#7201a8"
            ],
            [
             0.3333333333333333,
             "#9c179e"
            ],
            [
             0.4444444444444444,
             "#bd3786"
            ],
            [
             0.5555555555555556,
             "#d8576b"
            ],
            [
             0.6666666666666666,
             "#ed7953"
            ],
            [
             0.7777777777777778,
             "#fb9f3a"
            ],
            [
             0.8888888888888888,
             "#fdca26"
            ],
            [
             1,
             "#f0f921"
            ]
           ],
           "sequentialminus": [
            [
             0,
             "#0d0887"
            ],
            [
             0.1111111111111111,
             "#46039f"
            ],
            [
             0.2222222222222222,
             "#7201a8"
            ],
            [
             0.3333333333333333,
             "#9c179e"
            ],
            [
             0.4444444444444444,
             "#bd3786"
            ],
            [
             0.5555555555555556,
             "#d8576b"
            ],
            [
             0.6666666666666666,
             "#ed7953"
            ],
            [
             0.7777777777777778,
             "#fb9f3a"
            ],
            [
             0.8888888888888888,
             "#fdca26"
            ],
            [
             1,
             "#f0f921"
            ]
           ]
          },
          "colorway": [
           "#636efa",
           "#EF553B",
           "#00cc96",
           "#ab63fa",
           "#FFA15A",
           "#19d3f3",
           "#FF6692",
           "#B6E880",
           "#FF97FF",
           "#FECB52"
          ],
          "font": {
           "color": "#2a3f5f"
          },
          "geo": {
           "bgcolor": "white",
           "lakecolor": "white",
           "landcolor": "#E5ECF6",
           "showlakes": true,
           "showland": true,
           "subunitcolor": "white"
          },
          "hoverlabel": {
           "align": "left"
          },
          "hovermode": "closest",
          "mapbox": {
           "style": "light"
          },
          "paper_bgcolor": "white",
          "plot_bgcolor": "#E5ECF6",
          "polar": {
           "angularaxis": {
            "gridcolor": "white",
            "linecolor": "white",
            "ticks": ""
           },
           "bgcolor": "#E5ECF6",
           "radialaxis": {
            "gridcolor": "white",
            "linecolor": "white",
            "ticks": ""
           }
          },
          "scene": {
           "xaxis": {
            "backgroundcolor": "#E5ECF6",
            "gridcolor": "white",
            "gridwidth": 2,
            "linecolor": "white",
            "showbackground": true,
            "ticks": "",
            "zerolinecolor": "white"
           },
           "yaxis": {
            "backgroundcolor": "#E5ECF6",
            "gridcolor": "white",
            "gridwidth": 2,
            "linecolor": "white",
            "showbackground": true,
            "ticks": "",
            "zerolinecolor": "white"
           },
           "zaxis": {
            "backgroundcolor": "#E5ECF6",
            "gridcolor": "white",
            "gridwidth": 2,
            "linecolor": "white",
            "showbackground": true,
            "ticks": "",
            "zerolinecolor": "white"
           }
          },
          "shapedefaults": {
           "line": {
            "color": "#2a3f5f"
           }
          },
          "ternary": {
           "aaxis": {
            "gridcolor": "white",
            "linecolor": "white",
            "ticks": ""
           },
           "baxis": {
            "gridcolor": "white",
            "linecolor": "white",
            "ticks": ""
           },
           "bgcolor": "#E5ECF6",
           "caxis": {
            "gridcolor": "white",
            "linecolor": "white",
            "ticks": ""
           }
          },
          "title": {
           "x": 0.05
          },
          "xaxis": {
           "automargin": true,
           "gridcolor": "white",
           "linecolor": "white",
           "ticks": "",
           "title": {
            "standoff": 15
           },
           "zerolinecolor": "white",
           "zerolinewidth": 2
          },
          "yaxis": {
           "automargin": true,
           "gridcolor": "white",
           "linecolor": "white",
           "ticks": "",
           "title": {
            "standoff": 15
           },
           "zerolinecolor": "white",
           "zerolinewidth": 2
          }
         }
        },
        "title": {
         "text": "error  =  simulate  -  real      ------------         w2e_out_2020-01-01"
        },
        "xaxis": {
         "title": {
          "text": "Value"
         }
        },
        "yaxis": {
         "title": {
          "text": "Count"
         }
        }
       }
      }
     },
     "metadata": {},
     "output_type": "display_data"
    }
   ],
   "source": [
    "import plotly.graph_objects as go\n",
    "\n",
    "fig = go.Figure()\n",
    "\n",
    "xbins=dict(\n",
    "        start=-7,  # Bin start\n",
    "        end=7,    # Bin end\n",
    "        size=1    # Bin size (width of each bin)\n",
    "    )\n",
    "sim_MAE = round(abs(compare_df['speed_sim_error']).mean(),2)\n",
    "calib_MAE = round(abs(compare_df['speed_calib_error']).mean(),2)\n",
    "fig.add_trace(go.Histogram(x=compare_df['speed_sim_error'], name=f\"speed_sim_error --> MAE = {sim_MAE}\", opacity=0.75, xbins=xbins))\n",
    "fig.add_trace(go.Histogram(x=compare_df['speed_calib_error'], name=f\"speed_calib_error --> MAE = {calib_MAE}\", opacity=0.75, xbins=xbins))\n",
    "\n",
    "fig.update_layout(\n",
    "    barmode='group',  # Use 'overlay' if you want stacked look\n",
    "    xaxis_title='Value',\n",
    "    yaxis_title='Count',\n",
    "    title=f\"error  =  simulate  -  real      ------------         {postfix}\"\n",
    ")\n",
    "\n",
    "fig.show()\n",
    "fig.write_html(f\"diagram/hist_speed_error_{postfix}_new.html\")"
   ]
  },
  {
   "cell_type": "code",
   "execution_count": 80,
   "id": "69f61ca7",
   "metadata": {},
   "outputs": [],
   "source": [
    "#import os\n",
    "#os.environ[\"HORNSGATAN_HOME\"]\n"
   ]
  }
 ],
 "metadata": {
  "kernelspec": {
   "display_name": "calib_venv",
   "language": "python",
   "name": "python3"
  },
  "language_info": {
   "codemirror_mode": {
    "name": "ipython",
    "version": 3
   },
   "file_extension": ".py",
   "mimetype": "text/x-python",
   "name": "python",
   "nbconvert_exporter": "python",
   "pygments_lexer": "ipython3",
   "version": "3.10.12"
  }
 },
 "nbformat": 4,
 "nbformat_minor": 5
}
