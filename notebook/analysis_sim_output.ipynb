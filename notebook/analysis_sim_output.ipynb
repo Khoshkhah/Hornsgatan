{
 "cells": [
  {
   "cell_type": "markdown",
   "id": "bca770e1",
   "metadata": {},
   "source": [
    "compare calibration result and simulation result in the instant loop detector"
   ]
  },
  {
   "cell_type": "code",
   "execution_count": 71,
   "id": "3c464bd4",
   "metadata": {},
   "outputs": [
    {
     "name": "stdout",
     "output_type": "stream",
     "text": [
      "Current directory: /home/kaveh/projects/Hornsgatan\n",
      "Current directory: /home/kaveh/projects/Hornsgatan\n"
     ]
    }
   ],
   "source": [
    "import os\n",
    "print(\"Current directory:\", os.getcwd())\n",
    "HORNSGATAN_HOME = os.environ[\"HORNSGATAN_HOME\"]\n",
    "os.chdir(HORNSGATAN_HOME)\n",
    "print(\"Current directory:\", os.getcwd())\n",
    "\n",
    "#number = len(data)\n",
    "import pandas as pd\n",
    "date = '2020-01-01'\n",
    "detector = 'e2w_out'\n",
    "number = 100\n",
    "path  = \"data/sim_data/\"\n",
    "if number<1:\n",
    "    postfix = f\"{detector}_{date}\"\n",
    "else:\n",
    "    postfix = f\"{detector}_{date}_{number}\"\n",
    "\n",
    "instantInductionLoop_filename_xml = f\"{path}instantInductionLoop_{postfix}.xml\"\n"
   ]
  },
  {
   "cell_type": "code",
   "execution_count": 72,
   "id": "b2afbafc",
   "metadata": {},
   "outputs": [],
   "source": [
    "import xml.etree.ElementTree as ET\n",
    "\n",
    "# Parse the XML content of output_detectors.xml\n",
    "tree_output = ET.parse(instantInductionLoop_filename_xml)\n",
    "root_output = tree_output.getroot()\n",
    "\n",
    "# Extract data from the XML\n",
    "instant_out_data = []\n",
    "for instant_out in root_output.findall('instantOut'):\n",
    "    instant_out_data.append({\n",
    "        'id': instant_out.get('id'),\n",
    "        'time': float(instant_out.get('time')),\n",
    "        'state': instant_out.get('state'),\n",
    "        'vehID': instant_out.get('vehID'),\n",
    "        'speed': float(instant_out.get('speed')),  # Convert speed to km/h\n",
    "        'length': instant_out.get('length'),\n",
    "        'type': instant_out.get('type'),\n",
    "        'gap': instant_out.get('gap')\n",
    "    })\n",
    "\n",
    "# Convert to a DataFrame\n",
    "df_instant_out = pd.DataFrame(instant_out_data)\n",
    "df_instant_out = df_instant_out[df_instant_out[\"state\"]=='enter']\n",
    "# Save to CSV\n",
    "#output_csv_file_instant_out = 'output_instant_out.csv'\n",
    "#df_instant_out.to_csv(output_csv_file_instant_out, index=False)\n",
    "#print(f\"Data from 'output_detectors.xml' successfully converted to CSV and saved as '{output_csv_file_instant_out}'.\")\n"
   ]
  },
  {
   "cell_type": "code",
   "execution_count": 73,
   "id": "0cb30bef",
   "metadata": {},
   "outputs": [
    {
     "data": {
      "application/vnd.microsoft.datawrangler.viewer.v0+json": {
       "columns": [
        {
         "name": "index",
         "rawType": "int64",
         "type": "integer"
        },
        {
         "name": "id",
         "rawType": "object",
         "type": "string"
        },
        {
         "name": "time",
         "rawType": "float64",
         "type": "float"
        },
        {
         "name": "state",
         "rawType": "object",
         "type": "string"
        },
        {
         "name": "vehID",
         "rawType": "object",
         "type": "string"
        },
        {
         "name": "speed",
         "rawType": "float64",
         "type": "float"
        },
        {
         "name": "length",
         "rawType": "object",
         "type": "string"
        },
        {
         "name": "type",
         "rawType": "object",
         "type": "string"
        },
        {
         "name": "gap",
         "rawType": "object",
         "type": "unknown"
        }
       ],
       "conversionMethod": "pd.DataFrame",
       "ref": "812f63e6-6c37-4a30-a379-5fe381b149b3",
       "rows": [
        [
         "0",
         "e2w_out",
         "1577836849.96",
         "enter",
         "0_e2w_out",
         "8.16",
         "5.00",
         "DEFAULT_VEHTYPE",
         null
        ],
        [
         "3",
         "e2w_out",
         "1577836880.97",
         "enter",
         "1_e2w_out",
         "11.26",
         "5.00",
         "DEFAULT_VEHTYPE",
         "30.40"
        ],
        [
         "6",
         "e2w_out",
         "1577836917.72",
         "enter",
         "2_e2w_out",
         "4.17",
         "5.00",
         "DEFAULT_VEHTYPE",
         "36.31"
        ],
        [
         "9",
         "e2w_out",
         "1577836952.95",
         "enter",
         "3_e2w_out",
         "9.1",
         "5.00",
         "DEFAULT_VEHTYPE",
         "34.02"
        ],
        [
         "12",
         "e2w_out",
         "1577836960.51",
         "enter",
         "4_e2w_out",
         "10.05",
         "5.00",
         "DEFAULT_VEHTYPE",
         "7.01"
        ],
        [
         "15",
         "e2w_out",
         "1577836962.46",
         "enter",
         "5_e2w_out",
         "9.91",
         "5.00",
         "DEFAULT_VEHTYPE",
         "1.45"
        ],
        [
         "17",
         "e2w_out",
         "1577837301.74",
         "enter",
         "6_e2w_out",
         "11.97",
         "5.00",
         "DEFAULT_VEHTYPE",
         "338.77"
        ],
        [
         "20",
         "e2w_out",
         "1577837330.98",
         "enter",
         "7_e2w_out",
         "9.46",
         "5.00",
         "DEFAULT_VEHTYPE",
         "28.83"
        ],
        [
         "23",
         "e2w_out",
         "1577837464.43",
         "enter",
         "8_e2w_out",
         "10.08",
         "5.00",
         "DEFAULT_VEHTYPE",
         "132.92"
        ],
        [
         "25",
         "e2w_out",
         "1577837560.67",
         "enter",
         "9_e2w_out",
         "11.43",
         "5.00",
         "DEFAULT_VEHTYPE",
         "95.74"
        ],
        [
         "28",
         "e2w_out",
         "1577837744.45",
         "enter",
         "10_e2w_out",
         "18.97",
         "5.00",
         "DEFAULT_VEHTYPE",
         "183.35"
        ],
        [
         "30",
         "e2w_out",
         "1577837860.31",
         "enter",
         "11_e2w_out",
         "8.65",
         "5.00",
         "DEFAULT_VEHTYPE",
         "115.60"
        ],
        [
         "32",
         "e2w_out",
         "1577837942.8",
         "enter",
         "12_e2w_out",
         "10.84",
         "5.00",
         "DEFAULT_VEHTYPE",
         "81.90"
        ],
        [
         "35",
         "e2w_out",
         "1577838041.56",
         "enter",
         "13_e2w_out",
         "5.82",
         "5.00",
         "DEFAULT_VEHTYPE",
         "98.30"
        ],
        [
         "38",
         "e2w_out",
         "1577838123.97",
         "enter",
         "14_e2w_out",
         "8.45",
         "5.00",
         "DEFAULT_VEHTYPE",
         "81.55"
        ],
        [
         "41",
         "e2w_out",
         "1577838131.16",
         "enter",
         "15_e2w_out",
         "14.62",
         "5.00",
         "DEFAULT_VEHTYPE",
         "6.60"
        ],
        [
         "43",
         "e2w_out",
         "1577838363.96",
         "enter",
         "16_e2w_out",
         "9.1",
         "5.00",
         "DEFAULT_VEHTYPE",
         "232.46"
        ],
        [
         "46",
         "e2w_out",
         "1577838399.69",
         "enter",
         "17_e2w_out",
         "8.23",
         "5.00",
         "DEFAULT_VEHTYPE",
         "35.18"
        ],
        [
         "49",
         "e2w_out",
         "1577838923.39",
         "enter",
         "18_e2w_out",
         "13.59",
         "5.00",
         "DEFAULT_VEHTYPE",
         "523.09"
        ],
        [
         "51",
         "e2w_out",
         "1577838936.95",
         "enter",
         "19_e2w_out",
         "8.45",
         "5.00",
         "DEFAULT_VEHTYPE",
         "13.20"
        ],
        [
         "54",
         "e2w_out",
         "1577838938.84",
         "enter",
         "20_e2w_out",
         "8.45",
         "5.00",
         "DEFAULT_VEHTYPE",
         "1.30"
        ],
        [
         "57",
         "e2w_out",
         "1577838976.11",
         "enter",
         "21_e2w_out",
         "13.04",
         "5.00",
         "DEFAULT_VEHTYPE",
         "36.68"
        ],
        [
         "59",
         "e2w_out",
         "1577839301.8",
         "enter",
         "22_e2w_out",
         "10.36",
         "5.00",
         "DEFAULT_VEHTYPE",
         "325.30"
        ],
        [
         "62",
         "e2w_out",
         "1577839363.24",
         "enter",
         "23_e2w_out",
         "12.95",
         "5.00",
         "DEFAULT_VEHTYPE",
         "60.96"
        ],
        [
         "64",
         "e2w_out",
         "1577839466.04",
         "enter",
         "24_e2w_out",
         "11.23",
         "5.00",
         "DEFAULT_VEHTYPE",
         "102.41"
        ],
        [
         "66",
         "e2w_out",
         "1577839471.06",
         "enter",
         "25_e2w_out",
         "9.82",
         "5.00",
         "DEFAULT_VEHTYPE",
         "4.58"
        ],
        [
         "68",
         "e2w_out",
         "1577839507.02",
         "enter",
         "26_e2w_out",
         "6.56",
         "5.00",
         "DEFAULT_VEHTYPE",
         "35.44"
        ],
        [
         "70",
         "e2w_out",
         "1577839516.63",
         "enter",
         "27_e2w_out",
         "6.63",
         "5.00",
         "DEFAULT_VEHTYPE",
         "8.85"
        ],
        [
         "73",
         "e2w_out",
         "1577839541.76",
         "enter",
         "28_e2w_out",
         "6.61",
         "5.00",
         "DEFAULT_VEHTYPE",
         "24.37"
        ],
        [
         "76",
         "e2w_out",
         "1577839686.06",
         "enter",
         "29_e2w_out",
         "9.07",
         "5.00",
         "DEFAULT_VEHTYPE",
         "143.54"
        ],
        [
         "78",
         "e2w_out",
         "1577839822.31",
         "enter",
         "30_e2w_out",
         "10.14",
         "5.00",
         "DEFAULT_VEHTYPE",
         "135.70"
        ],
        [
         "80",
         "e2w_out",
         "1577839877.88",
         "enter",
         "31_e2w_out",
         "6.77",
         "5.00",
         "DEFAULT_VEHTYPE",
         "55.08"
        ],
        [
         "83",
         "e2w_out",
         "1577840049.72",
         "enter",
         "32_e2w_out",
         "4.17",
         "5.00",
         "DEFAULT_VEHTYPE",
         "171.11"
        ],
        [
         "86",
         "e2w_out",
         "1577840113.02",
         "enter",
         "33_e2w_out",
         "9.83",
         "5.00",
         "DEFAULT_VEHTYPE",
         "62.10"
        ],
        [
         "88",
         "e2w_out",
         "1577840162.08",
         "enter",
         "34_e2w_out",
         "11.76",
         "5.00",
         "DEFAULT_VEHTYPE",
         "48.55"
        ],
        [
         "90",
         "e2w_out",
         "1577840171.0",
         "enter",
         "35_e2w_out",
         "10.27",
         "5.00",
         "DEFAULT_VEHTYPE",
         "8.49"
        ],
        [
         "92",
         "e2w_out",
         "1577840244.9",
         "enter",
         "36_e2w_out",
         "8.47",
         "5.00",
         "DEFAULT_VEHTYPE",
         "73.41"
        ],
        [
         "95",
         "e2w_out",
         "1577840246.79",
         "enter",
         "37_e2w_out",
         "8.47",
         "5.00",
         "DEFAULT_VEHTYPE",
         "1.30"
        ],
        [
         "98",
         "e2w_out",
         "1577840400.13",
         "enter",
         "38_e2w_out",
         "13.79",
         "5.00",
         "DEFAULT_VEHTYPE",
         "152.75"
        ],
        [
         "100",
         "e2w_out",
         "1577840550.72",
         "enter",
         "39_e2w_out",
         "4.17",
         "5.00",
         "DEFAULT_VEHTYPE",
         "150.23"
        ],
        [
         "103",
         "e2w_out",
         "1577840636.29",
         "enter",
         "40_e2w_out",
         "9.34",
         "5.00",
         "DEFAULT_VEHTYPE",
         "84.36"
        ],
        [
         "105",
         "e2w_out",
         "1577840711.17",
         "enter",
         "41_e2w_out",
         "9.39",
         "5.00",
         "DEFAULT_VEHTYPE",
         "74.35"
        ],
        [
         "107",
         "e2w_out",
         "1577840712.97",
         "enter",
         "42_e2w_out",
         "9.39",
         "5.00",
         "DEFAULT_VEHTYPE",
         "1.27"
        ],
        [
         "110",
         "e2w_out",
         "1577840816.06",
         "enter",
         "43_e2w_out",
         "15.68",
         "5.00",
         "DEFAULT_VEHTYPE",
         "102.56"
        ],
        [
         "112",
         "e2w_out",
         "1577840817.54",
         "enter",
         "44_e2w_out",
         "15.65",
         "5.00",
         "DEFAULT_VEHTYPE",
         "1.15"
        ],
        [
         "114",
         "e2w_out",
         "1577840964.12",
         "enter",
         "45_e2w_out",
         "13.8",
         "5.00",
         "DEFAULT_VEHTYPE",
         "146.27"
        ],
        [
         "116",
         "e2w_out",
         "1577841018.81",
         "enter",
         "46_e2w_out",
         "4.94",
         "5.00",
         "DEFAULT_VEHTYPE",
         "54.33"
        ],
        [
         "119",
         "e2w_out",
         "1577841050.77",
         "enter",
         "47_e2w_out",
         "9.17",
         "5.00",
         "DEFAULT_VEHTYPE",
         "30.95"
        ],
        [
         "122",
         "e2w_out",
         "1577841053.36",
         "enter",
         "48_e2w_out",
         "8.84",
         "5.00",
         "DEFAULT_VEHTYPE",
         "2.04"
        ],
        [
         "124",
         "e2w_out",
         "1577841282.62",
         "enter",
         "49_e2w_out",
         "15.12",
         "5.00",
         "DEFAULT_VEHTYPE",
         "228.70"
        ]
       ],
       "shape": {
        "columns": 8,
        "rows": 100
       }
      },
      "text/html": [
       "<div>\n",
       "<style scoped>\n",
       "    .dataframe tbody tr th:only-of-type {\n",
       "        vertical-align: middle;\n",
       "    }\n",
       "\n",
       "    .dataframe tbody tr th {\n",
       "        vertical-align: top;\n",
       "    }\n",
       "\n",
       "    .dataframe thead th {\n",
       "        text-align: right;\n",
       "    }\n",
       "</style>\n",
       "<table border=\"1\" class=\"dataframe\">\n",
       "  <thead>\n",
       "    <tr style=\"text-align: right;\">\n",
       "      <th></th>\n",
       "      <th>id</th>\n",
       "      <th>time</th>\n",
       "      <th>state</th>\n",
       "      <th>vehID</th>\n",
       "      <th>speed</th>\n",
       "      <th>length</th>\n",
       "      <th>type</th>\n",
       "      <th>gap</th>\n",
       "    </tr>\n",
       "  </thead>\n",
       "  <tbody>\n",
       "    <tr>\n",
       "      <th>0</th>\n",
       "      <td>e2w_out</td>\n",
       "      <td>1.577837e+09</td>\n",
       "      <td>enter</td>\n",
       "      <td>0_e2w_out</td>\n",
       "      <td>8.16</td>\n",
       "      <td>5.00</td>\n",
       "      <td>DEFAULT_VEHTYPE</td>\n",
       "      <td>None</td>\n",
       "    </tr>\n",
       "    <tr>\n",
       "      <th>3</th>\n",
       "      <td>e2w_out</td>\n",
       "      <td>1.577837e+09</td>\n",
       "      <td>enter</td>\n",
       "      <td>1_e2w_out</td>\n",
       "      <td>11.26</td>\n",
       "      <td>5.00</td>\n",
       "      <td>DEFAULT_VEHTYPE</td>\n",
       "      <td>30.40</td>\n",
       "    </tr>\n",
       "    <tr>\n",
       "      <th>6</th>\n",
       "      <td>e2w_out</td>\n",
       "      <td>1.577837e+09</td>\n",
       "      <td>enter</td>\n",
       "      <td>2_e2w_out</td>\n",
       "      <td>4.17</td>\n",
       "      <td>5.00</td>\n",
       "      <td>DEFAULT_VEHTYPE</td>\n",
       "      <td>36.31</td>\n",
       "    </tr>\n",
       "    <tr>\n",
       "      <th>9</th>\n",
       "      <td>e2w_out</td>\n",
       "      <td>1.577837e+09</td>\n",
       "      <td>enter</td>\n",
       "      <td>3_e2w_out</td>\n",
       "      <td>9.10</td>\n",
       "      <td>5.00</td>\n",
       "      <td>DEFAULT_VEHTYPE</td>\n",
       "      <td>34.02</td>\n",
       "    </tr>\n",
       "    <tr>\n",
       "      <th>12</th>\n",
       "      <td>e2w_out</td>\n",
       "      <td>1.577837e+09</td>\n",
       "      <td>enter</td>\n",
       "      <td>4_e2w_out</td>\n",
       "      <td>10.05</td>\n",
       "      <td>5.00</td>\n",
       "      <td>DEFAULT_VEHTYPE</td>\n",
       "      <td>7.01</td>\n",
       "    </tr>\n",
       "    <tr>\n",
       "      <th>...</th>\n",
       "      <td>...</td>\n",
       "      <td>...</td>\n",
       "      <td>...</td>\n",
       "      <td>...</td>\n",
       "      <td>...</td>\n",
       "      <td>...</td>\n",
       "      <td>...</td>\n",
       "      <td>...</td>\n",
       "    </tr>\n",
       "    <tr>\n",
       "      <th>243</th>\n",
       "      <td>e2w_out</td>\n",
       "      <td>1.577843e+09</td>\n",
       "      <td>enter</td>\n",
       "      <td>95_e2w_out</td>\n",
       "      <td>7.38</td>\n",
       "      <td>5.00</td>\n",
       "      <td>DEFAULT_VEHTYPE</td>\n",
       "      <td>27.77</td>\n",
       "    </tr>\n",
       "    <tr>\n",
       "      <th>246</th>\n",
       "      <td>e2w_out</td>\n",
       "      <td>1.577843e+09</td>\n",
       "      <td>enter</td>\n",
       "      <td>96_e2w_out</td>\n",
       "      <td>7.38</td>\n",
       "      <td>5.00</td>\n",
       "      <td>DEFAULT_VEHTYPE</td>\n",
       "      <td>1.34</td>\n",
       "    </tr>\n",
       "    <tr>\n",
       "      <th>248</th>\n",
       "      <td>e2w_out</td>\n",
       "      <td>1.577843e+09</td>\n",
       "      <td>enter</td>\n",
       "      <td>97_e2w_out</td>\n",
       "      <td>10.86</td>\n",
       "      <td>5.00</td>\n",
       "      <td>DEFAULT_VEHTYPE</td>\n",
       "      <td>20.07</td>\n",
       "    </tr>\n",
       "    <tr>\n",
       "      <th>251</th>\n",
       "      <td>e2w_out</td>\n",
       "      <td>1.577843e+09</td>\n",
       "      <td>enter</td>\n",
       "      <td>98_e2w_out</td>\n",
       "      <td>10.74</td>\n",
       "      <td>5.00</td>\n",
       "      <td>DEFAULT_VEHTYPE</td>\n",
       "      <td>1.36</td>\n",
       "    </tr>\n",
       "    <tr>\n",
       "      <th>254</th>\n",
       "      <td>e2w_out</td>\n",
       "      <td>1.577843e+09</td>\n",
       "      <td>enter</td>\n",
       "      <td>99_e2w_out</td>\n",
       "      <td>9.07</td>\n",
       "      <td>5.00</td>\n",
       "      <td>DEFAULT_VEHTYPE</td>\n",
       "      <td>11.00</td>\n",
       "    </tr>\n",
       "  </tbody>\n",
       "</table>\n",
       "<p>100 rows × 8 columns</p>\n",
       "</div>"
      ],
      "text/plain": [
       "          id          time  state       vehID  speed length             type  \\\n",
       "0    e2w_out  1.577837e+09  enter   0_e2w_out   8.16   5.00  DEFAULT_VEHTYPE   \n",
       "3    e2w_out  1.577837e+09  enter   1_e2w_out  11.26   5.00  DEFAULT_VEHTYPE   \n",
       "6    e2w_out  1.577837e+09  enter   2_e2w_out   4.17   5.00  DEFAULT_VEHTYPE   \n",
       "9    e2w_out  1.577837e+09  enter   3_e2w_out   9.10   5.00  DEFAULT_VEHTYPE   \n",
       "12   e2w_out  1.577837e+09  enter   4_e2w_out  10.05   5.00  DEFAULT_VEHTYPE   \n",
       "..       ...           ...    ...         ...    ...    ...              ...   \n",
       "243  e2w_out  1.577843e+09  enter  95_e2w_out   7.38   5.00  DEFAULT_VEHTYPE   \n",
       "246  e2w_out  1.577843e+09  enter  96_e2w_out   7.38   5.00  DEFAULT_VEHTYPE   \n",
       "248  e2w_out  1.577843e+09  enter  97_e2w_out  10.86   5.00  DEFAULT_VEHTYPE   \n",
       "251  e2w_out  1.577843e+09  enter  98_e2w_out  10.74   5.00  DEFAULT_VEHTYPE   \n",
       "254  e2w_out  1.577843e+09  enter  99_e2w_out   9.07   5.00  DEFAULT_VEHTYPE   \n",
       "\n",
       "       gap  \n",
       "0     None  \n",
       "3    30.40  \n",
       "6    36.31  \n",
       "9    34.02  \n",
       "12    7.01  \n",
       "..     ...  \n",
       "243  27.77  \n",
       "246   1.34  \n",
       "248  20.07  \n",
       "251   1.36  \n",
       "254  11.00  \n",
       "\n",
       "[100 rows x 8 columns]"
      ]
     },
     "execution_count": 73,
     "metadata": {},
     "output_type": "execute_result"
    }
   ],
   "source": [
    "df_instant_out"
   ]
  },
  {
   "cell_type": "code",
   "execution_count": 74,
   "id": "2509bb26",
   "metadata": {},
   "outputs": [
    {
     "data": {
      "application/vnd.microsoft.datawrangler.viewer.v0+json": {
       "columns": [
        {
         "name": "index",
         "rawType": "int64",
         "type": "integer"
        },
        {
         "name": "vehID",
         "rawType": "object",
         "type": "string"
        },
        {
         "name": "time_detector_sim",
         "rawType": "float64",
         "type": "float"
        },
        {
         "name": "speed_detector_sim",
         "rawType": "float64",
         "type": "float"
        },
        {
         "name": "speed_factor",
         "rawType": "float64",
         "type": "float"
        },
        {
         "name": "time_detector_real",
         "rawType": "int64",
         "type": "integer"
        },
        {
         "name": "depart",
         "rawType": "int64",
         "type": "integer"
        },
        {
         "name": "departSpeed",
         "rawType": "object",
         "type": "string"
        },
        {
         "name": "speed_detector_real",
         "rawType": "float64",
         "type": "float"
        },
        {
         "name": "delta_time",
         "rawType": "float64",
         "type": "float"
        },
        {
         "name": "delta_speed",
         "rawType": "float64",
         "type": "float"
        }
       ],
       "conversionMethod": "pd.DataFrame",
       "ref": "220cbd1f-02e0-4d83-a95e-753a31757ee4",
       "rows": [
        [
         "0",
         "0_e2w_out",
         "1577836849.96",
         "8.157954729555398",
         "0.9793463060690754",
         "1577836850",
         "1577836821",
         "max",
         "7.777777777777778",
         "-0.0399999618530273",
         "0.3801769517776199"
        ],
        [
         "1",
         "1_e2w_out",
         "1577836880.97",
         "11.264704892410691",
         "1.352305509293",
         "1577836881",
         "1577836860",
         "max",
         "11.11111111111111",
         "-0.0299999713897705",
         "0.1535937812995804"
        ],
        [
         "2",
         "2_e2w_out",
         "1577836917.72",
         "4.165",
         "0.5",
         "1577836917",
         "1577836860",
         "max",
         "3.611111111111111",
         "0.7200000286102295",
         "0.5538888888888889"
        ],
        [
         "3",
         "3_e2w_out",
         "1577836952.95",
         "9.10483999343344",
         "1.0930180064145787",
         "1577836953",
         "1577836927",
         "max",
         "9.166666666666666",
         "-0.0499999523162841",
         "-0.0618266732332255"
        ],
        [
         "4",
         "4_e2w_out",
         "1577836960.51",
         "10.050596070192713",
         "1.2065541500831587",
         "1577836960",
         "1577836937",
         "max",
         "9.72222222222222",
         "0.5099999904632568",
         "0.3283738479704912"
        ]
       ],
       "shape": {
        "columns": 10,
        "rows": 5
       }
      },
      "text/html": [
       "<div>\n",
       "<style scoped>\n",
       "    .dataframe tbody tr th:only-of-type {\n",
       "        vertical-align: middle;\n",
       "    }\n",
       "\n",
       "    .dataframe tbody tr th {\n",
       "        vertical-align: top;\n",
       "    }\n",
       "\n",
       "    .dataframe thead th {\n",
       "        text-align: right;\n",
       "    }\n",
       "</style>\n",
       "<table border=\"1\" class=\"dataframe\">\n",
       "  <thead>\n",
       "    <tr style=\"text-align: right;\">\n",
       "      <th></th>\n",
       "      <th>vehID</th>\n",
       "      <th>time_detector_sim</th>\n",
       "      <th>speed_detector_sim</th>\n",
       "      <th>speed_factor</th>\n",
       "      <th>time_detector_real</th>\n",
       "      <th>depart</th>\n",
       "      <th>departSpeed</th>\n",
       "      <th>speed_detector_real</th>\n",
       "      <th>delta_time</th>\n",
       "      <th>delta_speed</th>\n",
       "    </tr>\n",
       "  </thead>\n",
       "  <tbody>\n",
       "    <tr>\n",
       "      <th>0</th>\n",
       "      <td>0_e2w_out</td>\n",
       "      <td>1.577837e+09</td>\n",
       "      <td>8.157955</td>\n",
       "      <td>0.979346</td>\n",
       "      <td>1577836850</td>\n",
       "      <td>1577836821</td>\n",
       "      <td>max</td>\n",
       "      <td>7.777778</td>\n",
       "      <td>-0.04</td>\n",
       "      <td>0.380177</td>\n",
       "    </tr>\n",
       "    <tr>\n",
       "      <th>1</th>\n",
       "      <td>1_e2w_out</td>\n",
       "      <td>1.577837e+09</td>\n",
       "      <td>11.264705</td>\n",
       "      <td>1.352306</td>\n",
       "      <td>1577836881</td>\n",
       "      <td>1577836860</td>\n",
       "      <td>max</td>\n",
       "      <td>11.111111</td>\n",
       "      <td>-0.03</td>\n",
       "      <td>0.153594</td>\n",
       "    </tr>\n",
       "    <tr>\n",
       "      <th>2</th>\n",
       "      <td>2_e2w_out</td>\n",
       "      <td>1.577837e+09</td>\n",
       "      <td>4.165000</td>\n",
       "      <td>0.500000</td>\n",
       "      <td>1577836917</td>\n",
       "      <td>1577836860</td>\n",
       "      <td>max</td>\n",
       "      <td>3.611111</td>\n",
       "      <td>0.72</td>\n",
       "      <td>0.553889</td>\n",
       "    </tr>\n",
       "    <tr>\n",
       "      <th>3</th>\n",
       "      <td>3_e2w_out</td>\n",
       "      <td>1.577837e+09</td>\n",
       "      <td>9.104840</td>\n",
       "      <td>1.093018</td>\n",
       "      <td>1577836953</td>\n",
       "      <td>1577836927</td>\n",
       "      <td>max</td>\n",
       "      <td>9.166667</td>\n",
       "      <td>-0.05</td>\n",
       "      <td>-0.061827</td>\n",
       "    </tr>\n",
       "    <tr>\n",
       "      <th>4</th>\n",
       "      <td>4_e2w_out</td>\n",
       "      <td>1.577837e+09</td>\n",
       "      <td>10.050596</td>\n",
       "      <td>1.206554</td>\n",
       "      <td>1577836960</td>\n",
       "      <td>1577836937</td>\n",
       "      <td>max</td>\n",
       "      <td>9.722222</td>\n",
       "      <td>0.51</td>\n",
       "      <td>0.328374</td>\n",
       "    </tr>\n",
       "  </tbody>\n",
       "</table>\n",
       "</div>"
      ],
      "text/plain": [
       "       vehID  time_detector_sim  speed_detector_sim  speed_factor  \\\n",
       "0  0_e2w_out       1.577837e+09            8.157955      0.979346   \n",
       "1  1_e2w_out       1.577837e+09           11.264705      1.352306   \n",
       "2  2_e2w_out       1.577837e+09            4.165000      0.500000   \n",
       "3  3_e2w_out       1.577837e+09            9.104840      1.093018   \n",
       "4  4_e2w_out       1.577837e+09           10.050596      1.206554   \n",
       "\n",
       "   time_detector_real      depart departSpeed  speed_detector_real  \\\n",
       "0          1577836850  1577836821         max             7.777778   \n",
       "1          1577836881  1577836860         max            11.111111   \n",
       "2          1577836917  1577836860         max             3.611111   \n",
       "3          1577836953  1577836927         max             9.166667   \n",
       "4          1577836960  1577836937         max             9.722222   \n",
       "\n",
       "   delta_time  delta_speed  \n",
       "0       -0.04     0.380177  \n",
       "1       -0.03     0.153594  \n",
       "2        0.72     0.553889  \n",
       "3       -0.05    -0.061827  \n",
       "4        0.51     0.328374  "
      ]
     },
     "execution_count": 74,
     "metadata": {},
     "output_type": "execute_result"
    }
   ],
   "source": [
    "data = pd.read_csv(f'data/calibration_data/calibrated_data_{postfix}.csv')\n",
    "data.rename(columns={\"veh_id\": \"vehID\"}, inplace=True)\n",
    "data.head()"
   ]
  },
  {
   "cell_type": "code",
   "execution_count": 75,
   "id": "41ef4aa2",
   "metadata": {},
   "outputs": [
    {
     "name": "stdout",
     "output_type": "stream",
     "text": [
      "100 100\n"
     ]
    }
   ],
   "source": [
    "print(len(data), len(df_instant_out))"
   ]
  },
  {
   "cell_type": "markdown",
   "id": "26c7724a",
   "metadata": {},
   "source": [
    "compare time error and speed error in loop detector between simulation result and calibration result"
   ]
  },
  {
   "cell_type": "code",
   "execution_count": 76,
   "id": "78ee4572",
   "metadata": {},
   "outputs": [
    {
     "data": {
      "application/vnd.microsoft.datawrangler.viewer.v0+json": {
       "columns": [
        {
         "name": "index",
         "rawType": "int64",
         "type": "integer"
        },
        {
         "name": "vehID",
         "rawType": "object",
         "type": "string"
        },
        {
         "name": "time",
         "rawType": "float64",
         "type": "float"
        },
        {
         "name": "speed",
         "rawType": "float64",
         "type": "float"
        },
        {
         "name": "time_detector_sim",
         "rawType": "float64",
         "type": "float"
        },
        {
         "name": "speed_detector_sim",
         "rawType": "float64",
         "type": "float"
        },
        {
         "name": "time_detector_real",
         "rawType": "int64",
         "type": "integer"
        },
        {
         "name": "speed_detector_real",
         "rawType": "float64",
         "type": "float"
        }
       ],
       "conversionMethod": "pd.DataFrame",
       "ref": "db148a96-6502-4128-968b-91f178e861c3",
       "rows": [
        [
         "0",
         "0_e2w_out",
         "1577836849.96",
         "8.16",
         "1577836849.96",
         "8.157954729555398",
         "1577836850",
         "7.777777777777778"
        ],
        [
         "1",
         "1_e2w_out",
         "1577836880.97",
         "11.26",
         "1577836880.97",
         "11.264704892410691",
         "1577836881",
         "11.11111111111111"
        ],
        [
         "2",
         "2_e2w_out",
         "1577836917.72",
         "4.17",
         "1577836917.72",
         "4.165",
         "1577836917",
         "3.611111111111111"
        ],
        [
         "3",
         "3_e2w_out",
         "1577836952.95",
         "9.1",
         "1577836952.95",
         "9.10483999343344",
         "1577836953",
         "9.166666666666666"
        ],
        [
         "4",
         "4_e2w_out",
         "1577836960.51",
         "10.05",
         "1577836960.51",
         "10.050596070192713",
         "1577836960",
         "9.72222222222222"
        ]
       ],
       "shape": {
        "columns": 7,
        "rows": 5
       }
      },
      "text/html": [
       "<div>\n",
       "<style scoped>\n",
       "    .dataframe tbody tr th:only-of-type {\n",
       "        vertical-align: middle;\n",
       "    }\n",
       "\n",
       "    .dataframe tbody tr th {\n",
       "        vertical-align: top;\n",
       "    }\n",
       "\n",
       "    .dataframe thead th {\n",
       "        text-align: right;\n",
       "    }\n",
       "</style>\n",
       "<table border=\"1\" class=\"dataframe\">\n",
       "  <thead>\n",
       "    <tr style=\"text-align: right;\">\n",
       "      <th></th>\n",
       "      <th>vehID</th>\n",
       "      <th>time</th>\n",
       "      <th>speed</th>\n",
       "      <th>time_detector_sim</th>\n",
       "      <th>speed_detector_sim</th>\n",
       "      <th>time_detector_real</th>\n",
       "      <th>speed_detector_real</th>\n",
       "    </tr>\n",
       "  </thead>\n",
       "  <tbody>\n",
       "    <tr>\n",
       "      <th>0</th>\n",
       "      <td>0_e2w_out</td>\n",
       "      <td>1.577837e+09</td>\n",
       "      <td>8.16</td>\n",
       "      <td>1.577837e+09</td>\n",
       "      <td>8.157955</td>\n",
       "      <td>1577836850</td>\n",
       "      <td>7.777778</td>\n",
       "    </tr>\n",
       "    <tr>\n",
       "      <th>1</th>\n",
       "      <td>1_e2w_out</td>\n",
       "      <td>1.577837e+09</td>\n",
       "      <td>11.26</td>\n",
       "      <td>1.577837e+09</td>\n",
       "      <td>11.264705</td>\n",
       "      <td>1577836881</td>\n",
       "      <td>11.111111</td>\n",
       "    </tr>\n",
       "    <tr>\n",
       "      <th>2</th>\n",
       "      <td>2_e2w_out</td>\n",
       "      <td>1.577837e+09</td>\n",
       "      <td>4.17</td>\n",
       "      <td>1.577837e+09</td>\n",
       "      <td>4.165000</td>\n",
       "      <td>1577836917</td>\n",
       "      <td>3.611111</td>\n",
       "    </tr>\n",
       "    <tr>\n",
       "      <th>3</th>\n",
       "      <td>3_e2w_out</td>\n",
       "      <td>1.577837e+09</td>\n",
       "      <td>9.10</td>\n",
       "      <td>1.577837e+09</td>\n",
       "      <td>9.104840</td>\n",
       "      <td>1577836953</td>\n",
       "      <td>9.166667</td>\n",
       "    </tr>\n",
       "    <tr>\n",
       "      <th>4</th>\n",
       "      <td>4_e2w_out</td>\n",
       "      <td>1.577837e+09</td>\n",
       "      <td>10.05</td>\n",
       "      <td>1.577837e+09</td>\n",
       "      <td>10.050596</td>\n",
       "      <td>1577836960</td>\n",
       "      <td>9.722222</td>\n",
       "    </tr>\n",
       "  </tbody>\n",
       "</table>\n",
       "</div>"
      ],
      "text/plain": [
       "       vehID          time  speed  time_detector_sim  speed_detector_sim  \\\n",
       "0  0_e2w_out  1.577837e+09   8.16       1.577837e+09            8.157955   \n",
       "1  1_e2w_out  1.577837e+09  11.26       1.577837e+09           11.264705   \n",
       "2  2_e2w_out  1.577837e+09   4.17       1.577837e+09            4.165000   \n",
       "3  3_e2w_out  1.577837e+09   9.10       1.577837e+09            9.104840   \n",
       "4  4_e2w_out  1.577837e+09  10.05       1.577837e+09           10.050596   \n",
       "\n",
       "   time_detector_real  speed_detector_real  \n",
       "0          1577836850             7.777778  \n",
       "1          1577836881            11.111111  \n",
       "2          1577836917             3.611111  \n",
       "3          1577836953             9.166667  \n",
       "4          1577836960             9.722222  "
      ]
     },
     "execution_count": 76,
     "metadata": {},
     "output_type": "execute_result"
    }
   ],
   "source": [
    "compare_df = pd.merge(df_instant_out[[\"vehID\",\"time\",\"speed\"]],\n",
    "            data[[\"vehID\",\"time_detector_sim\",\"speed_detector_sim\"\n",
    "                  ,\"time_detector_real\",\"speed_detector_real\"]],on=\"vehID\")\n",
    "compare_df.head()\n",
    "\n",
    "\n"
   ]
  },
  {
   "cell_type": "code",
   "execution_count": 77,
   "id": "444b9984",
   "metadata": {},
   "outputs": [],
   "source": [
    "compare_df = compare_df.head(100)"
   ]
  },
  {
   "cell_type": "code",
   "execution_count": 78,
   "id": "efaee82a",
   "metadata": {},
   "outputs": [
    {
     "data": {
      "text/plain": [
       "np.float64(0.6228999805450439)"
      ]
     },
     "execution_count": 78,
     "metadata": {},
     "output_type": "execute_result"
    }
   ],
   "source": [
    "time_calib_error = compare_df[\"time_calib_error\"]=(compare_df[\"time_detector_sim\"]-compare_df[\"time_detector_real\"])\n",
    "abs(time_calib_error).mean()"
   ]
  },
  {
   "cell_type": "code",
   "execution_count": 79,
   "id": "06d79b59",
   "metadata": {},
   "outputs": [
    {
     "data": {
      "text/plain": [
       "np.float64(0.47159998178482054)"
      ]
     },
     "execution_count": 79,
     "metadata": {},
     "output_type": "execute_result"
    }
   ],
   "source": [
    "time_sim_error = compare_df[\"time_sim_error\"] = compare_df[\"time\"]-compare_df[\"time_detector_real\"]\n",
    "abs(time_sim_error).mean()"
   ]
  },
  {
   "cell_type": "code",
   "execution_count": 80,
   "id": "623c98a5",
   "metadata": {},
   "outputs": [
    {
     "data": {
      "text/plain": [
       "np.float64(0.5038388430868519)"
      ]
     },
     "execution_count": 80,
     "metadata": {},
     "output_type": "execute_result"
    }
   ],
   "source": [
    "speed_calib_error= compare_df[\"speed_calib_error\"] =compare_df[\"speed_detector_sim\"]-compare_df[\"speed_detector_real\"]\n",
    "abs(speed_calib_error).mean()"
   ]
  },
  {
   "cell_type": "code",
   "execution_count": 81,
   "id": "ce1e059c",
   "metadata": {},
   "outputs": [
    {
     "data": {
      "text/plain": [
       "np.float64(0.5361111111111111)"
      ]
     },
     "execution_count": 81,
     "metadata": {},
     "output_type": "execute_result"
    }
   ],
   "source": [
    "speed_sim_error=compare_df[\"speed_sim_error\"] =compare_df[\"speed\"]-compare_df[\"speed_detector_real\"]\n",
    "abs(speed_sim_error).mean()"
   ]
  },
  {
   "cell_type": "code",
   "execution_count": 12,
   "id": "f719d7aa",
   "metadata": {},
   "outputs": [
    {
     "data": {
      "application/vnd.plotly.v1+json": {
       "config": {
        "plotlyServerURL": "https://plot.ly"
       },
       "data": [
        {
         "name": "time_sim_error --> MAE = 0.81",
         "opacity": 0.75,
         "type": "histogram",
         "x": {
          "bdata": "AAAAAD0K1z8AAADAR+HyvwAAAAApXN+/AAAAAD0K1z8AAAAA9ijkPwAAAGC4HgFAAAAAAPYo5D8AAAAA9ijMvwAAAAA9Ctc/AAAAwEfh8r8AAAAA9Ci8vwAAAAA9Ctc/AAAAwEfh8r8AAAAAULiuvwAAAAA9Ctc/AAAAQLge9b8AAAAAPQrXPwAAAAA9Ctc/AAAAgOtR9L8AAAAAPQrXPwAAAMD1KPQ/AAAAwKNw8b8AAAAA9ijkPwAAAMCjcPG/AAAAwEfh8r8AAADAo3DxvwAAAACQwsW/AAAAADMz6z8AAAAAKVzfvwAAAAA9Ctc/AAAAAPYo5D8AAAAAMzPrPwAAAAApXN+/AAAAAPYo5D8AAADAR+HyvwAAAAD2KOQ/AAAAAD0K1z8AAADA9Sj0PwAAAIDrUfS/AAAAAClc378AAAAAPQrXPwAAAAD2KMy/AAAAADMz4z8AAABACtfzvwAAAAAAAOi/AAAAgOtR9L8AAAAAKVzfvwAAAAA9Ctc/AAAAANej0D8AAABAuB71vwAAAACE67G/AAAAAPYo5D8AAADAR+HyvwAAAAApXN+/AAAAgOtR9L8AAAAA9ijMvwAAAMBH4fK/AAAAwKNw8b8AAAAAKVzfvwAAAAA9Ctc/AAAAAFC4rr8AAAAA9ijkPwAAAMBH4fK/AAAAAD0K1z8AAADAR+HyvwAAAEAK1/u/AAAAAITrsT8AAAAAKVznPwAAAMBH4fK/AAAAAD0K1z8AAAAAPQrXPwAAAMD1KPQ/AAAAIK5HAUAAAAAA9ijkPwAAAEAK1/u/AAAAAPYo5D8AAADAR+HyvwAAACCuRwdAAAAAwKNw8b8AAAAAKVzfvwAAAIDrUeA/AAAAwPUo+D8AAADgehQEQAAAAAA9Ctc/AAAAAClc378AAAAAPQrXPwAAAAA9Ctc/AAAAgOtR4D8AAAAA9ijkPwAAAAA9Ctc/AAAAQArX+78AAADAR+HyvwAAAIDrUeA/AAAAwPUo+D8AAADAR+HyvwAAAAA9Ctc/AAAAwPUo9D8AAADAR+HyvwAAAICPwu0/AAAAAD0K1z8=",
          "dtype": "f8"
         },
         "xbins": {
          "end": 11,
          "size": 1,
          "start": -4
         }
        },
        {
         "name": "time_calib_error  --> MAE = 1.05",
         "opacity": 0.75,
         "type": "histogram",
         "x": {
          "bdata": "AAAAAD0K1z8AAADAR+HyvwAAAAApXN+/AAAAAD0K1z8AAAAA9ijkPwAAAKBwPQRAAAAAAPYo5D8AAAAA9ijMvwAAAAA9Ctc/AAAAwEfh8r8AAAAA9Ci8vwAAAAA9Ctc/AAAAwEfh8r8AAAAAULiuvwAAAAA9Ctc/AAAAQLge9b8AAAAAPQrXPwAAAAA9Ctc/AAAAgOtR9L8AAAAAPQrXPwAAAGC4Hg9AAAAAwKNw8b8AAAAA9ijkPwAAAMCjcPG/AAAAwEfh8r8AAACAR+HqvwAAAACQwsW/AAAAADMz6z8AAAAAKVzfvwAAAAA9Ctc/AAAAAPYo5D8AAAAAMzPrPwAAAAApXN+/AAAAAPYo5D8AAADAR+HyvwAAAAD2KOQ/AAAAAD0K1z8AAAAghesJQAAAAIDrUfS/AAAAAClc378AAAAAPQrXPwAAAAD2KMy/AAAAwPUoBEAAAABACtfzvwAAAADgeoQ/AAAAgOtR9L8AAAAAKVzfvwAAAAA9Ctc/AAAAAFK4/j8AAABAuB71vwAAAACE67G/AAAAAPYo5D8AAADAR+HyvwAAAICZmeE/AAAAgOtR9L8AAAAA9ijMvwAAAMBH4fK/AAAAwKNw8b8AAAAA9ijcPwAAAAA9Ctc/AAAAAFC4rr8AAAAA9ijkPwAAAMBH4fK/AAAAAD0K1z8AAADAR+HyvwAAAEAK1/u/AAAAAHsU3j8AAACAPQrvPwAAAMBH4fK/AAAAAD0K1z8AAAAAPQrXPwAAAEAzMw1AAAAAgB6F4z8AAAAA9ijkPwAAAEAK1/u/AAAAAPYo5D8AAADAR+HyvwAAAAAAAAhAAAAAwKNw8b8AAAAAKVzfvwAAAEDhegxAAAAAIK5HC0AAAADQzMwXQAAAAAA9Ctc/AAAAAClc378AAAAAPQrXPwAAAAA9Ctc/AAAAgOtR4D8AAAAA9ijkPwAAAAA9Ctc/AAAAQArX+78AAADAR+HyvwAAAAAzM+M/AAAAcD0KEUAAAADAR+HyvwAAAAA9Ctc/AAAAAAAAEUAAAADAR+HyvwAAAEBcj/Y/AAAAAD0K1z8=",
          "dtype": "f8"
         },
         "xbins": {
          "end": 11,
          "size": 1,
          "start": -4
         }
        }
       ],
       "layout": {
        "barmode": "group",
        "template": {
         "data": {
          "bar": [
           {
            "error_x": {
             "color": "#2a3f5f"
            },
            "error_y": {
             "color": "#2a3f5f"
            },
            "marker": {
             "line": {
              "color": "#E5ECF6",
              "width": 0.5
             },
             "pattern": {
              "fillmode": "overlay",
              "size": 10,
              "solidity": 0.2
             }
            },
            "type": "bar"
           }
          ],
          "barpolar": [
           {
            "marker": {
             "line": {
              "color": "#E5ECF6",
              "width": 0.5
             },
             "pattern": {
              "fillmode": "overlay",
              "size": 10,
              "solidity": 0.2
             }
            },
            "type": "barpolar"
           }
          ],
          "carpet": [
           {
            "aaxis": {
             "endlinecolor": "#2a3f5f",
             "gridcolor": "white",
             "linecolor": "white",
             "minorgridcolor": "white",
             "startlinecolor": "#2a3f5f"
            },
            "baxis": {
             "endlinecolor": "#2a3f5f",
             "gridcolor": "white",
             "linecolor": "white",
             "minorgridcolor": "white",
             "startlinecolor": "#2a3f5f"
            },
            "type": "carpet"
           }
          ],
          "choropleth": [
           {
            "colorbar": {
             "outlinewidth": 0,
             "ticks": ""
            },
            "type": "choropleth"
           }
          ],
          "contour": [
           {
            "colorbar": {
             "outlinewidth": 0,
             "ticks": ""
            },
            "colorscale": [
             [
              0,
              "#0d0887"
             ],
             [
              0.1111111111111111,
              "#46039f"
             ],
             [
              0.2222222222222222,
              "#7201a8"
             ],
             [
              0.3333333333333333,
              "#9c179e"
             ],
             [
              0.4444444444444444,
              "#bd3786"
             ],
             [
              0.5555555555555556,
              "#d8576b"
             ],
             [
              0.6666666666666666,
              "#ed7953"
             ],
             [
              0.7777777777777778,
              "#fb9f3a"
             ],
             [
              0.8888888888888888,
              "#fdca26"
             ],
             [
              1,
              "#f0f921"
             ]
            ],
            "type": "contour"
           }
          ],
          "contourcarpet": [
           {
            "colorbar": {
             "outlinewidth": 0,
             "ticks": ""
            },
            "type": "contourcarpet"
           }
          ],
          "heatmap": [
           {
            "colorbar": {
             "outlinewidth": 0,
             "ticks": ""
            },
            "colorscale": [
             [
              0,
              "#0d0887"
             ],
             [
              0.1111111111111111,
              "#46039f"
             ],
             [
              0.2222222222222222,
              "#7201a8"
             ],
             [
              0.3333333333333333,
              "#9c179e"
             ],
             [
              0.4444444444444444,
              "#bd3786"
             ],
             [
              0.5555555555555556,
              "#d8576b"
             ],
             [
              0.6666666666666666,
              "#ed7953"
             ],
             [
              0.7777777777777778,
              "#fb9f3a"
             ],
             [
              0.8888888888888888,
              "#fdca26"
             ],
             [
              1,
              "#f0f921"
             ]
            ],
            "type": "heatmap"
           }
          ],
          "histogram": [
           {
            "marker": {
             "pattern": {
              "fillmode": "overlay",
              "size": 10,
              "solidity": 0.2
             }
            },
            "type": "histogram"
           }
          ],
          "histogram2d": [
           {
            "colorbar": {
             "outlinewidth": 0,
             "ticks": ""
            },
            "colorscale": [
             [
              0,
              "#0d0887"
             ],
             [
              0.1111111111111111,
              "#46039f"
             ],
             [
              0.2222222222222222,
              "#7201a8"
             ],
             [
              0.3333333333333333,
              "#9c179e"
             ],
             [
              0.4444444444444444,
              "#bd3786"
             ],
             [
              0.5555555555555556,
              "#d8576b"
             ],
             [
              0.6666666666666666,
              "#ed7953"
             ],
             [
              0.7777777777777778,
              "#fb9f3a"
             ],
             [
              0.8888888888888888,
              "#fdca26"
             ],
             [
              1,
              "#f0f921"
             ]
            ],
            "type": "histogram2d"
           }
          ],
          "histogram2dcontour": [
           {
            "colorbar": {
             "outlinewidth": 0,
             "ticks": ""
            },
            "colorscale": [
             [
              0,
              "#0d0887"
             ],
             [
              0.1111111111111111,
              "#46039f"
             ],
             [
              0.2222222222222222,
              "#7201a8"
             ],
             [
              0.3333333333333333,
              "#9c179e"
             ],
             [
              0.4444444444444444,
              "#bd3786"
             ],
             [
              0.5555555555555556,
              "#d8576b"
             ],
             [
              0.6666666666666666,
              "#ed7953"
             ],
             [
              0.7777777777777778,
              "#fb9f3a"
             ],
             [
              0.8888888888888888,
              "#fdca26"
             ],
             [
              1,
              "#f0f921"
             ]
            ],
            "type": "histogram2dcontour"
           }
          ],
          "mesh3d": [
           {
            "colorbar": {
             "outlinewidth": 0,
             "ticks": ""
            },
            "type": "mesh3d"
           }
          ],
          "parcoords": [
           {
            "line": {
             "colorbar": {
              "outlinewidth": 0,
              "ticks": ""
             }
            },
            "type": "parcoords"
           }
          ],
          "pie": [
           {
            "automargin": true,
            "type": "pie"
           }
          ],
          "scatter": [
           {
            "fillpattern": {
             "fillmode": "overlay",
             "size": 10,
             "solidity": 0.2
            },
            "type": "scatter"
           }
          ],
          "scatter3d": [
           {
            "line": {
             "colorbar": {
              "outlinewidth": 0,
              "ticks": ""
             }
            },
            "marker": {
             "colorbar": {
              "outlinewidth": 0,
              "ticks": ""
             }
            },
            "type": "scatter3d"
           }
          ],
          "scattercarpet": [
           {
            "marker": {
             "colorbar": {
              "outlinewidth": 0,
              "ticks": ""
             }
            },
            "type": "scattercarpet"
           }
          ],
          "scattergeo": [
           {
            "marker": {
             "colorbar": {
              "outlinewidth": 0,
              "ticks": ""
             }
            },
            "type": "scattergeo"
           }
          ],
          "scattergl": [
           {
            "marker": {
             "colorbar": {
              "outlinewidth": 0,
              "ticks": ""
             }
            },
            "type": "scattergl"
           }
          ],
          "scattermap": [
           {
            "marker": {
             "colorbar": {
              "outlinewidth": 0,
              "ticks": ""
             }
            },
            "type": "scattermap"
           }
          ],
          "scattermapbox": [
           {
            "marker": {
             "colorbar": {
              "outlinewidth": 0,
              "ticks": ""
             }
            },
            "type": "scattermapbox"
           }
          ],
          "scatterpolar": [
           {
            "marker": {
             "colorbar": {
              "outlinewidth": 0,
              "ticks": ""
             }
            },
            "type": "scatterpolar"
           }
          ],
          "scatterpolargl": [
           {
            "marker": {
             "colorbar": {
              "outlinewidth": 0,
              "ticks": ""
             }
            },
            "type": "scatterpolargl"
           }
          ],
          "scatterternary": [
           {
            "marker": {
             "colorbar": {
              "outlinewidth": 0,
              "ticks": ""
             }
            },
            "type": "scatterternary"
           }
          ],
          "surface": [
           {
            "colorbar": {
             "outlinewidth": 0,
             "ticks": ""
            },
            "colorscale": [
             [
              0,
              "#0d0887"
             ],
             [
              0.1111111111111111,
              "#46039f"
             ],
             [
              0.2222222222222222,
              "#7201a8"
             ],
             [
              0.3333333333333333,
              "#9c179e"
             ],
             [
              0.4444444444444444,
              "#bd3786"
             ],
             [
              0.5555555555555556,
              "#d8576b"
             ],
             [
              0.6666666666666666,
              "#ed7953"
             ],
             [
              0.7777777777777778,
              "#fb9f3a"
             ],
             [
              0.8888888888888888,
              "#fdca26"
             ],
             [
              1,
              "#f0f921"
             ]
            ],
            "type": "surface"
           }
          ],
          "table": [
           {
            "cells": {
             "fill": {
              "color": "#EBF0F8"
             },
             "line": {
              "color": "white"
             }
            },
            "header": {
             "fill": {
              "color": "#C8D4E3"
             },
             "line": {
              "color": "white"
             }
            },
            "type": "table"
           }
          ]
         },
         "layout": {
          "annotationdefaults": {
           "arrowcolor": "#2a3f5f",
           "arrowhead": 0,
           "arrowwidth": 1
          },
          "autotypenumbers": "strict",
          "coloraxis": {
           "colorbar": {
            "outlinewidth": 0,
            "ticks": ""
           }
          },
          "colorscale": {
           "diverging": [
            [
             0,
             "#8e0152"
            ],
            [
             0.1,
             "#c51b7d"
            ],
            [
             0.2,
             "#de77ae"
            ],
            [
             0.3,
             "#f1b6da"
            ],
            [
             0.4,
             "#fde0ef"
            ],
            [
             0.5,
             "#f7f7f7"
            ],
            [
             0.6,
             "#e6f5d0"
            ],
            [
             0.7,
             "#b8e186"
            ],
            [
             0.8,
             "#7fbc41"
            ],
            [
             0.9,
             "#4d9221"
            ],
            [
             1,
             "#276419"
            ]
           ],
           "sequential": [
            [
             0,
             "#0d0887"
            ],
            [
             0.1111111111111111,
             "#46039f"
            ],
            [
             0.2222222222222222,
             "#7201a8"
            ],
            [
             0.3333333333333333,
             "#9c179e"
            ],
            [
             0.4444444444444444,
             "#bd3786"
            ],
            [
             0.5555555555555556,
             "#d8576b"
            ],
            [
             0.6666666666666666,
             "#ed7953"
            ],
            [
             0.7777777777777778,
             "#fb9f3a"
            ],
            [
             0.8888888888888888,
             "#fdca26"
            ],
            [
             1,
             "#f0f921"
            ]
           ],
           "sequentialminus": [
            [
             0,
             "#0d0887"
            ],
            [
             0.1111111111111111,
             "#46039f"
            ],
            [
             0.2222222222222222,
             "#7201a8"
            ],
            [
             0.3333333333333333,
             "#9c179e"
            ],
            [
             0.4444444444444444,
             "#bd3786"
            ],
            [
             0.5555555555555556,
             "#d8576b"
            ],
            [
             0.6666666666666666,
             "#ed7953"
            ],
            [
             0.7777777777777778,
             "#fb9f3a"
            ],
            [
             0.8888888888888888,
             "#fdca26"
            ],
            [
             1,
             "#f0f921"
            ]
           ]
          },
          "colorway": [
           "#636efa",
           "#EF553B",
           "#00cc96",
           "#ab63fa",
           "#FFA15A",
           "#19d3f3",
           "#FF6692",
           "#B6E880",
           "#FF97FF",
           "#FECB52"
          ],
          "font": {
           "color": "#2a3f5f"
          },
          "geo": {
           "bgcolor": "white",
           "lakecolor": "white",
           "landcolor": "#E5ECF6",
           "showlakes": true,
           "showland": true,
           "subunitcolor": "white"
          },
          "hoverlabel": {
           "align": "left"
          },
          "hovermode": "closest",
          "mapbox": {
           "style": "light"
          },
          "paper_bgcolor": "white",
          "plot_bgcolor": "#E5ECF6",
          "polar": {
           "angularaxis": {
            "gridcolor": "white",
            "linecolor": "white",
            "ticks": ""
           },
           "bgcolor": "#E5ECF6",
           "radialaxis": {
            "gridcolor": "white",
            "linecolor": "white",
            "ticks": ""
           }
          },
          "scene": {
           "xaxis": {
            "backgroundcolor": "#E5ECF6",
            "gridcolor": "white",
            "gridwidth": 2,
            "linecolor": "white",
            "showbackground": true,
            "ticks": "",
            "zerolinecolor": "white"
           },
           "yaxis": {
            "backgroundcolor": "#E5ECF6",
            "gridcolor": "white",
            "gridwidth": 2,
            "linecolor": "white",
            "showbackground": true,
            "ticks": "",
            "zerolinecolor": "white"
           },
           "zaxis": {
            "backgroundcolor": "#E5ECF6",
            "gridcolor": "white",
            "gridwidth": 2,
            "linecolor": "white",
            "showbackground": true,
            "ticks": "",
            "zerolinecolor": "white"
           }
          },
          "shapedefaults": {
           "line": {
            "color": "#2a3f5f"
           }
          },
          "ternary": {
           "aaxis": {
            "gridcolor": "white",
            "linecolor": "white",
            "ticks": ""
           },
           "baxis": {
            "gridcolor": "white",
            "linecolor": "white",
            "ticks": ""
           },
           "bgcolor": "#E5ECF6",
           "caxis": {
            "gridcolor": "white",
            "linecolor": "white",
            "ticks": ""
           }
          },
          "title": {
           "x": 0.05
          },
          "xaxis": {
           "automargin": true,
           "gridcolor": "white",
           "linecolor": "white",
           "ticks": "",
           "title": {
            "standoff": 15
           },
           "zerolinecolor": "white",
           "zerolinewidth": 2
          },
          "yaxis": {
           "automargin": true,
           "gridcolor": "white",
           "linecolor": "white",
           "ticks": "",
           "title": {
            "standoff": 15
           },
           "zerolinecolor": "white",
           "zerolinewidth": 2
          }
         }
        },
        "title": {
         "text": "error  =  simulate  -  real      ------------         e2w_out_2020-01-01"
        },
        "xaxis": {
         "title": {
          "text": "time error (s)"
         }
        },
        "yaxis": {
         "title": {
          "text": "Count"
         }
        }
       }
      }
     },
     "metadata": {},
     "output_type": "display_data"
    }
   ],
   "source": [
    "import plotly.graph_objects as go\n",
    "\n",
    "fig = go.Figure()\n",
    "\n",
    "xbins=dict(\n",
    "        start=-4,  # Bin start\n",
    "        end=11,    # Bin end\n",
    "        size=1    # Bin size (width of each bin)\n",
    "    )\n",
    "sim_MAE = round(abs(compare_df['time_sim_error']).mean(),2)\n",
    "calib_MAE = round(abs(compare_df['time_calib_error']).mean(),2)\n",
    "\n",
    "fig.add_trace(go.Histogram(x=compare_df['time_sim_error'], name=f\"time_sim_error --> MAE = {sim_MAE}\", opacity=0.75, xbins=xbins))\n",
    "fig.add_trace(go.Histogram(x=compare_df['time_calib_error'], name=f\"time_calib_error  --> MAE = {calib_MAE}\", opacity=0.75, xbins=xbins))\n",
    "\n",
    "fig.update_layout(\n",
    "    barmode='group',  # Use 'overlay' if you want stacked look\n",
    "    xaxis_title='time error (s)',\n",
    "    yaxis_title='Count',\n",
    "    title=f\"error  =  simulate  -  real      ------------         {postfix}\"\n",
    ")\n",
    "\n",
    "fig.show()\n",
    "fig.write_html(f\"diagram/hist_time_error_{postfix}.html\")"
   ]
  },
  {
   "cell_type": "code",
   "execution_count": 82,
   "id": "6235013e",
   "metadata": {},
   "outputs": [
    {
     "data": {
      "application/vnd.plotly.v1+json": {
       "config": {
        "plotlyServerURL": "https://plot.ly"
       },
       "data": [
        {
         "name": "time_sim_error --> MAE = 0.47",
         "opacity": 0.75,
         "type": "histogram",
         "x": {
          "bdata": "AAAAAOB6pL8AAAAAULievwAAAIA9Cuc/AAAAAJiZqb8AAACA61HgPwAAAACkcN0/AAAAwPUo9L8AAAAA4HqUvwAAAIBwPeK/AAAAALge1b8AAAAAzczcPwAAAAAK19M/AAAAAJqZyb8AAAAA9ijcvwAAAABQuJ6/AAAAAOJ6xD8AAAAA4HqkvwAAAAAK19O/AAAAgB6F478AAAAAmJmpvwAAAIBH4eo/AAAAAPQovD8AAAAAmpnJvwAAAABSuM4/AAAAAOB6pD8AAAAAULiuPwAAAADgepQ/AAAAABSu178AAAAAUrjOvwAAAABQuK4/AAAAAArX0z8AAAAAULi+vwAAAACF69G/AAAAAOB6lD8AAAAA4Hq0PwAAAAAAAAAAAAAAAJiZub8AAAAArkfpPwAAAADYo8A/AAAAAIXr0b8AAAAAXI/SPwAAAACQwsU/AAAAgD0K7z8AAAAAULiuPwAAAACuR+E/AAAAAFC4vj8AAAAA7FHIvwAAAACkcM2/AAAAAD0K1z8AAAAA7FHYvwAAAACamck/AAAAAJiZqT8AAAAA4HqUvwAAAIBmZuY/AAAAABSu178AAAAAmJmpvwAAAACkcM2/AAAAAEjhyj8AAAAArkfpPwAAAABQuK4/AAAAAArX078AAAAAAADwPwAAAAD0KLy/AAAAAJiZqT8AAAAA4HqEvwAAAADgerS/AAAAgOF67D8AAAAAULiuvwAAAABQuL4/AAAAAJiZub8AAAAAPgrHvwAAAIDheuQ/AAAAAClc9z8AAAAAULievwAAAABQuK4/AAAAAPYozL8AAAAApHDNPwAAAEC4HvU/AAAAAOB6pD8AAACAcD3iPwAAAIAUrvs/AAAAQDMzB0AAAACgcD0QQAAAAACE67G/AAAAAIXr0b8AAABA4XoMwAAAAADgepQ/AAAA4FG4DsAAAAAA4Hq0vwAAAADgeoQ/AAAAgD0K+z8AAACAuB7lvwAAAABI4do/AAAAAHsU9j8AAAAApHDNvwAAAAAAAAAAAAAAwPUo8D8AAAAAUrjOvwAAAABcj+I/AAAAAJiZqT8=",
          "dtype": "f8"
         },
         "xbins": {
          "end": 11,
          "size": 1,
          "start": -4
         }
        },
        {
         "name": "time_calib_error  --> MAE = 0.62",
         "opacity": 0.75,
         "type": "histogram",
         "x": {
          "bdata": "AAAAAOB6pL8AAAAAULievwAAAIA9Cuc/AAAAAJiZqb8AAACA61HgPwAAAMBH4f4/AAAAwPUo9L8AAAAA4HqUvwAAAIBwPeK/AAAAALge1b8AAAAAzczcPwAAAAAK19M/AAAAAJqZyb8AAAAA9ijcvwAAAABQuJ6/AAAAAOJ6xD8AAAAA4HqkvwAAAAAK19O/AAAAgB6F478AAAAAmJmpvwAAAKBwPQZAAAAAAPQovD8AAAAAmpnJvwAAAABSuM4/AAAAAOB6pD8AAAAAULiuPwAAAADgepQ/AAAAABSu178AAAAAUrjOvwAAAABQuK4/AAAAAArX0z8AAAAAULi+vwAAAACF69G/AAAAAOB6lD8AAAAA4Hq0PwAAAAAAAAAAAAAAAJiZub8AAADgUbgEQAAAAADYo8A/AAAAAIXr0b8AAAAAXI/SPwAAAACQwsU/AAAAIFyPAkAAAAAAULiuPwAAAMCjcPE/AAAAAFC4vj8AAAAA7FHIvwAAAACkcM2/AAAAwHA99j8AAAAA7FHYvwAAAACamck/AAAAAJiZqT8AAAAA4HqUvwAAAMAehfs/AAAAABSu178AAAAAmJmpvwAAAACkcM2/AAAAAEjhyj8AAACAmZn5PwAAAABQuK4/AAAAAArX078AAAAAAADwPwAAAAD0KLy/AAAAAJiZqT8AAAAA4HqEvwAAAADgerS/AAAAANej+D8AAAAA4nrEPwAAAABQuL4/AAAAAJiZub8AAAAAPgrHvwAAAEDhegJAAAAAwKNw9T8AAAAAULievwAAAABQuK4/AAAAAPYozL8AAAAApHDNPwAAAEAK1wFAAAAAAOB6pD8AAACAcD3iPwAAAAAAABZAAAAA4FG4DEAAAAAgrkcFQAAAAACE67G/AAAAAIXr0b8AAACAHoXjvwAAAADgepQ/AAAAAKRw3b8AAAAA4Hq0vwAAAADgeoQ/AAAAgD0K+z8AAACAuB7lvwAAAABI4do/AAAAAAAACkAAAAAApHDNvwAAAAAAAAAAAAAAwPUoDEAAAAAAUrjOvwAAAABSuPY/AAAAAJiZqT8=",
          "dtype": "f8"
         },
         "xbins": {
          "end": 11,
          "size": 1,
          "start": -4
         }
        }
       ],
       "layout": {
        "barmode": "group",
        "template": {
         "data": {
          "bar": [
           {
            "error_x": {
             "color": "#2a3f5f"
            },
            "error_y": {
             "color": "#2a3f5f"
            },
            "marker": {
             "line": {
              "color": "#E5ECF6",
              "width": 0.5
             },
             "pattern": {
              "fillmode": "overlay",
              "size": 10,
              "solidity": 0.2
             }
            },
            "type": "bar"
           }
          ],
          "barpolar": [
           {
            "marker": {
             "line": {
              "color": "#E5ECF6",
              "width": 0.5
             },
             "pattern": {
              "fillmode": "overlay",
              "size": 10,
              "solidity": 0.2
             }
            },
            "type": "barpolar"
           }
          ],
          "carpet": [
           {
            "aaxis": {
             "endlinecolor": "#2a3f5f",
             "gridcolor": "white",
             "linecolor": "white",
             "minorgridcolor": "white",
             "startlinecolor": "#2a3f5f"
            },
            "baxis": {
             "endlinecolor": "#2a3f5f",
             "gridcolor": "white",
             "linecolor": "white",
             "minorgridcolor": "white",
             "startlinecolor": "#2a3f5f"
            },
            "type": "carpet"
           }
          ],
          "choropleth": [
           {
            "colorbar": {
             "outlinewidth": 0,
             "ticks": ""
            },
            "type": "choropleth"
           }
          ],
          "contour": [
           {
            "colorbar": {
             "outlinewidth": 0,
             "ticks": ""
            },
            "colorscale": [
             [
              0,
              "#0d0887"
             ],
             [
              0.1111111111111111,
              "#46039f"
             ],
             [
              0.2222222222222222,
              "#7201a8"
             ],
             [
              0.3333333333333333,
              "#9c179e"
             ],
             [
              0.4444444444444444,
              "#bd3786"
             ],
             [
              0.5555555555555556,
              "#d8576b"
             ],
             [
              0.6666666666666666,
              "#ed7953"
             ],
             [
              0.7777777777777778,
              "#fb9f3a"
             ],
             [
              0.8888888888888888,
              "#fdca26"
             ],
             [
              1,
              "#f0f921"
             ]
            ],
            "type": "contour"
           }
          ],
          "contourcarpet": [
           {
            "colorbar": {
             "outlinewidth": 0,
             "ticks": ""
            },
            "type": "contourcarpet"
           }
          ],
          "heatmap": [
           {
            "colorbar": {
             "outlinewidth": 0,
             "ticks": ""
            },
            "colorscale": [
             [
              0,
              "#0d0887"
             ],
             [
              0.1111111111111111,
              "#46039f"
             ],
             [
              0.2222222222222222,
              "#7201a8"
             ],
             [
              0.3333333333333333,
              "#9c179e"
             ],
             [
              0.4444444444444444,
              "#bd3786"
             ],
             [
              0.5555555555555556,
              "#d8576b"
             ],
             [
              0.6666666666666666,
              "#ed7953"
             ],
             [
              0.7777777777777778,
              "#fb9f3a"
             ],
             [
              0.8888888888888888,
              "#fdca26"
             ],
             [
              1,
              "#f0f921"
             ]
            ],
            "type": "heatmap"
           }
          ],
          "histogram": [
           {
            "marker": {
             "pattern": {
              "fillmode": "overlay",
              "size": 10,
              "solidity": 0.2
             }
            },
            "type": "histogram"
           }
          ],
          "histogram2d": [
           {
            "colorbar": {
             "outlinewidth": 0,
             "ticks": ""
            },
            "colorscale": [
             [
              0,
              "#0d0887"
             ],
             [
              0.1111111111111111,
              "#46039f"
             ],
             [
              0.2222222222222222,
              "#7201a8"
             ],
             [
              0.3333333333333333,
              "#9c179e"
             ],
             [
              0.4444444444444444,
              "#bd3786"
             ],
             [
              0.5555555555555556,
              "#d8576b"
             ],
             [
              0.6666666666666666,
              "#ed7953"
             ],
             [
              0.7777777777777778,
              "#fb9f3a"
             ],
             [
              0.8888888888888888,
              "#fdca26"
             ],
             [
              1,
              "#f0f921"
             ]
            ],
            "type": "histogram2d"
           }
          ],
          "histogram2dcontour": [
           {
            "colorbar": {
             "outlinewidth": 0,
             "ticks": ""
            },
            "colorscale": [
             [
              0,
              "#0d0887"
             ],
             [
              0.1111111111111111,
              "#46039f"
             ],
             [
              0.2222222222222222,
              "#7201a8"
             ],
             [
              0.3333333333333333,
              "#9c179e"
             ],
             [
              0.4444444444444444,
              "#bd3786"
             ],
             [
              0.5555555555555556,
              "#d8576b"
             ],
             [
              0.6666666666666666,
              "#ed7953"
             ],
             [
              0.7777777777777778,
              "#fb9f3a"
             ],
             [
              0.8888888888888888,
              "#fdca26"
             ],
             [
              1,
              "#f0f921"
             ]
            ],
            "type": "histogram2dcontour"
           }
          ],
          "mesh3d": [
           {
            "colorbar": {
             "outlinewidth": 0,
             "ticks": ""
            },
            "type": "mesh3d"
           }
          ],
          "parcoords": [
           {
            "line": {
             "colorbar": {
              "outlinewidth": 0,
              "ticks": ""
             }
            },
            "type": "parcoords"
           }
          ],
          "pie": [
           {
            "automargin": true,
            "type": "pie"
           }
          ],
          "scatter": [
           {
            "fillpattern": {
             "fillmode": "overlay",
             "size": 10,
             "solidity": 0.2
            },
            "type": "scatter"
           }
          ],
          "scatter3d": [
           {
            "line": {
             "colorbar": {
              "outlinewidth": 0,
              "ticks": ""
             }
            },
            "marker": {
             "colorbar": {
              "outlinewidth": 0,
              "ticks": ""
             }
            },
            "type": "scatter3d"
           }
          ],
          "scattercarpet": [
           {
            "marker": {
             "colorbar": {
              "outlinewidth": 0,
              "ticks": ""
             }
            },
            "type": "scattercarpet"
           }
          ],
          "scattergeo": [
           {
            "marker": {
             "colorbar": {
              "outlinewidth": 0,
              "ticks": ""
             }
            },
            "type": "scattergeo"
           }
          ],
          "scattergl": [
           {
            "marker": {
             "colorbar": {
              "outlinewidth": 0,
              "ticks": ""
             }
            },
            "type": "scattergl"
           }
          ],
          "scattermap": [
           {
            "marker": {
             "colorbar": {
              "outlinewidth": 0,
              "ticks": ""
             }
            },
            "type": "scattermap"
           }
          ],
          "scattermapbox": [
           {
            "marker": {
             "colorbar": {
              "outlinewidth": 0,
              "ticks": ""
             }
            },
            "type": "scattermapbox"
           }
          ],
          "scatterpolar": [
           {
            "marker": {
             "colorbar": {
              "outlinewidth": 0,
              "ticks": ""
             }
            },
            "type": "scatterpolar"
           }
          ],
          "scatterpolargl": [
           {
            "marker": {
             "colorbar": {
              "outlinewidth": 0,
              "ticks": ""
             }
            },
            "type": "scatterpolargl"
           }
          ],
          "scatterternary": [
           {
            "marker": {
             "colorbar": {
              "outlinewidth": 0,
              "ticks": ""
             }
            },
            "type": "scatterternary"
           }
          ],
          "surface": [
           {
            "colorbar": {
             "outlinewidth": 0,
             "ticks": ""
            },
            "colorscale": [
             [
              0,
              "#0d0887"
             ],
             [
              0.1111111111111111,
              "#46039f"
             ],
             [
              0.2222222222222222,
              "#7201a8"
             ],
             [
              0.3333333333333333,
              "#9c179e"
             ],
             [
              0.4444444444444444,
              "#bd3786"
             ],
             [
              0.5555555555555556,
              "#d8576b"
             ],
             [
              0.6666666666666666,
              "#ed7953"
             ],
             [
              0.7777777777777778,
              "#fb9f3a"
             ],
             [
              0.8888888888888888,
              "#fdca26"
             ],
             [
              1,
              "#f0f921"
             ]
            ],
            "type": "surface"
           }
          ],
          "table": [
           {
            "cells": {
             "fill": {
              "color": "#EBF0F8"
             },
             "line": {
              "color": "white"
             }
            },
            "header": {
             "fill": {
              "color": "#C8D4E3"
             },
             "line": {
              "color": "white"
             }
            },
            "type": "table"
           }
          ]
         },
         "layout": {
          "annotationdefaults": {
           "arrowcolor": "#2a3f5f",
           "arrowhead": 0,
           "arrowwidth": 1
          },
          "autotypenumbers": "strict",
          "coloraxis": {
           "colorbar": {
            "outlinewidth": 0,
            "ticks": ""
           }
          },
          "colorscale": {
           "diverging": [
            [
             0,
             "#8e0152"
            ],
            [
             0.1,
             "#c51b7d"
            ],
            [
             0.2,
             "#de77ae"
            ],
            [
             0.3,
             "#f1b6da"
            ],
            [
             0.4,
             "#fde0ef"
            ],
            [
             0.5,
             "#f7f7f7"
            ],
            [
             0.6,
             "#e6f5d0"
            ],
            [
             0.7,
             "#b8e186"
            ],
            [
             0.8,
             "#7fbc41"
            ],
            [
             0.9,
             "#4d9221"
            ],
            [
             1,
             "#276419"
            ]
           ],
           "sequential": [
            [
             0,
             "#0d0887"
            ],
            [
             0.1111111111111111,
             "#46039f"
            ],
            [
             0.2222222222222222,
             "#7201a8"
            ],
            [
             0.3333333333333333,
             "#9c179e"
            ],
            [
             0.4444444444444444,
             "#bd3786"
            ],
            [
             0.5555555555555556,
             "#d8576b"
            ],
            [
             0.6666666666666666,
             "#ed7953"
            ],
            [
             0.7777777777777778,
             "#fb9f3a"
            ],
            [
             0.8888888888888888,
             "#fdca26"
            ],
            [
             1,
             "#f0f921"
            ]
           ],
           "sequentialminus": [
            [
             0,
             "#0d0887"
            ],
            [
             0.1111111111111111,
             "#46039f"
            ],
            [
             0.2222222222222222,
             "#7201a8"
            ],
            [
             0.3333333333333333,
             "#9c179e"
            ],
            [
             0.4444444444444444,
             "#bd3786"
            ],
            [
             0.5555555555555556,
             "#d8576b"
            ],
            [
             0.6666666666666666,
             "#ed7953"
            ],
            [
             0.7777777777777778,
             "#fb9f3a"
            ],
            [
             0.8888888888888888,
             "#fdca26"
            ],
            [
             1,
             "#f0f921"
            ]
           ]
          },
          "colorway": [
           "#636efa",
           "#EF553B",
           "#00cc96",
           "#ab63fa",
           "#FFA15A",
           "#19d3f3",
           "#FF6692",
           "#B6E880",
           "#FF97FF",
           "#FECB52"
          ],
          "font": {
           "color": "#2a3f5f"
          },
          "geo": {
           "bgcolor": "white",
           "lakecolor": "white",
           "landcolor": "#E5ECF6",
           "showlakes": true,
           "showland": true,
           "subunitcolor": "white"
          },
          "hoverlabel": {
           "align": "left"
          },
          "hovermode": "closest",
          "mapbox": {
           "style": "light"
          },
          "paper_bgcolor": "white",
          "plot_bgcolor": "#E5ECF6",
          "polar": {
           "angularaxis": {
            "gridcolor": "white",
            "linecolor": "white",
            "ticks": ""
           },
           "bgcolor": "#E5ECF6",
           "radialaxis": {
            "gridcolor": "white",
            "linecolor": "white",
            "ticks": ""
           }
          },
          "scene": {
           "xaxis": {
            "backgroundcolor": "#E5ECF6",
            "gridcolor": "white",
            "gridwidth": 2,
            "linecolor": "white",
            "showbackground": true,
            "ticks": "",
            "zerolinecolor": "white"
           },
           "yaxis": {
            "backgroundcolor": "#E5ECF6",
            "gridcolor": "white",
            "gridwidth": 2,
            "linecolor": "white",
            "showbackground": true,
            "ticks": "",
            "zerolinecolor": "white"
           },
           "zaxis": {
            "backgroundcolor": "#E5ECF6",
            "gridcolor": "white",
            "gridwidth": 2,
            "linecolor": "white",
            "showbackground": true,
            "ticks": "",
            "zerolinecolor": "white"
           }
          },
          "shapedefaults": {
           "line": {
            "color": "#2a3f5f"
           }
          },
          "ternary": {
           "aaxis": {
            "gridcolor": "white",
            "linecolor": "white",
            "ticks": ""
           },
           "baxis": {
            "gridcolor": "white",
            "linecolor": "white",
            "ticks": ""
           },
           "bgcolor": "#E5ECF6",
           "caxis": {
            "gridcolor": "white",
            "linecolor": "white",
            "ticks": ""
           }
          },
          "title": {
           "x": 0.05
          },
          "xaxis": {
           "automargin": true,
           "gridcolor": "white",
           "linecolor": "white",
           "ticks": "",
           "title": {
            "standoff": 15
           },
           "zerolinecolor": "white",
           "zerolinewidth": 2
          },
          "yaxis": {
           "automargin": true,
           "gridcolor": "white",
           "linecolor": "white",
           "ticks": "",
           "title": {
            "standoff": 15
           },
           "zerolinecolor": "white",
           "zerolinewidth": 2
          }
         }
        },
        "title": {
         "text": "error  =  simulate  -  real      ------------         e2w_out_2020-01-01_100"
        },
        "xaxis": {
         "title": {
          "text": "time error (s)"
         }
        },
        "yaxis": {
         "title": {
          "text": "Count"
         }
        }
       }
      }
     },
     "metadata": {},
     "output_type": "display_data"
    }
   ],
   "source": [
    "import plotly.graph_objects as go\n",
    "\n",
    "fig = go.Figure()\n",
    "\n",
    "xbins=dict(\n",
    "        start=-4,  # Bin start\n",
    "        end=11,    # Bin end\n",
    "        size=1    # Bin size (width of each bin)\n",
    "    )\n",
    "sim_MAE = round(abs(compare_df['time_sim_error']).mean(),2)\n",
    "calib_MAE = round(abs(compare_df['time_calib_error']).mean(),2)\n",
    "\n",
    "fig.add_trace(go.Histogram(x=compare_df['time_sim_error'], name=f\"time_sim_error --> MAE = {sim_MAE}\", opacity=0.75, xbins=xbins))\n",
    "fig.add_trace(go.Histogram(x=compare_df['time_calib_error'], name=f\"time_calib_error  --> MAE = {calib_MAE}\", opacity=0.75, xbins=xbins))\n",
    "\n",
    "fig.update_layout(\n",
    "    barmode='group',  # Use 'overlay' if you want stacked look\n",
    "    xaxis_title='time error (s)',\n",
    "    yaxis_title='Count',\n",
    "    title=f\"error  =  simulate  -  real      ------------         {postfix}\"\n",
    ")\n",
    "\n",
    "fig.show()\n",
    "fig.write_html(f\"diagram/hist_time_error_{postfix}.html\")"
   ]
  },
  {
   "cell_type": "code",
   "execution_count": 13,
   "id": "d0d6ad65",
   "metadata": {},
   "outputs": [
    {
     "name": "stdout",
     "output_type": "stream",
     "text": [
      "-1.7400000095367432 2.9100000858306885\n",
      "-1.7400000095367432 5.950000047683716\n"
     ]
    }
   ],
   "source": [
    "print(compare_df['time_sim_error'].min(), compare_df['time_sim_error'].max())\n",
    "print(compare_df['time_calib_error'].min(), compare_df['time_calib_error'].max())"
   ]
  },
  {
   "cell_type": "code",
   "execution_count": 14,
   "id": "807ab781",
   "metadata": {},
   "outputs": [
    {
     "name": "stdout",
     "output_type": "stream",
     "text": [
      "-1.9511111111111106 5.555555555555555\n",
      "-0.8389999999999969 5.552555555555555\n"
     ]
    }
   ],
   "source": [
    "print(compare_df['speed_sim_error'].min(), compare_df['speed_sim_error'].max())\n",
    "print(compare_df['speed_calib_error'].min(), compare_df['speed_calib_error'].max())"
   ]
  },
  {
   "cell_type": "code",
   "execution_count": 44,
   "id": "01a4e795",
   "metadata": {},
   "outputs": [
    {
     "data": {
      "application/vnd.plotly.v1+json": {
       "config": {
        "plotlyServerURL": "https://plot.ly"
       },
       "data": [
        {
         "name": "speed_sim_error --> MAE = 0.78",
         "opacity": 0.75,
         "type": "histogram",
         "x": {
          "bdata": "AMCaeFY0Yj+AobLD1OXGP4wEfPNq4uE/gFjyiyW/uL/gzopGAr7ZvwC+eTXxrOA/gHvzauJZsb8Ac/uDDJW9P7y7u7u7uxhAoBWNBHzz2r+AwDevJp7FvyDotIFOG9g/AOfVxLOi0b8WjQR882oIwIBFIwHfvMo/AB6F61G4nj/Ygi3Ygi0dQIBGAr55NcE/eLn9QYbKAEAYS36x5BcDQLTD1OX2BwFAoE/6pE/61L+gDJUdpi7XP2Acx3Ecx9G/AFuwBVuw1T8Ah8oOU5e7P8hY8oslv+g/AEKGyg5Tpz/A5tXEs6Kxv4BnRSMB39w/wPUoXI/Cxb9gJOCbVxPfP4wEfPNq4uE/wEmf9Emf1L8AHOi0gU6rPwBy+4MMla2/gBzHcRzHwT+AHMdxHMfBv6iRgG9eTfw/fpChssPU8T/Au7u7u7vLv4CwBVuwBbs/oE/6pE/6+L/gFmzBFmzRPwB02kCnDdS/gMoOU5fbzz+QwvUoXI/qv4Cx5BdLftE/JENlh6nL+T+A61G4HoXjPwC0opGAb76/AIfKDlOXuz+A2kCnDXS6v2DiWdFIwNe/gAOdNtBp0z8AKxoJ+Oa1P5j8Yskvlg5AAHBeTTwruj8AcF5NPCuavwCdNtBpA62/AK1oJOCbt79Ah6nL7Q/SvxAREREREeG/AEqf9EmfxL9AwDevJp7FPwDHcRzHcaw/ALSikYBvvj+AZ0UjAd/cPwAqO0xdbs+/ABjotIFOez+A3d3d3d29v8D9QYbKDsO/wP1BhsoOw7/gpS63P8jQv4BGAr55NcG/QLgehetRyL8AScA3ryauP5gdpi63P/w/AEKGyg5Tp78zMzMzMzMQQPqkT/qkTxFA+qRP+qRPEUDBFmzBFmwSQICJZ0UjAb+/ABjotIFOaz8AlvxiyS+2PyCF61G4HuU/RIbKDlOX9z/gUbgehevRP2BmZmZmZtY/ABSuR+F6pL+AVjQS8M3rP755NfGsaABASDwrGgn47j+A2kCnDXS6vwDXo3A9Cre/uB6F61G4BMCA/GLJL5bcPyBtoNMGOt0/AM+KRgK+yT8=",
          "dtype": "f8"
         },
         "xbins": {
          "end": 7,
          "size": 1,
          "start": -7
         }
        },
        {
         "name": "speed_calib_error --> MAE = 0.73",
         "opacity": 0.75,
         "type": "histogram",
         "x": {
          "bdata": "AOCMOsPZYD9Adsix4oTHP2So7DB1ueE/gL833C5fuL9A2+H5edHZv2DjeOD1A9Y/gGS94vRZsr8AIx2iOpG8P7Q5gBoBuBhAQA31r92i2r8AbH5oyefFv8C/LcGVadg/wGQpO6TL0b8gZKjsMHUIwIAaKrvQPMs/AJ4pToklnT/a+EAJgiwdQAA9ETCmZ8E/lDLK4Q3SAEAQyRG+yRYDQICh/RHuaus/YBZ/rGas1L+AykdskXXXPwA6ScYQgtG/QKml2te71T+AaqLpaTC7PwDY3eILxOg/gJg468muqT/AUMEqrL2wv2DF0+5DKt0/QLaW7zVtxb/QKK5pf1TfP2So7DB1ueE/oAoS7fPF1L8A/j5P+6aqPwCrU/226K2/QO2OllaTwT9Afe9ZYFzPPyClHkz3PPw/auJZ0UjA8T/A+2RIozHMvwDXubaKg7s/wGO6OpcOzT+gm22hPWzRPwC9974sW6K/gP6lA9QY0D+4HoXrUbjqv0CJT8LAddE/3I7+qVW9+T/gOHvCBYvjPwAf4ec95b6/gMyjUxefvD+AHQCOqXO7vyBoKGhHbN6/QCj0b3Sa0z8AlVObkwm3P0QJee6skA5AAKRTT2fduj9ADWbUhS3CvwB7Kboqp6q/QDMbW21dtr9AlsIJnwfSv3DlqKV/++C/gJ0zIKACxL+A9iwWw4DFPwDld+KTmKs/AMRhEEnCvj+Ad3RxbZ/cP8CkgTEdF8+/ACD21POuYz8ATO0lfRm+v0BmBYOp6MK/gKlzMOMbxr+gx3chiAbRv8CZ2IIaisG/wOxTeIQ6yL8ALqkGmtyrPwDNGM/njeE/AIlsv0ogqb/AKMcmCi8QQEyu89COhxNASPhHUNTmEUDPI4NbL70VQIDNEtmh2L+/ACDotIFOW7+ACHZBVPe2P9DwhRLQG+U/3NgVWeOZ9z+A3llXWqvRP1CBC2CyiNY/AL9jnBUPpr9QQBHEmLfrP9KQgL9TagBAaAKiHqbu7j+Ae70BzvW6vwAHnz6hOLe/ACz7An+xp7+ALamZwMLcP4A9tJn3RLm/QFZSQvumyT8=",
          "dtype": "f8"
         },
         "xbins": {
          "end": 7,
          "size": 1,
          "start": -7
         }
        }
       ],
       "layout": {
        "barmode": "group",
        "template": {
         "data": {
          "bar": [
           {
            "error_x": {
             "color": "#2a3f5f"
            },
            "error_y": {
             "color": "#2a3f5f"
            },
            "marker": {
             "line": {
              "color": "#E5ECF6",
              "width": 0.5
             },
             "pattern": {
              "fillmode": "overlay",
              "size": 10,
              "solidity": 0.2
             }
            },
            "type": "bar"
           }
          ],
          "barpolar": [
           {
            "marker": {
             "line": {
              "color": "#E5ECF6",
              "width": 0.5
             },
             "pattern": {
              "fillmode": "overlay",
              "size": 10,
              "solidity": 0.2
             }
            },
            "type": "barpolar"
           }
          ],
          "carpet": [
           {
            "aaxis": {
             "endlinecolor": "#2a3f5f",
             "gridcolor": "white",
             "linecolor": "white",
             "minorgridcolor": "white",
             "startlinecolor": "#2a3f5f"
            },
            "baxis": {
             "endlinecolor": "#2a3f5f",
             "gridcolor": "white",
             "linecolor": "white",
             "minorgridcolor": "white",
             "startlinecolor": "#2a3f5f"
            },
            "type": "carpet"
           }
          ],
          "choropleth": [
           {
            "colorbar": {
             "outlinewidth": 0,
             "ticks": ""
            },
            "type": "choropleth"
           }
          ],
          "contour": [
           {
            "colorbar": {
             "outlinewidth": 0,
             "ticks": ""
            },
            "colorscale": [
             [
              0,
              "#0d0887"
             ],
             [
              0.1111111111111111,
              "#46039f"
             ],
             [
              0.2222222222222222,
              "#7201a8"
             ],
             [
              0.3333333333333333,
              "#9c179e"
             ],
             [
              0.4444444444444444,
              "#bd3786"
             ],
             [
              0.5555555555555556,
              "#d8576b"
             ],
             [
              0.6666666666666666,
              "#ed7953"
             ],
             [
              0.7777777777777778,
              "#fb9f3a"
             ],
             [
              0.8888888888888888,
              "#fdca26"
             ],
             [
              1,
              "#f0f921"
             ]
            ],
            "type": "contour"
           }
          ],
          "contourcarpet": [
           {
            "colorbar": {
             "outlinewidth": 0,
             "ticks": ""
            },
            "type": "contourcarpet"
           }
          ],
          "heatmap": [
           {
            "colorbar": {
             "outlinewidth": 0,
             "ticks": ""
            },
            "colorscale": [
             [
              0,
              "#0d0887"
             ],
             [
              0.1111111111111111,
              "#46039f"
             ],
             [
              0.2222222222222222,
              "#7201a8"
             ],
             [
              0.3333333333333333,
              "#9c179e"
             ],
             [
              0.4444444444444444,
              "#bd3786"
             ],
             [
              0.5555555555555556,
              "#d8576b"
             ],
             [
              0.6666666666666666,
              "#ed7953"
             ],
             [
              0.7777777777777778,
              "#fb9f3a"
             ],
             [
              0.8888888888888888,
              "#fdca26"
             ],
             [
              1,
              "#f0f921"
             ]
            ],
            "type": "heatmap"
           }
          ],
          "histogram": [
           {
            "marker": {
             "pattern": {
              "fillmode": "overlay",
              "size": 10,
              "solidity": 0.2
             }
            },
            "type": "histogram"
           }
          ],
          "histogram2d": [
           {
            "colorbar": {
             "outlinewidth": 0,
             "ticks": ""
            },
            "colorscale": [
             [
              0,
              "#0d0887"
             ],
             [
              0.1111111111111111,
              "#46039f"
             ],
             [
              0.2222222222222222,
              "#7201a8"
             ],
             [
              0.3333333333333333,
              "#9c179e"
             ],
             [
              0.4444444444444444,
              "#bd3786"
             ],
             [
              0.5555555555555556,
              "#d8576b"
             ],
             [
              0.6666666666666666,
              "#ed7953"
             ],
             [
              0.7777777777777778,
              "#fb9f3a"
             ],
             [
              0.8888888888888888,
              "#fdca26"
             ],
             [
              1,
              "#f0f921"
             ]
            ],
            "type": "histogram2d"
           }
          ],
          "histogram2dcontour": [
           {
            "colorbar": {
             "outlinewidth": 0,
             "ticks": ""
            },
            "colorscale": [
             [
              0,
              "#0d0887"
             ],
             [
              0.1111111111111111,
              "#46039f"
             ],
             [
              0.2222222222222222,
              "#7201a8"
             ],
             [
              0.3333333333333333,
              "#9c179e"
             ],
             [
              0.4444444444444444,
              "#bd3786"
             ],
             [
              0.5555555555555556,
              "#d8576b"
             ],
             [
              0.6666666666666666,
              "#ed7953"
             ],
             [
              0.7777777777777778,
              "#fb9f3a"
             ],
             [
              0.8888888888888888,
              "#fdca26"
             ],
             [
              1,
              "#f0f921"
             ]
            ],
            "type": "histogram2dcontour"
           }
          ],
          "mesh3d": [
           {
            "colorbar": {
             "outlinewidth": 0,
             "ticks": ""
            },
            "type": "mesh3d"
           }
          ],
          "parcoords": [
           {
            "line": {
             "colorbar": {
              "outlinewidth": 0,
              "ticks": ""
             }
            },
            "type": "parcoords"
           }
          ],
          "pie": [
           {
            "automargin": true,
            "type": "pie"
           }
          ],
          "scatter": [
           {
            "fillpattern": {
             "fillmode": "overlay",
             "size": 10,
             "solidity": 0.2
            },
            "type": "scatter"
           }
          ],
          "scatter3d": [
           {
            "line": {
             "colorbar": {
              "outlinewidth": 0,
              "ticks": ""
             }
            },
            "marker": {
             "colorbar": {
              "outlinewidth": 0,
              "ticks": ""
             }
            },
            "type": "scatter3d"
           }
          ],
          "scattercarpet": [
           {
            "marker": {
             "colorbar": {
              "outlinewidth": 0,
              "ticks": ""
             }
            },
            "type": "scattercarpet"
           }
          ],
          "scattergeo": [
           {
            "marker": {
             "colorbar": {
              "outlinewidth": 0,
              "ticks": ""
             }
            },
            "type": "scattergeo"
           }
          ],
          "scattergl": [
           {
            "marker": {
             "colorbar": {
              "outlinewidth": 0,
              "ticks": ""
             }
            },
            "type": "scattergl"
           }
          ],
          "scattermap": [
           {
            "marker": {
             "colorbar": {
              "outlinewidth": 0,
              "ticks": ""
             }
            },
            "type": "scattermap"
           }
          ],
          "scattermapbox": [
           {
            "marker": {
             "colorbar": {
              "outlinewidth": 0,
              "ticks": ""
             }
            },
            "type": "scattermapbox"
           }
          ],
          "scatterpolar": [
           {
            "marker": {
             "colorbar": {
              "outlinewidth": 0,
              "ticks": ""
             }
            },
            "type": "scatterpolar"
           }
          ],
          "scatterpolargl": [
           {
            "marker": {
             "colorbar": {
              "outlinewidth": 0,
              "ticks": ""
             }
            },
            "type": "scatterpolargl"
           }
          ],
          "scatterternary": [
           {
            "marker": {
             "colorbar": {
              "outlinewidth": 0,
              "ticks": ""
             }
            },
            "type": "scatterternary"
           }
          ],
          "surface": [
           {
            "colorbar": {
             "outlinewidth": 0,
             "ticks": ""
            },
            "colorscale": [
             [
              0,
              "#0d0887"
             ],
             [
              0.1111111111111111,
              "#46039f"
             ],
             [
              0.2222222222222222,
              "#7201a8"
             ],
             [
              0.3333333333333333,
              "#9c179e"
             ],
             [
              0.4444444444444444,
              "#bd3786"
             ],
             [
              0.5555555555555556,
              "#d8576b"
             ],
             [
              0.6666666666666666,
              "#ed7953"
             ],
             [
              0.7777777777777778,
              "#fb9f3a"
             ],
             [
              0.8888888888888888,
              "#fdca26"
             ],
             [
              1,
              "#f0f921"
             ]
            ],
            "type": "surface"
           }
          ],
          "table": [
           {
            "cells": {
             "fill": {
              "color": "#EBF0F8"
             },
             "line": {
              "color": "white"
             }
            },
            "header": {
             "fill": {
              "color": "#C8D4E3"
             },
             "line": {
              "color": "white"
             }
            },
            "type": "table"
           }
          ]
         },
         "layout": {
          "annotationdefaults": {
           "arrowcolor": "#2a3f5f",
           "arrowhead": 0,
           "arrowwidth": 1
          },
          "autotypenumbers": "strict",
          "coloraxis": {
           "colorbar": {
            "outlinewidth": 0,
            "ticks": ""
           }
          },
          "colorscale": {
           "diverging": [
            [
             0,
             "#8e0152"
            ],
            [
             0.1,
             "#c51b7d"
            ],
            [
             0.2,
             "#de77ae"
            ],
            [
             0.3,
             "#f1b6da"
            ],
            [
             0.4,
             "#fde0ef"
            ],
            [
             0.5,
             "#f7f7f7"
            ],
            [
             0.6,
             "#e6f5d0"
            ],
            [
             0.7,
             "#b8e186"
            ],
            [
             0.8,
             "#7fbc41"
            ],
            [
             0.9,
             "#4d9221"
            ],
            [
             1,
             "#276419"
            ]
           ],
           "sequential": [
            [
             0,
             "#0d0887"
            ],
            [
             0.1111111111111111,
             "#46039f"
            ],
            [
             0.2222222222222222,
             "#7201a8"
            ],
            [
             0.3333333333333333,
             "#9c179e"
            ],
            [
             0.4444444444444444,
             "#bd3786"
            ],
            [
             0.5555555555555556,
             "#d8576b"
            ],
            [
             0.6666666666666666,
             "#ed7953"
            ],
            [
             0.7777777777777778,
             "#fb9f3a"
            ],
            [
             0.8888888888888888,
             "#fdca26"
            ],
            [
             1,
             "#f0f921"
            ]
           ],
           "sequentialminus": [
            [
             0,
             "#0d0887"
            ],
            [
             0.1111111111111111,
             "#46039f"
            ],
            [
             0.2222222222222222,
             "#7201a8"
            ],
            [
             0.3333333333333333,
             "#9c179e"
            ],
            [
             0.4444444444444444,
             "#bd3786"
            ],
            [
             0.5555555555555556,
             "#d8576b"
            ],
            [
             0.6666666666666666,
             "#ed7953"
            ],
            [
             0.7777777777777778,
             "#fb9f3a"
            ],
            [
             0.8888888888888888,
             "#fdca26"
            ],
            [
             1,
             "#f0f921"
            ]
           ]
          },
          "colorway": [
           "#636efa",
           "#EF553B",
           "#00cc96",
           "#ab63fa",
           "#FFA15A",
           "#19d3f3",
           "#FF6692",
           "#B6E880",
           "#FF97FF",
           "#FECB52"
          ],
          "font": {
           "color": "#2a3f5f"
          },
          "geo": {
           "bgcolor": "white",
           "lakecolor": "white",
           "landcolor": "#E5ECF6",
           "showlakes": true,
           "showland": true,
           "subunitcolor": "white"
          },
          "hoverlabel": {
           "align": "left"
          },
          "hovermode": "closest",
          "mapbox": {
           "style": "light"
          },
          "paper_bgcolor": "white",
          "plot_bgcolor": "#E5ECF6",
          "polar": {
           "angularaxis": {
            "gridcolor": "white",
            "linecolor": "white",
            "ticks": ""
           },
           "bgcolor": "#E5ECF6",
           "radialaxis": {
            "gridcolor": "white",
            "linecolor": "white",
            "ticks": ""
           }
          },
          "scene": {
           "xaxis": {
            "backgroundcolor": "#E5ECF6",
            "gridcolor": "white",
            "gridwidth": 2,
            "linecolor": "white",
            "showbackground": true,
            "ticks": "",
            "zerolinecolor": "white"
           },
           "yaxis": {
            "backgroundcolor": "#E5ECF6",
            "gridcolor": "white",
            "gridwidth": 2,
            "linecolor": "white",
            "showbackground": true,
            "ticks": "",
            "zerolinecolor": "white"
           },
           "zaxis": {
            "backgroundcolor": "#E5ECF6",
            "gridcolor": "white",
            "gridwidth": 2,
            "linecolor": "white",
            "showbackground": true,
            "ticks": "",
            "zerolinecolor": "white"
           }
          },
          "shapedefaults": {
           "line": {
            "color": "#2a3f5f"
           }
          },
          "ternary": {
           "aaxis": {
            "gridcolor": "white",
            "linecolor": "white",
            "ticks": ""
           },
           "baxis": {
            "gridcolor": "white",
            "linecolor": "white",
            "ticks": ""
           },
           "bgcolor": "#E5ECF6",
           "caxis": {
            "gridcolor": "white",
            "linecolor": "white",
            "ticks": ""
           }
          },
          "title": {
           "x": 0.05
          },
          "xaxis": {
           "automargin": true,
           "gridcolor": "white",
           "linecolor": "white",
           "ticks": "",
           "title": {
            "standoff": 15
           },
           "zerolinecolor": "white",
           "zerolinewidth": 2
          },
          "yaxis": {
           "automargin": true,
           "gridcolor": "white",
           "linecolor": "white",
           "ticks": "",
           "title": {
            "standoff": 15
           },
           "zerolinecolor": "white",
           "zerolinewidth": 2
          }
         }
        },
        "title": {
         "text": "error  =  simulate  -  real      ------------         e2w_out_2020-01-01_100"
        },
        "xaxis": {
         "title": {
          "text": "Value"
         }
        },
        "yaxis": {
         "title": {
          "text": "Count"
         }
        }
       }
      }
     },
     "metadata": {},
     "output_type": "display_data"
    }
   ],
   "source": [
    "import plotly.graph_objects as go\n",
    "\n",
    "fig = go.Figure()\n",
    "\n",
    "xbins=dict(\n",
    "        start=-7,  # Bin start\n",
    "        end=7,    # Bin end\n",
    "        size=1    # Bin size (width of each bin)\n",
    "    )\n",
    "sim_MAE = round(abs(compare_df['speed_sim_error']).mean(),2)\n",
    "calib_MAE = round(abs(compare_df['speed_calib_error']).mean(),2)\n",
    "fig.add_trace(go.Histogram(x=compare_df['speed_sim_error'], name=f\"speed_sim_error --> MAE = {sim_MAE}\", opacity=0.75, xbins=xbins))\n",
    "fig.add_trace(go.Histogram(x=compare_df['speed_calib_error'], name=f\"speed_calib_error --> MAE = {calib_MAE}\", opacity=0.75, xbins=xbins))\n",
    "\n",
    "fig.update_layout(\n",
    "    barmode='group',  # Use 'overlay' if you want stacked look\n",
    "    xaxis_title='Value',\n",
    "    yaxis_title='Count',\n",
    "    title=f\"error  =  simulate  -  real      ------------         {postfix}\"\n",
    ")\n",
    "\n",
    "fig.show()\n",
    "fig.write_html(f\"diagram/hist_speed_error_{postfix}.html\")"
   ]
  },
  {
   "cell_type": "code",
   "execution_count": 83,
   "id": "ebf95dad",
   "metadata": {},
   "outputs": [
    {
     "data": {
      "application/vnd.plotly.v1+json": {
       "config": {
        "plotlyServerURL": "https://plot.ly"
       },
       "data": [
        {
         "name": "speed_sim_error --> MAE = 0.54",
         "opacity": 0.75,
         "type": "histogram",
         "x": {
          "bdata": "0O0PMlR22D/A/UGGyg7DP4wEfPNq4uE/ABERERERsb/gT/qkT/rUPwDfvJp4VvA/cCTgm1cT+z8AzA5Tl9uPP0BtoNMGOu0/wHk18axo1D8Af5ChssO0P0BERERERNQ/4LyaeFY00j/Es6KRgG/2vwBKn/RJn8S/YLgehetR2L9gC7ZgC7bwP8DL7Q8yVMY/AMA3ryaelb+A3d3d3d29PwBKn/RJn8S/IKYutz/I0D+A6nL7gwy1P8BgC7ZgC8Y/ALSikYBvvj+AxNTl9ge5P0Ab6LSBTru/0A5Tl9sf1L/AkYBvXk3MP4AMlR2mLsc/AFK4HoXrwT/Ay+0PMlTGv4wEfPNq4uE/AIfKDlOXuz8AGEt+seS3PwDIDlOX23+/QIepy+0Pwr8g4JtXE8/av4ChssPU5cY/fpChssPU8T9AlvxiyS/GPwDxrGgk4Ku/MBLwzauJ+78gz4pGAr7ZP0B3d3d3d8e/AIMt2IItyD+AHoXrUbiuvwAg6LSBTms/VHaYutz+8D+AHoXrUbi+PwBUdpi63M4/gMTU5fYHuT+AVVVVVVW1v2ALtmALttC/AJf8Yskvpj8AcF5NPCuaP0DyiyW/WNK/gCMB37yayD8AKxoJ+Oa1v4BY8oslv7i/gNInfdInzT+gFmzBFmzRvwCX/GLJL6a/ALSikYBvvj+AHMdxHMfBP4DAN68mnrW/gMEWbMEW3D+gw9Tl9gfZP4DKDlOX278/ALWBThvoxL8AEBERERGRv2ALtmALttA/YAu2YAu20D8ABluwBVvAP4DqcvuDDMW/AB+F61G4rr8AaiTgm1eTPzC3P8hQ2fU/AGzBFmzBpj+uR+F6FK4PQJ4VjQR88xBAnhWNBHzzEEBlh6nL7Q8SQIBoJOCbV8O/ABjotIFOaz/otIFOG+gRQEBcj8L1KLw/dPuDDJUdAECAHoXrUbi+v8AehetRuL4/MDMzMzMz6z8A6nL7gwylv8TU5fYHGfY/2P4gQ2WH4T8AEBERERGRP8AehetRuL6/9ihcj8L1BMAAGui0gU6bPwAYS36x5Le/gAyVHaYuxz8=",
          "dtype": "f8"
         },
         "xbins": {
          "end": 7,
          "size": 1,
          "start": -7
         }
        },
        {
         "name": "speed_calib_error --> MAE = 0.5",
         "opacity": 0.75,
         "type": "histogram",
         "x": {
          "bdata": "cPuktdFU2D+AfMYF9qjDP2So7DB1ueE/AEcd576nr7/ARnm+EwTVPwCccDXastQ/4Nxce34T+z8A6FI4692JP/By9UOQTO0/wLpM/tmI1D8AiWRqS8K0P0BbOfldP9Q/4JnM0iAm0j+E+KozjF32v0DuaOuVI8W/QB/fBZqL2L+wWN0R8LTwP8B90YGq2MY/AMha2/b1mL+AiYEaYGq+P2AZsg9eENE/YMiDLxH50D8Aw5UT3OG1P8CvhA8mNcY/gJyF1lTdvT8AgF1sME+4P4AgjRQegLu/kGVR7c8j1L+gudenpN7LP4CBi5jincY/QO7iykh3wT9gTogG2d7Fv2So7DB1ueE/AIu5TZOqvD+ABLo0eoq4PwBIs+tVp3y/AKHjzbBfwr9ArRMgJwzjP4ARbLJvEMc/auJZ0UjA8T/AuCSKvYPGPwCB53/s062/ABFDNktnqT9AO6WM1fnZP4D+5IHgIMe/AC2/xge2xz+AUl6gExmuvwAAI8DpskC/9EhfXLP98D+AUlbpX9G/PwAOU+WTFc8/AIT8WirYuT8Aki8RrK+1v4ACcGyXT8M/ACRXLt5ypT8ARiNWZ/6YPwAnuf99ktK/QEgXwjYOyT8gJb5ARX/QP4ClDuA52bm/QK74E0XJzT8AZq/oin7RvwDKL0rTMKS/gJoE+YiQvz+A0ZoKhVLCPwDtrZIE67S/4EZU7L/G2z9gzXeoYOPYP8ClhYPLMcA/QJYj8M9FxL8AqKVVv4aRvwDslh/YBus/YEyKAIUm4j/AqghRu/PAP0Ajh2yYCsW/gNMf0s44sL8AnBTw2ZqPP1CccnBs1/U/AASuiQ3YpT+GQpNlkK0PQGmA9aRgrxFALGax/ZceFkBQuM1svxQUQID0glNCoMO/ACDotIFOW7880MkEs+73v8CWiSP1Zb0/zPHYG+cYAECAHehMcrm/v0Aq9cdxfL4/AFA4Ij1J6z8ABaNEisylv7Qp97wEDfY/5CJPeUku+D8A/KI0mYKSP4BSyDVO4r2/kP7NUp6e4b8AwIsuBUyYP4D+Gjld67e/wJTDFNkLxz8=",
          "dtype": "f8"
         },
         "xbins": {
          "end": 7,
          "size": 1,
          "start": -7
         }
        }
       ],
       "layout": {
        "barmode": "group",
        "template": {
         "data": {
          "bar": [
           {
            "error_x": {
             "color": "#2a3f5f"
            },
            "error_y": {
             "color": "#2a3f5f"
            },
            "marker": {
             "line": {
              "color": "#E5ECF6",
              "width": 0.5
             },
             "pattern": {
              "fillmode": "overlay",
              "size": 10,
              "solidity": 0.2
             }
            },
            "type": "bar"
           }
          ],
          "barpolar": [
           {
            "marker": {
             "line": {
              "color": "#E5ECF6",
              "width": 0.5
             },
             "pattern": {
              "fillmode": "overlay",
              "size": 10,
              "solidity": 0.2
             }
            },
            "type": "barpolar"
           }
          ],
          "carpet": [
           {
            "aaxis": {
             "endlinecolor": "#2a3f5f",
             "gridcolor": "white",
             "linecolor": "white",
             "minorgridcolor": "white",
             "startlinecolor": "#2a3f5f"
            },
            "baxis": {
             "endlinecolor": "#2a3f5f",
             "gridcolor": "white",
             "linecolor": "white",
             "minorgridcolor": "white",
             "startlinecolor": "#2a3f5f"
            },
            "type": "carpet"
           }
          ],
          "choropleth": [
           {
            "colorbar": {
             "outlinewidth": 0,
             "ticks": ""
            },
            "type": "choropleth"
           }
          ],
          "contour": [
           {
            "colorbar": {
             "outlinewidth": 0,
             "ticks": ""
            },
            "colorscale": [
             [
              0,
              "#0d0887"
             ],
             [
              0.1111111111111111,
              "#46039f"
             ],
             [
              0.2222222222222222,
              "#7201a8"
             ],
             [
              0.3333333333333333,
              "#9c179e"
             ],
             [
              0.4444444444444444,
              "#bd3786"
             ],
             [
              0.5555555555555556,
              "#d8576b"
             ],
             [
              0.6666666666666666,
              "#ed7953"
             ],
             [
              0.7777777777777778,
              "#fb9f3a"
             ],
             [
              0.8888888888888888,
              "#fdca26"
             ],
             [
              1,
              "#f0f921"
             ]
            ],
            "type": "contour"
           }
          ],
          "contourcarpet": [
           {
            "colorbar": {
             "outlinewidth": 0,
             "ticks": ""
            },
            "type": "contourcarpet"
           }
          ],
          "heatmap": [
           {
            "colorbar": {
             "outlinewidth": 0,
             "ticks": ""
            },
            "colorscale": [
             [
              0,
              "#0d0887"
             ],
             [
              0.1111111111111111,
              "#46039f"
             ],
             [
              0.2222222222222222,
              "#7201a8"
             ],
             [
              0.3333333333333333,
              "#9c179e"
             ],
             [
              0.4444444444444444,
              "#bd3786"
             ],
             [
              0.5555555555555556,
              "#d8576b"
             ],
             [
              0.6666666666666666,
              "#ed7953"
             ],
             [
              0.7777777777777778,
              "#fb9f3a"
             ],
             [
              0.8888888888888888,
              "#fdca26"
             ],
             [
              1,
              "#f0f921"
             ]
            ],
            "type": "heatmap"
           }
          ],
          "histogram": [
           {
            "marker": {
             "pattern": {
              "fillmode": "overlay",
              "size": 10,
              "solidity": 0.2
             }
            },
            "type": "histogram"
           }
          ],
          "histogram2d": [
           {
            "colorbar": {
             "outlinewidth": 0,
             "ticks": ""
            },
            "colorscale": [
             [
              0,
              "#0d0887"
             ],
             [
              0.1111111111111111,
              "#46039f"
             ],
             [
              0.2222222222222222,
              "#7201a8"
             ],
             [
              0.3333333333333333,
              "#9c179e"
             ],
             [
              0.4444444444444444,
              "#bd3786"
             ],
             [
              0.5555555555555556,
              "#d8576b"
             ],
             [
              0.6666666666666666,
              "#ed7953"
             ],
             [
              0.7777777777777778,
              "#fb9f3a"
             ],
             [
              0.8888888888888888,
              "#fdca26"
             ],
             [
              1,
              "#f0f921"
             ]
            ],
            "type": "histogram2d"
           }
          ],
          "histogram2dcontour": [
           {
            "colorbar": {
             "outlinewidth": 0,
             "ticks": ""
            },
            "colorscale": [
             [
              0,
              "#0d0887"
             ],
             [
              0.1111111111111111,
              "#46039f"
             ],
             [
              0.2222222222222222,
              "#7201a8"
             ],
             [
              0.3333333333333333,
              "#9c179e"
             ],
             [
              0.4444444444444444,
              "#bd3786"
             ],
             [
              0.5555555555555556,
              "#d8576b"
             ],
             [
              0.6666666666666666,
              "#ed7953"
             ],
             [
              0.7777777777777778,
              "#fb9f3a"
             ],
             [
              0.8888888888888888,
              "#fdca26"
             ],
             [
              1,
              "#f0f921"
             ]
            ],
            "type": "histogram2dcontour"
           }
          ],
          "mesh3d": [
           {
            "colorbar": {
             "outlinewidth": 0,
             "ticks": ""
            },
            "type": "mesh3d"
           }
          ],
          "parcoords": [
           {
            "line": {
             "colorbar": {
              "outlinewidth": 0,
              "ticks": ""
             }
            },
            "type": "parcoords"
           }
          ],
          "pie": [
           {
            "automargin": true,
            "type": "pie"
           }
          ],
          "scatter": [
           {
            "fillpattern": {
             "fillmode": "overlay",
             "size": 10,
             "solidity": 0.2
            },
            "type": "scatter"
           }
          ],
          "scatter3d": [
           {
            "line": {
             "colorbar": {
              "outlinewidth": 0,
              "ticks": ""
             }
            },
            "marker": {
             "colorbar": {
              "outlinewidth": 0,
              "ticks": ""
             }
            },
            "type": "scatter3d"
           }
          ],
          "scattercarpet": [
           {
            "marker": {
             "colorbar": {
              "outlinewidth": 0,
              "ticks": ""
             }
            },
            "type": "scattercarpet"
           }
          ],
          "scattergeo": [
           {
            "marker": {
             "colorbar": {
              "outlinewidth": 0,
              "ticks": ""
             }
            },
            "type": "scattergeo"
           }
          ],
          "scattergl": [
           {
            "marker": {
             "colorbar": {
              "outlinewidth": 0,
              "ticks": ""
             }
            },
            "type": "scattergl"
           }
          ],
          "scattermap": [
           {
            "marker": {
             "colorbar": {
              "outlinewidth": 0,
              "ticks": ""
             }
            },
            "type": "scattermap"
           }
          ],
          "scattermapbox": [
           {
            "marker": {
             "colorbar": {
              "outlinewidth": 0,
              "ticks": ""
             }
            },
            "type": "scattermapbox"
           }
          ],
          "scatterpolar": [
           {
            "marker": {
             "colorbar": {
              "outlinewidth": 0,
              "ticks": ""
             }
            },
            "type": "scatterpolar"
           }
          ],
          "scatterpolargl": [
           {
            "marker": {
             "colorbar": {
              "outlinewidth": 0,
              "ticks": ""
             }
            },
            "type": "scatterpolargl"
           }
          ],
          "scatterternary": [
           {
            "marker": {
             "colorbar": {
              "outlinewidth": 0,
              "ticks": ""
             }
            },
            "type": "scatterternary"
           }
          ],
          "surface": [
           {
            "colorbar": {
             "outlinewidth": 0,
             "ticks": ""
            },
            "colorscale": [
             [
              0,
              "#0d0887"
             ],
             [
              0.1111111111111111,
              "#46039f"
             ],
             [
              0.2222222222222222,
              "#7201a8"
             ],
             [
              0.3333333333333333,
              "#9c179e"
             ],
             [
              0.4444444444444444,
              "#bd3786"
             ],
             [
              0.5555555555555556,
              "#d8576b"
             ],
             [
              0.6666666666666666,
              "#ed7953"
             ],
             [
              0.7777777777777778,
              "#fb9f3a"
             ],
             [
              0.8888888888888888,
              "#fdca26"
             ],
             [
              1,
              "#f0f921"
             ]
            ],
            "type": "surface"
           }
          ],
          "table": [
           {
            "cells": {
             "fill": {
              "color": "#EBF0F8"
             },
             "line": {
              "color": "white"
             }
            },
            "header": {
             "fill": {
              "color": "#C8D4E3"
             },
             "line": {
              "color": "white"
             }
            },
            "type": "table"
           }
          ]
         },
         "layout": {
          "annotationdefaults": {
           "arrowcolor": "#2a3f5f",
           "arrowhead": 0,
           "arrowwidth": 1
          },
          "autotypenumbers": "strict",
          "coloraxis": {
           "colorbar": {
            "outlinewidth": 0,
            "ticks": ""
           }
          },
          "colorscale": {
           "diverging": [
            [
             0,
             "#8e0152"
            ],
            [
             0.1,
             "#c51b7d"
            ],
            [
             0.2,
             "#de77ae"
            ],
            [
             0.3,
             "#f1b6da"
            ],
            [
             0.4,
             "#fde0ef"
            ],
            [
             0.5,
             "#f7f7f7"
            ],
            [
             0.6,
             "#e6f5d0"
            ],
            [
             0.7,
             "#b8e186"
            ],
            [
             0.8,
             "#7fbc41"
            ],
            [
             0.9,
             "#4d9221"
            ],
            [
             1,
             "#276419"
            ]
           ],
           "sequential": [
            [
             0,
             "#0d0887"
            ],
            [
             0.1111111111111111,
             "#46039f"
            ],
            [
             0.2222222222222222,
             "#7201a8"
            ],
            [
             0.3333333333333333,
             "#9c179e"
            ],
            [
             0.4444444444444444,
             "#bd3786"
            ],
            [
             0.5555555555555556,
             "#d8576b"
            ],
            [
             0.6666666666666666,
             "#ed7953"
            ],
            [
             0.7777777777777778,
             "#fb9f3a"
            ],
            [
             0.8888888888888888,
             "#fdca26"
            ],
            [
             1,
             "#f0f921"
            ]
           ],
           "sequentialminus": [
            [
             0,
             "#0d0887"
            ],
            [
             0.1111111111111111,
             "#46039f"
            ],
            [
             0.2222222222222222,
             "#7201a8"
            ],
            [
             0.3333333333333333,
             "#9c179e"
            ],
            [
             0.4444444444444444,
             "#bd3786"
            ],
            [
             0.5555555555555556,
             "#d8576b"
            ],
            [
             0.6666666666666666,
             "#ed7953"
            ],
            [
             0.7777777777777778,
             "#fb9f3a"
            ],
            [
             0.8888888888888888,
             "#fdca26"
            ],
            [
             1,
             "#f0f921"
            ]
           ]
          },
          "colorway": [
           "#636efa",
           "#EF553B",
           "#00cc96",
           "#ab63fa",
           "#FFA15A",
           "#19d3f3",
           "#FF6692",
           "#B6E880",
           "#FF97FF",
           "#FECB52"
          ],
          "font": {
           "color": "#2a3f5f"
          },
          "geo": {
           "bgcolor": "white",
           "lakecolor": "white",
           "landcolor": "#E5ECF6",
           "showlakes": true,
           "showland": true,
           "subunitcolor": "white"
          },
          "hoverlabel": {
           "align": "left"
          },
          "hovermode": "closest",
          "mapbox": {
           "style": "light"
          },
          "paper_bgcolor": "white",
          "plot_bgcolor": "#E5ECF6",
          "polar": {
           "angularaxis": {
            "gridcolor": "white",
            "linecolor": "white",
            "ticks": ""
           },
           "bgcolor": "#E5ECF6",
           "radialaxis": {
            "gridcolor": "white",
            "linecolor": "white",
            "ticks": ""
           }
          },
          "scene": {
           "xaxis": {
            "backgroundcolor": "#E5ECF6",
            "gridcolor": "white",
            "gridwidth": 2,
            "linecolor": "white",
            "showbackground": true,
            "ticks": "",
            "zerolinecolor": "white"
           },
           "yaxis": {
            "backgroundcolor": "#E5ECF6",
            "gridcolor": "white",
            "gridwidth": 2,
            "linecolor": "white",
            "showbackground": true,
            "ticks": "",
            "zerolinecolor": "white"
           },
           "zaxis": {
            "backgroundcolor": "#E5ECF6",
            "gridcolor": "white",
            "gridwidth": 2,
            "linecolor": "white",
            "showbackground": true,
            "ticks": "",
            "zerolinecolor": "white"
           }
          },
          "shapedefaults": {
           "line": {
            "color": "#2a3f5f"
           }
          },
          "ternary": {
           "aaxis": {
            "gridcolor": "white",
            "linecolor": "white",
            "ticks": ""
           },
           "baxis": {
            "gridcolor": "white",
            "linecolor": "white",
            "ticks": ""
           },
           "bgcolor": "#E5ECF6",
           "caxis": {
            "gridcolor": "white",
            "linecolor": "white",
            "ticks": ""
           }
          },
          "title": {
           "x": 0.05
          },
          "xaxis": {
           "automargin": true,
           "gridcolor": "white",
           "linecolor": "white",
           "ticks": "",
           "title": {
            "standoff": 15
           },
           "zerolinecolor": "white",
           "zerolinewidth": 2
          },
          "yaxis": {
           "automargin": true,
           "gridcolor": "white",
           "linecolor": "white",
           "ticks": "",
           "title": {
            "standoff": 15
           },
           "zerolinecolor": "white",
           "zerolinewidth": 2
          }
         }
        },
        "title": {
         "text": "error  =  simulate  -  real      ------------         e2w_out_2020-01-01_100"
        },
        "xaxis": {
         "title": {
          "text": "Value"
         }
        },
        "yaxis": {
         "title": {
          "text": "Count"
         }
        }
       }
      }
     },
     "metadata": {},
     "output_type": "display_data"
    }
   ],
   "source": [
    "import plotly.graph_objects as go\n",
    "\n",
    "fig = go.Figure()\n",
    "\n",
    "xbins=dict(\n",
    "        start=-7,  # Bin start\n",
    "        end=7,    # Bin end\n",
    "        size=1    # Bin size (width of each bin)\n",
    "    )\n",
    "sim_MAE = round(abs(compare_df['speed_sim_error']).mean(),2)\n",
    "calib_MAE = round(abs(compare_df['speed_calib_error']).mean(),2)\n",
    "fig.add_trace(go.Histogram(x=compare_df['speed_sim_error'], name=f\"speed_sim_error --> MAE = {sim_MAE}\", opacity=0.75, xbins=xbins))\n",
    "fig.add_trace(go.Histogram(x=compare_df['speed_calib_error'], name=f\"speed_calib_error --> MAE = {calib_MAE}\", opacity=0.75, xbins=xbins))\n",
    "\n",
    "fig.update_layout(\n",
    "    barmode='group',  # Use 'overlay' if you want stacked look\n",
    "    xaxis_title='Value',\n",
    "    yaxis_title='Count',\n",
    "    title=f\"error  =  simulate  -  real      ------------         {postfix}\"\n",
    ")\n",
    "\n",
    "fig.show()\n",
    "fig.write_html(f\"diagram/hist_speed_error_{postfix}.html\")"
   ]
  },
  {
   "cell_type": "code",
   "execution_count": null,
   "id": "6ecf1adc",
   "metadata": {},
   "outputs": [],
   "source": []
  },
  {
   "cell_type": "code",
   "execution_count": 16,
   "id": "69f61ca7",
   "metadata": {},
   "outputs": [
    {
     "data": {
      "text/plain": [
       "'/home/kaveh/projects/Hornsgatan/'"
      ]
     },
     "execution_count": 16,
     "metadata": {},
     "output_type": "execute_result"
    }
   ],
   "source": [
    "import os\n",
    "os.environ[\"HORNSGATAN_HOME\"]\n"
   ]
  }
 ],
 "metadata": {
  "kernelspec": {
   "display_name": "KTH",
   "language": "python",
   "name": "python3"
  },
  "language_info": {
   "codemirror_mode": {
    "name": "ipython",
    "version": 3
   },
   "file_extension": ".py",
   "mimetype": "text/x-python",
   "name": "python",
   "nbconvert_exporter": "python",
   "pygments_lexer": "ipython3",
   "version": "3.12.3"
  }
 },
 "nbformat": 4,
 "nbformat_minor": 5
}
