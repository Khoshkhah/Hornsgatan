{
 "cells": [
  {
   "cell_type": "markdown",
   "metadata": {},
   "source": [
    "# Calibration Pipeline Example\n",
    "\n",
    "This notebook demonstrates how to run the calibration pipeline, use the HORNSGATAN_HOME environment variable, and analyze the output."
   ]
  },
  {
   "cell_type": "code",
   "metadata": {},
   "source": [
    "import os\n",
    "import pandas as pd\n",
    "\n",
    "project_root = os.environ[\"HORNSGATAN_HOME\"]\n",
    "print(\"Project root is:\", project_root)"
   ]
  },
  {
   "cell_type": "markdown",
   "metadata": {},
   "source": [
    "## Run the calib pipeline from the notebook\n",
    "You can run the pipeline using os.system or subprocess."
   ]
  },
  {
   "cell_type": "code",
   "metadata": {},
   "source": [
    "os.chdir(project_root)\n",
    "os.system(\"python main.py --pipeline calib --config config/calib_example.yaml\")"
   ]
  },
  {
   "cell_type": "markdown",
   "metadata": {},
   "source": [
    "## Load and display the calibration output CSV\n",
    "Adjust the path as needed based on your pipeline output."
   ]
  },
  {
   "cell_type": "code",
   "metadata": {},
   "source": [
    "output_path = os.path.join(project_root, 'data/calibration_data/calibrated_data_e2w_out_2020-01-01.csv')  # Example output\n",
    "if os.path.exists(output_path):\n",
    "    df = pd.read_csv(output_path)\n",
    "    display(df.head())\n",
    "else:\n",
    "    print(f'Output file not found: {output_path}')"
   ]
  }
 ],
 "metadata": {
  "kernelspec": {
   "display_name": "Python 3",
   "language": "python",
   "name": "python3"
  },
  "language_info": {
   "name": "python",
   "version": "3.8"
  }
 },
 "nbformat": 4,
 "nbformat_minor": 2
}
