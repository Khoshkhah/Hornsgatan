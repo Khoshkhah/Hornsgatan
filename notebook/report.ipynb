{
 "cells": [
  {
   "cell_type": "code",
   "execution_count": 4,
   "metadata": {},
   "outputs": [
    {
     "name": "stdout",
     "output_type": "stream",
     "text": [
      "Current directory: /home/kaveh/projects/Hornsgatan\n",
      "Current directory: /home/kaveh/projects/Hornsgatan\n"
     ]
    }
   ],
   "source": [
    "import os\n",
    "print(\"Current directory:\", os.getcwd())\n",
    "HORNSGATAN_HOME = os.environ[\"HORNSGATAN_HOME\"]\n",
    "os.chdir(HORNSGATAN_HOME)\n",
    "print(\"Current directory:\", os.getcwd())\n",
    "\n",
    "#number = len(data)\n",
    "import pandas as pd\n",
    "from src.tools import mytools\n",
    "\n",
    "date = '2020-01-02'\n",
    "number = 0\n",
    "path  = \"data/sim_intermediate_data/\"\n",
    "path_calib =   \"data/calibration_data/\"\n",
    "path_diag = \"diagram/\"\n",
    "detectors = ['w2e_in','e2w_in','e2w_out','w2e_out']"
   ]
  },
  {
   "cell_type": "code",
   "execution_count": 5,
   "metadata": {},
   "outputs": [
    {
     "name": "stdout",
     "output_type": "stream",
     "text": [
      "FCD data successfully converted to CSV and saved as 'data/sim_intermediate_data/fcd_output_w2e_in_2020-01-02.csv'.\n",
      "FCD data successfully converted to CSV and saved as 'data/sim_intermediate_data/fcd_output_e2w_in_2020-01-02.csv'.\n",
      "FCD data successfully converted to CSV and saved as 'data/sim_intermediate_data/fcd_output_e2w_out_2020-01-02.csv'.\n",
      "FCD data successfully converted to CSV and saved as 'data/sim_intermediate_data/fcd_output_w2e_out_2020-01-02.csv'.\n"
     ]
    }
   ],
   "source": [
    "csv_files =[]\n",
    "for detector in detectors:\n",
    "    postfix = f\"{detector}_{date}\"\n",
    "    csv_file = mytools.fcd_xml_to_csv(path, postfix)\n",
    "    csv_files.append(csv_file)\n",
    "    csv_files.append(f\"{path_calib}calibrated_data_{postfix}.csv\")\n",
    "    csv_files.append(f\"{path_diag}hist_speed_error_{postfix}.html\")\n",
    "    csv_files.append(f\"{path_diag}hist_time_error_{postfix}.html\")\n",
    "\n",
    "\n"
   ]
  },
  {
   "cell_type": "code",
   "execution_count": 6,
   "metadata": {},
   "outputs": [
    {
     "name": "stdout",
     "output_type": "stream",
     "text": [
      "Created zip file: data/sim_intermediate_data/report_2020-01-02.zip\n"
     ]
    }
   ],
   "source": [
    "mytools.zip_files(csv_files, f\"{path}report_{date}.zip\")\n"
   ]
  }
 ],
 "metadata": {
  "kernelspec": {
   "display_name": ".venv",
   "language": "python",
   "name": "python3"
  },
  "language_info": {
   "codemirror_mode": {
    "name": "ipython",
    "version": 3
   },
   "file_extension": ".py",
   "mimetype": "text/x-python",
   "name": "python",
   "nbconvert_exporter": "python",
   "pygments_lexer": "ipython3",
   "version": "3.12.3"
  }
 },
 "nbformat": 4,
 "nbformat_minor": 2
}
