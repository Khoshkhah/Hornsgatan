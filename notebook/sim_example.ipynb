{
 "cells": [
  {
   "cell_type": "markdown",
   "metadata": {},
   "source": [
    "# Simulation Pipeline Example\n",
    "\n",
    "This notebook demonstrates how to run the simulation pipeline, use the HORNSGATAN_HOME environment variable, and analyze the output."
   ]
  },
  {
   "cell_type": "code",
   "metadata": {},
   "source": [
    "import os\n",
    "import pandas as pd\n",
    "\n",
    "project_root = os.environ[\"HORNSGATAN_HOME\"]\n",
    "print(\"Project root is:\", project_root)"
   ]
  },
  {
   "cell_type": "markdown",
   "metadata": {},
   "source": [
    "## Run the sim pipeline from the notebook\n",
    "You can run the pipeline using os.system or subprocess."
   ]
  },
  {
   "cell_type": "code",
   "metadata": {},
   "source": [
    "os.chdir(project_root)\n",
    "os.system(\"python main.py --pipeline sim --config config/sim_example.yaml\")"
   ]
  },
  {
   "cell_type": "markdown",
   "metadata": {},
   "source": [
    "## Load and display the simulation output\n",
    "Adjust the path as needed based on your pipeline output."
   ]
  },
  {
   "cell_type": "code",
   "metadata": {},
   "source": [
    "output_path = os.path.join(project_root, 'data/sim_data/simulation_output.csv')  # Example output\n",
    "if os.path.exists(output_path):\n",
    "    df = pd.read_csv(output_path)\n",
    "    display(df.head())\n",
    "else:\n",
    "    print(f'Output file not found: {output_path}')"
   ]
  }
 ],
 "metadata": {
  "kernelspec": {
   "display_name": "Python 3",
   "language": "python",
   "name": "python3"
  },
  "language_info": {
   "name": "python",
   "version": "3.8"
  }
 },
 "nbformat": 4,
 "nbformat_minor": 2
}
