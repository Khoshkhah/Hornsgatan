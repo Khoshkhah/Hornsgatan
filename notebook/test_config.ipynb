{
 "cells": [
  {
   "cell_type": "code",
   "execution_count": null,
   "id": "9ba9dd37",
   "metadata": {},
   "outputs": [],
   "source": [
    "import configparser\n",
    "\n",
    "def create_config():\n",
    "    config = configparser.ConfigParser()\n",
    "\n",
    "    # Add sections and key-value pairs\n",
    "    config['Hamilton'] = {'project_id': 1}\n",
    "    config['Database'] = {'db_name': 'example_db',\n",
    "                          'db_host': 'localhost', 'db_port': '5432'}\n",
    "\n",
    "    # Write the configuration to a file\n",
    "    with open('config.ini', 'w') as configfile:\n",
    "        config.write(configfile)\n",
    "        \n",
    "create_config()"
   ]
  },
  {
   "cell_type": "code",
   "execution_count": null,
   "id": "aa9a35c8",
   "metadata": {},
   "outputs": [],
   "source": [
    "import configparser\n",
    "def read_config():\n",
    "    # Create a ConfigParser object\n",
    "    config = configparser.ConfigParser()\n",
    "\n",
    "    # Read the configuration file\n",
    "    config.read('config.ini')\n",
    "\n",
    "    # Access values from the configuration file\n",
    "    project_id = config.get('Hamilton', 'project_id')\n",
    "    db_name = config.get('Database', 'db_name')\n",
    "    db_host = config.get('Database', 'db_host')\n",
    "    db_port = config.get('Database', 'db_port')\n",
    "\n",
    "    # Return a dictionary with the retrieved values\n",
    "    config_values = {\n",
    "        'project_id': project_id,\n",
    "        'db_name': db_name,\n",
    "        'db_host': db_host,\n",
    "        'db_port': db_port\n",
    "    }\n",
    "\n",
    "    return config_values\n",
    "\n",
    "\n",
    "myconfig = read_config()\n",
    "print(myconfig)"
   ]
  }
 ],
 "metadata": {
  "language_info": {
   "name": "python"
  }
 },
 "nbformat": 4,
 "nbformat_minor": 5
}
