{
 "cells": [
  {
   "cell_type": "code",
   "execution_count": 3,
   "metadata": {},
   "outputs": [
    {
     "name": "stdout",
     "output_type": "stream",
     "text": [
      "Project root is: /home/kaveh/projects/Hornsgatan/\n"
     ]
    }
   ],
   "source": [
    "import os\n",
    "import pandas as pd\n",
    "\n",
    "project_root = os.environ[\"HORNSGATAN_HOME\"]\n",
    "os.chdir(project_root)\n",
    "\n",
    "print(\"Project root is:\", project_root)\n",
    "from src.tools import mytools"
   ]
  },
  {
   "cell_type": "code",
   "execution_count": 2,
   "metadata": {},
   "outputs": [
    {
     "name": "stdout",
     "output_type": "stream",
     "text": [
      "Deleted: data/calibration_intermediate_data/inductionLoop_e2w_out_2020-01-02_10.add.xml\n",
      "Deleted: data/calibration_intermediate_data/simulation_e2w_out_2020-01-02_10_33.sumo.state\n",
      "Deleted: data/calibration_intermediate_data/simulation_e2w_out_2020-01-02_10_15.sumo.state\n",
      "Deleted: data/calibration_intermediate_data/simulation_e2w_out_2020-01-02_10_4.sumo.state\n",
      "Deleted: data/calibration_intermediate_data/inductionLoop_e2w_out_2020-01-02_10.xml\n",
      "Deleted: data/calibration_intermediate_data/instanceInductionLoop_e2w_out_2020-01-02_10.add.xml\n",
      "Deleted: data/calibration_intermediate_data/simulation_e2w_out_2020-01-02_10_19.sumo.state\n",
      "Deleted: data/calibration_intermediate_data/simulation_e2w_out_2020-01-02_10_14.sumo.state\n",
      "Deleted: data/calibration_intermediate_data/simulation_e2w_out_2020-01-02_10_22.sumo.state\n",
      "Deleted: data/calibration_intermediate_data/simulation_e2w_out_2020-01-02_10_38.sumo.state\n",
      "Deleted: data/calibration_intermediate_data/simulation_e2w_out_2020-01-02_10_37.sumo.state\n",
      "Deleted: data/calibration_intermediate_data/simulation_e2w_out_2020-01-02_10_46.sumo.state\n",
      "Deleted: data/calibration_intermediate_data/simulation_e2w_out_2020-01-02_10_45.sumo.state\n",
      "Deleted: data/calibration_intermediate_data/fcd_output_e2w_out_2020-01-02_10.xml\n",
      "Deleted: data/calibration_intermediate_data/simulation_e2w_out_2020-01-02_10_27.sumo.state\n",
      "Deleted: data/calibration_intermediate_data/simulation_e2w_out_2020-01-02_10_26.sumo.state\n",
      "Deleted: data/calibration_intermediate_data/simulation_e2w_out_2020-01-02_10.sumo.state\n",
      "Deleted: data/calibration_intermediate_data/simulation_e2w_out_2020-01-02_10_28.sumo.state\n",
      "Deleted: data/calibration_intermediate_data/simulation_e2w_out_2020-01-02_10.sumo.cfg\n",
      "Deleted: data/calibration_intermediate_data/simulation_e2w_out_2020-01-02_10_36.sumo.state\n",
      "Deleted: data/calibration_intermediate_data/simulation_e2w_out_2020-01-02_10_29.sumo.state\n",
      "Deleted: data/calibration_intermediate_data/simulation_e2w_out_2020-01-02_10_1.sumo.state\n",
      "Deleted: data/calibration_intermediate_data/simulation_e2w_out_2020-01-02_10_2.sumo.state\n",
      "Deleted: data/calibration_intermediate_data/simulation_e2w_out_2020-01-02_10_21.sumo.state\n",
      "Deleted: data/calibration_intermediate_data/simulation_e2w_out_2020-01-02_10_40.sumo.state\n",
      "Deleted: data/calibration_intermediate_data/simulation_e2w_out_2020-01-02_10_10.sumo.state\n",
      "Deleted: data/calibration_intermediate_data/simulation_e2w_out_2020-01-02_10_18.sumo.state\n",
      "Deleted: data/calibration_intermediate_data/simulation_e2w_out_2020-01-02_10_16.sumo.state\n",
      "Deleted: data/calibration_intermediate_data/simulation_e2w_out_2020-01-02_10_11.sumo.state\n",
      "Deleted: data/calibration_intermediate_data/simulation_e2w_out_2020-01-02_10_30.sumo.state\n",
      "Deleted: data/calibration_intermediate_data/simulation_e2w_out_2020-01-02_10_23.sumo.state\n",
      "Deleted: data/calibration_intermediate_data/simulation_e2w_out_2020-01-02_10_13.sumo.state\n",
      "Deleted: data/calibration_intermediate_data/tripinfo_output_e2w_out_2020-01-02_10.xml\n",
      "Deleted: data/calibration_intermediate_data/simulation_e2w_out_2020-01-02_10_0.sumo.state\n",
      "Deleted: data/calibration_intermediate_data/simulation_e2w_out_2020-01-02_10_12.sumo.state\n",
      "Deleted: data/calibration_intermediate_data/simulation_e2w_out_2020-01-02_10_24.sumo.state\n",
      "Deleted: data/calibration_intermediate_data/simulation_e2w_out_2020-01-02_10_31.sumo.state\n",
      "Deleted: data/calibration_intermediate_data/simulation_e2w_out_2020-01-02_10_43.sumo.state\n",
      "Deleted: data/calibration_intermediate_data/simulation_e2w_out_2020-01-02_10_6.sumo.state\n",
      "Deleted: data/calibration_intermediate_data/simulation_e2w_out_2020-01-02_10_39.sumo.state\n",
      "Deleted: data/calibration_intermediate_data/simulation_e2w_out_2020-01-02_10_47.sumo.state\n",
      "Deleted: data/calibration_intermediate_data/simulation_e2w_out_2020-01-02_10_20.sumo.state\n",
      "Deleted: data/calibration_intermediate_data/simulation_e2w_out_2020-01-02_10_48.sumo.state\n",
      "Deleted: data/calibration_intermediate_data/simulation_e2w_out_2020-01-02_10_5.sumo.state\n",
      "Deleted: data/calibration_intermediate_data/instanceInductionLoop_e2w_out_2020-01-02_10.xml\n",
      "Deleted: data/calibration_intermediate_data/simulation_e2w_out_2020-01-02_10_34.sumo.state\n",
      "Deleted: data/calibration_intermediate_data/simulation_e2w_out_2020-01-02_10_42.sumo.state\n",
      "Deleted: data/calibration_intermediate_data/simulation_e2w_out_2020-01-02_10_17.sumo.state\n",
      "Deleted: data/calibration_intermediate_data/simulation_e2w_out_2020-01-02_10_25.sumo.state\n",
      "Deleted: data/calibration_intermediate_data/simulation_e2w_out_2020-01-02_10_41.sumo.state\n",
      "Deleted: data/calibration_intermediate_data/simulation_e2w_out_2020-01-02_10_49.sumo.state\n",
      "Deleted: data/calibration_intermediate_data/simulation_e2w_out_2020-01-02_10_32.sumo.state\n",
      "Deleted: data/calibration_intermediate_data/simulation_e2w_out_2020-01-02_10_44.sumo.state\n",
      "Deleted: data/calibration_intermediate_data/simulation_e2w_out_2020-01-02_10_3.sumo.state\n",
      "Deleted: data/calibration_intermediate_data/simulation_e2w_out_2020-01-02_10_8.sumo.state\n",
      "Deleted: data/calibration_intermediate_data/simulation_e2w_out_2020-01-02_10_7.sumo.state\n",
      "Deleted: data/calibration_intermediate_data/simulation_e2w_out_2020-01-02_10_9.sumo.state\n",
      "Deleted: data/calibration_intermediate_data/simulation_e2w_out_2020-01-02_10_35.sumo.state\n"
     ]
    }
   ],
   "source": [
    "mytools.delete_all_except_list(f\"data/calibration_intermediate_data/\", [\".gitkeep\"])"
   ]
  },
  {
   "cell_type": "code",
   "execution_count": 3,
   "metadata": {},
   "outputs": [],
   "source": [
    "mytools.create_local_config(filename = 'config/config.ini', project_id=1 )"
   ]
  },
  {
   "cell_type": "code",
   "execution_count": 7,
   "metadata": {},
   "outputs": [
    {
     "name": "stdout",
     "output_type": "stream",
     "text": [
      "FCD data successfully converted to CSV and saved as 'data/sim_intermediate_data/fcd_output_e2w_out_2020-01-02_10.csv'.\n"
     ]
    }
   ],
   "source": [
    "detector = \"e2w_out\"\n",
    "date = '2020-01-02'\n",
    "number = 10\n",
    "path  = \"data/sim_intermediate_data/\"\n",
    "if number<1:\n",
    "    postfix = f\"{detector}_{date}\"\n",
    "else:\n",
    "    postfix = f\"{detector}_{date}_{number}\"\n",
    "\n",
    "csv_file = mytools.fcd_xml_to_csv(path, postfix)"
   ]
  }
 ],
 "metadata": {
  "kernelspec": {
   "display_name": ".venv",
   "language": "python",
   "name": "python3"
  },
  "language_info": {
   "codemirror_mode": {
    "name": "ipython",
    "version": 3
   },
   "file_extension": ".py",
   "mimetype": "text/x-python",
   "name": "python",
   "nbconvert_exporter": "python",
   "pygments_lexer": "ipython3",
   "version": "3.12.3"
  }
 },
 "nbformat": 4,
 "nbformat_minor": 2
}
